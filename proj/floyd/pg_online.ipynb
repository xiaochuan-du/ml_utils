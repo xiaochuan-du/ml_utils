{
 "cells": [
  {
   "cell_type": "code",
   "execution_count": 6,
   "metadata": {},
   "outputs": [
    {
     "data": {
      "text/plain": [
       "<module 'utils' from '../../ml_utils/image/utils.py'>"
      ]
     },
     "execution_count": 6,
     "metadata": {},
     "output_type": "execute_result"
    }
   ],
   "source": [
    "import sys\n",
    "import os\n",
    "from imp import reload\n",
    "from image import utils\n",
    "import numpy as np\n",
    "import utils; reload(utils)"
   ]
  },
  {
   "cell_type": "code",
   "execution_count": 5,
   "metadata": {},
   "outputs": [
    {
     "name": "stdout",
     "output_type": "stream",
     "text": [
      "Collecting bcolz\n",
      "  Downloading bcolz-1.1.2.tar.gz (1.3MB)\n",
      "\u001b[K    100% |████████████████████████████████| 1.3MB 1.1MB/s eta 0:00:01\n",
      "\u001b[?25hRequirement already satisfied: numpy>=1.7 in /usr/local/lib/python3.5/site-packages (from bcolz)\n",
      "Building wheels for collected packages: bcolz\n",
      "  Running setup.py bdist_wheel for bcolz ... \u001b[?25ldone\n",
      "\u001b[?25h  Stored in directory: /root/.cache/pip/wheels/e9/84/eb/f8f3caa627bb01ebc96034c3411f59870951246e5873b3f4c7\n",
      "Successfully built bcolz\n",
      "Installing collected packages: bcolz\n",
      "Successfully installed bcolz-1.1.2\n"
     ]
    }
   ],
   "source": [
    "!pip install bcolz"
   ]
  },
  {
   "cell_type": "code",
   "execution_count": 4,
   "metadata": {
    "collapsed": true
   },
   "outputs": [],
   "source": [
    "%load_ext autoreload\n",
    "%autoreload 2"
   ]
  },
  {
   "cell_type": "code",
   "execution_count": 10,
   "metadata": {
    "collapsed": true
   },
   "outputs": [],
   "source": [
    "path = r'/data/'\n",
    "batch_size=64\n",
    "# os.mkdir(path+'results')"
   ]
  },
  {
   "cell_type": "code",
   "execution_count": 2,
   "metadata": {},
   "outputs": [],
   "source": [
    "import sys\n",
    "sys.path.insert(0, '../../ml_utils')\n",
    "sys.path.insert(0, '../../ml_utils/image')"
   ]
  },
  {
   "cell_type": "code",
   "execution_count": 12,
   "metadata": {},
   "outputs": [
    {
     "name": "stdout",
     "output_type": "stream",
     "text": [
      "mkdir: cannot create directory ‘/data/results’: Read-only file system\r\n"
     ]
    }
   ],
   "source": [
    "!mkdir /results"
   ]
  },
  {
   "cell_type": "code",
   "execution_count": 15,
   "metadata": {},
   "outputs": [],
   "source": [
    "# trn = utils.get_data(path + r'raw/trn')\n",
    "# val = utils.get_data(path + r'raw/valid')\n",
    "# test = utils.get_data(path + r'test')\n"
   ]
  },
  {
   "cell_type": "code",
   "execution_count": 14,
   "metadata": {},
   "outputs": [],
   "source": [
    "utils.save_array('/output/trn.dat', trn)\n",
    "utils.save_array('/output/val.dat', val)\n",
    "utils.save_array('/output/test.dat', test)"
   ]
  },
  {
   "cell_type": "code",
   "execution_count": 16,
   "metadata": {},
   "outputs": [
    {
     "name": "stdout",
     "output_type": "stream",
     "text": [
      "Found 9403 images belonging to 120 classes.\n",
      "Found 819 images belonging to 120 classes.\n",
      "Found 10357 images belonging to 1 classes.\n"
     ]
    }
   ],
   "source": [
    "(val_classes, trn_classes, val_labels, trn_labels, \n",
    "    val_filenames, filenames, test_filenames) = utils.get_classes(path)"
   ]
  },
  {
   "cell_type": "code",
   "execution_count": 17,
   "metadata": {
    "collapsed": true
   },
   "outputs": [],
   "source": [
    "raw_filenames = [f.split('/')[-1] for f in filenames]\n",
    "raw_test_filenames = [f.split('/')[-1] for f in test_filenames]\n",
    "raw_val_filenames = [f.split('/')[-1] for f in val_filenames]"
   ]
  },
  {
   "cell_type": "code",
   "execution_count": 48,
   "metadata": {
    "collapsed": true
   },
   "outputs": [],
   "source": []
  },
  {
   "cell_type": "code",
   "execution_count": 63,
   "metadata": {
    "collapsed": true
   },
   "outputs": [],
   "source": [
    "# os.mkdir(path+'sample')\n",
    "# os.mkdir(path+'sample/train')\n",
    "# os.mkdir(path+'sample/valid')\n",
    "\n",
    "# from shutil import copyfile\n",
    "# from glob import glob\n",
    "\n",
    "# g = glob(path+'raw/trn/*')\n",
    "# for d in g: \n",
    "#     d = d.split('/')[-1]\n",
    "#     os.mkdir(path+'sample/train/'+d)\n",
    "#     os.mkdir(path+'sample/valid/'+d)\n",
    "# g = glob(path+'raw/trn/*/*.jpg')\n",
    "# shuf = np.random.permutation(g)\n",
    "# for i in range(400): \n",
    "#     copyfile(shuf[i], path+'sample/train/' + shuf[i].split('/')[-1])\n",
    "# g = glob(path+'raw/valid/*/*.jpg')\n",
    "# shuf = np.random.permutation(g)\n",
    "# for i in range(200): \n",
    "#     copyfile(shuf[i], path+'sample/valid/' + shuf[i].split('/')[-1])"
   ]
  },
  {
   "cell_type": "code",
   "execution_count": 21,
   "metadata": {},
   "outputs": [],
   "source": [
    "from keras.applications.resnet50 import ResNet50\n",
    "from keras.preprocessing import image\n",
    "from keras.applications.resnet50 import preprocess_input, decode_predictions\n",
    "from keras.layers import BatchNormalization, Convolution2D, MaxPool2D, Dropout, GlobalAveragePooling2D, Activation\n",
    "from keras.layers import MaxPooling2D\n",
    "from keras.models import Sequential\n",
    "import numpy as np\n",
    "\n",
    "base_model = ResNet50(weights='imagenet', include_top=False, input_shape=(224,224,3))"
   ]
  },
  {
   "cell_type": "code",
   "execution_count": 22,
   "metadata": {},
   "outputs": [],
   "source": [
    "conv_feat = base_model.predict(trn)\n",
    "conv_val_feat = base_model.predict(val)\n",
    "conv_test_feat = base_model.predict(test)"
   ]
  },
  {
   "cell_type": "markdown",
   "metadata": {},
   "source": [
    "model.layers"
   ]
  },
  {
   "cell_type": "code",
   "execution_count": 23,
   "metadata": {},
   "outputs": [],
   "source": [
    "utils.save_array('/output/conv_feat.dat', conv_feat)\n",
    "utils.save_array('/output/conv_val_feat.dat', conv_val_feat)\n",
    "utils.save_array('/output/conv_test_feat.dat', conv_test_feat)"
   ]
  },
  {
   "cell_type": "code",
   "execution_count": 25,
   "metadata": {},
   "outputs": [
    {
     "data": {
      "text/plain": [
       "(819, 1, 1, 2048)"
      ]
     },
     "execution_count": 25,
     "metadata": {},
     "output_type": "execute_result"
    }
   ],
   "source": [
    "conv_val_feat.shape"
   ]
  },
  {
   "cell_type": "code",
   "execution_count": 34,
   "metadata": {},
   "outputs": [],
   "source": [
    "from keras.layers import MaxPool2D, BatchNormalization, Flatten, Dense\n",
    "from keras.models import Sequential\n",
    "from keras.optimizers import Adam\n",
    "def get_bn_layers(p,input_layers):\n",
    "    return [\n",
    "        BatchNormalization(input_shape=input_layers[-1].output_shape[1:], axis=1),\n",
    "        Dropout(p/4),\n",
    "        Flatten(),\n",
    "        Dense(512, activation='relu'),\n",
    "        BatchNormalization(),\n",
    "        Dropout(p),\n",
    "        Dense(512, activation='relu'),\n",
    "        BatchNormalization(),\n",
    "        Dropout(p/2),\n",
    "        Dense(120, activation='softmax')\n",
    "    ]\n",
    "bn_model = Sequential(get_bn_layers(0.5, base_model.layers))\n",
    "# bn_model = Sequential(get_bn_layers(p))\n",
    "bn_model.compile(Adam(lr=0.001), loss='categorical_crossentropy', metrics=['accuracy'])\n",
    "bn_model.compile(Adam(lr=0.001), loss='categorical_crossentropy', metrics=['accuracy'])"
   ]
  },
  {
   "cell_type": "code",
   "execution_count": 38,
   "metadata": {},
   "outputs": [
    {
     "name": "stdout",
     "output_type": "stream",
     "text": [
      "Train on 9403 samples, validate on 819 samples\n",
      "Epoch 1/20\n",
      "9403/9403 [==============================] - 1s - loss: 0.7580 - acc: 0.7604 - val_loss: 1.6013 - val_acc: 0.5897\n",
      "Epoch 2/20\n",
      "9403/9403 [==============================] - 1s - loss: 0.7109 - acc: 0.7765 - val_loss: 1.5796 - val_acc: 0.5849\n",
      "Epoch 3/20\n",
      "9403/9403 [==============================] - 1s - loss: 0.6500 - acc: 0.7957 - val_loss: 1.6253 - val_acc: 0.5788\n",
      "Epoch 4/20\n",
      "9403/9403 [==============================] - 1s - loss: 0.5910 - acc: 0.8104 - val_loss: 1.6093 - val_acc: 0.5885\n",
      "Epoch 5/20\n",
      "9403/9403 [==============================] - 1s - loss: 0.5508 - acc: 0.8237 - val_loss: 1.6002 - val_acc: 0.5922\n",
      "Epoch 6/20\n",
      "9403/9403 [==============================] - 1s - loss: 0.5309 - acc: 0.8321 - val_loss: 1.6733 - val_acc: 0.5885\n",
      "Epoch 7/20\n",
      "9403/9403 [==============================] - 1s - loss: 0.5119 - acc: 0.8343 - val_loss: 1.7158 - val_acc: 0.5824\n",
      "Epoch 8/20\n",
      "9403/9403 [==============================] - 1s - loss: 0.4758 - acc: 0.8423 - val_loss: 1.7073 - val_acc: 0.5995\n",
      "Epoch 9/20\n",
      "9403/9403 [==============================] - 1s - loss: 0.4566 - acc: 0.8531 - val_loss: 1.7497 - val_acc: 0.5739\n",
      "Epoch 10/20\n",
      "9403/9403 [==============================] - 1s - loss: 0.4191 - acc: 0.8645 - val_loss: 1.7973 - val_acc: 0.5775\n",
      "Epoch 11/20\n",
      "9403/9403 [==============================] - 1s - loss: 0.4152 - acc: 0.8633 - val_loss: 1.7516 - val_acc: 0.5958\n",
      "Epoch 12/20\n",
      "9403/9403 [==============================] - 1s - loss: 0.4018 - acc: 0.8679 - val_loss: 1.7968 - val_acc: 0.5739\n",
      "Epoch 13/20\n",
      "9403/9403 [==============================] - 1s - loss: 0.3932 - acc: 0.8714 - val_loss: 1.8621 - val_acc: 0.5824\n",
      "Epoch 14/20\n",
      "9403/9403 [==============================] - 1s - loss: 0.3643 - acc: 0.8774 - val_loss: 1.8963 - val_acc: 0.5775\n",
      "Epoch 15/20\n",
      "9403/9403 [==============================] - 1s - loss: 0.3502 - acc: 0.8862 - val_loss: 1.8871 - val_acc: 0.5739\n",
      "Epoch 16/20\n",
      "9403/9403 [==============================] - 1s - loss: 0.3479 - acc: 0.8866 - val_loss: 1.8770 - val_acc: 0.5849\n",
      "Epoch 17/20\n",
      "9403/9403 [==============================] - 1s - loss: 0.3341 - acc: 0.8890 - val_loss: 1.8497 - val_acc: 0.5897\n",
      "Epoch 18/20\n",
      "9403/9403 [==============================] - 1s - loss: 0.3271 - acc: 0.8938 - val_loss: 1.8894 - val_acc: 0.5934\n",
      "Epoch 19/20\n",
      "9403/9403 [==============================] - 1s - loss: 0.3218 - acc: 0.8934 - val_loss: 1.9433 - val_acc: 0.5836\n",
      "Epoch 20/20\n",
      "9403/9403 [==============================] - 1s - loss: 0.3243 - acc: 0.8943 - val_loss: 1.9395 - val_acc: 0.5922\n"
     ]
    },
    {
     "data": {
      "text/plain": [
       "<keras.callbacks.History at 0x7fbe6895cda0>"
      ]
     },
     "execution_count": 38,
     "metadata": {},
     "output_type": "execute_result"
    }
   ],
   "source": [
    "bn_model.fit(conv_feat, trn_labels, batch_size=batch_size, epochs=20, \n",
    "             validation_data=(conv_val_feat, val_labels))"
   ]
  },
  {
   "cell_type": "code",
   "execution_count": 39,
   "metadata": {
    "collapsed": true
   },
   "outputs": [],
   "source": [
    "bn_model.optimizer.lr = 1e-4\n"
   ]
  },
  {
   "cell_type": "code",
   "execution_count": 41,
   "metadata": {},
   "outputs": [
    {
     "name": "stdout",
     "output_type": "stream",
     "text": [
      "Train on 9403 samples, validate on 819 samples\n",
      "Epoch 1/5\n",
      "9403/9403 [==============================] - 1s - loss: 0.2863 - acc: 0.9053 - val_loss: 1.9194 - val_acc: 0.5885\n",
      "Epoch 2/5\n",
      "9403/9403 [==============================] - 1s - loss: 0.2923 - acc: 0.9025 - val_loss: 1.9793 - val_acc: 0.5922\n",
      "Epoch 3/5\n",
      "9403/9403 [==============================] - 1s - loss: 0.2492 - acc: 0.9205 - val_loss: 1.9245 - val_acc: 0.5971\n",
      "Epoch 4/5\n",
      "9403/9403 [==============================] - 1s - loss: 0.2824 - acc: 0.9072 - val_loss: 2.0203 - val_acc: 0.5849\n",
      "Epoch 5/5\n",
      "9403/9403 [==============================] - 1s - loss: 0.2617 - acc: 0.9078 - val_loss: 1.9980 - val_acc: 0.5690\n"
     ]
    },
    {
     "data": {
      "text/plain": [
       "<keras.callbacks.History at 0x7fbe6895ce10>"
      ]
     },
     "execution_count": 41,
     "metadata": {},
     "output_type": "execute_result"
    }
   ],
   "source": [
    "bn_model.fit(conv_feat, trn_labels, batch_size=batch_size, epochs=5, \n",
    "             validation_data=(conv_val_feat, val_labels))"
   ]
  },
  {
   "cell_type": "code",
   "execution_count": 48,
   "metadata": {},
   "outputs": [],
   "source": [
    "pred_test = bn_model.predict(conv_test_feat)"
   ]
  },
  {
   "cell_type": "code",
   "execution_count": 45,
   "metadata": {
    "collapsed": true
   },
   "outputs": [],
   "source": [
    "import pandas as pd\n"
   ]
  },
  {
   "cell_type": "code",
   "execution_count": 46,
   "metadata": {
    "collapsed": true
   },
   "outputs": [],
   "source": [
    "sub = pd.read_csv('/data/sample_submission.csv')"
   ]
  },
  {
   "cell_type": "code",
   "execution_count": 47,
   "metadata": {},
   "outputs": [
    {
     "data": {
      "text/html": [
       "<div>\n",
       "<style>\n",
       "    .dataframe thead tr:only-child th {\n",
       "        text-align: right;\n",
       "    }\n",
       "\n",
       "    .dataframe thead th {\n",
       "        text-align: left;\n",
       "    }\n",
       "\n",
       "    .dataframe tbody tr th {\n",
       "        vertical-align: top;\n",
       "    }\n",
       "</style>\n",
       "<table border=\"1\" class=\"dataframe\">\n",
       "  <thead>\n",
       "    <tr style=\"text-align: right;\">\n",
       "      <th></th>\n",
       "      <th>id</th>\n",
       "      <th>affenpinscher</th>\n",
       "      <th>afghan_hound</th>\n",
       "      <th>african_hunting_dog</th>\n",
       "      <th>airedale</th>\n",
       "      <th>american_staffordshire_terrier</th>\n",
       "      <th>appenzeller</th>\n",
       "      <th>australian_terrier</th>\n",
       "      <th>basenji</th>\n",
       "      <th>basset</th>\n",
       "      <th>...</th>\n",
       "      <th>toy_poodle</th>\n",
       "      <th>toy_terrier</th>\n",
       "      <th>vizsla</th>\n",
       "      <th>walker_hound</th>\n",
       "      <th>weimaraner</th>\n",
       "      <th>welsh_springer_spaniel</th>\n",
       "      <th>west_highland_white_terrier</th>\n",
       "      <th>whippet</th>\n",
       "      <th>wire-haired_fox_terrier</th>\n",
       "      <th>yorkshire_terrier</th>\n",
       "    </tr>\n",
       "  </thead>\n",
       "  <tbody>\n",
       "    <tr>\n",
       "      <th>0</th>\n",
       "      <td>000621fb3cbb32d8935728e48679680e</td>\n",
       "      <td>0.008333</td>\n",
       "      <td>0.008333</td>\n",
       "      <td>0.008333</td>\n",
       "      <td>0.008333</td>\n",
       "      <td>0.008333</td>\n",
       "      <td>0.008333</td>\n",
       "      <td>0.008333</td>\n",
       "      <td>0.008333</td>\n",
       "      <td>0.008333</td>\n",
       "      <td>...</td>\n",
       "      <td>0.008333</td>\n",
       "      <td>0.008333</td>\n",
       "      <td>0.008333</td>\n",
       "      <td>0.008333</td>\n",
       "      <td>0.008333</td>\n",
       "      <td>0.008333</td>\n",
       "      <td>0.008333</td>\n",
       "      <td>0.008333</td>\n",
       "      <td>0.008333</td>\n",
       "      <td>0.008333</td>\n",
       "    </tr>\n",
       "    <tr>\n",
       "      <th>1</th>\n",
       "      <td>00102ee9d8eb90812350685311fe5890</td>\n",
       "      <td>0.008333</td>\n",
       "      <td>0.008333</td>\n",
       "      <td>0.008333</td>\n",
       "      <td>0.008333</td>\n",
       "      <td>0.008333</td>\n",
       "      <td>0.008333</td>\n",
       "      <td>0.008333</td>\n",
       "      <td>0.008333</td>\n",
       "      <td>0.008333</td>\n",
       "      <td>...</td>\n",
       "      <td>0.008333</td>\n",
       "      <td>0.008333</td>\n",
       "      <td>0.008333</td>\n",
       "      <td>0.008333</td>\n",
       "      <td>0.008333</td>\n",
       "      <td>0.008333</td>\n",
       "      <td>0.008333</td>\n",
       "      <td>0.008333</td>\n",
       "      <td>0.008333</td>\n",
       "      <td>0.008333</td>\n",
       "    </tr>\n",
       "    <tr>\n",
       "      <th>2</th>\n",
       "      <td>0012a730dfa437f5f3613fb75efcd4ce</td>\n",
       "      <td>0.008333</td>\n",
       "      <td>0.008333</td>\n",
       "      <td>0.008333</td>\n",
       "      <td>0.008333</td>\n",
       "      <td>0.008333</td>\n",
       "      <td>0.008333</td>\n",
       "      <td>0.008333</td>\n",
       "      <td>0.008333</td>\n",
       "      <td>0.008333</td>\n",
       "      <td>...</td>\n",
       "      <td>0.008333</td>\n",
       "      <td>0.008333</td>\n",
       "      <td>0.008333</td>\n",
       "      <td>0.008333</td>\n",
       "      <td>0.008333</td>\n",
       "      <td>0.008333</td>\n",
       "      <td>0.008333</td>\n",
       "      <td>0.008333</td>\n",
       "      <td>0.008333</td>\n",
       "      <td>0.008333</td>\n",
       "    </tr>\n",
       "    <tr>\n",
       "      <th>3</th>\n",
       "      <td>001510bc8570bbeee98c8d80c8a95ec1</td>\n",
       "      <td>0.008333</td>\n",
       "      <td>0.008333</td>\n",
       "      <td>0.008333</td>\n",
       "      <td>0.008333</td>\n",
       "      <td>0.008333</td>\n",
       "      <td>0.008333</td>\n",
       "      <td>0.008333</td>\n",
       "      <td>0.008333</td>\n",
       "      <td>0.008333</td>\n",
       "      <td>...</td>\n",
       "      <td>0.008333</td>\n",
       "      <td>0.008333</td>\n",
       "      <td>0.008333</td>\n",
       "      <td>0.008333</td>\n",
       "      <td>0.008333</td>\n",
       "      <td>0.008333</td>\n",
       "      <td>0.008333</td>\n",
       "      <td>0.008333</td>\n",
       "      <td>0.008333</td>\n",
       "      <td>0.008333</td>\n",
       "    </tr>\n",
       "    <tr>\n",
       "      <th>4</th>\n",
       "      <td>001a5f3114548acdefa3d4da05474c2e</td>\n",
       "      <td>0.008333</td>\n",
       "      <td>0.008333</td>\n",
       "      <td>0.008333</td>\n",
       "      <td>0.008333</td>\n",
       "      <td>0.008333</td>\n",
       "      <td>0.008333</td>\n",
       "      <td>0.008333</td>\n",
       "      <td>0.008333</td>\n",
       "      <td>0.008333</td>\n",
       "      <td>...</td>\n",
       "      <td>0.008333</td>\n",
       "      <td>0.008333</td>\n",
       "      <td>0.008333</td>\n",
       "      <td>0.008333</td>\n",
       "      <td>0.008333</td>\n",
       "      <td>0.008333</td>\n",
       "      <td>0.008333</td>\n",
       "      <td>0.008333</td>\n",
       "      <td>0.008333</td>\n",
       "      <td>0.008333</td>\n",
       "    </tr>\n",
       "  </tbody>\n",
       "</table>\n",
       "<p>5 rows × 121 columns</p>\n",
       "</div>"
      ],
      "text/plain": [
       "                                 id  affenpinscher  afghan_hound  \\\n",
       "0  000621fb3cbb32d8935728e48679680e       0.008333      0.008333   \n",
       "1  00102ee9d8eb90812350685311fe5890       0.008333      0.008333   \n",
       "2  0012a730dfa437f5f3613fb75efcd4ce       0.008333      0.008333   \n",
       "3  001510bc8570bbeee98c8d80c8a95ec1       0.008333      0.008333   \n",
       "4  001a5f3114548acdefa3d4da05474c2e       0.008333      0.008333   \n",
       "\n",
       "   african_hunting_dog  airedale  american_staffordshire_terrier  appenzeller  \\\n",
       "0             0.008333  0.008333                        0.008333     0.008333   \n",
       "1             0.008333  0.008333                        0.008333     0.008333   \n",
       "2             0.008333  0.008333                        0.008333     0.008333   \n",
       "3             0.008333  0.008333                        0.008333     0.008333   \n",
       "4             0.008333  0.008333                        0.008333     0.008333   \n",
       "\n",
       "   australian_terrier   basenji    basset        ...          toy_poodle  \\\n",
       "0            0.008333  0.008333  0.008333        ...            0.008333   \n",
       "1            0.008333  0.008333  0.008333        ...            0.008333   \n",
       "2            0.008333  0.008333  0.008333        ...            0.008333   \n",
       "3            0.008333  0.008333  0.008333        ...            0.008333   \n",
       "4            0.008333  0.008333  0.008333        ...            0.008333   \n",
       "\n",
       "   toy_terrier    vizsla  walker_hound  weimaraner  welsh_springer_spaniel  \\\n",
       "0     0.008333  0.008333      0.008333    0.008333                0.008333   \n",
       "1     0.008333  0.008333      0.008333    0.008333                0.008333   \n",
       "2     0.008333  0.008333      0.008333    0.008333                0.008333   \n",
       "3     0.008333  0.008333      0.008333    0.008333                0.008333   \n",
       "4     0.008333  0.008333      0.008333    0.008333                0.008333   \n",
       "\n",
       "   west_highland_white_terrier   whippet  wire-haired_fox_terrier  \\\n",
       "0                     0.008333  0.008333                 0.008333   \n",
       "1                     0.008333  0.008333                 0.008333   \n",
       "2                     0.008333  0.008333                 0.008333   \n",
       "3                     0.008333  0.008333                 0.008333   \n",
       "4                     0.008333  0.008333                 0.008333   \n",
       "\n",
       "   yorkshire_terrier  \n",
       "0           0.008333  \n",
       "1           0.008333  \n",
       "2           0.008333  \n",
       "3           0.008333  \n",
       "4           0.008333  \n",
       "\n",
       "[5 rows x 121 columns]"
      ]
     },
     "execution_count": 47,
     "metadata": {},
     "output_type": "execute_result"
    }
   ],
   "source": [
    "sub.head()"
   ]
  },
  {
   "cell_type": "code",
   "execution_count": 54,
   "metadata": {},
   "outputs": [],
   "source": [
    "utils.save_array('/output/results', pred_test)"
   ]
  },
  {
   "cell_type": "code",
   "execution_count": 57,
   "metadata": {},
   "outputs": [],
   "source": [
    "import pickle as pkl"
   ]
  },
  {
   "cell_type": "code",
   "execution_count": 59,
   "metadata": {},
   "outputs": [],
   "source": [
    "pkl.dump(pred_test, open('/output/result.pkl', 'wb'))"
   ]
  },
  {
   "cell_type": "code",
   "execution_count": null,
   "metadata": {
    "collapsed": true
   },
   "outputs": [],
   "source": []
  }
 ],
 "metadata": {
  "kernelspec": {
   "display_name": "Python 3",
   "language": "python",
   "name": "python3"
  },
  "language_info": {
   "codemirror_mode": {
    "name": "ipython",
    "version": 3
   },
   "file_extension": ".py",
   "mimetype": "text/x-python",
   "name": "python",
   "nbconvert_exporter": "python",
   "pygments_lexer": "ipython3",
   "version": "3.6.3"
  }
 },
 "nbformat": 4,
 "nbformat_minor": 2
}
