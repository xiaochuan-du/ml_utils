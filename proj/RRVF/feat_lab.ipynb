{
 "cells": [
  {
   "cell_type": "code",
   "execution_count": 2,
   "metadata": {},
   "outputs": [],
   "source": [
    "import time\n",
    "import numpy as np\n",
    "import pandas as pd\n",
    "from dateutil.parser import parse\n",
    "from datetime import date, timedelta\n",
    "from sklearn.preprocessing import LabelEncoder\n",
    "from concurrent.futures import ThreadPoolExecutor, ProcessPoolExecutor, wait\n",
    "import functools  \n",
    "\n",
    "import arrow\n",
    "import math\n",
    "import matplotlib.pyplot as plt\n",
    "%matplotlib inline\n"
   ]
  },
  {
   "cell_type": "code",
   "execution_count": 2,
   "metadata": {},
   "outputs": [],
   "source": [
    "feats = pd.read_feather(r'result/agg_ts_feas_p2017-03-22_e2017-04-22_s2016-01-01').drop('index', axis=1, errors='ignore')\n",
    "# test_feat = pd.read_feather(r'result/period_e2017-04-23_n39').drop('index', axis=1, errors='ignore')"
   ]
  },
  {
   "cell_type": "code",
   "execution_count": null,
   "metadata": {},
   "outputs": [],
   "source": []
  },
  {
   "cell_type": "code",
   "execution_count": 3,
   "metadata": {},
   "outputs": [],
   "source": [
    "train_feats = pd.read_feather(r'result/agg_ts_feas_p2017-01-30_e2017-03-12_s2016-01-01').drop('index', axis=1, errors='ignore')\n",
    "val_feats  = pd.read_feather(r'result/period_e2017-03-12_n42').drop('index', axis=1, errors='ignore')"
   ]
  },
  {
   "cell_type": "code",
   "execution_count": 2,
   "metadata": {},
   "outputs": [],
   "source": [
    "train_feats = pd.read_feather(r'result/agg_ts_feas_p2017-03-22_e2017-04-22_s2016-01-01').drop('index', axis=1, errors='ignore')\n",
    "# test_feats  = pd.read_feather(r'result/period_e2017-04-23_n39').drop('index', axis=1, errors='ignore')"
   ]
  },
  {
   "cell_type": "code",
   "execution_count": 13,
   "metadata": {},
   "outputs": [],
   "source": [
    "# to_keep = ['id','store_id','visit_date','end_date','air_area_name','visitors','month',\n",
    "#           'air_area_name0','genre_dow_mean28',\n",
    "#              'genre_dow_mean56', 'store_dow_count1000',\n",
    "#              'store_dow_count14',\n",
    "#              'store_dow_count28',\n",
    "#              'store_dow_count56',]\n",
    "# feats = feats[to_keep]"
   ]
  },
  {
   "cell_type": "code",
   "execution_count": 4,
   "metadata": {},
   "outputs": [],
   "source": [
    "# list(feats.columns)"
   ]
  },
  {
   "cell_type": "code",
   "execution_count": null,
   "metadata": {},
   "outputs": [],
   "source": []
  },
  {
   "cell_type": "code",
   "execution_count": null,
   "metadata": {},
   "outputs": [],
   "source": []
  },
  {
   "cell_type": "code",
   "execution_count": null,
   "metadata": {},
   "outputs": [],
   "source": []
  },
  {
   "cell_type": "code",
   "execution_count": 5,
   "metadata": {},
   "outputs": [],
   "source": [
    "# ratio = 0.9\n",
    "# val_size = len(feats) - int(len(feats) * ratio)\n",
    "# train_feat = feats.iloc[val_size:]\n",
    "# val_feat = feats.iloc[:val_size]"
   ]
  },
  {
   "cell_type": "code",
   "execution_count": 5,
   "metadata": {},
   "outputs": [
    {
     "data": {
      "text/plain": [
       "<matplotlib.axes._subplots.AxesSubplot at 0x7f4f3a841898>"
      ]
     },
     "execution_count": 5,
     "metadata": {},
     "output_type": "execute_result"
    },
    {
     "data": {
      "image/png": "[encoded data removed]",
      "text/plain": [
       "<matplotlib.figure.Figure at 0x7f502cdb6240>"
      ]
     },
     "metadata": {},
     "output_type": "display_data"
    }
   ],
   "source": [
    "val_feats['store_mean_14_28_rate'].plot()"
   ]
  },
  {
   "cell_type": "code",
   "execution_count": 6,
   "metadata": {},
   "outputs": [],
   "source": [
    "# list(test_feat.columns)"
   ]
  },
  {
   "cell_type": "code",
   "execution_count": 6,
   "metadata": {},
   "outputs": [],
   "source": [
    "predictors = [f for f in train_feats.columns if f not in (['id','store_id','visit_date','end_date','air_area_name','visitors','month'])]"
   ]
  },
  {
   "cell_type": "code",
   "execution_count": 7,
   "metadata": {},
   "outputs": [],
   "source": [
    "import lightgbm as lgb\n",
    "\n",
    "params = {\n",
    "    'learning_rate': 0.02,\n",
    "    'boosting_type': 'gbdt',\n",
    "    'objective': 'regression',\n",
    "    'metric': 'rmse',\n",
    "    'sub_feature': 0.7,\n",
    "    'num_leaves': 60,\n",
    "    'min_data': 100,\n",
    "    'min_hessian': 1,\n",
    "\n",
    "#     'verbose': -1,\n",
    "}\n"
   ]
  },
  {
   "cell_type": "code",
   "execution_count": 5,
   "metadata": {},
   "outputs": [],
   "source": [
    "lgb_train = lgb.Dataset(train_feats[predictors], train_feats['visitors'])\n",
    "# lgb_test = lgb.Dataset(test_feats[predictors], test_feats['visitors'])"
   ]
  },
  {
   "cell_type": "code",
   "execution_count": 8,
   "metadata": {},
   "outputs": [],
   "source": [
    "lgb_train = lgb.Dataset(train_feats[predictors], train_feats['visitors'])\n",
    "lgb_val = lgb.Dataset(val_feats[predictors], val_feats['visitors'])\n",
    "# lgb_test = lgb.Dataset(test_feat[predictors], test_feat['visitors'])"
   ]
  },
  {
   "cell_type": "code",
   "execution_count": 13,
   "metadata": {},
   "outputs": [],
   "source": [
    "# evals_result = {}\n",
    "# gbm = lgb.train(params,\n",
    "#                 lgb_train,\n",
    "#                 2300,\n",
    "#                 valid_sets=(lgb_train, lgb_val), # , lgb_val\n",
    "#                 evals_result=evals_result,)"
   ]
  },
  {
   "cell_type": "code",
   "execution_count": 26,
   "metadata": {},
   "outputs": [],
   "source": [
    "# params = {\n",
    "#     'learning_rate': 0.1,\n",
    "#     'boosting_type': 'gbdt',\n",
    "#     'objective': 'regression',\n",
    "#     'metric': 'rmse',\n",
    "#     'sub_feature': 0.7,\n",
    "#     'num_leaves': 60,\n",
    "#     'min_data': 100,\n",
    "#     'min_hessian': 1,\n",
    "\n",
    "# #     'verbose': -1,\n",
    "# }\n",
    "# gbm = lgb.train(params,\n",
    "#                 lgb_train,\n",
    "#                 num_boost_round=10,\n",
    "#                 init_model='result/gbm.txt',\n",
    "#                 valid_sets=(lgb_train, lgb_val))"
   ]
  },
  {
   "cell_type": "code",
   "execution_count": null,
   "metadata": {},
   "outputs": [],
   "source": []
  },
  {
   "cell_type": "code",
   "execution_count": null,
   "metadata": {},
   "outputs": [],
   "source": []
  },
  {
   "cell_type": "code",
   "execution_count": 18,
   "metadata": {},
   "outputs": [],
   "source": [
    "# gbm.save_model('result/gbm.txt')"
   ]
  },
  {
   "cell_type": "code",
   "execution_count": 20,
   "metadata": {},
   "outputs": [
    {
     "name": "stdout",
     "output_type": "stream",
     "text": [
      "Plot metrics during training...\n"
     ]
    },
    {
     "data": {
      "image/png": "[encoded data removed]",
      "text/plain": [
       "<matplotlib.figure.Figure at 0x7f61b84a8cc0>"
      ]
     },
     "metadata": {},
     "output_type": "display_data"
    }
   ],
   "source": [
    "print('Plot metrics during training...')\n",
    "ax = lgb.plot_metric(evals_result)\n",
    "plt.show()"
   ]
  },
  {
   "cell_type": "code",
   "execution_count": null,
   "metadata": {},
   "outputs": [],
   "source": []
  },
  {
   "cell_type": "code",
   "execution_count": null,
   "metadata": {},
   "outputs": [],
   "source": []
  },
  {
   "cell_type": "code",
   "execution_count": 33,
   "metadata": {},
   "outputs": [],
   "source": [
    "gbm = lgb.Booster(model_file='result/gbm.txt')"
   ]
  },
  {
   "cell_type": "code",
   "execution_count": 24,
   "metadata": {},
   "outputs": [],
   "source": [
    "pred = gbm.predict(val_feat[predictors])"
   ]
  },
  {
   "cell_type": "code",
   "execution_count": 1,
   "metadata": {},
   "outputs": [
    {
     "ename": "NameError",
     "evalue": "name 'plt' is not defined",
     "output_type": "error",
     "traceback": [
      "\u001b[0;31m---------------------------------------------------------------------------\u001b[0m",
      "\u001b[0;31mNameError\u001b[0m                                 Traceback (most recent call last)",
      "\u001b[0;32m<ipython-input-1-2c6f55e40b28>\u001b[0m in \u001b[0;36m<module>\u001b[0;34m()\u001b[0m\n\u001b[0;32m----> 1\u001b[0;31m \u001b[0mplt\u001b[0m\u001b[0;34m.\u001b[0m\u001b[0mplot\u001b[0m\u001b[0;34m(\u001b[0m\u001b[0mpred\u001b[0m\u001b[0;34m)\u001b[0m\u001b[0;34m\u001b[0m\u001b[0m\n\u001b[0m\u001b[1;32m      2\u001b[0m \u001b[0mplt\u001b[0m\u001b[0;34m.\u001b[0m\u001b[0mplot\u001b[0m\u001b[0;34m(\u001b[0m\u001b[0mval_feat\u001b[0m\u001b[0;34m[\u001b[0m\u001b[0mpredictors\u001b[0m\u001b[0;34m]\u001b[0m\u001b[0;34m.\u001b[0m\u001b[0mvisitors\u001b[0m\u001b[0;34m)\u001b[0m\u001b[0;34m\u001b[0m\u001b[0m\n",
      "\u001b[0;31mNameError\u001b[0m: name 'plt' is not defined"
     ]
    }
   ],
   "source": [
    "plt.plot(pred)\n",
    "plt.plot(val_feat[predictors].visitors)"
   ]
  },
  {
   "cell_type": "code",
   "execution_count": 70,
   "metadata": {},
   "outputs": [],
   "source": [
    "def rmsle(x, y):\n",
    "    return math.sqrt(((x-y)**2).mean())"
   ]
  },
  {
   "cell_type": "code",
   "execution_count": 72,
   "metadata": {},
   "outputs": [
    {
     "data": {
      "text/plain": [
       "0.5673981880755363"
      ]
     },
     "execution_count": 72,
     "metadata": {},
     "output_type": "execute_result"
    }
   ],
   "source": [
    "rmsle(pred, train_feat.iloc[:100].visitors.values)"
   ]
  },
  {
   "cell_type": "code",
   "execution_count": 15,
   "metadata": {},
   "outputs": [],
   "source": []
  },
  {
   "cell_type": "code",
   "execution_count": 10,
   "metadata": {},
   "outputs": [],
   "source": [
    "gld_feat = pd.read_feather(r'result/org_test').drop('index', axis=1, errors='ignore')"
   ]
  },
  {
   "cell_type": "code",
   "execution_count": 17,
   "metadata": {},
   "outputs": [
    {
     "data": {
      "text/plain": [
       "set()"
      ]
     },
     "execution_count": 17,
     "metadata": {},
     "output_type": "execute_result"
    }
   ],
   "source": [
    "set(test_feat.columns) - set(gld_feat.columns)"
   ]
  },
  {
   "cell_type": "code",
   "execution_count": 27,
   "metadata": {},
   "outputs": [],
   "source": [
    "def diff(df1, df2, iloc):\n",
    "    ser1 = df1.iloc[iloc]\n",
    "    ser2 = df2.iloc[iloc]\n",
    "    for val1, val2 in zip(ser1, ser2):\n",
    "        if val1 != val2:\n",
    "            print(val1, val2)\n",
    "\n",
    "diff(gld_feat, test_feat, 2)"
   ]
  },
  {
   "cell_type": "code",
   "execution_count": 32,
   "metadata": {},
   "outputs": [
    {
     "data": {
      "text/plain": [
       "11179"
      ]
     },
     "execution_count": 32,
     "metadata": {},
     "output_type": "execute_result"
    }
   ],
   "source": [
    "i"
   ]
  },
  {
   "cell_type": "code",
   "execution_count": 6,
   "metadata": {},
   "outputs": [
    {
     "data": {
      "text/plain": [
       "datetime.timedelta(41)"
      ]
     },
     "execution_count": 6,
     "metadata": {},
     "output_type": "execute_result"
    }
   ],
   "source": [
    "arrow.get('2017-04-22') - arrow.get('2017-03-12')"
   ]
  },
  {
   "cell_type": "code",
   "execution_count": 10,
   "metadata": {},
   "outputs": [
    {
     "data": {
      "text/plain": [
       "datetime.timedelta(41)"
      ]
     },
     "execution_count": 10,
     "metadata": {},
     "output_type": "execute_result"
    }
   ],
   "source": [
    "arrow.get('2017-03-12') - arrow.get('2017-01-30')"
   ]
  },
  {
   "cell_type": "code",
   "execution_count": null,
   "metadata": {},
   "outputs": [],
   "source": []
  },
  {
   "cell_type": "code",
   "execution_count": 22,
   "metadata": {},
   "outputs": [],
   "source": [
    "submission = pd.read_csv('data/sample_submission.csv')\n",
    "\n",
    "submission['visit_date'] = submission['id'].str[-10:]\n",
    "submission['store_id'] = submission['id'].str[:-11]\n",
    "\n",
    "subm = pd.DataFrame({'id':test_feat.store_id + '_' + test_feat.visit_date,'visitors':np.expm1(pred)})\n",
    "subm = submission[['id']].merge(subm,on='id',how='left').fillna(0)\n",
    "subm.to_csv(r'result/sub.csv', index=False)"
   ]
  },
  {
   "cell_type": "code",
   "execution_count": 24,
   "metadata": {},
   "outputs": [
    {
     "data": {
      "text/plain": [
       "<matplotlib.axes._subplots.AxesSubplot at 0x7efd54f4e6d8>"
      ]
     },
     "execution_count": 24,
     "metadata": {},
     "output_type": "execute_result"
    },
    {
     "data": {
      "image/png": "[encoded data removed]",
      "text/plain": [
       "<matplotlib.figure.Figure at 0x7efd5c342a20>"
      ]
     },
     "metadata": {},
     "output_type": "display_data"
    }
   ],
   "source": [
    "subm[\"visitors\"].plot()"
   ]
  },
  {
   "cell_type": "code",
   "execution_count": 11,
   "metadata": {},
   "outputs": [],
   "source": [
    "import utils\n",
    "\n",
    "# test_feat = pd.read_feather(r'result/period_e2017-04-23_n39').drop('index', axis=1, errors='ignore')\n",
    "test_feat = gld_feat.copy()\n",
    "csv_fn=f'sub7.csv'\n",
    "pred_test=gbm.predict(test_feat[predictors])\n",
    "pred_test = np.expm1(pred_test)\n",
    "test_feat['visitors']=pred_test\n",
    "test_feat['air_store_id'] = test_feat.store_id\n",
    "sub = utils.trn2test(test_feat.reset_index()[['air_store_id', 'visit_date', 'visitors']])\n",
    "sub.to_csv(csv_fn, index=False)"
   ]
  },
  {
   "cell_type": "code",
   "execution_count": 16,
   "metadata": {},
   "outputs": [
    {
     "data": {
      "text/plain": [
       "0    air_00a91d42b08b08d9_2017-04-23\n",
       "1    air_00a91d42b08b08d9_2017-04-24\n",
       "2    air_00a91d42b08b08d9_2017-04-25\n",
       "3    air_00a91d42b08b08d9_2017-04-26\n",
       "4    air_00a91d42b08b08d9_2017-04-27\n",
       "Name: id, dtype: object"
      ]
     },
     "execution_count": 16,
     "metadata": {},
     "output_type": "execute_result"
    }
   ],
   "source": [
    "test_feat.id.head()"
   ]
  },
  {
   "cell_type": "code",
   "execution_count": 14,
   "metadata": {},
   "outputs": [
    {
     "data": {
      "text/html": [
       "<div>\n",
       "<style scoped>\n",
       "    .dataframe tbody tr th:only-of-type {\n",
       "        vertical-align: middle;\n",
       "    }\n",
       "\n",
       "    .dataframe tbody tr th {\n",
       "        vertical-align: top;\n",
       "    }\n",
       "\n",
       "    .dataframe thead th {\n",
       "        text-align: right;\n",
       "    }\n",
       "</style>\n",
       "<table border=\"1\" class=\"dataframe\">\n",
       "  <thead>\n",
       "    <tr style=\"text-align: right;\">\n",
       "      <th></th>\n",
       "      <th>id</th>\n",
       "      <th>visitors</th>\n",
       "    </tr>\n",
       "  </thead>\n",
       "  <tbody>\n",
       "    <tr>\n",
       "      <th>0</th>\n",
       "      <td>air_00a91d42b08b08d9_2017-04-23</td>\n",
       "      <td>4.151510</td>\n",
       "    </tr>\n",
       "    <tr>\n",
       "      <th>1</th>\n",
       "      <td>air_00a91d42b08b08d9_2017-04-24</td>\n",
       "      <td>24.442456</td>\n",
       "    </tr>\n",
       "    <tr>\n",
       "      <th>2</th>\n",
       "      <td>air_00a91d42b08b08d9_2017-04-25</td>\n",
       "      <td>27.218779</td>\n",
       "    </tr>\n",
       "    <tr>\n",
       "      <th>3</th>\n",
       "      <td>air_00a91d42b08b08d9_2017-04-26</td>\n",
       "      <td>27.524710</td>\n",
       "    </tr>\n",
       "    <tr>\n",
       "      <th>4</th>\n",
       "      <td>air_00a91d42b08b08d9_2017-04-27</td>\n",
       "      <td>31.601258</td>\n",
       "    </tr>\n",
       "  </tbody>\n",
       "</table>\n",
       "</div>"
      ],
      "text/plain": [
       "                                id   visitors\n",
       "0  air_00a91d42b08b08d9_2017-04-23   4.151510\n",
       "1  air_00a91d42b08b08d9_2017-04-24  24.442456\n",
       "2  air_00a91d42b08b08d9_2017-04-25  27.218779\n",
       "3  air_00a91d42b08b08d9_2017-04-26  27.524710\n",
       "4  air_00a91d42b08b08d9_2017-04-27  31.601258"
      ]
     },
     "execution_count": 14,
     "metadata": {},
     "output_type": "execute_result"
    }
   ],
   "source": [
    "sub.head()"
   ]
  },
  {
   "cell_type": "code",
   "execution_count": 20,
   "metadata": {},
   "outputs": [
    {
     "data": {
      "text/html": [
       "<div>\n",
       "<style scoped>\n",
       "    .dataframe tbody tr th:only-of-type {\n",
       "        vertical-align: middle;\n",
       "    }\n",
       "\n",
       "    .dataframe tbody tr th {\n",
       "        vertical-align: top;\n",
       "    }\n",
       "\n",
       "    .dataframe thead th {\n",
       "        text-align: right;\n",
       "    }\n",
       "</style>\n",
       "<table border=\"1\" class=\"dataframe\">\n",
       "  <thead>\n",
       "    <tr style=\"text-align: right;\">\n",
       "      <th></th>\n",
       "      <th>id</th>\n",
       "      <th>visitors</th>\n",
       "    </tr>\n",
       "  </thead>\n",
       "  <tbody>\n",
       "    <tr>\n",
       "      <th>0</th>\n",
       "      <td>air_00a91d42b08b08d9_2017-04-23</td>\n",
       "      <td>3.130138</td>\n",
       "    </tr>\n",
       "    <tr>\n",
       "      <th>1</th>\n",
       "      <td>air_00a91d42b08b08d9_2017-04-24</td>\n",
       "      <td>22.461168</td>\n",
       "    </tr>\n",
       "    <tr>\n",
       "      <th>2</th>\n",
       "      <td>air_00a91d42b08b08d9_2017-04-25</td>\n",
       "      <td>24.732350</td>\n",
       "    </tr>\n",
       "    <tr>\n",
       "      <th>3</th>\n",
       "      <td>air_00a91d42b08b08d9_2017-04-26</td>\n",
       "      <td>25.403013</td>\n",
       "    </tr>\n",
       "    <tr>\n",
       "      <th>4</th>\n",
       "      <td>air_00a91d42b08b08d9_2017-04-27</td>\n",
       "      <td>24.755698</td>\n",
       "    </tr>\n",
       "  </tbody>\n",
       "</table>\n",
       "</div>"
      ],
      "text/plain": [
       "                                id   visitors\n",
       "0  air_00a91d42b08b08d9_2017-04-23   3.130138\n",
       "1  air_00a91d42b08b08d9_2017-04-24  22.461168\n",
       "2  air_00a91d42b08b08d9_2017-04-25  24.732350\n",
       "3  air_00a91d42b08b08d9_2017-04-26  25.403013\n",
       "4  air_00a91d42b08b08d9_2017-04-27  24.755698"
      ]
     },
     "execution_count": 20,
     "metadata": {},
     "output_type": "execute_result"
    }
   ],
   "source": [
    "sub.head()"
   ]
  },
  {
   "cell_type": "code",
   "execution_count": 22,
   "metadata": {},
   "outputs": [
    {
     "data": {
      "text/plain": [
       "<matplotlib.axes._subplots.AxesSubplot at 0x7f9d397206d8>"
      ]
     },
     "execution_count": 22,
     "metadata": {},
     "output_type": "execute_result"
    },
    {
     "data": {
      "image/png": "[encoded data removed]",
      "text/plain": [
       "<matplotlib.figure.Figure at 0x7f9d39590908>"
      ]
     },
     "metadata": {},
     "output_type": "display_data"
    }
   ],
   "source": [
    "sub.visitors.plot()"
   ]
  },
  {
   "cell_type": "code",
   "execution_count": null,
   "metadata": {},
   "outputs": [],
   "source": []
  },
  {
   "cell_type": "code",
   "execution_count": null,
   "metadata": {},
   "outputs": [],
   "source": []
  },
  {
   "cell_type": "code",
   "execution_count": null,
   "metadata": {},
   "outputs": [],
   "source": []
  },
  {
   "cell_type": "code",
   "execution_count": null,
   "metadata": {},
   "outputs": [],
   "source": []
  },
  {
   "cell_type": "code",
   "execution_count": null,
   "metadata": {},
   "outputs": [],
   "source": []
  },
  {
   "cell_type": "code",
   "execution_count": null,
   "metadata": {},
   "outputs": [],
   "source": []
  },
  {
   "cell_type": "code",
   "execution_count": null,
   "metadata": {},
   "outputs": [],
   "source": []
  },
  {
   "cell_type": "code",
   "execution_count": null,
   "metadata": {},
   "outputs": [],
   "source": []
  },
  {
   "cell_type": "code",
   "execution_count": null,
   "metadata": {},
   "outputs": [],
   "source": []
  },
  {
   "cell_type": "code",
   "execution_count": null,
   "metadata": {},
   "outputs": [],
   "source": []
  },
  {
   "cell_type": "code",
   "execution_count": null,
   "metadata": {},
   "outputs": [],
   "source": []
  },
  {
   "cell_type": "code",
   "execution_count": null,
   "metadata": {},
   "outputs": [],
   "source": []
  },
  {
   "cell_type": "code",
   "execution_count": 2,
   "metadata": {},
   "outputs": [],
   "source": [
    "data_path = r'/Users/kevindu/Documents/workspace/ai/data/RRVF/' # r'E:\\workspace\\ai\\ml_utils\\proj\\RRVF\\data\\\\'\n",
    "\n",
    "def get_data(data_path):\n",
    "    air_reserve = pd.read_csv(data_path + 'air_reserve.csv').rename(columns={'air_store_id':'store_id'})\n",
    "    hpg_reserve = pd.read_csv(data_path + 'hpg_reserve.csv').rename(columns={'hpg_store_id':'store_id'})\n",
    "    air_store = pd.read_csv(data_path + 'air_store_info.csv').rename(columns={'air_store_id':'store_id'})\n",
    "    hpg_store = pd.read_csv(data_path + 'hpg_store_info.csv').rename(columns={'hpg_store_id':'store_id'})\n",
    "    air_visit = pd.read_csv(data_path + 'air_visit_data.csv').rename(columns={'air_store_id':'store_id'})\n",
    "    store_id_map = pd.read_csv(data_path + 'store_id_relation.csv').set_index('hpg_store_id',drop=False)\n",
    "    date_info = pd.read_csv(data_path + 'date_info.csv').rename(columns={'calendar_date': 'visit_date'}).drop('day_of_week',axis=1)\n",
    "    submission = pd.read_csv(data_path + 'sample_submission.csv')\n",
    "\n",
    "    submission['visit_date'] = submission['id'].str[-10:]\n",
    "    submission['store_id'] = submission['id'].str[:-11]\n",
    "    air_reserve['visit_date'] = air_reserve['visit_datetime'].str[:10]\n",
    "    air_reserve['reserve_date'] = air_reserve['reserve_datetime'].str[:10]\n",
    "    air_reserve['dow'] = pd.to_datetime(air_reserve['visit_date']).dt.dayofweek\n",
    "    hpg_reserve['visit_date'] = hpg_reserve['visit_datetime'].str[:10]\n",
    "    hpg_reserve['reserve_date'] = hpg_reserve['reserve_datetime'].str[:10]\n",
    "    hpg_reserve['dow'] = pd.to_datetime(hpg_reserve['visit_date']).dt.dayofweek\n",
    "    air_visit['id'] = air_visit['store_id'] + '_' + air_visit['visit_date']\n",
    "    hpg_reserve['store_id'] = hpg_reserve['store_id'].map(store_id_map['air_store_id']).fillna(hpg_reserve['store_id'])\n",
    "    hpg_store['store_id'] = hpg_store['store_id'].map(store_id_map['air_store_id']).fillna(hpg_store['store_id'])\n",
    "    # consider genre in hpg as air genre\n",
    "    hpg_store.rename(columns={'hpg_genre_name':'air_genre_name','hpg_area_name':'air_area_name'},inplace=True)\n",
    "    data = pd.concat([air_visit, submission]).copy()\n",
    "    data['dow'] = pd.to_datetime(data['visit_date']).dt.dayofweek\n",
    "\n",
    "    # take weekend 5 6 1, as a kind of holiday\n",
    "    # dow is a very important feature\n",
    "    date_info['holiday_flg2'] = pd.to_datetime(date_info['visit_date']).dt.dayofweek\n",
    "    date_info['holiday_flg2'] = ((date_info['holiday_flg2']>4) | (date_info['holiday_flg']==1)).astype(int)\n",
    "\n",
    "    # Split on area name, should also consider the number of competitors within a distance\n",
    "    air_store['air_area_name0'] = air_store['air_area_name'].apply(lambda x: x.split(' ')[0])\n",
    "    lbl = LabelEncoder()\n",
    "    air_store['air_genre_name'] = lbl.fit_transform(air_store['air_genre_name'])\n",
    "    air_store['air_area_name0'] = lbl.fit_transform(air_store['air_area_name0'])\n",
    "\n",
    "    # per the chanllege request\n",
    "    data['visitors'] = np.log1p(data['visitors'])\n",
    "    data = data.merge(air_store,on='store_id',how='left')\n",
    "    data = data.merge(date_info[['visit_date','holiday_flg','holiday_flg2']], on=['visit_date'],how='left')\n",
    "    result = {\n",
    "        \"data\": data,\n",
    "        \"hpg_store\": hpg_store,\n",
    "        \"air_store\": air_store,\n",
    "        \"air_reserve\": air_reserve,\n",
    "        \"hpg_reserve\": hpg_reserve,\n",
    "    }\n",
    "    return result"
   ]
  },
  {
   "cell_type": "code",
   "execution_count": 6,
   "metadata": {},
   "outputs": [],
   "source": [
    "def concat(L):\n",
    "    result = None\n",
    "    for l in L:\n",
    "        if result is None:\n",
    "            result = l\n",
    "        else:\n",
    "            try:\n",
    "                result[l.columns.tolist()] = l\n",
    "            except:\n",
    "                print(l.head())\n",
    "    return result\n",
    "\n",
    "def left_merge(data1,data2,on):\n",
    "    if type(on) != list:\n",
    "        on = [on]\n",
    "    if (set(on) & set(data2.columns)) != set(on):\n",
    "        data2_temp = data2.reset_index()\n",
    "    else:\n",
    "        data2_temp = data2.copy()\n",
    "    columns = [f for f in data2.columns if f not in on]\n",
    "    result = data1.merge(data2_temp,on=on,how='left')\n",
    "    result = result[columns]\n",
    "    return result\n",
    "\n",
    "\n",
    "def diff_of_days(day1, day2):\n",
    "    days = (parse(day1[:10]) - parse(day2[:10])).days\n",
    "    return days\n",
    "\n",
    "def date_add_days(start_date, days):\n",
    "    end_date = parse(start_date[:10]) + timedelta(days=days)\n",
    "    end_date = end_date.strftime('%Y-%m-%d')\n",
    "    return end_date\n",
    "\n",
    "def get_label(end_date, n_day):\n",
    "    \"\"\" \n",
    "    end_date : end of statistic set\n",
    "    n_day: the span of label set\n",
    "    \"\"\"\n",
    "    label_end_date = date_add_days(end_date, n_day)\n",
    "    label = data[(data['visit_date'] < label_end_date) & (data['visit_date'] >= end_date)].copy()\n",
    "    label['end_date'] = end_date\n",
    "    # diff of pivot date and visit date\n",
    "    # related to weighting\n",
    "    label['diff_of_day'] = label['visit_date'].apply(lambda x: diff_of_days(x,end_date))\n",
    "    label['month'] = label['visit_date'].str[5:7].astype(int)\n",
    "    label['year'] = label['visit_date'].str[:4].astype(int)\n",
    "    # before & after holiday trend\n",
    "    for i in [3,2,1,-1]:\n",
    "        date_info_temp = date_info.copy()\n",
    "        date_info_temp['visit_date'] = date_info_temp['visit_date'].apply(lambda x: date_add_days(x,i))\n",
    "        date_info_temp.rename(columns={'holiday_flg':'ahead_holiday_{}'.format(i),'holiday_flg2':'ahead_holiday2_{}'.format(i)},inplace=True)\n",
    "        label = label.merge(date_info_temp, on=['visit_date'],how='left')\n",
    "    label = label.reset_index(drop=True)\n",
    "    return label\n",
    "\n",
    "def get_store_visitor_feat(label, key, n_day):\n",
    "    start_date = date_add_days(key[0],-n_day)\n",
    "    data_temp = data[(data.visit_date < key[0]) & (data.visit_date > start_date)].copy()\n",
    "    result = data_temp.groupby(['store_id'], as_index=False)['visitors'].agg({'store_min{}'.format(n_day): 'min',\n",
    "                                                                             'store_mean{}'.format(n_day): 'mean',\n",
    "                                                                             'store_median{}'.format(n_day): 'median',\n",
    "                                                                             'store_max{}'.format(n_day): 'max',\n",
    "                                                                             'store_count{}'.format(n_day): 'count',\n",
    "                                                                             'store_std{}'.format(n_day): 'std',\n",
    "                                                                             'store_skew{}'.format(n_day): 'skew'})\n",
    "    result = left_merge(label, result, on=['store_id']).fillna(0)\n",
    "    return result"
   ]
  },
  {
   "cell_type": "code",
   "execution_count": 238,
   "metadata": {},
   "outputs": [],
   "source": [
    "def make_feats(data_dict, \n",
    "                win,\n",
    "                label_getter, \n",
    "                fes=[], \n",
    "                high_eng=None):\n",
    "        pivot_date = win['pivot_date']\n",
    "        days_in_label = win['days_in_label']\n",
    "        key = pivot_date, days_in_label # the idx of label set\n",
    "        label = label_getter(pivot_date, days_in_label)\n",
    "\n",
    "        result = [label]\n",
    "        for feature_eng in fes:\n",
    "            result.append(feature_eng(label, key))\n",
    "        result.append(label)\n",
    "        result = concat(result)\n",
    "        if high_eng:\n",
    "            result = high_eng(result)\n",
    "        return result\n",
    "\n",
    "class TimeseriesDataset():\n",
    "    def __init__(\n",
    "            self,\n",
    "            pivot_date,\n",
    "            end_date,\n",
    "            data_dict,\n",
    "            date_col,\n",
    "            date_step,\n",
    "            days_in_label,\n",
    "            min_num_in_stat_set,\n",
    "            label_getter, \n",
    "            fes=[], \n",
    "            high_eng=None\n",
    "            ):\n",
    "        self.__pivot_date = pivot_date\n",
    "        self.__data_dict = data_dict\n",
    "        self.__date_col = date_col\n",
    "        self.__end_date = end_date\n",
    "        self.__date_step = date_step\n",
    "        self.__days_in_label = days_in_label\n",
    "        merged_data = data_dict['data']\n",
    "        windows = []\n",
    "        max_date = arrow.get(pivot_date)\n",
    "        min_date = arrow.get(merged_data.visit_date.min())\n",
    "        delta = (max_date - min_date).days - min_num_in_stat_set\n",
    "        nwindows_bf_pivot = int((delta ) / date_step )\n",
    "        nwindows_af_pivot = math.floor((arrow.get(end_date) - arrow.get(pivot_date)).days / date_step)\n",
    "        \n",
    "        start_date = min_date.shift(days=min_num_in_stat_set)\n",
    "        for day_delta in range(nwindows_bf_pivot):\n",
    "            # >= start & < end\n",
    "            windows.append(\n",
    "                {\n",
    "                    \"pivot_date\": start_date.format('YYYY-MM-DD'),\n",
    "                    \"days_in_label\": days_in_label\n",
    "                }\n",
    "            )\n",
    "            start_date = start_date.shift(days=date_step)\n",
    "        start_date = max_date.shift(days=date_step)\n",
    "        ndays_unit_af_pivot = days_in_label  - days_in_label % date_step\n",
    "        for day_delta in range(nwindows_af_pivot):\n",
    "            adaptive_len = ndays_unit_af_pivot - ( day_delta * date_step )\n",
    "            windows.append(\n",
    "                {\n",
    "                    \"pivot_date\": start_date.format('YYYY-MM-DD'),\n",
    "                    \"days_in_label\": adaptive_len\n",
    "                }\n",
    "            )\n",
    "            start_date = start_date.shift(days=date_step)\n",
    "        self.__windows = windows\n",
    "        print('nwindows_bf_pivot:{}, nwindows_af_pivot {}'\n",
    "              .format(nwindows_bf_pivot, nwindows_af_pivot))\n",
    "        print('First window {}'.format(windows[0]))\n",
    "        print('Last window {}'.format(windows[-1]))\n",
    "        self.__label_getter = label_getter\n",
    "        self.__fes= fes\n",
    "        self.__high_eng = high_eng\n",
    "\n",
    "        \n",
    "    def get_trn(self, concurrency=2):\n",
    "        feats, results = [], []\n",
    "        step_task = int(len(self.__windows) / 100)\n",
    "        num_tasks = len(self.__windows)        \n",
    "        with ThreadPoolExecutor(max_workers=concurrency) as executor:\n",
    "            feats = executor.map(\n",
    "                lambda x: make_feats(win=x,\n",
    "                                    data_dict=self.__data_dict,\n",
    "                                      label_getter=self.__label_getter,\n",
    "                                      fes=self.__fes, \n",
    "                                      high_eng=self.__high_eng), \n",
    "                self.__windows)\n",
    "        train_feat = pd.concat(feats)\n",
    "        return train_feat\n",
    "\n",
    "    def get_test(self, start_date, ndays):\n",
    "        feats = []\n",
    "        test_feat = self.make_feats(pivot_date=start_date, ndays=ndays)\n",
    "        return test_feat\n",
    "\n",
    "    def generate_trn(self):\n",
    "        pass"
   ]
  },
  {
   "cell_type": "code",
   "execution_count": 3,
   "metadata": {},
   "outputs": [],
   "source": [
    "data_dict = get_data(data_path)"
   ]
  },
  {
   "cell_type": "code",
   "execution_count": 247,
   "metadata": {},
   "outputs": [
    {
     "name": "stdout",
     "output_type": "stream",
     "text": [
      "nwindows_bf_pivot:4, nwindows_af_pivot 5\n",
      "First window {'pivot_date': '2016-02-07', 'days_in_label': 39}\n",
      "Last window {'pivot_date': '2016-04-16', 'days_in_label': 7}\n"
     ]
    }
   ],
   "source": [
    "fes= [\n",
    "    lambda label, key: get_store_visitor_feat(label, key, 1000),\n",
    "    lambda label, key: get_store_visitor_feat(label, key, 56)\n",
    "]\n",
    "\n",
    "ts_data = TimeseriesDataset(\n",
    "    pivot_date='2016-03-12',\n",
    "    end_date='2016-04-22',\n",
    "    data_dict=data_dict,\n",
    "    date_col='visit_date',\n",
    "    date_step=7,\n",
    "    days_in_label=39,\n",
    "    min_num_in_stat_set=37,\n",
    "    label_getter=get_label, \n",
    "    fes=fes, \n",
    "    high_eng=None\n",
    ")\n"
   ]
  },
  {
   "cell_type": "code",
   "execution_count": 248,
   "metadata": {},
   "outputs": [],
   "source": [
    "trn = ts_data.get_trn(4)"
   ]
  },
  {
   "cell_type": "code",
   "execution_count": 249,
   "metadata": {},
   "outputs": [
    {
     "data": {
      "text/html": [
       "<div>\n",
       "<style scoped>\n",
       "    .dataframe tbody tr th:only-of-type {\n",
       "        vertical-align: middle;\n",
       "    }\n",
       "\n",
       "    .dataframe tbody tr th {\n",
       "        vertical-align: top;\n",
       "    }\n",
       "\n",
       "    .dataframe thead th {\n",
       "        text-align: right;\n",
       "    }\n",
       "</style>\n",
       "<table border=\"1\" class=\"dataframe\">\n",
       "  <thead>\n",
       "    <tr style=\"text-align: right;\">\n",
       "      <th></th>\n",
       "      <th>id</th>\n",
       "      <th>store_id</th>\n",
       "      <th>visit_date</th>\n",
       "      <th>visitors</th>\n",
       "      <th>dow</th>\n",
       "      <th>air_genre_name</th>\n",
       "      <th>air_area_name</th>\n",
       "      <th>latitude</th>\n",
       "      <th>longitude</th>\n",
       "      <th>air_area_name0</th>\n",
       "      <th>...</th>\n",
       "      <th>store_count1000</th>\n",
       "      <th>store_std1000</th>\n",
       "      <th>store_skew1000</th>\n",
       "      <th>store_min56</th>\n",
       "      <th>store_mean56</th>\n",
       "      <th>store_median56</th>\n",
       "      <th>store_max56</th>\n",
       "      <th>store_count56</th>\n",
       "      <th>store_std56</th>\n",
       "      <th>store_skew56</th>\n",
       "    </tr>\n",
       "  </thead>\n",
       "  <tbody>\n",
       "    <tr>\n",
       "      <th>0</th>\n",
       "      <td>air_ba937bf13d40fb24_2016-02-08</td>\n",
       "      <td>air_ba937bf13d40fb24</td>\n",
       "      <td>2016-02-08</td>\n",
       "      <td>2.995732</td>\n",
       "      <td>0</td>\n",
       "      <td>4</td>\n",
       "      <td>Tōkyō-to Minato-ku Shibakōen</td>\n",
       "      <td>35.658068</td>\n",
       "      <td>139.751599</td>\n",
       "      <td>7</td>\n",
       "      <td>...</td>\n",
       "      <td>20.0</td>\n",
       "      <td>0.505541</td>\n",
       "      <td>-0.752183</td>\n",
       "      <td>1.94591</td>\n",
       "      <td>2.978754</td>\n",
       "      <td>3.091042</td>\n",
       "      <td>3.828641</td>\n",
       "      <td>20.0</td>\n",
       "      <td>0.505541</td>\n",
       "      <td>-0.752183</td>\n",
       "    </tr>\n",
       "    <tr>\n",
       "      <th>1</th>\n",
       "      <td>air_ba937bf13d40fb24_2016-02-09</td>\n",
       "      <td>air_ba937bf13d40fb24</td>\n",
       "      <td>2016-02-09</td>\n",
       "      <td>2.772589</td>\n",
       "      <td>1</td>\n",
       "      <td>4</td>\n",
       "      <td>Tōkyō-to Minato-ku Shibakōen</td>\n",
       "      <td>35.658068</td>\n",
       "      <td>139.751599</td>\n",
       "      <td>7</td>\n",
       "      <td>...</td>\n",
       "      <td>20.0</td>\n",
       "      <td>0.505541</td>\n",
       "      <td>-0.752183</td>\n",
       "      <td>1.94591</td>\n",
       "      <td>2.978754</td>\n",
       "      <td>3.091042</td>\n",
       "      <td>3.828641</td>\n",
       "      <td>20.0</td>\n",
       "      <td>0.505541</td>\n",
       "      <td>-0.752183</td>\n",
       "    </tr>\n",
       "    <tr>\n",
       "      <th>2</th>\n",
       "      <td>air_ba937bf13d40fb24_2016-02-10</td>\n",
       "      <td>air_ba937bf13d40fb24</td>\n",
       "      <td>2016-02-10</td>\n",
       "      <td>3.496508</td>\n",
       "      <td>2</td>\n",
       "      <td>4</td>\n",
       "      <td>Tōkyō-to Minato-ku Shibakōen</td>\n",
       "      <td>35.658068</td>\n",
       "      <td>139.751599</td>\n",
       "      <td>7</td>\n",
       "      <td>...</td>\n",
       "      <td>20.0</td>\n",
       "      <td>0.505541</td>\n",
       "      <td>-0.752183</td>\n",
       "      <td>1.94591</td>\n",
       "      <td>2.978754</td>\n",
       "      <td>3.091042</td>\n",
       "      <td>3.828641</td>\n",
       "      <td>20.0</td>\n",
       "      <td>0.505541</td>\n",
       "      <td>-0.752183</td>\n",
       "    </tr>\n",
       "    <tr>\n",
       "      <th>3</th>\n",
       "      <td>air_ba937bf13d40fb24_2016-02-11</td>\n",
       "      <td>air_ba937bf13d40fb24</td>\n",
       "      <td>2016-02-11</td>\n",
       "      <td>1.386294</td>\n",
       "      <td>3</td>\n",
       "      <td>4</td>\n",
       "      <td>Tōkyō-to Minato-ku Shibakōen</td>\n",
       "      <td>35.658068</td>\n",
       "      <td>139.751599</td>\n",
       "      <td>7</td>\n",
       "      <td>...</td>\n",
       "      <td>20.0</td>\n",
       "      <td>0.505541</td>\n",
       "      <td>-0.752183</td>\n",
       "      <td>1.94591</td>\n",
       "      <td>2.978754</td>\n",
       "      <td>3.091042</td>\n",
       "      <td>3.828641</td>\n",
       "      <td>20.0</td>\n",
       "      <td>0.505541</td>\n",
       "      <td>-0.752183</td>\n",
       "    </tr>\n",
       "    <tr>\n",
       "      <th>4</th>\n",
       "      <td>air_ba937bf13d40fb24_2016-02-12</td>\n",
       "      <td>air_ba937bf13d40fb24</td>\n",
       "      <td>2016-02-12</td>\n",
       "      <td>3.295837</td>\n",
       "      <td>4</td>\n",
       "      <td>4</td>\n",
       "      <td>Tōkyō-to Minato-ku Shibakōen</td>\n",
       "      <td>35.658068</td>\n",
       "      <td>139.751599</td>\n",
       "      <td>7</td>\n",
       "      <td>...</td>\n",
       "      <td>20.0</td>\n",
       "      <td>0.505541</td>\n",
       "      <td>-0.752183</td>\n",
       "      <td>1.94591</td>\n",
       "      <td>2.978754</td>\n",
       "      <td>3.091042</td>\n",
       "      <td>3.828641</td>\n",
       "      <td>20.0</td>\n",
       "      <td>0.505541</td>\n",
       "      <td>-0.752183</td>\n",
       "    </tr>\n",
       "  </tbody>\n",
       "</table>\n",
       "<p>5 rows × 38 columns</p>\n",
       "</div>"
      ],
      "text/plain": [
       "                                id              store_id  visit_date  \\\n",
       "0  air_ba937bf13d40fb24_2016-02-08  air_ba937bf13d40fb24  2016-02-08   \n",
       "1  air_ba937bf13d40fb24_2016-02-09  air_ba937bf13d40fb24  2016-02-09   \n",
       "2  air_ba937bf13d40fb24_2016-02-10  air_ba937bf13d40fb24  2016-02-10   \n",
       "3  air_ba937bf13d40fb24_2016-02-11  air_ba937bf13d40fb24  2016-02-11   \n",
       "4  air_ba937bf13d40fb24_2016-02-12  air_ba937bf13d40fb24  2016-02-12   \n",
       "\n",
       "   visitors  dow  air_genre_name                 air_area_name   latitude  \\\n",
       "0  2.995732    0               4  Tōkyō-to Minato-ku Shibakōen  35.658068   \n",
       "1  2.772589    1               4  Tōkyō-to Minato-ku Shibakōen  35.658068   \n",
       "2  3.496508    2               4  Tōkyō-to Minato-ku Shibakōen  35.658068   \n",
       "3  1.386294    3               4  Tōkyō-to Minato-ku Shibakōen  35.658068   \n",
       "4  3.295837    4               4  Tōkyō-to Minato-ku Shibakōen  35.658068   \n",
       "\n",
       "    longitude  air_area_name0      ...       store_count1000  store_std1000  \\\n",
       "0  139.751599               7      ...                  20.0       0.505541   \n",
       "1  139.751599               7      ...                  20.0       0.505541   \n",
       "2  139.751599               7      ...                  20.0       0.505541   \n",
       "3  139.751599               7      ...                  20.0       0.505541   \n",
       "4  139.751599               7      ...                  20.0       0.505541   \n",
       "\n",
       "  store_skew1000  store_min56  store_mean56  store_median56  store_max56  \\\n",
       "0      -0.752183      1.94591      2.978754        3.091042     3.828641   \n",
       "1      -0.752183      1.94591      2.978754        3.091042     3.828641   \n",
       "2      -0.752183      1.94591      2.978754        3.091042     3.828641   \n",
       "3      -0.752183      1.94591      2.978754        3.091042     3.828641   \n",
       "4      -0.752183      1.94591      2.978754        3.091042     3.828641   \n",
       "\n",
       "   store_count56  store_std56  store_skew56  \n",
       "0           20.0     0.505541     -0.752183  \n",
       "1           20.0     0.505541     -0.752183  \n",
       "2           20.0     0.505541     -0.752183  \n",
       "3           20.0     0.505541     -0.752183  \n",
       "4           20.0     0.505541     -0.752183  \n",
       "\n",
       "[5 rows x 38 columns]"
      ]
     },
     "execution_count": 249,
     "metadata": {},
     "output_type": "execute_result"
    }
   ],
   "source": [
    "trn.head()"
   ]
  },
  {
   "cell_type": "code",
   "execution_count": 26,
   "metadata": {},
   "outputs": [],
   "source": [
    "\n",
    "data = data_dict['data']\n",
    "n_day = 39\n",
    "data_temp = data[(data.visit_date < '2016-04-12') & (data.visit_date > '2016-03-12')].copy()\n",
    "result_temp = data_temp.groupby(['store_id', 'dow'],as_index=False)['visitors'].agg({'store_dow_mean{}'.format(n_day): 'mean',\n",
    "                                                                 'store_dow_median{}'.format(n_day): 'median',\n",
    "                                                                 'store_dow_sum{}'.format(n_day): 'max',\n",
    "                                                                 'store_dow_count{}'.format(n_day): 'count'})\n",
    "result = pd.DataFrame()\n",
    "# label = pd.DataFrame()\n",
    "\n",
    "# for i in range(7):\n",
    "#     result_sub = result_temp[result_temp['dow']==i].copy()\n",
    "#     result_sub = result_sub.set_index('store_id')\n",
    "#     result_sub = result_sub.add_prefix(str(i))\n",
    "#     result_sub = left_merge(label, result_sub, on=['store_id']).fillna(0)\n",
    "#     result = pd.concat([result,result_sub],axis=1)"
   ]
  },
  {
   "cell_type": "code",
   "execution_count": 32,
   "metadata": {},
   "outputs": [],
   "source": [
    "result_sub = result_temp[result_temp['dow']==0].copy()\n",
    "result_sub = result_sub.set_index('store_id')\n",
    "result_sub = result_sub.add_prefix(str(0))"
   ]
  },
  {
   "cell_type": "code",
   "execution_count": 35,
   "metadata": {},
   "outputs": [],
   "source": [
    "def diff_of_days(day1, day2):\n",
    "    days = (parse(day1[:10]) - parse(day2[:10])).days\n",
    "    return days\n",
    "\n",
    "key = '2016-04-12', 1000\n",
    "data_temp['visit_date'] = data_temp['visit_date'].apply(lambda x: diff_of_days(key[0],x))\n",
    "data_temp['visitors2'] = data_temp['visitors']\n",
    "result = None\n",
    "for i in [0.9,0.95,0.97,0.98,0.985,0.99,0.999,0.9999]:\n",
    "    data_temp['weight'] = data_temp['visit_date'].apply(lambda x: i**x)\n",
    "    data_temp['visitors1'] = data_temp['visitors'] * data_temp['weight']\n",
    "    data_temp['visitors2'] = data_temp['visitors2'] * data_temp['weight']\n",
    "    result1 = data_temp.groupby(['store_id', 'dow'], as_index=False)['visitors1'].agg({'store_dow_exp_mean{}_{}'.format(n_day,i): 'sum'})\n",
    "    result3 = data_temp.groupby(['store_id', 'dow'], as_index=False)['visitors2'].agg({'store_dow_exp_mean2{}_{}'.format(n_day, i): 'sum'})\n",
    "    result2 = data_temp.groupby(['store_id', 'dow'], as_index=False)['weight'].agg({'store_dow_exp_weight_sum{}_{}'.format(n_day,i): 'sum'})\n",
    "    result_temp = result1.merge(result2, on=['store_id', 'dow'], how='left')\n",
    "    result_temp = result_temp.merge(result3, on=['store_id', 'dow'], how='left')\n",
    "    result_temp['store_dow_exp_mean{}_{}'.format(n_day,i)] = result_temp['store_dow_exp_mean{}_{}'.format(n_day,i)]/result_temp['store_dow_exp_weight_sum{}_{}'.format(n_day,i)]\n",
    "    result_temp['store_dow_exp_mean2{}_{}'.format(n_day, i)] = result_temp[ 'store_dow_exp_mean2{}_{}'.format(n_day, i)]/result_temp['store_dow_exp_weight_sum{}_{}'.format(n_day, i)]\n",
    "    if result is None:\n",
    "        result = result_temp\n",
    "    else:\n",
    "        result = result.merge(result_temp,on=['store_id','dow'],how='left')"
   ]
  },
  {
   "cell_type": "code",
   "execution_count": 43,
   "metadata": {},
   "outputs": [
    {
     "data": {
      "text/plain": [
       "[<matplotlib.lines.Line2D at 0x11db3ae48>]"
      ]
     },
     "execution_count": 43,
     "metadata": {},
     "output_type": "execute_result"
    },
    {
     "data": {
      "image/png": "[encoded data removed]",
      "text/plain": [
       "<matplotlib.figure.Figure at 0x1148b7b00>"
      ]
     },
     "metadata": {},
     "output_type": "display_data"
    }
   ],
   "source": [
    "import matplotlib.pyplot as plt\n",
    "%matplotlib inline\n",
    "a_store = result[result.store_id == 'air_fe58c074ec1445ea']\n",
    "plt.plot(a_store[\"store_dow_exp_mean39_0.97\"])\n",
    "plt.plot(a_store[\"store_dow_exp_mean239_0.97\"])\n"
   ]
  },
  {
   "cell_type": "code",
   "execution_count": 48,
   "metadata": {},
   "outputs": [],
   "source": [
    "def a(**params):\n",
    "    print(params)\n",
    "    print(b)"
   ]
  },
  {
   "cell_type": "code",
   "execution_count": 52,
   "metadata": {},
   "outputs": [],
   "source": [
    "a = \"\"\"\n",
    "class StoreVisitor(luigi.Task):\n",
    "    end_date = luigi.Parameter() # static end_date\n",
    "    ndays = luigi.Parameter() # number of days in labelling set\n",
    "    stat_ndays = luigi.Parameter()\n",
    "\n",
    "    def output(self):\n",
    "        return luigi.LocalTarget(\n",
    "            '{}store_visitor_{}_{}'.format(RESULT, self.end_date, self.ndays))\n",
    "\n",
    "    def requires(self):\n",
    "        return [Dataset(), LabelSet(self.end_date, self.ndays)]\n",
    "\n",
    "    def run(self):\n",
    "        data_dict = pkl.load(open(self.input()[0].path, 'rb'))\n",
    "        label = pd.read_feather(self.input()[1].path)\n",
    "        key = self.end_date, self.ndays\n",
    "        feas = get_store_visitor_feat(label, key, self.stat_ndays, data_dict)\n",
    "        feas.to_feather(self.output().path)\n",
    "\"\"\""
   ]
  },
  {
   "cell_type": "code",
   "execution_count": 53,
   "metadata": {},
   "outputs": [
    {
     "ename": "SyntaxError",
     "evalue": "invalid syntax (<string>, line 2)",
     "output_type": "error",
     "traceback": [
      "Traceback \u001b[0;36m(most recent call last)\u001b[0m:\n",
      "  File \u001b[1;32m\"/Library/Frameworks/Python.framework/Versions/3.6/lib/python3.6/site-packages/IPython/core/interactiveshell.py\"\u001b[0m, line \u001b[1;32m2910\u001b[0m, in \u001b[1;35mrun_code\u001b[0m\n    exec(code_obj, self.user_global_ns, self.user_ns)\n",
      "\u001b[0;36m  File \u001b[0;32m\"<ipython-input-53-e1ea98856c44>\"\u001b[0;36m, line \u001b[0;32m1\u001b[0;36m, in \u001b[0;35m<module>\u001b[0;36m\u001b[0m\n\u001b[0;31m    eval(a)\u001b[0m\n",
      "\u001b[0;36m  File \u001b[0;32m\"<string>\"\u001b[0;36m, line \u001b[0;32m2\u001b[0m\n\u001b[0;31m    class StoreVisitor(luigi.Task):\u001b[0m\n\u001b[0m        ^\u001b[0m\n\u001b[0;31mSyntaxError\u001b[0m\u001b[0;31m:\u001b[0m invalid syntax\n"
     ]
    }
   ],
   "source": [
    "eval(a)"
   ]
  },
  {
   "cell_type": "code",
   "execution_count": 81,
   "metadata": {},
   "outputs": [],
   "source": [
    "class Abc:\n",
    "    def __init__(self):\n",
    "        class_name = str(self.__class__).split('.')[-1][:-2]\n",
    "        print(class_name)"
   ]
  },
  {
   "cell_type": "code",
   "execution_count": 83,
   "metadata": {},
   "outputs": [],
   "source": [
    "def abc():\n",
    "    pass"
   ]
  },
  {
   "cell_type": "code",
   "execution_count": 84,
   "metadata": {},
   "outputs": [],
   "source": [
    "a = eval('abc')"
   ]
  },
  {
   "cell_type": "code",
   "execution_count": 86,
   "metadata": {},
   "outputs": [],
   "source": [
    "a= \"HelloWorld\""
   ]
  },
  {
   "cell_type": "code",
   "execution_count": 89,
   "metadata": {},
   "outputs": [],
   "source": [
    "import re"
   ]
  },
  {
   "cell_type": "code",
   "execution_count": 94,
   "metadata": {},
   "outputs": [
    {
     "data": {
      "text/plain": [
       "['', 'ello', 'orld']"
      ]
     },
     "execution_count": 94,
     "metadata": {},
     "output_type": "execute_result"
    }
   ],
   "source": [
    "re.split('[A-Z]', a)"
   ]
  },
  {
   "cell_type": "code",
   "execution_count": 117,
   "metadata": {},
   "outputs": [],
   "source": [
    "content = \"\"\"result.append(get_store_visitor_feat(label, key, 1000))        # store features\n",
    "    result.append(get_store_visitor_feat(label, key, 56))          # store features\n",
    "    result.append(get_store_visitor_feat(label, key, 28))          # store features\n",
    "    result.append(get_store_visitor_feat(label, key, 14))          # store features\n",
    "    result.append(get_store_exp_visitor_feat(label, key, 1000))    # store exp features\n",
    "    result.append(get_store_week_feat(label, key, 1000))           # store dow features\n",
    "    result.append(get_store_week_feat(label, key, 56))             # store dow features\n",
    "    result.append(get_store_week_feat(label, key, 28))             # store dow features\n",
    "    result.append(get_store_week_feat(label, key, 14))             # store dow features\n",
    "    result.append(get_store_week_diff_feat(label, key, 58))       # store dow diff features\n",
    "    result.append(get_store_week_diff_feat(label, key, 1000))      # store dow diff features\n",
    "    result.append(get_store_all_week_feat(label, key, 1000))       # store all week feat\n",
    "    result.append(get_store_week_exp_feat(label, key, 1000))       # store dow exp feat\n",
    "    result.append(get_store_holiday_feat(label, key, 1000))        # store holiday feat\n",
    "    result.append(get_genre_visitor_feat(label, key, 1000))         # genre feature\n",
    "    result.append(get_genre_visitor_feat(label, key, 56))           # genre feature\n",
    "    result.append(get_genre_visitor_feat(label, key, 28))           # genre feature\n",
    "    result.append(get_genre_exp_visitor_feat(label, key, 1000))     # genre feature\n",
    "    result.append(get_genre_week_feat(label, key, 1000))            # genre dow feature\n",
    "    result.append(get_genre_week_feat(label, key, 56))              # genre dow feature\n",
    "    result.append(get_genre_week_feat(label, key, 28))              # genre dow feature\n",
    "    result.append(get_genre_week_exp_feat(label, key, 1000))        # genre dow exp feature\n",
    "    result.append(get_reserve_feat(label,key))                      # air_reserve\n",
    "    result.append(get_first_last_time_feat(label,key,1000))\"\"\""
   ]
  },
  {
   "cell_type": "code",
   "execution_count": 139,
   "metadata": {},
   "outputs": [
    {
     "name": "stdout",
     "output_type": "stream",
     "text": [
      "StoreVisitor(self.end_date, self.ndays, 1000),\n",
      "StoreVisitor(self.end_date, self.ndays, 56),\n",
      "StoreVisitor(self.end_date, self.ndays, 28),\n",
      "StoreVisitor(self.end_date, self.ndays, 14),\n",
      "StoreExpVisitor(self.end_date, self.ndays, 1000),\n",
      "StoreWeek(self.end_date, self.ndays, 1000),\n",
      "StoreWeek(self.end_date, self.ndays, 56),\n",
      "StoreWeek(self.end_date, self.ndays, 28),\n",
      "StoreWeek(self.end_date, self.ndays, 14),\n",
      "StoreWeekDiff(self.end_date, self.ndays, 58),\n",
      "StoreWeekDiff(self.end_date, self.ndays, 1000),\n",
      "StoreAllWeek(self.end_date, self.ndays, 1000),\n",
      "StoreWeekExp(self.end_date, self.ndays, 1000),\n",
      "StoreHoliday(self.end_date, self.ndays, 1000),\n",
      "GenreVisitor(self.end_date, self.ndays, 1000),\n",
      "GenreVisitor(self.end_date, self.ndays, 56),\n",
      "GenreVisitor(self.end_date, self.ndays, 28),\n",
      "GenreExpVisitor(self.end_date, self.ndays, 1000),\n",
      "GenreWeek(self.end_date, self.ndays, 1000),\n",
      "GenreWeek(self.end_date, self.ndays, 56),\n",
      "GenreWeek(self.end_date, self.ndays, 28),\n",
      "GenreWeekExp(self.end_date, self.ndays, 1000),\n",
      "Reserve(self.end_date, self.ndays, -1),\n",
      "FirstLastTime(self.end_date, self.ndays, 1000),\n"
     ]
    }
   ],
   "source": [
    "codes = []\n",
    "cls_re = re.compile('get_([a-z_]*)_feat')\n",
    "for line in content.splitlines():\n",
    "    class_name = cls_re.findall(line)[0].title().replace('_', '')\n",
    "    prd = re.findall('([0-9]*)\\)', line)[0]\n",
    "    if not prd: prd = -1\n",
    "    print(\"{}(self.end_date, self.ndays, {}),\".format(class_name, prd, ))"
   ]
  },
  {
   "cell_type": "code",
   "execution_count": 130,
   "metadata": {},
   "outputs": [],
   "source": [
    "a = ''"
   ]
  },
  {
   "cell_type": "code",
   "execution_count": null,
   "metadata": {},
   "outputs": [],
   "source": [
    "a."
   ]
  }
 ],
 "metadata": {
  "kernelspec": {
   "display_name": "Python 3",
   "language": "python",
   "name": "python3"
  },
  "language_info": {
   "codemirror_mode": {
    "name": "ipython",
    "version": 3
   },
   "file_extension": ".py",
   "mimetype": "text/x-python",
   "name": "python",
   "nbconvert_exporter": "python",
   "pygments_lexer": "ipython3",
   "version": "3.6.2"
  }
 },
 "nbformat": 4,
 "nbformat_minor": 2
}
