{
 "cells": [
  {
   "cell_type": "markdown",
   "metadata": {},
   "source": [
    "# Try models"
   ]
  },
  {
   "cell_type": "code",
   "execution_count": 1,
   "metadata": {},
   "outputs": [
    {
     "name": "stderr",
     "output_type": "stream",
     "text": [
      "Using TensorFlow backend.\n",
      "/Library/Frameworks/Python.framework/Versions/3.6/lib/python3.6/importlib/_bootstrap.py:219: RuntimeWarning: compiletime version 3.5 of module 'tensorflow.python.framework.fast_tensor_util' does not match runtime version 3.6\n",
      "  return f(*args, **kwds)\n"
     ]
    }
   ],
   "source": [
    "import glob\n",
    "import re\n",
    "import pickle\n",
    "\n",
    "import numpy as np\n",
    "import pandas as pd\n",
    "from isoweek import Week\n",
    "from pandas_summary import DataFrameSummary\n",
    "import itertools\n",
    "import utils\n",
    "import lightgbm as lgb\n",
    "import random\n",
    "import matplotlib.pyplot as plt, xgboost, operator, random, pickle\n",
    "# from keras.models import model_from_yaml\n",
    "from pandas_summary import DataFrameSummary\n",
    "from importlib import reload\n",
    "reload(utils)\n",
    "import matplotlib\n",
    "\n",
    "%matplotlib inline\n",
    "matplotlib.rcParams['figure.figsize'] = (20.0, 20.0)\n",
    "\n",
    "import math\n",
    "def rmsle(y_pred, targ):\n",
    "    log_vars = np.log(targ + 1) - np.log(y_pred + 1)\n",
    "    return math.sqrt(np.square(log_vars).mean())\n",
    "def plot_impt(model):\n",
    "    importance = model.get_fscore()\n",
    "    importance = sorted(importance.items(), key=operator.itemgetter(1))\n",
    "\n",
    "    df = pd.DataFrame(importance, columns=['feature', 'fscore'])\n",
    "    df['fscore'] = df['fscore'] / df['fscore'].sum()\n",
    "\n",
    "    df.plot(kind='barh', x='feature', y='fscore', legend=False, figsize=(6, 10))\n",
    "    plt.title('XGBoost Feature Importance')\n",
    "    plt.xlabel('relative importance');\n",
    "    # df[df.fscore < 0.009].feature.tolist()\n",
    "\n",
    "def rmsle_wo_log(y_predicted, y_true):\n",
    "    y_true = y_true.get_label()\n",
    "    y_predicted_orig = utils.log_max_inv(y_predicted, max_log_y)\n",
    "    y_true_orig = utils.log_max_inv(y_true, max_log_y)\n",
    "    score = rmsle(y_predicted_orig, y_true_orig)\n",
    "    return ('rmsle', score, False)\n",
    "\n",
    "def rmsle_wo_log_sk(y_predicted, y_true):\n",
    "    y_predicted_orig = utils.log_max_inv(y_predicted, max_log_y)\n",
    "    y_true_orig = utils.log_max_inv(y_true, max_log_y)\n",
    "    score = rmsle(y_predicted_orig, y_true_orig)\n",
    "    return score"
   ]
  },
  {
   "cell_type": "code",
   "execution_count": 2,
   "metadata": {},
   "outputs": [
    {
     "data": {
      "text/plain": [
       "(225049, 821, 25419, 821)"
      ]
     },
     "execution_count": 2,
     "metadata": {},
     "output_type": "execute_result"
    }
   ],
   "source": [
    "def split(df):\n",
    "    trn_len = int(np.floor(len(df) * 0.9))\n",
    "    valid_len = len(df) - trn_len\n",
    "    df['type'] = 0  #0 for train 1 for valid\n",
    "    indexs = df.index\n",
    "    df = df.reset_index()\n",
    "    df.loc[trn_len:, 'type'] =  1\n",
    "    return df\n",
    "data_raw = pd.read_csv('./data/air_visit_data.csv')\n",
    "test = pd.read_csv('./data/sample_submission.csv')\n",
    "test_data = utils.tes2trn(test)\n",
    "test_stores = test_data.air_store_id.unique()\n",
    "data = data_raw[data_raw.air_store_id.isin(test_stores)]\n",
    "tag_data = data.groupby('air_store_id').apply(split)\n",
    "t = tag_data.set_index('index')\n",
    "train_set = t[t.type == 0]\n",
    "valid_set = t[t.type == 1]\n",
    "train_set = train_set.reset_index().drop(['index', 'type'], axis=1)\n",
    "valid_set = valid_set.reset_index().drop(['index', 'type'], axis=1)\n",
    "\n",
    "len(train_set), len(train_set.air_store_id.unique()), len(valid_set), len(valid_set.air_store_id.unique())"
   ]
  },
  {
   "cell_type": "code",
   "execution_count": null,
   "metadata": {},
   "outputs": [],
   "source": []
  },
  {
   "cell_type": "code",
   "execution_count": 17,
   "metadata": {},
   "outputs": [
    {
     "data": {
      "text/html": [
       "<div>\n",
       "<style scoped>\n",
       "    .dataframe tbody tr th:only-of-type {\n",
       "        vertical-align: middle;\n",
       "    }\n",
       "\n",
       "    .dataframe tbody tr th {\n",
       "        vertical-align: top;\n",
       "    }\n",
       "\n",
       "    .dataframe thead th {\n",
       "        text-align: right;\n",
       "    }\n",
       "</style>\n",
       "<table border=\"1\" class=\"dataframe\">\n",
       "  <thead>\n",
       "    <tr style=\"text-align: right;\">\n",
       "      <th></th>\n",
       "      <th>air_store_id</th>\n",
       "      <th>visit_date</th>\n",
       "      <th>visitors</th>\n",
       "    </tr>\n",
       "  </thead>\n",
       "  <tbody>\n",
       "    <tr>\n",
       "      <th>0</th>\n",
       "      <td>air_00a91d42b08b08d9</td>\n",
       "      <td>2016-07-01</td>\n",
       "      <td>35</td>\n",
       "    </tr>\n",
       "    <tr>\n",
       "      <th>1</th>\n",
       "      <td>air_00a91d42b08b08d9</td>\n",
       "      <td>2016-07-02</td>\n",
       "      <td>9</td>\n",
       "    </tr>\n",
       "    <tr>\n",
       "      <th>2</th>\n",
       "      <td>air_00a91d42b08b08d9</td>\n",
       "      <td>2016-07-04</td>\n",
       "      <td>20</td>\n",
       "    </tr>\n",
       "    <tr>\n",
       "      <th>3</th>\n",
       "      <td>air_00a91d42b08b08d9</td>\n",
       "      <td>2016-07-05</td>\n",
       "      <td>25</td>\n",
       "    </tr>\n",
       "    <tr>\n",
       "      <th>4</th>\n",
       "      <td>air_00a91d42b08b08d9</td>\n",
       "      <td>2016-07-06</td>\n",
       "      <td>29</td>\n",
       "    </tr>\n",
       "  </tbody>\n",
       "</table>\n",
       "</div>"
      ],
      "text/plain": [
       "           air_store_id visit_date  visitors\n",
       "0  air_00a91d42b08b08d9 2016-07-01        35\n",
       "1  air_00a91d42b08b08d9 2016-07-02         9\n",
       "2  air_00a91d42b08b08d9 2016-07-04        20\n",
       "3  air_00a91d42b08b08d9 2016-07-05        25\n",
       "4  air_00a91d42b08b08d9 2016-07-06        29"
      ]
     },
     "execution_count": 17,
     "metadata": {},
     "output_type": "execute_result"
    }
   ],
   "source": [
    "train_set.head()"
   ]
  },
  {
   "cell_type": "code",
   "execution_count": null,
   "metadata": {},
   "outputs": [],
   "source": []
  },
  {
   "cell_type": "code",
   "execution_count": null,
   "metadata": {},
   "outputs": [],
   "source": []
  },
  {
   "cell_type": "code",
   "execution_count": 4,
   "metadata": {},
   "outputs": [
    {
     "name": "stderr",
     "output_type": "stream",
     "text": [
      "/Users/kevindu/Documents/workspace/ml_utils/proj/RRVF/utils.py:651: RuntimeWarning: invalid value encountered in log1p\n",
      "  max_log_y = np.max(np.log1p(y_orig))\n",
      "/Users/kevindu/Documents/workspace/ml_utils/proj/RRVF/utils.py:652: RuntimeWarning: invalid value encountered in log1p\n",
      "  return np.log1p(y_orig) / max_log_y\n"
     ]
    }
   ],
   "source": [
    "trn_data = utils.get_data(train_set)\n",
    "X_train = trn_data['X']\n",
    "y_train = trn_data['Y']\n",
    "y_train_orig = trn_data['Y_org']\n",
    "max_log_y = trn_data['max_log_y']\n",
    "g_y_trn = trn_data['gadge']\n",
    "contin_map_fit = trn_data['contin_map_fit']\n",
    "cat_map_fit = trn_data['cat_map_fit']\n",
    "all_vars = trn_data['all_vars']\n",
    "\n",
    "\n",
    "val_data = utils.get_data(valid_set, contin_map_fit=contin_map_fit, cat_map_fit=cat_map_fit)\n",
    "X_valid = val_data['X']\n",
    "y_valid = val_data['Y']\n",
    "y_valid_orig = val_data['Y_org']\n",
    "g_y_valid = val_data['gadge']"
   ]
  },
  {
   "cell_type": "code",
   "execution_count": null,
   "metadata": {},
   "outputs": [],
   "source": []
  },
  {
   "cell_type": "code",
   "execution_count": 51,
   "metadata": {},
   "outputs": [],
   "source": []
  },
  {
   "cell_type": "code",
   "execution_count": 44,
   "metadata": {},
   "outputs": [
    {
     "data": {
      "text/plain": [
       "['genre_name',\n",
       " 'air_store_id',\n",
       " 'hpb_genre_name',\n",
       " 'visit_date_year',\n",
       " 'area_name',\n",
       " 'stores_in_hpb_loc',\n",
       " 'stores_in_hpb_area_name',\n",
       " 'stores_in_area_name',\n",
       " 'stores_in_air_loc',\n",
       " 'prop_yhat',\n",
       " 'prop_yhat_lower',\n",
       " 'prop_yhat_upper']"
      ]
     },
     "execution_count": 44,
     "metadata": {},
     "output_type": "execute_result"
    }
   ],
   "source": [
    "\n",
    "\n",
    "\n",
    "all_vars\n",
    "\n"
   ]
  },
  {
   "cell_type": "code",
   "execution_count": null,
   "metadata": {},
   "outputs": [],
   "source": []
  },
  {
   "cell_type": "code",
   "execution_count": null,
   "metadata": {},
   "outputs": [],
   "source": [
    "categorical_feature=cat_vars, "
   ]
  },
  {
   "cell_type": "code",
   "execution_count": null,
   "metadata": {},
   "outputs": [],
   "source": []
  },
  {
   "cell_type": "code",
   "execution_count": null,
   "metadata": {},
   "outputs": [],
   "source": []
  },
  {
   "cell_type": "code",
   "execution_count": 5,
   "metadata": {},
   "outputs": [],
   "source": [
    "import lightgbm as lgb\n",
    "\n",
    "lgb_train = lgb.Dataset(X_train, y_train.ravel(), feature_name=all_vars, free_raw_data=False)\n",
    "lgb_eval = lgb.Dataset(X_valid, y_valid.ravel(), reference=lgb_train, free_raw_data=False)"
   ]
  },
  {
   "cell_type": "code",
   "execution_count": null,
   "metadata": {},
   "outputs": [],
   "source": []
  },
  {
   "cell_type": "code",
   "execution_count": null,
   "metadata": {},
   "outputs": [],
   "source": []
  },
  {
   "cell_type": "code",
   "execution_count": null,
   "metadata": {},
   "outputs": [],
   "source": []
  },
  {
   "cell_type": "code",
   "execution_count": 6,
   "metadata": {},
   "outputs": [
    {
     "name": "stderr",
     "output_type": "stream",
     "text": [
      "/Library/Frameworks/Python.framework/Versions/3.6/lib/python3.6/site-packages/lightgbm/basic.py:642: UserWarning: max_bin keyword has been found in `params` and will be ignored. Please use max_bin argument of the Dataset constructor to pass this parameter.\n",
      "  'Please use {0} argument of the Dataset constructor to pass this parameter.'.format(key))\n"
     ]
    },
    {
     "name": "stdout",
     "output_type": "stream",
     "text": [
      "[1]\ttraining's rmsle: 0.766591\tvalid_1's rmsle: 0.756959\n",
      "[2]\ttraining's rmsle: 0.731222\tvalid_1's rmsle: 0.721555\n",
      "[3]\ttraining's rmsle: 0.700045\tvalid_1's rmsle: 0.691977\n",
      "[4]\ttraining's rmsle: 0.672524\tvalid_1's rmsle: 0.666957\n",
      "[5]\ttraining's rmsle: 0.648323\tvalid_1's rmsle: 0.646097\n",
      "[6]\ttraining's rmsle: 0.62695\tvalid_1's rmsle: 0.627833\n",
      "[7]\ttraining's rmsle: 0.608243\tvalid_1's rmsle: 0.611261\n",
      "[8]\ttraining's rmsle: 0.593045\tvalid_1's rmsle: 0.599857\n",
      "[9]\ttraining's rmsle: 0.578681\tvalid_1's rmsle: 0.589509\n",
      "[10]\ttraining's rmsle: 0.566364\tvalid_1's rmsle: 0.581629\n",
      "[11]\ttraining's rmsle: 0.555602\tvalid_1's rmsle: 0.57507\n",
      "[12]\ttraining's rmsle: 0.546435\tvalid_1's rmsle: 0.570332\n",
      "[13]\ttraining's rmsle: 0.538676\tvalid_1's rmsle: 0.564643\n",
      "[14]\ttraining's rmsle: 0.531787\tvalid_1's rmsle: 0.561812\n",
      "[15]\ttraining's rmsle: 0.52585\tvalid_1's rmsle: 0.560134\n",
      "[16]\ttraining's rmsle: 0.520731\tvalid_1's rmsle: 0.557972\n",
      "[17]\ttraining's rmsle: 0.516422\tvalid_1's rmsle: 0.557599\n",
      "[18]\ttraining's rmsle: 0.512751\tvalid_1's rmsle: 0.557832\n",
      "[19]\ttraining's rmsle: 0.509625\tvalid_1's rmsle: 0.558064\n",
      "[20]\ttraining's rmsle: 0.506959\tvalid_1's rmsle: 0.558684\n",
      "[21]\ttraining's rmsle: 0.504614\tvalid_1's rmsle: 0.559225\n",
      "[22]\ttraining's rmsle: 0.502624\tvalid_1's rmsle: 0.560033\n",
      "[23]\ttraining's rmsle: 0.500928\tvalid_1's rmsle: 0.560817\n",
      "[24]\ttraining's rmsle: 0.499473\tvalid_1's rmsle: 0.561665\n",
      "[25]\ttraining's rmsle: 0.498276\tvalid_1's rmsle: 0.562727\n",
      "[26]\ttraining's rmsle: 0.497214\tvalid_1's rmsle: 0.563284\n",
      "[27]\ttraining's rmsle: 0.496307\tvalid_1's rmsle: 0.564067\n",
      "[28]\ttraining's rmsle: 0.495536\tvalid_1's rmsle: 0.56468\n",
      "[29]\ttraining's rmsle: 0.494889\tvalid_1's rmsle: 0.565566\n",
      "[30]\ttraining's rmsle: 0.494314\tvalid_1's rmsle: 0.565978\n",
      "[31]\ttraining's rmsle: 0.49381\tvalid_1's rmsle: 0.566574\n",
      "[32]\ttraining's rmsle: 0.493407\tvalid_1's rmsle: 0.567331\n",
      "[33]\ttraining's rmsle: 0.493066\tvalid_1's rmsle: 0.568246\n",
      "[34]\ttraining's rmsle: 0.492749\tvalid_1's rmsle: 0.568374\n",
      "[35]\ttraining's rmsle: 0.49247\tvalid_1's rmsle: 0.569026\n",
      "[36]\ttraining's rmsle: 0.492232\tvalid_1's rmsle: 0.569323\n",
      "[37]\ttraining's rmsle: 0.492022\tvalid_1's rmsle: 0.569562\n",
      "[38]\ttraining's rmsle: 0.491841\tvalid_1's rmsle: 0.56976\n",
      "[39]\ttraining's rmsle: 0.491691\tvalid_1's rmsle: 0.570409\n",
      "[40]\ttraining's rmsle: 0.491552\tvalid_1's rmsle: 0.570809\n",
      "[41]\ttraining's rmsle: 0.491428\tvalid_1's rmsle: 0.571264\n",
      "[42]\ttraining's rmsle: 0.491318\tvalid_1's rmsle: 0.571691\n",
      "[43]\ttraining's rmsle: 0.491222\tvalid_1's rmsle: 0.571937\n",
      "[44]\ttraining's rmsle: 0.491133\tvalid_1's rmsle: 0.572059\n",
      "[45]\ttraining's rmsle: 0.491053\tvalid_1's rmsle: 0.572221\n",
      "[46]\ttraining's rmsle: 0.49098\tvalid_1's rmsle: 0.57258\n",
      "[47]\ttraining's rmsle: 0.490925\tvalid_1's rmsle: 0.572922\n",
      "[48]\ttraining's rmsle: 0.490867\tvalid_1's rmsle: 0.572884\n",
      "[49]\ttraining's rmsle: 0.49081\tvalid_1's rmsle: 0.573147\n",
      "[50]\ttraining's rmsle: 0.490755\tvalid_1's rmsle: 0.573059\n",
      "[51]\ttraining's rmsle: 0.490701\tvalid_1's rmsle: 0.572991\n",
      "[52]\ttraining's rmsle: 0.490652\tvalid_1's rmsle: 0.572931\n",
      "[53]\ttraining's rmsle: 0.490611\tvalid_1's rmsle: 0.572951\n",
      "[54]\ttraining's rmsle: 0.490573\tvalid_1's rmsle: 0.573102\n",
      "[55]\ttraining's rmsle: 0.490543\tvalid_1's rmsle: 0.573218\n",
      "[56]\ttraining's rmsle: 0.490508\tvalid_1's rmsle: 0.573374\n",
      "[57]\ttraining's rmsle: 0.490469\tvalid_1's rmsle: 0.573357\n",
      "[58]\ttraining's rmsle: 0.490435\tvalid_1's rmsle: 0.57341\n",
      "[59]\ttraining's rmsle: 0.490401\tvalid_1's rmsle: 0.57343\n",
      "[60]\ttraining's rmsle: 0.490371\tvalid_1's rmsle: 0.573414\n",
      "[61]\ttraining's rmsle: 0.490345\tvalid_1's rmsle: 0.573328\n",
      "[62]\ttraining's rmsle: 0.490319\tvalid_1's rmsle: 0.573256\n",
      "[63]\ttraining's rmsle: 0.490291\tvalid_1's rmsle: 0.573183\n",
      "[64]\ttraining's rmsle: 0.490261\tvalid_1's rmsle: 0.573093\n",
      "[65]\ttraining's rmsle: 0.490233\tvalid_1's rmsle: 0.573057\n",
      "[66]\ttraining's rmsle: 0.490209\tvalid_1's rmsle: 0.573124\n",
      "[67]\ttraining's rmsle: 0.490181\tvalid_1's rmsle: 0.573205\n",
      "[68]\ttraining's rmsle: 0.490149\tvalid_1's rmsle: 0.573163\n",
      "[69]\ttraining's rmsle: 0.490115\tvalid_1's rmsle: 0.57313\n",
      "[70]\ttraining's rmsle: 0.490094\tvalid_1's rmsle: 0.573191\n",
      "[71]\ttraining's rmsle: 0.49006\tvalid_1's rmsle: 0.573207\n",
      "[72]\ttraining's rmsle: 0.490035\tvalid_1's rmsle: 0.573217\n",
      "[73]\ttraining's rmsle: 0.490017\tvalid_1's rmsle: 0.573234\n",
      "[74]\ttraining's rmsle: 0.489999\tvalid_1's rmsle: 0.573267\n",
      "[75]\ttraining's rmsle: 0.489976\tvalid_1's rmsle: 0.573185\n",
      "[76]\ttraining's rmsle: 0.489952\tvalid_1's rmsle: 0.573085\n",
      "[77]\ttraining's rmsle: 0.48992\tvalid_1's rmsle: 0.573183\n",
      "[78]\ttraining's rmsle: 0.489884\tvalid_1's rmsle: 0.573084\n",
      "[79]\ttraining's rmsle: 0.489857\tvalid_1's rmsle: 0.57289\n",
      "[80]\ttraining's rmsle: 0.489831\tvalid_1's rmsle: 0.572823\n",
      "[81]\ttraining's rmsle: 0.489809\tvalid_1's rmsle: 0.572888\n",
      "[82]\ttraining's rmsle: 0.489791\tvalid_1's rmsle: 0.572897\n",
      "[83]\ttraining's rmsle: 0.489768\tvalid_1's rmsle: 0.5729\n",
      "[84]\ttraining's rmsle: 0.489744\tvalid_1's rmsle: 0.57232\n",
      "[85]\ttraining's rmsle: 0.489732\tvalid_1's rmsle: 0.572369\n",
      "[86]\ttraining's rmsle: 0.489715\tvalid_1's rmsle: 0.572354\n",
      "[87]\ttraining's rmsle: 0.489697\tvalid_1's rmsle: 0.572322\n",
      "[88]\ttraining's rmsle: 0.489673\tvalid_1's rmsle: 0.572332\n",
      "[89]\ttraining's rmsle: 0.489647\tvalid_1's rmsle: 0.572335\n",
      "[90]\ttraining's rmsle: 0.489628\tvalid_1's rmsle: 0.572335\n",
      "[91]\ttraining's rmsle: 0.489603\tvalid_1's rmsle: 0.572222\n",
      "[92]\ttraining's rmsle: 0.489584\tvalid_1's rmsle: 0.572146\n",
      "[93]\ttraining's rmsle: 0.489554\tvalid_1's rmsle: 0.572124\n",
      "[94]\ttraining's rmsle: 0.489531\tvalid_1's rmsle: 0.572079\n",
      "[95]\ttraining's rmsle: 0.489503\tvalid_1's rmsle: 0.571957\n",
      "[96]\ttraining's rmsle: 0.489488\tvalid_1's rmsle: 0.571978\n",
      "[97]\ttraining's rmsle: 0.489465\tvalid_1's rmsle: 0.571963\n",
      "[98]\ttraining's rmsle: 0.48945\tvalid_1's rmsle: 0.572002\n",
      "[99]\ttraining's rmsle: 0.489433\tvalid_1's rmsle: 0.571978\n",
      "[100]\ttraining's rmsle: 0.489414\tvalid_1's rmsle: 0.571977\n",
      "[101]\ttraining's rmsle: 0.489392\tvalid_1's rmsle: 0.571966\n",
      "[102]\ttraining's rmsle: 0.489377\tvalid_1's rmsle: 0.571939\n",
      "[103]\ttraining's rmsle: 0.489357\tvalid_1's rmsle: 0.571963\n",
      "[104]\ttraining's rmsle: 0.48934\tvalid_1's rmsle: 0.571836\n",
      "[105]\ttraining's rmsle: 0.489326\tvalid_1's rmsle: 0.571823\n",
      "[106]\ttraining's rmsle: 0.489311\tvalid_1's rmsle: 0.571755\n",
      "[107]\ttraining's rmsle: 0.489285\tvalid_1's rmsle: 0.571654\n",
      "[108]\ttraining's rmsle: 0.489268\tvalid_1's rmsle: 0.571595\n",
      "[109]\ttraining's rmsle: 0.489252\tvalid_1's rmsle: 0.571473\n",
      "[110]\ttraining's rmsle: 0.489238\tvalid_1's rmsle: 0.571498\n",
      "[111]\ttraining's rmsle: 0.489211\tvalid_1's rmsle: 0.571268\n",
      "[112]\ttraining's rmsle: 0.489194\tvalid_1's rmsle: 0.571252\n",
      "[113]\ttraining's rmsle: 0.489171\tvalid_1's rmsle: 0.571128\n",
      "[114]\ttraining's rmsle: 0.489155\tvalid_1's rmsle: 0.57104\n",
      "[115]\ttraining's rmsle: 0.489136\tvalid_1's rmsle: 0.571017\n",
      "[116]\ttraining's rmsle: 0.489122\tvalid_1's rmsle: 0.571079\n",
      "[117]\ttraining's rmsle: 0.48911\tvalid_1's rmsle: 0.57115\n",
      "[118]\ttraining's rmsle: 0.489093\tvalid_1's rmsle: 0.571187\n",
      "[119]\ttraining's rmsle: 0.489073\tvalid_1's rmsle: 0.571209\n",
      "[120]\ttraining's rmsle: 0.489056\tvalid_1's rmsle: 0.571125\n",
      "[121]\ttraining's rmsle: 0.489027\tvalid_1's rmsle: 0.571156\n",
      "[122]\ttraining's rmsle: 0.489011\tvalid_1's rmsle: 0.571149\n",
      "[123]\ttraining's rmsle: 0.488995\tvalid_1's rmsle: 0.571116\n",
      "[124]\ttraining's rmsle: 0.488981\tvalid_1's rmsle: 0.571124\n",
      "[125]\ttraining's rmsle: 0.488971\tvalid_1's rmsle: 0.571114\n",
      "[126]\ttraining's rmsle: 0.488955\tvalid_1's rmsle: 0.571111\n",
      "[127]\ttraining's rmsle: 0.488942\tvalid_1's rmsle: 0.571174\n",
      "[128]\ttraining's rmsle: 0.48893\tvalid_1's rmsle: 0.571191\n",
      "[129]\ttraining's rmsle: 0.488921\tvalid_1's rmsle: 0.571179\n",
      "[130]\ttraining's rmsle: 0.48891\tvalid_1's rmsle: 0.571226\n",
      "[131]\ttraining's rmsle: 0.488893\tvalid_1's rmsle: 0.571147\n",
      "[132]\ttraining's rmsle: 0.488876\tvalid_1's rmsle: 0.571136\n",
      "[133]\ttraining's rmsle: 0.48886\tvalid_1's rmsle: 0.571098\n",
      "[134]\ttraining's rmsle: 0.488848\tvalid_1's rmsle: 0.571091\n",
      "[135]\ttraining's rmsle: 0.488834\tvalid_1's rmsle: 0.571086\n",
      "[136]\ttraining's rmsle: 0.488819\tvalid_1's rmsle: 0.570933\n",
      "[137]\ttraining's rmsle: 0.488801\tvalid_1's rmsle: 0.570952\n",
      "[138]\ttraining's rmsle: 0.488787\tvalid_1's rmsle: 0.570854\n",
      "[139]\ttraining's rmsle: 0.488777\tvalid_1's rmsle: 0.570867\n",
      "[140]\ttraining's rmsle: 0.488762\tvalid_1's rmsle: 0.570865\n",
      "[141]\ttraining's rmsle: 0.488742\tvalid_1's rmsle: 0.570794\n",
      "[142]\ttraining's rmsle: 0.488723\tvalid_1's rmsle: 0.570636\n",
      "[143]\ttraining's rmsle: 0.488709\tvalid_1's rmsle: 0.570506\n"
     ]
    },
    {
     "name": "stdout",
     "output_type": "stream",
     "text": [
      "[144]\ttraining's rmsle: 0.488693\tvalid_1's rmsle: 0.570485\n",
      "[145]\ttraining's rmsle: 0.488679\tvalid_1's rmsle: 0.57048\n",
      "[146]\ttraining's rmsle: 0.488663\tvalid_1's rmsle: 0.570356\n",
      "[147]\ttraining's rmsle: 0.488646\tvalid_1's rmsle: 0.570219\n",
      "[148]\ttraining's rmsle: 0.488632\tvalid_1's rmsle: 0.570267\n",
      "[149]\ttraining's rmsle: 0.488617\tvalid_1's rmsle: 0.570296\n",
      "[150]\ttraining's rmsle: 0.488596\tvalid_1's rmsle: 0.570268\n",
      "[151]\ttraining's rmsle: 0.488585\tvalid_1's rmsle: 0.57019\n",
      "[152]\ttraining's rmsle: 0.488571\tvalid_1's rmsle: 0.570042\n",
      "[153]\ttraining's rmsle: 0.488553\tvalid_1's rmsle: 0.569985\n",
      "[154]\ttraining's rmsle: 0.48854\tvalid_1's rmsle: 0.569911\n",
      "[155]\ttraining's rmsle: 0.488529\tvalid_1's rmsle: 0.569888\n",
      "[156]\ttraining's rmsle: 0.488514\tvalid_1's rmsle: 0.569792\n",
      "[157]\ttraining's rmsle: 0.488499\tvalid_1's rmsle: 0.569811\n",
      "[158]\ttraining's rmsle: 0.48848\tvalid_1's rmsle: 0.569778\n",
      "[159]\ttraining's rmsle: 0.488466\tvalid_1's rmsle: 0.569796\n",
      "[160]\ttraining's rmsle: 0.488444\tvalid_1's rmsle: 0.569826\n",
      "[161]\ttraining's rmsle: 0.488429\tvalid_1's rmsle: 0.569833\n",
      "[162]\ttraining's rmsle: 0.488415\tvalid_1's rmsle: 0.569772\n",
      "[163]\ttraining's rmsle: 0.4884\tvalid_1's rmsle: 0.569764\n",
      "[164]\ttraining's rmsle: 0.488388\tvalid_1's rmsle: 0.569817\n",
      "[165]\ttraining's rmsle: 0.488375\tvalid_1's rmsle: 0.569832\n",
      "[166]\ttraining's rmsle: 0.488363\tvalid_1's rmsle: 0.569805\n",
      "[167]\ttraining's rmsle: 0.48835\tvalid_1's rmsle: 0.569802\n",
      "[168]\ttraining's rmsle: 0.488336\tvalid_1's rmsle: 0.569791\n",
      "[169]\ttraining's rmsle: 0.488324\tvalid_1's rmsle: 0.56974\n",
      "[170]\ttraining's rmsle: 0.488315\tvalid_1's rmsle: 0.569754\n",
      "[171]\ttraining's rmsle: 0.488303\tvalid_1's rmsle: 0.56976\n",
      "[172]\ttraining's rmsle: 0.488286\tvalid_1's rmsle: 0.569751\n",
      "[173]\ttraining's rmsle: 0.488274\tvalid_1's rmsle: 0.569747\n",
      "[174]\ttraining's rmsle: 0.488254\tvalid_1's rmsle: 0.56983\n",
      "[175]\ttraining's rmsle: 0.488243\tvalid_1's rmsle: 0.569814\n",
      "[176]\ttraining's rmsle: 0.488221\tvalid_1's rmsle: 0.569929\n",
      "[177]\ttraining's rmsle: 0.488211\tvalid_1's rmsle: 0.569943\n",
      "[178]\ttraining's rmsle: 0.488194\tvalid_1's rmsle: 0.569982\n",
      "[179]\ttraining's rmsle: 0.488183\tvalid_1's rmsle: 0.570024\n",
      "[180]\ttraining's rmsle: 0.488171\tvalid_1's rmsle: 0.570058\n",
      "[181]\ttraining's rmsle: 0.48814\tvalid_1's rmsle: 0.570085\n",
      "[182]\ttraining's rmsle: 0.488133\tvalid_1's rmsle: 0.570141\n",
      "[183]\ttraining's rmsle: 0.488114\tvalid_1's rmsle: 0.5701\n",
      "[184]\ttraining's rmsle: 0.488091\tvalid_1's rmsle: 0.570103\n",
      "[185]\ttraining's rmsle: 0.488079\tvalid_1's rmsle: 0.570111\n",
      "[186]\ttraining's rmsle: 0.488065\tvalid_1's rmsle: 0.570063\n",
      "[187]\ttraining's rmsle: 0.488054\tvalid_1's rmsle: 0.570012\n",
      "[188]\ttraining's rmsle: 0.488039\tvalid_1's rmsle: 0.569944\n",
      "[189]\ttraining's rmsle: 0.488017\tvalid_1's rmsle: 0.569938\n",
      "[190]\ttraining's rmsle: 0.488004\tvalid_1's rmsle: 0.569936\n",
      "[191]\ttraining's rmsle: 0.487992\tvalid_1's rmsle: 0.569958\n",
      "[192]\ttraining's rmsle: 0.487978\tvalid_1's rmsle: 0.570004\n",
      "[193]\ttraining's rmsle: 0.487967\tvalid_1's rmsle: 0.570001\n",
      "[194]\ttraining's rmsle: 0.487959\tvalid_1's rmsle: 0.569978\n",
      "[195]\ttraining's rmsle: 0.487947\tvalid_1's rmsle: 0.569975\n",
      "[196]\ttraining's rmsle: 0.487936\tvalid_1's rmsle: 0.570005\n",
      "[197]\ttraining's rmsle: 0.487923\tvalid_1's rmsle: 0.570032\n",
      "[198]\ttraining's rmsle: 0.487907\tvalid_1's rmsle: 0.570112\n",
      "[199]\ttraining's rmsle: 0.487893\tvalid_1's rmsle: 0.570161\n",
      "[200]\ttraining's rmsle: 0.487876\tvalid_1's rmsle: 0.570234\n"
     ]
    }
   ],
   "source": [
    "# specify your configurations as a dict\n",
    "params = {\n",
    "    'task': 'train',\n",
    "#     'boosting_type': 'dart',\n",
    "    'objective': 'regression',\n",
    "#     'metric': {'mse'},\n",
    "    'num_leaves': 50,\n",
    "    'learning_rate': 0.08,\n",
    "    'feature_fraction': 0.8,\n",
    "    'bagging_fraction': 0.8,\n",
    "    'bagging_freq': 5,\n",
    "    'verbose': 0,\n",
    "    'max_bin': 15,\n",
    "    'max_depth': 40\n",
    "}\n",
    "evals_result = {} \n",
    "gbm = lgb.train(params,\n",
    "                lgb_train,\n",
    "                num_boost_round=200,\n",
    "                valid_sets=(lgb_train, lgb_eval),\n",
    "                feval=rmsle_wo_log,\n",
    "                evals_result=evals_result,\n",
    "                ) # early_stopping_rounds=0"
   ]
  },
  {
   "cell_type": "code",
   "execution_count": 48,
   "metadata": {},
   "outputs": [],
   "source": [
    "# ax = lgb.plot_metric(evals_result, metric='rmsle')\n",
    "# ax = lgb.plot_importance(gbm, max_num_features=10)\n"
   ]
  },
  {
   "cell_type": "code",
   "execution_count": null,
   "metadata": {},
   "outputs": [],
   "source": []
  },
  {
   "cell_type": "code",
   "execution_count": 7,
   "metadata": {},
   "outputs": [
    {
     "name": "stderr",
     "output_type": "stream",
     "text": [
      "/Library/Frameworks/Python.framework/Versions/3.6/lib/python3.6/site-packages/scipy/linalg/basic.py:1226: RuntimeWarning: internal gelsd driver lwork query error, required iwork dimension not returned. This is likely the result of LAPACK bug 0038, fixed in LAPACK 3.2.2 (released July 21, 2010). Falling back to 'gelss' driver.\n",
      "  warnings.warn(mesg, RuntimeWarning)\n"
     ]
    },
    {
     "name": "stdout",
     "output_type": "stream",
     "text": [
      "Linear Model train loss: 0.48906619608678153, valid loss: 0.5539458509582287\n",
      "Base line train loss 0.48569097354010166, valid loss 0.48959534832409946\n",
      "LightBGM train loss: 0.4878764655887996, valid loss: 0.5355351514348963\n"
     ]
    }
   ],
   "source": [
    "def verify_linear(X_train, y_train, y_valid_orig, y_train_orig, max_log_y):\n",
    "    from sklearn import linear_model\n",
    "\n",
    "    reg = linear_model.LinearRegression()\n",
    "    reg.fit(X_train, y_train)\n",
    "    pred_valid = reg.predict(X_valid)\n",
    "    pred_valid_orig = utils.log_max_inv(pred_valid, max_log_y)\n",
    "    # pred_valid_orig = pred_valid\n",
    "    valid_loss = rmsle(pred_valid_orig, y_valid_orig)\n",
    "    pred_trn = reg.predict(X_train)\n",
    "    pred_trn_orig = utils.log_max_inv(pred_trn, max_log_y)\n",
    "    # pred_trn_orig = pred_trn\n",
    "    trn_loss = rmsle(pred_trn_orig, y_train_orig)\n",
    "#     plt.figure(1)\n",
    "#     plt.plot(pred_valid_orig[:100], c='b')\n",
    "#     plt.plot(y_valid_orig[:100], c='r')\n",
    "    print('Linear Model train loss: {}, valid loss: {}'.format( trn_loss, valid_loss))\n",
    "    return reg\n",
    "\n",
    "reg = verify_linear(X_train, y_train, y_valid_orig, y_train_orig, max_log_y)\n",
    "\n",
    "y_train_orig = train_set.visitors.values\n",
    "\n",
    "base_valid= rmsle(g_y_trn.values, y_train_orig.ravel())\n",
    "base_trn= rmsle(g_y_valid.values, y_valid_orig.ravel())\n",
    "\n",
    "print('Base line train loss {}, valid loss {}'.format(base_trn, base_valid))\n",
    "\n",
    "# split_point = X.shape[0] - y_valid_orig.ravel().shape[0]\n",
    "# base_line = rmsle(tidy_data['prop_yhat'].values[split_point:].ravel(), y_valid_orig.ravel())\n",
    "\n",
    "pred_valid = gbm.predict(X_valid)\n",
    "pred_valid_orig = utils.log_max_inv(pred_valid, max_log_y)\n",
    "valid_loss = rmsle(pred_valid_orig, y_valid_orig.ravel())\n",
    "pred_trn = gbm.predict(X_train)\n",
    "pred_trn_orig = utils.log_max_inv(pred_trn, max_log_y)\n",
    "trn_loss = rmsle(pred_trn_orig, y_train_orig.ravel())\n",
    "print('LightBGM train loss: {}, valid loss: {}'.format(trn_loss, valid_loss))\n",
    "\n",
    "# plt.figure(2)\n",
    "# plt.plot(pred_valid_orig[:100], c='b')\n",
    "# plt.plot(y_valid_orig[:100], c='r')"
   ]
  },
  {
   "cell_type": "markdown",
   "metadata": {},
   "source": [
    "# Submit\n"
   ]
  },
  {
   "cell_type": "code",
   "execution_count": 8,
   "metadata": {},
   "outputs": [
    {
     "name": "stderr",
     "output_type": "stream",
     "text": [
      "/Users/kevindu/Documents/workspace/ml_utils/proj/RRVF/utils.py:651: RuntimeWarning: invalid value encountered in log1p\n",
      "  max_log_y = np.max(np.log1p(y_orig))\n",
      "/Users/kevindu/Documents/workspace/ml_utils/proj/RRVF/utils.py:652: RuntimeWarning: invalid value encountered in log1p\n",
      "  return np.log1p(y_orig) / max_log_y\n"
     ]
    }
   ],
   "source": [
    "data_dir = r'./data'\n",
    "test = pd.read_csv('{}/sample_submission.csv'.format(data_dir))\n",
    "trn_like_test = utils.tes2trn(test)\n",
    "trn_like_test = trn_like_test.assign(visitors = np.round(np.random.rand(len(trn_like_test)) * 100))\n",
    "\n",
    "test_data = utils.get_data(trn_like_test, contin_map_fit=contin_map_fit, cat_map_fit=cat_map_fit)\n",
    "X_tst= test_data['X']\n",
    "y_tst = test_data['Y']\n",
    "g_y_tst = test_data['gadge']"
   ]
  },
  {
   "cell_type": "code",
   "execution_count": 9,
   "metadata": {},
   "outputs": [],
   "source": [
    "\n",
    "# pred_reg = utils.log_max_inv(reg.predict(X), max_log_y)\n",
    "pred_gbm = utils.log_max_inv(gbm.predict(X_tst), max_log_y)"
   ]
  },
  {
   "cell_type": "code",
   "execution_count": null,
   "metadata": {},
   "outputs": [],
   "source": []
  },
  {
   "cell_type": "code",
   "execution_count": null,
   "metadata": {},
   "outputs": [],
   "source": []
  },
  {
   "cell_type": "code",
   "execution_count": null,
   "metadata": {},
   "outputs": [],
   "source": []
  },
  {
   "cell_type": "code",
   "execution_count": 11,
   "metadata": {},
   "outputs": [
    {
     "data": {
      "text/plain": [
       "[<matplotlib.lines.Line2D at 0x1127f0860>]"
      ]
     },
     "execution_count": 11,
     "metadata": {},
     "output_type": "execute_result"
    },
    {
     "data": {
      "image/png": "[encoded data removed]",
      "text/plain": [
       "<matplotlib.figure.Figure at 0x121d0c4e0>"
      ]
     },
     "metadata": {},
     "output_type": "display_data"
    }
   ],
   "source": [
    "plt.plot(g_y_tst)\n",
    "plt.plot(pred_gbm)"
   ]
  },
  {
   "cell_type": "code",
   "execution_count": 13,
   "metadata": {},
   "outputs": [],
   "source": [
    "test.visitors = pred_gbm\n",
    "test.to_csv('result/gbm.csv', index=False)\n",
    "# test.visitors = pred_reg\n",
    "# test.loc[test.visitors<0, \"visitors\"] = 0\n",
    "# test.to_csv('result/reg.csv', index=False)"
   ]
  },
  {
   "cell_type": "code",
   "execution_count": null,
   "metadata": {},
   "outputs": [],
   "source": []
  },
  {
   "cell_type": "code",
   "execution_count": null,
   "metadata": {},
   "outputs": [],
   "source": []
  },
  {
   "cell_type": "code",
   "execution_count": null,
   "metadata": {},
   "outputs": [],
   "source": []
  },
  {
   "cell_type": "code",
   "execution_count": null,
   "metadata": {},
   "outputs": [],
   "source": []
  }
 ],
 "metadata": {
  "kernelspec": {
   "display_name": "Python 3",
   "language": "python",
   "name": "python3"
  },
  "language_info": {
   "codemirror_mode": {
    "name": "ipython",
    "version": 3
   },
   "file_extension": ".py",
   "mimetype": "text/x-python",
   "name": "python",
   "nbconvert_exporter": "python",
   "pygments_lexer": "ipython3",
   "version": "3.6.3"
  }
 },
 "nbformat": 4,
 "nbformat_minor": 2
}
