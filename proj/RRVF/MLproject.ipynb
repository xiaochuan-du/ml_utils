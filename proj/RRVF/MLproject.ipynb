{
 "cells": [
  {
   "cell_type": "code",
   "execution_count": 134,
   "metadata": {},
   "outputs": [],
   "source": [
    "# Put these at the top of every notebook, to get automatic reloading and inline plotting\n",
    "%reload_ext autoreload\n",
    "%autoreload 2\n",
    "%matplotlib inline"
   ]
  },
  {
   "cell_type": "code",
   "execution_count": 135,
   "metadata": {},
   "outputs": [],
   "source": [
    "from fastai.imports import *\n",
    "from fastai.transforms import *\n",
    "from fastai.conv_learner import *\n",
    "from fastai.model import *\n",
    "from fastai.dataset import *\n",
    "from fastai.sgdr import *\n",
    "from fastai.plots import *\n",
    "from fastai.structured import *\n",
    "from fastai.column_data import *\n",
    "import utils\n",
    "from dateutil.parser import parse\n",
    "from datetime import date, timedelta\n",
    "\n",
    "\n",
    "np.set_printoptions(threshold=50, edgeitems=20)\n",
    "\n",
    "import utils"
   ]
  },
  {
   "cell_type": "markdown",
   "metadata": {
    "heading_collapsed": true
   },
   "source": [
    "# Validation "
   ]
  },
  {
   "cell_type": "code",
   "execution_count": 1,
   "metadata": {
    "hidden": true
   },
   "outputs": [
    {
     "ename": "NameError",
     "evalue": "name 'pd' is not defined",
     "output_type": "error",
     "traceback": [
      "\u001b[0;31m---------------------------------------------------------------------------\u001b[0m",
      "\u001b[0;31mNameError\u001b[0m                                 Traceback (most recent call last)",
      "\u001b[0;32m<ipython-input-1-966987d26da7>\u001b[0m in \u001b[0;36m<module>\u001b[0;34m()\u001b[0m\n\u001b[1;32m     12\u001b[0m     \u001b[0;34m'Same date range 1 month earlier'\u001b[0m\u001b[0;34m\u001b[0m\u001b[0m\n\u001b[1;32m     13\u001b[0m ]\n\u001b[0;32m---> 14\u001b[0;31m val_df = pd.DataFrame(\n\u001b[0m\u001b[1;32m     15\u001b[0m     index=index, columns=cols)\n",
      "\u001b[0;31mNameError\u001b[0m: name 'pd' is not defined"
     ]
    }
   ],
   "source": [
    "cols = [\n",
    "    'Sample set model',\n",
    "    \"Full data set model\",\n",
    "    \"Do average\",\n",
    "    \"Simple group mean\",\n",
    "    \"Group mean of last month of dataset\",\n",
    "    \"RF from last two weeks\"]\n",
    "index = [\n",
    "    'Random(CV)',              \n",
    "    'Last Month',\n",
    "    'Last two weeks',\n",
    "    'Same date range 1 month earlier'\n",
    "]\n",
    "val_df = pd.DataFrame(\n",
    "    index=index, columns=cols)"
   ]
  },
  {
   "cell_type": "code",
   "execution_count": 13,
   "metadata": {
    "hidden": true
   },
   "outputs": [
    {
     "data": {
      "text/html": [
       "<div>\n",
       "<style scoped>\n",
       "    .dataframe tbody tr th:only-of-type {\n",
       "        vertical-align: middle;\n",
       "    }\n",
       "\n",
       "    .dataframe tbody tr th {\n",
       "        vertical-align: top;\n",
       "    }\n",
       "\n",
       "    .dataframe thead th {\n",
       "        text-align: right;\n",
       "    }\n",
       "</style>\n",
       "<table border=\"1\" class=\"dataframe\">\n",
       "  <thead>\n",
       "    <tr style=\"text-align: right;\">\n",
       "      <th></th>\n",
       "      <th>Sample set model</th>\n",
       "      <th>Full data set model</th>\n",
       "      <th>Do average</th>\n",
       "      <th>Simple group mean</th>\n",
       "      <th>Group mean of last month of dataset</th>\n",
       "      <th>RF from last two weeks</th>\n",
       "    </tr>\n",
       "  </thead>\n",
       "  <tbody>\n",
       "    <tr>\n",
       "      <th>Random(CV)</th>\n",
       "      <td>NaN</td>\n",
       "      <td>NaN</td>\n",
       "      <td>NaN</td>\n",
       "      <td>NaN</td>\n",
       "      <td>NaN</td>\n",
       "      <td>NaN</td>\n",
       "    </tr>\n",
       "    <tr>\n",
       "      <th>Last Month</th>\n",
       "      <td>NaN</td>\n",
       "      <td>NaN</td>\n",
       "      <td>NaN</td>\n",
       "      <td>NaN</td>\n",
       "      <td>NaN</td>\n",
       "      <td>NaN</td>\n",
       "    </tr>\n",
       "    <tr>\n",
       "      <th>Last two weeks</th>\n",
       "      <td>NaN</td>\n",
       "      <td>NaN</td>\n",
       "      <td>NaN</td>\n",
       "      <td>NaN</td>\n",
       "      <td>NaN</td>\n",
       "      <td>NaN</td>\n",
       "    </tr>\n",
       "    <tr>\n",
       "      <th>Same date range 1 month earlier</th>\n",
       "      <td>NaN</td>\n",
       "      <td>NaN</td>\n",
       "      <td>NaN</td>\n",
       "      <td>NaN</td>\n",
       "      <td>NaN</td>\n",
       "      <td>NaN</td>\n",
       "    </tr>\n",
       "  </tbody>\n",
       "</table>\n",
       "</div>"
      ],
      "text/plain": [
       "                                Sample set model Full data set model  \\\n",
       "Random(CV)                                   NaN                 NaN   \n",
       "Last Month                                   NaN                 NaN   \n",
       "Last two weeks                               NaN                 NaN   \n",
       "Same date range 1 month earlier              NaN                 NaN   \n",
       "\n",
       "                                Do average Simple group mean  \\\n",
       "Random(CV)                             NaN               NaN   \n",
       "Last Month                             NaN               NaN   \n",
       "Last two weeks                         NaN               NaN   \n",
       "Same date range 1 month earlier        NaN               NaN   \n",
       "\n",
       "                                Group mean of last month of dataset  \\\n",
       "Random(CV)                                                      NaN   \n",
       "Last Month                                                      NaN   \n",
       "Last two weeks                                                  NaN   \n",
       "Same date range 1 month earlier                                 NaN   \n",
       "\n",
       "                                RF from last two weeks  \n",
       "Random(CV)                                         NaN  \n",
       "Last Month                                         NaN  \n",
       "Last two weeks                                     NaN  \n",
       "Same date range 1 month earlier                    NaN  "
      ]
     },
     "execution_count": 13,
     "metadata": {},
     "output_type": "execute_result"
    }
   ],
   "source": [
    "val_df"
   ]
  },
  {
   "cell_type": "markdown",
   "metadata": {},
   "source": [
    "# Data fetching"
   ]
  },
  {
   "cell_type": "code",
   "execution_count": 58,
   "metadata": {},
   "outputs": [],
   "source": [
    "PATH = \"../../../data/RRVF/\" # \"../../../data/RRVF/\" \"/data/\"\n",
    "data = {\n",
    "        'tra': pd.read_csv('{}air_visit_data.csv'.format(PATH)),\n",
    "        'as': pd.read_csv('{}air_store_info.csv'.format(PATH)),\n",
    "        'hs': pd.read_csv('{}hpg_store_info.csv'.format(PATH)),\n",
    "        'ar': pd.read_csv('{}air_reserve.csv'.format(PATH)),\n",
    "        'hr': pd.read_csv('{}hpg_reserve.csv'.format(PATH)),\n",
    "        'id': pd.read_csv('{}store_id_relation.csv'.format(PATH)),\n",
    "        'hol': pd.read_csv('{}date_info.csv'.format(PATH)),\n",
    "        'wea': pd.read_csv('{}weather_data_merge.csv'.format(PATH))\n",
    "    }\n"
   ]
  },
  {
   "cell_type": "code",
   "execution_count": 65,
   "metadata": {},
   "outputs": [],
   "source": [
    "trn_like_data = pd.read_csv('{}air_visit_data.csv'.format(PATH))\n",
    "test = pd.read_csv('{}sample_submission.csv'.format(PATH))\n",
    "test_data = utils.tes2trn(test)\n",
    "trn_like_test = test_data.assign(visitors=0)\n",
    "result = trn_like_data.groupby('air_store_id').mean().reset_index()\n",
    "# add good default for test \n",
    "trn_like_test = pd.merge(trn_like_test[['air_store_id', 'visit_date']], result)\n",
    "dataset = pd.concat([trn_like_data, trn_like_test], axis=0)"
   ]
  },
  {
   "cell_type": "code",
   "execution_count": null,
   "metadata": {},
   "outputs": [],
   "source": []
  },
  {
   "cell_type": "code",
   "execution_count": 6,
   "metadata": {},
   "outputs": [],
   "source": [
    "# trn_like_data, cat_vars, contin_vars = add_feas(trn_like_data, data)\n",
    "# trn_like_data.to_feather(f'{PATH}trn_like_data')\n",
    "# pickle.dump(contin_vars, open(f'{PATH}contin_vars.pkl', 'wb'))\n",
    "# pickle.dump(cat_vars, open(f'{PATH}cat_vars.pkl','wb'))"
   ]
  },
  {
   "cell_type": "code",
   "execution_count": 8,
   "metadata": {},
   "outputs": [],
   "source": [
    "# display(valid_set.tail()), display(test_set.tail())"
   ]
  },
  {
   "cell_type": "code",
   "execution_count": null,
   "metadata": {},
   "outputs": [],
   "source": []
  },
  {
   "cell_type": "code",
   "execution_count": 2,
   "metadata": {},
   "outputs": [],
   "source": []
  },
  {
   "cell_type": "code",
   "execution_count": null,
   "metadata": {},
   "outputs": [],
   "source": []
  },
  {
   "cell_type": "code",
   "execution_count": 96,
   "metadata": {},
   "outputs": [
    {
     "data": {
      "text/html": [
       "<div>\n",
       "<style scoped>\n",
       "    .dataframe tbody tr th:only-of-type {\n",
       "        vertical-align: middle;\n",
       "    }\n",
       "\n",
       "    .dataframe tbody tr th {\n",
       "        vertical-align: top;\n",
       "    }\n",
       "\n",
       "    .dataframe thead th {\n",
       "        text-align: right;\n",
       "    }\n",
       "</style>\n",
       "<table border=\"1\" class=\"dataframe\">\n",
       "  <thead>\n",
       "    <tr style=\"text-align: right;\">\n",
       "      <th></th>\n",
       "      <th>air_store_id</th>\n",
       "      <th>visit_date</th>\n",
       "      <th>visitors</th>\n",
       "      <th>genre_name</th>\n",
       "      <th>area_name</th>\n",
       "      <th>hpg_genre_name</th>\n",
       "      <th>hpg_area_name</th>\n",
       "      <th>air_loc</th>\n",
       "      <th>hpg_loc</th>\n",
       "      <th>stores_in_air_loc</th>\n",
       "      <th>stores_in_hpg_loc</th>\n",
       "      <th>stores_in_area_name</th>\n",
       "      <th>stores_in_hpg_area_name</th>\n",
       "      <th>rolling_air_store_id_39_max</th>\n",
       "      <th>rolling_air_store_id_39_min</th>\n",
       "      <th>rolling_air_store_id_39_median</th>\n",
       "      <th>rolling_air_store_id_39_std</th>\n",
       "      <th>rolling_air_store_id_39_cnt</th>\n",
       "      <th>rolling_air_store_id_39_mean</th>\n",
       "      <th>rolling_air_store_id_39_skew</th>\n",
       "    </tr>\n",
       "  </thead>\n",
       "  <tbody>\n",
       "    <tr>\n",
       "      <th>284122</th>\n",
       "      <td>air_fff68b929994bfbd</td>\n",
       "      <td>2017-05-27</td>\n",
       "      <td>5.089219</td>\n",
       "      <td>Bar/Cocktail</td>\n",
       "      <td>Tōkyō-to Nakano-ku Nakano</td>\n",
       "      <td>NaN</td>\n",
       "      <td>NaN</td>\n",
       "      <td>35.7081457_139.666288</td>\n",
       "      <td>nan_nan</td>\n",
       "      <td>2</td>\n",
       "      <td>766</td>\n",
       "      <td>6</td>\n",
       "      <td>NaN</td>\n",
       "      <td>6.000000</td>\n",
       "      <td>2.0</td>\n",
       "      <td>5.089219</td>\n",
       "      <td>0.726292</td>\n",
       "      <td>39.0</td>\n",
       "      <td>4.923935</td>\n",
       "      <td>-3.575498</td>\n",
       "    </tr>\n",
       "    <tr>\n",
       "      <th>284123</th>\n",
       "      <td>air_fff68b929994bfbd</td>\n",
       "      <td>2017-05-28</td>\n",
       "      <td>5.089219</td>\n",
       "      <td>Bar/Cocktail</td>\n",
       "      <td>Tōkyō-to Nakano-ku Nakano</td>\n",
       "      <td>NaN</td>\n",
       "      <td>NaN</td>\n",
       "      <td>35.7081457_139.666288</td>\n",
       "      <td>nan_nan</td>\n",
       "      <td>2</td>\n",
       "      <td>766</td>\n",
       "      <td>6</td>\n",
       "      <td>NaN</td>\n",
       "      <td>5.089219</td>\n",
       "      <td>2.0</td>\n",
       "      <td>5.089219</td>\n",
       "      <td>0.705115</td>\n",
       "      <td>39.0</td>\n",
       "      <td>4.900581</td>\n",
       "      <td>-3.900875</td>\n",
       "    </tr>\n",
       "    <tr>\n",
       "      <th>284124</th>\n",
       "      <td>air_fff68b929994bfbd</td>\n",
       "      <td>2017-05-29</td>\n",
       "      <td>5.089219</td>\n",
       "      <td>Bar/Cocktail</td>\n",
       "      <td>Tōkyō-to Nakano-ku Nakano</td>\n",
       "      <td>NaN</td>\n",
       "      <td>NaN</td>\n",
       "      <td>35.7081457_139.666288</td>\n",
       "      <td>nan_nan</td>\n",
       "      <td>2</td>\n",
       "      <td>766</td>\n",
       "      <td>6</td>\n",
       "      <td>NaN</td>\n",
       "      <td>5.089219</td>\n",
       "      <td>2.0</td>\n",
       "      <td>5.089219</td>\n",
       "      <td>0.519885</td>\n",
       "      <td>39.0</td>\n",
       "      <td>4.979792</td>\n",
       "      <td>-5.399322</td>\n",
       "    </tr>\n",
       "    <tr>\n",
       "      <th>284125</th>\n",
       "      <td>air_fff68b929994bfbd</td>\n",
       "      <td>2017-05-30</td>\n",
       "      <td>5.089219</td>\n",
       "      <td>Bar/Cocktail</td>\n",
       "      <td>Tōkyō-to Nakano-ku Nakano</td>\n",
       "      <td>NaN</td>\n",
       "      <td>NaN</td>\n",
       "      <td>35.7081457_139.666288</td>\n",
       "      <td>nan_nan</td>\n",
       "      <td>2</td>\n",
       "      <td>766</td>\n",
       "      <td>6</td>\n",
       "      <td>NaN</td>\n",
       "      <td>5.089219</td>\n",
       "      <td>4.0</td>\n",
       "      <td>5.089219</td>\n",
       "      <td>0.174624</td>\n",
       "      <td>39.0</td>\n",
       "      <td>5.059003</td>\n",
       "      <td>-6.182483</td>\n",
       "    </tr>\n",
       "    <tr>\n",
       "      <th>284126</th>\n",
       "      <td>air_fff68b929994bfbd</td>\n",
       "      <td>2017-05-31</td>\n",
       "      <td>5.089219</td>\n",
       "      <td>Bar/Cocktail</td>\n",
       "      <td>Tōkyō-to Nakano-ku Nakano</td>\n",
       "      <td>NaN</td>\n",
       "      <td>NaN</td>\n",
       "      <td>35.7081457_139.666288</td>\n",
       "      <td>nan_nan</td>\n",
       "      <td>2</td>\n",
       "      <td>766</td>\n",
       "      <td>6</td>\n",
       "      <td>NaN</td>\n",
       "      <td>5.089219</td>\n",
       "      <td>5.0</td>\n",
       "      <td>5.089219</td>\n",
       "      <td>0.014287</td>\n",
       "      <td>39.0</td>\n",
       "      <td>5.086932</td>\n",
       "      <td>-6.244997</td>\n",
       "    </tr>\n",
       "  </tbody>\n",
       "</table>\n",
       "</div>"
      ],
      "text/plain": [
       "                air_store_id  visit_date  visitors    genre_name  \\\n",
       "284122  air_fff68b929994bfbd  2017-05-27  5.089219  Bar/Cocktail   \n",
       "284123  air_fff68b929994bfbd  2017-05-28  5.089219  Bar/Cocktail   \n",
       "284124  air_fff68b929994bfbd  2017-05-29  5.089219  Bar/Cocktail   \n",
       "284125  air_fff68b929994bfbd  2017-05-30  5.089219  Bar/Cocktail   \n",
       "284126  air_fff68b929994bfbd  2017-05-31  5.089219  Bar/Cocktail   \n",
       "\n",
       "                        area_name hpg_genre_name hpg_area_name  \\\n",
       "284122  Tōkyō-to Nakano-ku Nakano            NaN           NaN   \n",
       "284123  Tōkyō-to Nakano-ku Nakano            NaN           NaN   \n",
       "284124  Tōkyō-to Nakano-ku Nakano            NaN           NaN   \n",
       "284125  Tōkyō-to Nakano-ku Nakano            NaN           NaN   \n",
       "284126  Tōkyō-to Nakano-ku Nakano            NaN           NaN   \n",
       "\n",
       "                      air_loc  hpg_loc  stores_in_air_loc  stores_in_hpg_loc  \\\n",
       "284122  35.7081457_139.666288  nan_nan                  2                766   \n",
       "284123  35.7081457_139.666288  nan_nan                  2                766   \n",
       "284124  35.7081457_139.666288  nan_nan                  2                766   \n",
       "284125  35.7081457_139.666288  nan_nan                  2                766   \n",
       "284126  35.7081457_139.666288  nan_nan                  2                766   \n",
       "\n",
       "        stores_in_area_name  stores_in_hpg_area_name  \\\n",
       "284122                    6                      NaN   \n",
       "284123                    6                      NaN   \n",
       "284124                    6                      NaN   \n",
       "284125                    6                      NaN   \n",
       "284126                    6                      NaN   \n",
       "\n",
       "        rolling_air_store_id_39_max  rolling_air_store_id_39_min  \\\n",
       "284122                     6.000000                          2.0   \n",
       "284123                     5.089219                          2.0   \n",
       "284124                     5.089219                          2.0   \n",
       "284125                     5.089219                          4.0   \n",
       "284126                     5.089219                          5.0   \n",
       "\n",
       "        rolling_air_store_id_39_median  rolling_air_store_id_39_std  \\\n",
       "284122                        5.089219                     0.726292   \n",
       "284123                        5.089219                     0.705115   \n",
       "284124                        5.089219                     0.519885   \n",
       "284125                        5.089219                     0.174624   \n",
       "284126                        5.089219                     0.014287   \n",
       "\n",
       "        rolling_air_store_id_39_cnt  rolling_air_store_id_39_mean  \\\n",
       "284122                         39.0                      4.923935   \n",
       "284123                         39.0                      4.900581   \n",
       "284124                         39.0                      4.979792   \n",
       "284125                         39.0                      5.059003   \n",
       "284126                         39.0                      5.086932   \n",
       "\n",
       "        rolling_air_store_id_39_skew  \n",
       "284122                     -3.575498  \n",
       "284123                     -3.900875  \n",
       "284124                     -5.399322  \n",
       "284125                     -6.182483  \n",
       "284126                     -6.244997  "
      ]
     },
     "execution_count": 96,
     "metadata": {},
     "output_type": "execute_result"
    }
   ],
   "source": [
    "df.tail()"
   ]
  },
  {
   "cell_type": "code",
   "execution_count": null,
   "metadata": {},
   "outputs": [],
   "source": []
  },
  {
   "cell_type": "code",
   "execution_count": null,
   "metadata": {},
   "outputs": [],
   "source": []
  },
  {
   "cell_type": "code",
   "execution_count": null,
   "metadata": {},
   "outputs": [],
   "source": []
  },
  {
   "cell_type": "code",
   "execution_count": null,
   "metadata": {},
   "outputs": [],
   "source": []
  },
  {
   "cell_type": "markdown",
   "metadata": {},
   "source": [
    "# Data Cleaning / Feature Engineering"
   ]
  },
  {
   "cell_type": "code",
   "execution_count": 72,
   "metadata": {},
   "outputs": [],
   "source": [
    "import utils\n",
    "\n",
    "def add_feas(trn_like_data, data):\n",
    "    cat_vars = ['air_store_id', 'visit_Year', 'visit_Month', 'visit_Week', 'visit_Day', 'visit_Dayofweek', 'visit_Dayofyear',\n",
    "    'visit_Is_month_end', 'visit_Is_month_start', 'visit_Is_quarter_end', 'visit_Is_quarter_start', 'visit_Is_year_end', 'visit_Is_year_start',\n",
    "    'visit_Elapsed', 'day_of_week'] # default settings\n",
    "\n",
    "    contin_vars = []\n",
    "    \n",
    "    dataset = trn_like_data.copy()\n",
    "    print('before add_datepart')\n",
    "    add_datepart(dataset, \"visit_date\", drop=False)\n",
    "    print('before add_rolling_stat')\n",
    "    for period in ['30d', '60d', '90d', '180d', '360d']:\n",
    "        dataset, cats, contins = utils.add_rolling_stat(dataset, period, ['air_store_id', 'visit_Dayofweek'])\n",
    "        cat_vars.extend(cats)\n",
    "        contin_vars.extend(contins)\n",
    "    print('before add_rolling_stat')\n",
    "    for period in ['30d', '60d', '90d', '180d', '360d']:\n",
    "        dataset, cats, contins = utils.add_rolling_stat(dataset, period, ['air_store_id'])\n",
    "        cat_vars.extend(cats)\n",
    "        contin_vars.extend(contins)\n",
    "    \n",
    "    \n",
    "    dataset, cats, contins = utils.add_wea(dataset, data['wea'])\n",
    "    cat_vars.extend(cats)\n",
    "    contin_vars.extend(contins)\n",
    "\n",
    "    \n",
    "    dataset, cats, contins = utils.add_holiday_stat(dataset, data['hol'])\n",
    "    dataset.drop('Date', axis=1, inplace=True, errors='ignore')\n",
    "    cat_vars.extend(cats)\n",
    "    contin_vars.extend(contins)\n",
    "    \n",
    "    dataset, cats, contins = utils.add_area_loc_stat(dataset, data)\n",
    "    cat_vars.extend(cats)\n",
    "    contin_vars.extend(contins)\n",
    "    \n",
    "    data_statics, _, _ = utils.add_area_loc_stat(data['tra'], data)\n",
    "    static_attrs = ['area_name', 'air_loc'] # 'air_store_id', ,  'hpg_loc', \n",
    "    dataset, cats, contins = utils.add_attr_static(dataset, data_statics, static_attrs)\n",
    "    cat_vars.extend(cats)\n",
    "    contin_vars.extend(contins)\n",
    "    \n",
    "\n",
    "    \n",
    "    dataset.visit_date = pd.to_datetime(dataset.visit_date)\n",
    "    dataset.visit_date = dataset.visit_date.dt.date\n",
    "    \n",
    "    return dataset, cat_vars, contin_vars"
   ]
  },
  {
   "cell_type": "code",
   "execution_count": 74,
   "metadata": {},
   "outputs": [
    {
     "name": "stdout",
     "output_type": "stream",
     "text": [
      "before add_datepart\n",
      "before add_rolling_stat\n",
      "before groupby\n",
      "after groupby\n",
      "before groupby\n",
      "after groupby\n",
      "before groupby\n",
      "after groupby\n",
      "before groupby\n",
      "after groupby\n",
      "before groupby\n",
      "after groupby\n",
      "before add_rolling_stat\n",
      "Index(['air_store_id', 'visit_date', 'visitors', 'visit_Year', 'visit_Month',\n",
      "       'visit_Week', 'visit_Day', 'visit_Dayofweek', 'visit_Dayofyear',\n",
      "       'visit_Is_month_end', 'visit_Is_month_start', 'visit_Is_quarter_end',\n",
      "       'visit_Is_quarter_start', 'visit_Is_year_end', 'visit_Is_year_start',\n",
      "       'visit_Elapsed', 'rolling_air_store_id_visit_Dayofweek_30d_mean',\n",
      "       'rolling_air_store_id_visit_Dayofweek_30d_min',\n",
      "       'rolling_air_store_id_visit_Dayofweek_30d_max',\n",
      "       'rolling_air_store_id_visit_Dayofweek_30d_std',\n",
      "       'rolling_air_store_id_visit_Dayofweek_30d_skew',\n",
      "       'rolling_air_store_id_visit_Dayofweek_30d_cnt',\n",
      "       'rolling_air_store_id_visit_Dayofweek_30d_median',\n",
      "       'rolling_air_store_id_visit_Dayofweek_60d_std',\n",
      "       'rolling_air_store_id_visit_Dayofweek_60d_min',\n",
      "       'rolling_air_store_id_visit_Dayofweek_60d_max',\n",
      "       'rolling_air_store_id_visit_Dayofweek_60d_cnt',\n",
      "       'rolling_air_store_id_visit_Dayofweek_60d_skew',\n",
      "       'rolling_air_store_id_visit_Dayofweek_60d_median',\n",
      "       'rolling_air_store_id_visit_Dayofweek_60d_mean',\n",
      "       'rolling_air_store_id_visit_Dayofweek_90d_median',\n",
      "       'rolling_air_store_id_visit_Dayofweek_90d_skew',\n",
      "       'rolling_air_store_id_visit_Dayofweek_90d_mean',\n",
      "       'rolling_air_store_id_visit_Dayofweek_90d_std',\n",
      "       'rolling_air_store_id_visit_Dayofweek_90d_min',\n",
      "       'rolling_air_store_id_visit_Dayofweek_90d_cnt',\n",
      "       'rolling_air_store_id_visit_Dayofweek_90d_max',\n",
      "       'rolling_air_store_id_visit_Dayofweek_180d_cnt',\n",
      "       'rolling_air_store_id_visit_Dayofweek_180d_min',\n",
      "       'rolling_air_store_id_visit_Dayofweek_180d_std',\n",
      "       'rolling_air_store_id_visit_Dayofweek_180d_skew',\n",
      "       'rolling_air_store_id_visit_Dayofweek_180d_median',\n",
      "       'rolling_air_store_id_visit_Dayofweek_180d_mean',\n",
      "       'rolling_air_store_id_visit_Dayofweek_180d_max',\n",
      "       'rolling_air_store_id_visit_Dayofweek_360d_skew',\n",
      "       'rolling_air_store_id_visit_Dayofweek_360d_min',\n",
      "       'rolling_air_store_id_visit_Dayofweek_360d_max',\n",
      "       'rolling_air_store_id_visit_Dayofweek_360d_median',\n",
      "       'rolling_air_store_id_visit_Dayofweek_360d_cnt',\n",
      "       'rolling_air_store_id_visit_Dayofweek_360d_std',\n",
      "       'rolling_air_store_id_visit_Dayofweek_360d_mean'],\n",
      "      dtype='object')\n",
      "before groupby\n",
      "after groupby\n",
      "before groupby\n",
      "after groupby\n",
      "before groupby\n",
      "after groupby\n",
      "before groupby\n",
      "after groupby\n",
      "before groupby\n",
      "after groupby\n",
      "Index(['air_store_id', 'visit_date', 'visitors', 'visit_Year', 'visit_Month',\n",
      "       'visit_Week', 'visit_Day', 'visit_Dayofweek', 'visit_Dayofyear',\n",
      "       'visit_Is_month_end', 'visit_Is_month_start', 'visit_Is_quarter_end',\n",
      "       'visit_Is_quarter_start', 'visit_Is_year_end', 'visit_Is_year_start',\n",
      "       'visit_Elapsed', 'rolling_air_store_id_visit_Dayofweek_30d_mean',\n",
      "       'rolling_air_store_id_visit_Dayofweek_30d_min',\n",
      "       'rolling_air_store_id_visit_Dayofweek_30d_max',\n",
      "       'rolling_air_store_id_visit_Dayofweek_30d_std',\n",
      "       'rolling_air_store_id_visit_Dayofweek_30d_skew',\n",
      "       'rolling_air_store_id_visit_Dayofweek_30d_cnt',\n",
      "       'rolling_air_store_id_visit_Dayofweek_30d_median',\n",
      "       'rolling_air_store_id_visit_Dayofweek_60d_std',\n",
      "       'rolling_air_store_id_visit_Dayofweek_60d_min',\n",
      "       'rolling_air_store_id_visit_Dayofweek_60d_max',\n",
      "       'rolling_air_store_id_visit_Dayofweek_60d_cnt',\n",
      "       'rolling_air_store_id_visit_Dayofweek_60d_skew',\n",
      "       'rolling_air_store_id_visit_Dayofweek_60d_median',\n",
      "       'rolling_air_store_id_visit_Dayofweek_60d_mean',\n",
      "       'rolling_air_store_id_visit_Dayofweek_90d_median',\n",
      "       'rolling_air_store_id_visit_Dayofweek_90d_skew',\n",
      "       'rolling_air_store_id_visit_Dayofweek_90d_mean',\n",
      "       'rolling_air_store_id_visit_Dayofweek_90d_std',\n",
      "       'rolling_air_store_id_visit_Dayofweek_90d_min',\n",
      "       'rolling_air_store_id_visit_Dayofweek_90d_cnt',\n",
      "       'rolling_air_store_id_visit_Dayofweek_90d_max',\n",
      "       'rolling_air_store_id_visit_Dayofweek_180d_cnt',\n",
      "       'rolling_air_store_id_visit_Dayofweek_180d_min',\n",
      "       'rolling_air_store_id_visit_Dayofweek_180d_std',\n",
      "       'rolling_air_store_id_visit_Dayofweek_180d_skew',\n",
      "       'rolling_air_store_id_visit_Dayofweek_180d_median',\n",
      "       'rolling_air_store_id_visit_Dayofweek_180d_mean',\n",
      "       'rolling_air_store_id_visit_Dayofweek_180d_max',\n",
      "       'rolling_air_store_id_visit_Dayofweek_360d_skew',\n",
      "       'rolling_air_store_id_visit_Dayofweek_360d_min',\n",
      "       'rolling_air_store_id_visit_Dayofweek_360d_max',\n",
      "       'rolling_air_store_id_visit_Dayofweek_360d_median',\n",
      "       'rolling_air_store_id_visit_Dayofweek_360d_cnt',\n",
      "       'rolling_air_store_id_visit_Dayofweek_360d_std',\n",
      "       'rolling_air_store_id_visit_Dayofweek_360d_mean',\n",
      "       'rolling_air_store_id_30d_max', 'rolling_air_store_id_30d_min',\n",
      "       'rolling_air_store_id_30d_median', 'rolling_air_store_id_30d_skew',\n",
      "       'rolling_air_store_id_30d_cnt', 'rolling_air_store_id_30d_std',\n",
      "       'rolling_air_store_id_30d_mean', 'rolling_air_store_id_60d_max',\n",
      "       'rolling_air_store_id_60d_skew', 'rolling_air_store_id_60d_cnt',\n",
      "       'rolling_air_store_id_60d_median', 'rolling_air_store_id_60d_std',\n",
      "       'rolling_air_store_id_60d_mean', 'rolling_air_store_id_60d_min',\n",
      "       'rolling_air_store_id_90d_mean', 'rolling_air_store_id_90d_max',\n",
      "       'rolling_air_store_id_90d_cnt', 'rolling_air_store_id_90d_skew',\n",
      "       'rolling_air_store_id_90d_median', 'rolling_air_store_id_90d_min',\n",
      "       'rolling_air_store_id_90d_std', 'rolling_air_store_id_180d_std',\n",
      "       'rolling_air_store_id_180d_cnt', 'rolling_air_store_id_180d_skew',\n",
      "       'rolling_air_store_id_180d_max', 'rolling_air_store_id_180d_median',\n",
      "       'rolling_air_store_id_180d_mean', 'rolling_air_store_id_180d_min',\n",
      "       'rolling_air_store_id_360d_mean', 'rolling_air_store_id_360d_median',\n",
      "       'rolling_air_store_id_360d_cnt', 'rolling_air_store_id_360d_skew',\n",
      "       'rolling_air_store_id_360d_min', 'rolling_air_store_id_360d_max',\n",
      "       'rolling_air_store_id_360d_std'],\n",
      "      dtype='object')\n"
     ]
    }
   ],
   "source": [
    "dataset, cat_vars, contin_vars = add_feas(dataset, data)\n",
    "\n"
   ]
  },
  {
   "cell_type": "code",
   "execution_count": 11,
   "metadata": {},
   "outputs": [],
   "source": [
    "# feature engineering for \n",
    "# air_store_id\n",
    "# genre_name\n",
    "# dow\n",
    "# air_loc\n",
    "dataset."
   ]
  },
  {
   "cell_type": "code",
   "execution_count": 45,
   "metadata": {},
   "outputs": [],
   "source": [
    "tt = trn_like_data.copy()\n",
    "add_datepart(tt, \"visit_date\", drop=False)\n",
    "    "
   ]
  },
  {
   "cell_type": "code",
   "execution_count": 78,
   "metadata": {},
   "outputs": [],
   "source": [
    "dataset.to_feather(f'{PATH}dataset')\n",
    "pickle.dump(contin_vars, open(f'{PATH}contin_vars.pkl', 'wb'))\n",
    "pickle.dump(cat_vars, open(f'{PATH}cat_vars.pkl','wb'))"
   ]
  },
  {
   "cell_type": "code",
   "execution_count": 77,
   "metadata": {},
   "outputs": [
    {
     "data": {
      "text/html": [
       "<div>\n",
       "<style scoped>\n",
       "    .dataframe tbody tr th:only-of-type {\n",
       "        vertical-align: middle;\n",
       "    }\n",
       "\n",
       "    .dataframe tbody tr th {\n",
       "        vertical-align: top;\n",
       "    }\n",
       "\n",
       "    .dataframe thead th {\n",
       "        text-align: right;\n",
       "    }\n",
       "</style>\n",
       "<table border=\"1\" class=\"dataframe\">\n",
       "  <thead>\n",
       "    <tr style=\"text-align: right;\">\n",
       "      <th></th>\n",
       "      <th>count</th>\n",
       "      <th>mean</th>\n",
       "      <th>std</th>\n",
       "      <th>min</th>\n",
       "      <th>25%</th>\n",
       "      <th>50%</th>\n",
       "      <th>75%</th>\n",
       "      <th>max</th>\n",
       "      <th>counts</th>\n",
       "      <th>uniques</th>\n",
       "      <th>missing</th>\n",
       "      <th>missing_perc</th>\n",
       "      <th>types</th>\n",
       "    </tr>\n",
       "  </thead>\n",
       "  <tbody>\n",
       "    <tr>\n",
       "      <th>air_store_id</th>\n",
       "      <td>NaN</td>\n",
       "      <td>NaN</td>\n",
       "      <td>NaN</td>\n",
       "      <td>NaN</td>\n",
       "      <td>NaN</td>\n",
       "      <td>NaN</td>\n",
       "      <td>NaN</td>\n",
       "      <td>NaN</td>\n",
       "      <td>284127</td>\n",
       "      <td>829</td>\n",
       "      <td>0</td>\n",
       "      <td>0%</td>\n",
       "      <td>categorical</td>\n",
       "    </tr>\n",
       "    <tr>\n",
       "      <th>visit_date</th>\n",
       "      <td>NaN</td>\n",
       "      <td>NaN</td>\n",
       "      <td>NaN</td>\n",
       "      <td>NaN</td>\n",
       "      <td>NaN</td>\n",
       "      <td>NaN</td>\n",
       "      <td>NaN</td>\n",
       "      <td>NaN</td>\n",
       "      <td>284127</td>\n",
       "      <td>517</td>\n",
       "      <td>0</td>\n",
       "      <td>0%</td>\n",
       "      <td>categorical</td>\n",
       "    </tr>\n",
       "    <tr>\n",
       "      <th>visitors</th>\n",
       "      <td>284127</td>\n",
       "      <td>20.9954</td>\n",
       "      <td>16.2725</td>\n",
       "      <td>1</td>\n",
       "      <td>9</td>\n",
       "      <td>17</td>\n",
       "      <td>29</td>\n",
       "      <td>877</td>\n",
       "      <td>284127</td>\n",
       "      <td>1019</td>\n",
       "      <td>0</td>\n",
       "      <td>0%</td>\n",
       "      <td>numeric</td>\n",
       "    </tr>\n",
       "    <tr>\n",
       "      <th>visit_Year</th>\n",
       "      <td>284127</td>\n",
       "      <td>2016.39</td>\n",
       "      <td>0.486765</td>\n",
       "      <td>2016</td>\n",
       "      <td>2016</td>\n",
       "      <td>2016</td>\n",
       "      <td>2017</td>\n",
       "      <td>2017</td>\n",
       "      <td>284127</td>\n",
       "      <td>2</td>\n",
       "      <td>0</td>\n",
       "      <td>0%</td>\n",
       "      <td>bool</td>\n",
       "    </tr>\n",
       "    <tr>\n",
       "      <th>visit_Month</th>\n",
       "      <td>284127</td>\n",
       "      <td>6.04893</td>\n",
       "      <td>3.49801</td>\n",
       "      <td>1</td>\n",
       "      <td>3</td>\n",
       "      <td>5</td>\n",
       "      <td>9</td>\n",
       "      <td>12</td>\n",
       "      <td>284127</td>\n",
       "      <td>12</td>\n",
       "      <td>0</td>\n",
       "      <td>0%</td>\n",
       "      <td>numeric</td>\n",
       "    </tr>\n",
       "    <tr>\n",
       "      <th>visit_Week</th>\n",
       "      <td>284127</td>\n",
       "      <td>24.3421</td>\n",
       "      <td>15.2024</td>\n",
       "      <td>1</td>\n",
       "      <td>11</td>\n",
       "      <td>21</td>\n",
       "      <td>38</td>\n",
       "      <td>53</td>\n",
       "      <td>284127</td>\n",
       "      <td>53</td>\n",
       "      <td>0</td>\n",
       "      <td>0%</td>\n",
       "      <td>numeric</td>\n",
       "    </tr>\n",
       "    <tr>\n",
       "      <th>visit_Day</th>\n",
       "      <td>284127</td>\n",
       "      <td>15.8805</td>\n",
       "      <td>8.75665</td>\n",
       "      <td>1</td>\n",
       "      <td>8</td>\n",
       "      <td>16</td>\n",
       "      <td>23</td>\n",
       "      <td>31</td>\n",
       "      <td>284127</td>\n",
       "      <td>31</td>\n",
       "      <td>0</td>\n",
       "      <td>0%</td>\n",
       "      <td>numeric</td>\n",
       "    </tr>\n",
       "    <tr>\n",
       "      <th>visit_Dayofweek</th>\n",
       "      <td>284127</td>\n",
       "      <td>3.00879</td>\n",
       "      <td>1.938</td>\n",
       "      <td>0</td>\n",
       "      <td>1</td>\n",
       "      <td>3</td>\n",
       "      <td>5</td>\n",
       "      <td>6</td>\n",
       "      <td>284127</td>\n",
       "      <td>7</td>\n",
       "      <td>0</td>\n",
       "      <td>0%</td>\n",
       "      <td>numeric</td>\n",
       "    </tr>\n",
       "    <tr>\n",
       "      <th>visit_Dayofyear</th>\n",
       "      <td>284127</td>\n",
       "      <td>169.193</td>\n",
       "      <td>106.982</td>\n",
       "      <td>1</td>\n",
       "      <td>77</td>\n",
       "      <td>145</td>\n",
       "      <td>264</td>\n",
       "      <td>366</td>\n",
       "      <td>284127</td>\n",
       "      <td>366</td>\n",
       "      <td>0</td>\n",
       "      <td>0%</td>\n",
       "      <td>numeric</td>\n",
       "    </tr>\n",
       "    <tr>\n",
       "      <th>visit_Is_month_end</th>\n",
       "      <td>NaN</td>\n",
       "      <td>NaN</td>\n",
       "      <td>NaN</td>\n",
       "      <td>NaN</td>\n",
       "      <td>NaN</td>\n",
       "      <td>NaN</td>\n",
       "      <td>NaN</td>\n",
       "      <td>NaN</td>\n",
       "      <td>284127</td>\n",
       "      <td>2</td>\n",
       "      <td>0</td>\n",
       "      <td>0%</td>\n",
       "      <td>bool</td>\n",
       "    </tr>\n",
       "    <tr>\n",
       "      <th>visit_Is_month_start</th>\n",
       "      <td>NaN</td>\n",
       "      <td>NaN</td>\n",
       "      <td>NaN</td>\n",
       "      <td>NaN</td>\n",
       "      <td>NaN</td>\n",
       "      <td>NaN</td>\n",
       "      <td>NaN</td>\n",
       "      <td>NaN</td>\n",
       "      <td>284127</td>\n",
       "      <td>2</td>\n",
       "      <td>0</td>\n",
       "      <td>0%</td>\n",
       "      <td>bool</td>\n",
       "    </tr>\n",
       "    <tr>\n",
       "      <th>visit_Is_quarter_end</th>\n",
       "      <td>NaN</td>\n",
       "      <td>NaN</td>\n",
       "      <td>NaN</td>\n",
       "      <td>NaN</td>\n",
       "      <td>NaN</td>\n",
       "      <td>NaN</td>\n",
       "      <td>NaN</td>\n",
       "      <td>NaN</td>\n",
       "      <td>284127</td>\n",
       "      <td>2</td>\n",
       "      <td>0</td>\n",
       "      <td>0%</td>\n",
       "      <td>bool</td>\n",
       "    </tr>\n",
       "    <tr>\n",
       "      <th>visit_Is_quarter_start</th>\n",
       "      <td>NaN</td>\n",
       "      <td>NaN</td>\n",
       "      <td>NaN</td>\n",
       "      <td>NaN</td>\n",
       "      <td>NaN</td>\n",
       "      <td>NaN</td>\n",
       "      <td>NaN</td>\n",
       "      <td>NaN</td>\n",
       "      <td>284127</td>\n",
       "      <td>2</td>\n",
       "      <td>0</td>\n",
       "      <td>0%</td>\n",
       "      <td>bool</td>\n",
       "    </tr>\n",
       "    <tr>\n",
       "      <th>visit_Is_year_end</th>\n",
       "      <td>NaN</td>\n",
       "      <td>NaN</td>\n",
       "      <td>NaN</td>\n",
       "      <td>NaN</td>\n",
       "      <td>NaN</td>\n",
       "      <td>NaN</td>\n",
       "      <td>NaN</td>\n",
       "      <td>NaN</td>\n",
       "      <td>284127</td>\n",
       "      <td>2</td>\n",
       "      <td>0</td>\n",
       "      <td>0%</td>\n",
       "      <td>bool</td>\n",
       "    </tr>\n",
       "    <tr>\n",
       "      <th>visit_Is_year_start</th>\n",
       "      <td>NaN</td>\n",
       "      <td>NaN</td>\n",
       "      <td>NaN</td>\n",
       "      <td>NaN</td>\n",
       "      <td>NaN</td>\n",
       "      <td>NaN</td>\n",
       "      <td>NaN</td>\n",
       "      <td>NaN</td>\n",
       "      <td>284127</td>\n",
       "      <td>2</td>\n",
       "      <td>0</td>\n",
       "      <td>0%</td>\n",
       "      <td>bool</td>\n",
       "    </tr>\n",
       "    <tr>\n",
       "      <th>visit_Elapsed</th>\n",
       "      <td>284127</td>\n",
       "      <td>1.47834e+09</td>\n",
       "      <td>1.15735e+07</td>\n",
       "      <td>1.45161e+09</td>\n",
       "      <td>1.47018e+09</td>\n",
       "      <td>1.47917e+09</td>\n",
       "      <td>1.48815e+09</td>\n",
       "      <td>1.49619e+09</td>\n",
       "      <td>284127</td>\n",
       "      <td>517</td>\n",
       "      <td>0</td>\n",
       "      <td>0%</td>\n",
       "      <td>numeric</td>\n",
       "    </tr>\n",
       "    <tr>\n",
       "      <th>rolling_air_store_id_visit_Dayofweek_30d_mean</th>\n",
       "      <td>278328</td>\n",
       "      <td>20.9617</td>\n",
       "      <td>13.9095</td>\n",
       "      <td>1</td>\n",
       "      <td>10.4812</td>\n",
       "      <td>17.8</td>\n",
       "      <td>28.4</td>\n",
       "      <td>372</td>\n",
       "      <td>278328</td>\n",
       "      <td>22320</td>\n",
       "      <td>5799</td>\n",
       "      <td>2.04%</td>\n",
       "      <td>numeric</td>\n",
       "    </tr>\n",
       "    <tr>\n",
       "      <th>rolling_air_store_id_visit_Dayofweek_30d_min</th>\n",
       "      <td>278328</td>\n",
       "      <td>12.9322</td>\n",
       "      <td>11.3656</td>\n",
       "      <td>1</td>\n",
       "      <td>4</td>\n",
       "      <td>10</td>\n",
       "      <td>18</td>\n",
       "      <td>372</td>\n",
       "      <td>278328</td>\n",
       "      <td>936</td>\n",
       "      <td>5799</td>\n",
       "      <td>2.04%</td>\n",
       "      <td>numeric</td>\n",
       "    </tr>\n",
       "    <tr>\n",
       "      <th>rolling_air_store_id_visit_Dayofweek_30d_max</th>\n",
       "      <td>278328</td>\n",
       "      <td>30.3003</td>\n",
       "      <td>20.9848</td>\n",
       "      <td>1</td>\n",
       "      <td>16</td>\n",
       "      <td>26</td>\n",
       "      <td>40</td>\n",
       "      <td>877</td>\n",
       "      <td>278328</td>\n",
       "      <td>1019</td>\n",
       "      <td>5799</td>\n",
       "      <td>2.04%</td>\n",
       "      <td>numeric</td>\n",
       "    </tr>\n",
       "    <tr>\n",
       "      <th>rolling_air_store_id_visit_Dayofweek_30d_std</th>\n",
       "      <td>270808</td>\n",
       "      <td>7.565</td>\n",
       "      <td>7.05731</td>\n",
       "      <td>0</td>\n",
       "      <td>3.63318</td>\n",
       "      <td>6.10737</td>\n",
       "      <td>9.70985</td>\n",
       "      <td>449.72</td>\n",
       "      <td>270808</td>\n",
       "      <td>96258</td>\n",
       "      <td>13319</td>\n",
       "      <td>4.69%</td>\n",
       "      <td>numeric</td>\n",
       "    </tr>\n",
       "    <tr>\n",
       "      <th>rolling_air_store_id_visit_Dayofweek_30d_skew</th>\n",
       "      <td>258668</td>\n",
       "      <td>-985965</td>\n",
       "      <td>2.6687e+07</td>\n",
       "      <td>-6.27374e+09</td>\n",
       "      <td>-0.515361</td>\n",
       "      <td>0.234565</td>\n",
       "      <td>0.988727</td>\n",
       "      <td>5.56583e+09</td>\n",
       "      <td>258668</td>\n",
       "      <td>148593</td>\n",
       "      <td>25459</td>\n",
       "      <td>8.96%</td>\n",
       "      <td>numeric</td>\n",
       "    </tr>\n",
       "    <tr>\n",
       "      <th>rolling_air_store_id_visit_Dayofweek_30d_cnt</th>\n",
       "      <td>278328</td>\n",
       "      <td>4.53558</td>\n",
       "      <td>0.93311</td>\n",
       "      <td>1</td>\n",
       "      <td>4</td>\n",
       "      <td>5</td>\n",
       "      <td>5</td>\n",
       "      <td>5</td>\n",
       "      <td>278328</td>\n",
       "      <td>5</td>\n",
       "      <td>5799</td>\n",
       "      <td>2.04%</td>\n",
       "      <td>numeric</td>\n",
       "    </tr>\n",
       "    <tr>\n",
       "      <th>rolling_air_store_id_visit_Dayofweek_30d_median</th>\n",
       "      <td>278328</td>\n",
       "      <td>20.3762</td>\n",
       "      <td>13.9722</td>\n",
       "      <td>1</td>\n",
       "      <td>10</td>\n",
       "      <td>17</td>\n",
       "      <td>28</td>\n",
       "      <td>372</td>\n",
       "      <td>278328</td>\n",
       "      <td>1793</td>\n",
       "      <td>5799</td>\n",
       "      <td>2.04%</td>\n",
       "      <td>numeric</td>\n",
       "    </tr>\n",
       "    <tr>\n",
       "      <th>rolling_air_store_id_visit_Dayofweek_60d_std</th>\n",
       "      <td>271808</td>\n",
       "      <td>8.16061</td>\n",
       "      <td>6.77712</td>\n",
       "      <td>0</td>\n",
       "      <td>4.37015</td>\n",
       "      <td>6.81711</td>\n",
       "      <td>10.2713</td>\n",
       "      <td>449.72</td>\n",
       "      <td>271808</td>\n",
       "      <td>125850</td>\n",
       "      <td>12319</td>\n",
       "      <td>4.34%</td>\n",
       "      <td>numeric</td>\n",
       "    </tr>\n",
       "    <tr>\n",
       "      <th>rolling_air_store_id_visit_Dayofweek_60d_min</th>\n",
       "      <td>278328</td>\n",
       "      <td>10.836</td>\n",
       "      <td>10.3311</td>\n",
       "      <td>1</td>\n",
       "      <td>3</td>\n",
       "      <td>8</td>\n",
       "      <td>15</td>\n",
       "      <td>372</td>\n",
       "      <td>278328</td>\n",
       "      <td>720</td>\n",
       "      <td>5799</td>\n",
       "      <td>2.04%</td>\n",
       "      <td>numeric</td>\n",
       "    </tr>\n",
       "    <tr>\n",
       "      <th>rolling_air_store_id_visit_Dayofweek_60d_max</th>\n",
       "      <td>278328</td>\n",
       "      <td>33.9107</td>\n",
       "      <td>23.3513</td>\n",
       "      <td>1</td>\n",
       "      <td>18</td>\n",
       "      <td>30</td>\n",
       "      <td>45</td>\n",
       "      <td>877</td>\n",
       "      <td>278328</td>\n",
       "      <td>932</td>\n",
       "      <td>5799</td>\n",
       "      <td>2.04%</td>\n",
       "      <td>numeric</td>\n",
       "    </tr>\n",
       "    <tr>\n",
       "      <th>rolling_air_store_id_visit_Dayofweek_60d_cnt</th>\n",
       "      <td>278328</td>\n",
       "      <td>7.76611</td>\n",
       "      <td>2.03344</td>\n",
       "      <td>1</td>\n",
       "      <td>8</td>\n",
       "      <td>9</td>\n",
       "      <td>9</td>\n",
       "      <td>9</td>\n",
       "      <td>278328</td>\n",
       "      <td>9</td>\n",
       "      <td>5799</td>\n",
       "      <td>2.04%</td>\n",
       "      <td>numeric</td>\n",
       "    </tr>\n",
       "    <tr>\n",
       "      <th>rolling_air_store_id_visit_Dayofweek_60d_skew</th>\n",
       "      <td>264188</td>\n",
       "      <td>-188394</td>\n",
       "      <td>8.50414e+06</td>\n",
       "      <td>-8.51013e+08</td>\n",
       "      <td>-0.239337</td>\n",
       "      <td>0.330751</td>\n",
       "      <td>0.940179</td>\n",
       "      <td>3.23229e+08</td>\n",
       "      <td>264188</td>\n",
       "      <td>236459</td>\n",
       "      <td>19939</td>\n",
       "      <td>7.02%</td>\n",
       "      <td>numeric</td>\n",
       "    </tr>\n",
       "    <tr>\n",
       "      <th>rolling_air_store_id_visit_Dayofweek_60d_median</th>\n",
       "      <td>278328</td>\n",
       "      <td>20.2297</td>\n",
       "      <td>13.6535</td>\n",
       "      <td>1</td>\n",
       "      <td>10</td>\n",
       "      <td>17</td>\n",
       "      <td>27.5</td>\n",
       "      <td>372</td>\n",
       "      <td>278328</td>\n",
       "      <td>2185</td>\n",
       "      <td>5799</td>\n",
       "      <td>2.04%</td>\n",
       "      <td>numeric</td>\n",
       "    </tr>\n",
       "    <tr>\n",
       "      <th>rolling_air_store_id_visit_Dayofweek_60d_mean</th>\n",
       "      <td>278328</td>\n",
       "      <td>20.954</td>\n",
       "      <td>13.5661</td>\n",
       "      <td>1</td>\n",
       "      <td>10.6667</td>\n",
       "      <td>18</td>\n",
       "      <td>28.2281</td>\n",
       "      <td>372</td>\n",
       "      <td>278328</td>\n",
       "      <td>27070</td>\n",
       "      <td>5799</td>\n",
       "      <td>2.04%</td>\n",
       "      <td>numeric</td>\n",
       "    </tr>\n",
       "    <tr>\n",
       "      <th>...</th>\n",
       "      <td>...</td>\n",
       "      <td>...</td>\n",
       "      <td>...</td>\n",
       "      <td>...</td>\n",
       "      <td>...</td>\n",
       "      <td>...</td>\n",
       "      <td>...</td>\n",
       "      <td>...</td>\n",
       "      <td>...</td>\n",
       "      <td>...</td>\n",
       "      <td>...</td>\n",
       "      <td>...</td>\n",
       "      <td>...</td>\n",
       "    </tr>\n",
       "    <tr>\n",
       "      <th>avg_temperature</th>\n",
       "      <td>NaN</td>\n",
       "      <td>NaN</td>\n",
       "      <td>NaN</td>\n",
       "      <td>NaN</td>\n",
       "      <td>NaN</td>\n",
       "      <td>NaN</td>\n",
       "      <td>NaN</td>\n",
       "      <td>NaN</td>\n",
       "      <td>256229</td>\n",
       "      <td>451</td>\n",
       "      <td>27898</td>\n",
       "      <td>9.82%</td>\n",
       "      <td>categorical</td>\n",
       "    </tr>\n",
       "    <tr>\n",
       "      <th>hours_sunlight</th>\n",
       "      <td>NaN</td>\n",
       "      <td>NaN</td>\n",
       "      <td>NaN</td>\n",
       "      <td>NaN</td>\n",
       "      <td>NaN</td>\n",
       "      <td>NaN</td>\n",
       "      <td>NaN</td>\n",
       "      <td>NaN</td>\n",
       "      <td>244040</td>\n",
       "      <td>147</td>\n",
       "      <td>40087</td>\n",
       "      <td>14.11%</td>\n",
       "      <td>categorical</td>\n",
       "    </tr>\n",
       "    <tr>\n",
       "      <th>solar_radiation</th>\n",
       "      <td>NaN</td>\n",
       "      <td>NaN</td>\n",
       "      <td>NaN</td>\n",
       "      <td>NaN</td>\n",
       "      <td>NaN</td>\n",
       "      <td>NaN</td>\n",
       "      <td>NaN</td>\n",
       "      <td>NaN</td>\n",
       "      <td>211777</td>\n",
       "      <td>2473</td>\n",
       "      <td>72350</td>\n",
       "      <td>25.46%</td>\n",
       "      <td>categorical</td>\n",
       "    </tr>\n",
       "    <tr>\n",
       "      <th>total_snowfall</th>\n",
       "      <td>NaN</td>\n",
       "      <td>NaN</td>\n",
       "      <td>NaN</td>\n",
       "      <td>NaN</td>\n",
       "      <td>NaN</td>\n",
       "      <td>NaN</td>\n",
       "      <td>NaN</td>\n",
       "      <td>NaN</td>\n",
       "      <td>211657</td>\n",
       "      <td>101</td>\n",
       "      <td>72470</td>\n",
       "      <td>25.51%</td>\n",
       "      <td>categorical</td>\n",
       "    </tr>\n",
       "    <tr>\n",
       "      <th>avg_humidity</th>\n",
       "      <td>NaN</td>\n",
       "      <td>NaN</td>\n",
       "      <td>NaN</td>\n",
       "      <td>NaN</td>\n",
       "      <td>NaN</td>\n",
       "      <td>NaN</td>\n",
       "      <td>NaN</td>\n",
       "      <td>NaN</td>\n",
       "      <td>210243</td>\n",
       "      <td>75</td>\n",
       "      <td>73884</td>\n",
       "      <td>26.00%</td>\n",
       "      <td>categorical</td>\n",
       "    </tr>\n",
       "    <tr>\n",
       "      <th>day_of_week</th>\n",
       "      <td>NaN</td>\n",
       "      <td>NaN</td>\n",
       "      <td>NaN</td>\n",
       "      <td>NaN</td>\n",
       "      <td>NaN</td>\n",
       "      <td>NaN</td>\n",
       "      <td>NaN</td>\n",
       "      <td>NaN</td>\n",
       "      <td>284127</td>\n",
       "      <td>7</td>\n",
       "      <td>0</td>\n",
       "      <td>0%</td>\n",
       "      <td>categorical</td>\n",
       "    </tr>\n",
       "    <tr>\n",
       "      <th>holiday_flg</th>\n",
       "      <td>284127</td>\n",
       "      <td>0.0565205</td>\n",
       "      <td>0.230924</td>\n",
       "      <td>0</td>\n",
       "      <td>0</td>\n",
       "      <td>0</td>\n",
       "      <td>0</td>\n",
       "      <td>1</td>\n",
       "      <td>284127</td>\n",
       "      <td>2</td>\n",
       "      <td>0</td>\n",
       "      <td>0%</td>\n",
       "      <td>bool</td>\n",
       "    </tr>\n",
       "    <tr>\n",
       "      <th>af_holiday_flg</th>\n",
       "      <td>284127</td>\n",
       "      <td>16.9968</td>\n",
       "      <td>14.8318</td>\n",
       "      <td>0</td>\n",
       "      <td>6</td>\n",
       "      <td>14</td>\n",
       "      <td>24</td>\n",
       "      <td>73</td>\n",
       "      <td>284127</td>\n",
       "      <td>74</td>\n",
       "      <td>0</td>\n",
       "      <td>0%</td>\n",
       "      <td>numeric</td>\n",
       "    </tr>\n",
       "    <tr>\n",
       "      <th>be_holiday_flg</th>\n",
       "      <td>284127</td>\n",
       "      <td>-13.3456</td>\n",
       "      <td>14.7434</td>\n",
       "      <td>-73</td>\n",
       "      <td>-22</td>\n",
       "      <td>-12</td>\n",
       "      <td>-3</td>\n",
       "      <td>26</td>\n",
       "      <td>284127</td>\n",
       "      <td>100</td>\n",
       "      <td>0</td>\n",
       "      <td>0%</td>\n",
       "      <td>numeric</td>\n",
       "    </tr>\n",
       "    <tr>\n",
       "      <th>dur_time_holiday_flg</th>\n",
       "      <td>284127</td>\n",
       "      <td>0.0874363</td>\n",
       "      <td>0.429713</td>\n",
       "      <td>0</td>\n",
       "      <td>0</td>\n",
       "      <td>0</td>\n",
       "      <td>0</td>\n",
       "      <td>6</td>\n",
       "      <td>284127</td>\n",
       "      <td>7</td>\n",
       "      <td>0</td>\n",
       "      <td>0%</td>\n",
       "      <td>numeric</td>\n",
       "    </tr>\n",
       "    <tr>\n",
       "      <th>dur_holiday_flg</th>\n",
       "      <td>284127</td>\n",
       "      <td>0.131483</td>\n",
       "      <td>0.672098</td>\n",
       "      <td>0</td>\n",
       "      <td>0</td>\n",
       "      <td>0</td>\n",
       "      <td>0</td>\n",
       "      <td>6</td>\n",
       "      <td>284127</td>\n",
       "      <td>5</td>\n",
       "      <td>0</td>\n",
       "      <td>0%</td>\n",
       "      <td>numeric</td>\n",
       "    </tr>\n",
       "    <tr>\n",
       "      <th>dur_prog_holiday_flg</th>\n",
       "      <td>284127</td>\n",
       "      <td>0.0458697</td>\n",
       "      <td>0.199082</td>\n",
       "      <td>0</td>\n",
       "      <td>0</td>\n",
       "      <td>0</td>\n",
       "      <td>0</td>\n",
       "      <td>1</td>\n",
       "      <td>284127</td>\n",
       "      <td>7</td>\n",
       "      <td>0</td>\n",
       "      <td>0%</td>\n",
       "      <td>numeric</td>\n",
       "    </tr>\n",
       "    <tr>\n",
       "      <th>genre_name</th>\n",
       "      <td>NaN</td>\n",
       "      <td>NaN</td>\n",
       "      <td>NaN</td>\n",
       "      <td>NaN</td>\n",
       "      <td>NaN</td>\n",
       "      <td>NaN</td>\n",
       "      <td>NaN</td>\n",
       "      <td>NaN</td>\n",
       "      <td>284127</td>\n",
       "      <td>14</td>\n",
       "      <td>0</td>\n",
       "      <td>0%</td>\n",
       "      <td>categorical</td>\n",
       "    </tr>\n",
       "    <tr>\n",
       "      <th>area_name</th>\n",
       "      <td>NaN</td>\n",
       "      <td>NaN</td>\n",
       "      <td>NaN</td>\n",
       "      <td>NaN</td>\n",
       "      <td>NaN</td>\n",
       "      <td>NaN</td>\n",
       "      <td>NaN</td>\n",
       "      <td>NaN</td>\n",
       "      <td>284127</td>\n",
       "      <td>103</td>\n",
       "      <td>0</td>\n",
       "      <td>0%</td>\n",
       "      <td>categorical</td>\n",
       "    </tr>\n",
       "    <tr>\n",
       "      <th>hpg_genre_name</th>\n",
       "      <td>NaN</td>\n",
       "      <td>NaN</td>\n",
       "      <td>NaN</td>\n",
       "      <td>NaN</td>\n",
       "      <td>NaN</td>\n",
       "      <td>NaN</td>\n",
       "      <td>NaN</td>\n",
       "      <td>NaN</td>\n",
       "      <td>22555</td>\n",
       "      <td>16</td>\n",
       "      <td>261572</td>\n",
       "      <td>92.06%</td>\n",
       "      <td>categorical</td>\n",
       "    </tr>\n",
       "    <tr>\n",
       "      <th>hpg_area_name</th>\n",
       "      <td>NaN</td>\n",
       "      <td>NaN</td>\n",
       "      <td>NaN</td>\n",
       "      <td>NaN</td>\n",
       "      <td>NaN</td>\n",
       "      <td>NaN</td>\n",
       "      <td>NaN</td>\n",
       "      <td>NaN</td>\n",
       "      <td>22555</td>\n",
       "      <td>33</td>\n",
       "      <td>261572</td>\n",
       "      <td>92.06%</td>\n",
       "      <td>categorical</td>\n",
       "    </tr>\n",
       "    <tr>\n",
       "      <th>air_loc</th>\n",
       "      <td>NaN</td>\n",
       "      <td>NaN</td>\n",
       "      <td>NaN</td>\n",
       "      <td>NaN</td>\n",
       "      <td>NaN</td>\n",
       "      <td>NaN</td>\n",
       "      <td>NaN</td>\n",
       "      <td>NaN</td>\n",
       "      <td>284127</td>\n",
       "      <td>108</td>\n",
       "      <td>0</td>\n",
       "      <td>0%</td>\n",
       "      <td>categorical</td>\n",
       "    </tr>\n",
       "    <tr>\n",
       "      <th>hpg_loc</th>\n",
       "      <td>NaN</td>\n",
       "      <td>NaN</td>\n",
       "      <td>NaN</td>\n",
       "      <td>NaN</td>\n",
       "      <td>NaN</td>\n",
       "      <td>NaN</td>\n",
       "      <td>NaN</td>\n",
       "      <td>NaN</td>\n",
       "      <td>284127</td>\n",
       "      <td>35</td>\n",
       "      <td>0</td>\n",
       "      <td>0%</td>\n",
       "      <td>categorical</td>\n",
       "    </tr>\n",
       "    <tr>\n",
       "      <th>stores_in_air_loc</th>\n",
       "      <td>284127</td>\n",
       "      <td>23.1118</td>\n",
       "      <td>19.8978</td>\n",
       "      <td>2</td>\n",
       "      <td>6</td>\n",
       "      <td>17</td>\n",
       "      <td>39</td>\n",
       "      <td>62</td>\n",
       "      <td>284127</td>\n",
       "      <td>25</td>\n",
       "      <td>0</td>\n",
       "      <td>0%</td>\n",
       "      <td>numeric</td>\n",
       "    </tr>\n",
       "    <tr>\n",
       "      <th>stores_in_hpg_loc</th>\n",
       "      <td>284127</td>\n",
       "      <td>705.394</td>\n",
       "      <td>206.391</td>\n",
       "      <td>1</td>\n",
       "      <td>766</td>\n",
       "      <td>766</td>\n",
       "      <td>766</td>\n",
       "      <td>766</td>\n",
       "      <td>284127</td>\n",
       "      <td>6</td>\n",
       "      <td>0</td>\n",
       "      <td>0%</td>\n",
       "      <td>numeric</td>\n",
       "    </tr>\n",
       "    <tr>\n",
       "      <th>stores_in_area_name</th>\n",
       "      <td>284127</td>\n",
       "      <td>23.7168</td>\n",
       "      <td>20.1683</td>\n",
       "      <td>2</td>\n",
       "      <td>6</td>\n",
       "      <td>19</td>\n",
       "      <td>39</td>\n",
       "      <td>64</td>\n",
       "      <td>284127</td>\n",
       "      <td>26</td>\n",
       "      <td>0</td>\n",
       "      <td>0%</td>\n",
       "      <td>numeric</td>\n",
       "    </tr>\n",
       "    <tr>\n",
       "      <th>stores_in_hpg_area_name</th>\n",
       "      <td>22555</td>\n",
       "      <td>2.57947</td>\n",
       "      <td>1.40368</td>\n",
       "      <td>1</td>\n",
       "      <td>1</td>\n",
       "      <td>2</td>\n",
       "      <td>4</td>\n",
       "      <td>5</td>\n",
       "      <td>22555</td>\n",
       "      <td>5</td>\n",
       "      <td>261572</td>\n",
       "      <td>92.06%</td>\n",
       "      <td>numeric</td>\n",
       "    </tr>\n",
       "    <tr>\n",
       "      <th>min_visits_in_area_name</th>\n",
       "      <td>284127</td>\n",
       "      <td>1.02814</td>\n",
       "      <td>0.305514</td>\n",
       "      <td>1</td>\n",
       "      <td>1</td>\n",
       "      <td>1</td>\n",
       "      <td>1</td>\n",
       "      <td>6</td>\n",
       "      <td>284127</td>\n",
       "      <td>3</td>\n",
       "      <td>0</td>\n",
       "      <td>0%</td>\n",
       "      <td>numeric</td>\n",
       "    </tr>\n",
       "    <tr>\n",
       "      <th>max_visits_in_area_name</th>\n",
       "      <td>284127</td>\n",
       "      <td>235.099</td>\n",
       "      <td>170.58</td>\n",
       "      <td>29</td>\n",
       "      <td>119</td>\n",
       "      <td>199</td>\n",
       "      <td>269</td>\n",
       "      <td>877</td>\n",
       "      <td>284127</td>\n",
       "      <td>84</td>\n",
       "      <td>0</td>\n",
       "      <td>0%</td>\n",
       "      <td>numeric</td>\n",
       "    </tr>\n",
       "    <tr>\n",
       "      <th>mean_visits_in_area_name</th>\n",
       "      <td>284127</td>\n",
       "      <td>20.9751</td>\n",
       "      <td>3.98036</td>\n",
       "      <td>4.47521</td>\n",
       "      <td>19.5731</td>\n",
       "      <td>20.6679</td>\n",
       "      <td>23.0088</td>\n",
       "      <td>39.2757</td>\n",
       "      <td>284127</td>\n",
       "      <td>103</td>\n",
       "      <td>0</td>\n",
       "      <td>0%</td>\n",
       "      <td>numeric</td>\n",
       "    </tr>\n",
       "    <tr>\n",
       "      <th>std_visits_in_area_name</th>\n",
       "      <td>284127</td>\n",
       "      <td>15.97</td>\n",
       "      <td>3.17338</td>\n",
       "      <td>4.09026</td>\n",
       "      <td>14.7378</td>\n",
       "      <td>16.3517</td>\n",
       "      <td>16.846</td>\n",
       "      <td>32.18</td>\n",
       "      <td>284127</td>\n",
       "      <td>103</td>\n",
       "      <td>0</td>\n",
       "      <td>0%</td>\n",
       "      <td>numeric</td>\n",
       "    </tr>\n",
       "    <tr>\n",
       "      <th>min_visits_in_air_loc</th>\n",
       "      <td>284127</td>\n",
       "      <td>1.02814</td>\n",
       "      <td>0.305514</td>\n",
       "      <td>1</td>\n",
       "      <td>1</td>\n",
       "      <td>1</td>\n",
       "      <td>1</td>\n",
       "      <td>6</td>\n",
       "      <td>284127</td>\n",
       "      <td>3</td>\n",
       "      <td>0</td>\n",
       "      <td>0%</td>\n",
       "      <td>numeric</td>\n",
       "    </tr>\n",
       "    <tr>\n",
       "      <th>max_visits_in_air_loc</th>\n",
       "      <td>284127</td>\n",
       "      <td>229.636</td>\n",
       "      <td>164.063</td>\n",
       "      <td>29</td>\n",
       "      <td>119</td>\n",
       "      <td>199</td>\n",
       "      <td>269</td>\n",
       "      <td>877</td>\n",
       "      <td>284127</td>\n",
       "      <td>88</td>\n",
       "      <td>0</td>\n",
       "      <td>0%</td>\n",
       "      <td>numeric</td>\n",
       "    </tr>\n",
       "    <tr>\n",
       "      <th>mean_visits_in_air_loc</th>\n",
       "      <td>284127</td>\n",
       "      <td>20.9754</td>\n",
       "      <td>4.09266</td>\n",
       "      <td>4.47521</td>\n",
       "      <td>19.5731</td>\n",
       "      <td>20.466</td>\n",
       "      <td>22.9197</td>\n",
       "      <td>39.2757</td>\n",
       "      <td>284127</td>\n",
       "      <td>108</td>\n",
       "      <td>0</td>\n",
       "      <td>0%</td>\n",
       "      <td>numeric</td>\n",
       "    </tr>\n",
       "    <tr>\n",
       "      <th>std_visits_in_air_loc</th>\n",
       "      <td>284127</td>\n",
       "      <td>15.9331</td>\n",
       "      <td>3.21465</td>\n",
       "      <td>4.09026</td>\n",
       "      <td>14.8014</td>\n",
       "      <td>16.3517</td>\n",
       "      <td>16.792</td>\n",
       "      <td>32.18</td>\n",
       "      <td>284127</td>\n",
       "      <td>108</td>\n",
       "      <td>0</td>\n",
       "      <td>0%</td>\n",
       "      <td>numeric</td>\n",
       "    </tr>\n",
       "  </tbody>\n",
       "</table>\n",
       "<p>116 rows × 13 columns</p>\n",
       "</div>"
      ],
      "text/plain": [
       "                                                  count         mean  \\\n",
       "air_store_id                                        NaN          NaN   \n",
       "visit_date                                          NaN          NaN   \n",
       "visitors                                         284127      20.9954   \n",
       "visit_Year                                       284127      2016.39   \n",
       "visit_Month                                      284127      6.04893   \n",
       "visit_Week                                       284127      24.3421   \n",
       "visit_Day                                        284127      15.8805   \n",
       "visit_Dayofweek                                  284127      3.00879   \n",
       "visit_Dayofyear                                  284127      169.193   \n",
       "visit_Is_month_end                                  NaN          NaN   \n",
       "visit_Is_month_start                                NaN          NaN   \n",
       "visit_Is_quarter_end                                NaN          NaN   \n",
       "visit_Is_quarter_start                              NaN          NaN   \n",
       "visit_Is_year_end                                   NaN          NaN   \n",
       "visit_Is_year_start                                 NaN          NaN   \n",
       "visit_Elapsed                                    284127  1.47834e+09   \n",
       "rolling_air_store_id_visit_Dayofweek_30d_mean    278328      20.9617   \n",
       "rolling_air_store_id_visit_Dayofweek_30d_min     278328      12.9322   \n",
       "rolling_air_store_id_visit_Dayofweek_30d_max     278328      30.3003   \n",
       "rolling_air_store_id_visit_Dayofweek_30d_std     270808        7.565   \n",
       "rolling_air_store_id_visit_Dayofweek_30d_skew    258668      -985965   \n",
       "rolling_air_store_id_visit_Dayofweek_30d_cnt     278328      4.53558   \n",
       "rolling_air_store_id_visit_Dayofweek_30d_median  278328      20.3762   \n",
       "rolling_air_store_id_visit_Dayofweek_60d_std     271808      8.16061   \n",
       "rolling_air_store_id_visit_Dayofweek_60d_min     278328       10.836   \n",
       "rolling_air_store_id_visit_Dayofweek_60d_max     278328      33.9107   \n",
       "rolling_air_store_id_visit_Dayofweek_60d_cnt     278328      7.76611   \n",
       "rolling_air_store_id_visit_Dayofweek_60d_skew    264188      -188394   \n",
       "rolling_air_store_id_visit_Dayofweek_60d_median  278328      20.2297   \n",
       "rolling_air_store_id_visit_Dayofweek_60d_mean    278328       20.954   \n",
       "...                                                 ...          ...   \n",
       "avg_temperature                                     NaN          NaN   \n",
       "hours_sunlight                                      NaN          NaN   \n",
       "solar_radiation                                     NaN          NaN   \n",
       "total_snowfall                                      NaN          NaN   \n",
       "avg_humidity                                        NaN          NaN   \n",
       "day_of_week                                         NaN          NaN   \n",
       "holiday_flg                                      284127    0.0565205   \n",
       "af_holiday_flg                                   284127      16.9968   \n",
       "be_holiday_flg                                   284127     -13.3456   \n",
       "dur_time_holiday_flg                             284127    0.0874363   \n",
       "dur_holiday_flg                                  284127     0.131483   \n",
       "dur_prog_holiday_flg                             284127    0.0458697   \n",
       "genre_name                                          NaN          NaN   \n",
       "area_name                                           NaN          NaN   \n",
       "hpg_genre_name                                      NaN          NaN   \n",
       "hpg_area_name                                       NaN          NaN   \n",
       "air_loc                                             NaN          NaN   \n",
       "hpg_loc                                             NaN          NaN   \n",
       "stores_in_air_loc                                284127      23.1118   \n",
       "stores_in_hpg_loc                                284127      705.394   \n",
       "stores_in_area_name                              284127      23.7168   \n",
       "stores_in_hpg_area_name                           22555      2.57947   \n",
       "min_visits_in_area_name                          284127      1.02814   \n",
       "max_visits_in_area_name                          284127      235.099   \n",
       "mean_visits_in_area_name                         284127      20.9751   \n",
       "std_visits_in_area_name                          284127        15.97   \n",
       "min_visits_in_air_loc                            284127      1.02814   \n",
       "max_visits_in_air_loc                            284127      229.636   \n",
       "mean_visits_in_air_loc                           284127      20.9754   \n",
       "std_visits_in_air_loc                            284127      15.9331   \n",
       "\n",
       "                                                         std          min  \\\n",
       "air_store_id                                             NaN          NaN   \n",
       "visit_date                                               NaN          NaN   \n",
       "visitors                                             16.2725            1   \n",
       "visit_Year                                          0.486765         2016   \n",
       "visit_Month                                          3.49801            1   \n",
       "visit_Week                                           15.2024            1   \n",
       "visit_Day                                            8.75665            1   \n",
       "visit_Dayofweek                                        1.938            0   \n",
       "visit_Dayofyear                                      106.982            1   \n",
       "visit_Is_month_end                                       NaN          NaN   \n",
       "visit_Is_month_start                                     NaN          NaN   \n",
       "visit_Is_quarter_end                                     NaN          NaN   \n",
       "visit_Is_quarter_start                                   NaN          NaN   \n",
       "visit_Is_year_end                                        NaN          NaN   \n",
       "visit_Is_year_start                                      NaN          NaN   \n",
       "visit_Elapsed                                    1.15735e+07  1.45161e+09   \n",
       "rolling_air_store_id_visit_Dayofweek_30d_mean        13.9095            1   \n",
       "rolling_air_store_id_visit_Dayofweek_30d_min         11.3656            1   \n",
       "rolling_air_store_id_visit_Dayofweek_30d_max         20.9848            1   \n",
       "rolling_air_store_id_visit_Dayofweek_30d_std         7.05731            0   \n",
       "rolling_air_store_id_visit_Dayofweek_30d_skew     2.6687e+07 -6.27374e+09   \n",
       "rolling_air_store_id_visit_Dayofweek_30d_cnt         0.93311            1   \n",
       "rolling_air_store_id_visit_Dayofweek_30d_median      13.9722            1   \n",
       "rolling_air_store_id_visit_Dayofweek_60d_std         6.77712            0   \n",
       "rolling_air_store_id_visit_Dayofweek_60d_min         10.3311            1   \n",
       "rolling_air_store_id_visit_Dayofweek_60d_max         23.3513            1   \n",
       "rolling_air_store_id_visit_Dayofweek_60d_cnt         2.03344            1   \n",
       "rolling_air_store_id_visit_Dayofweek_60d_skew    8.50414e+06 -8.51013e+08   \n",
       "rolling_air_store_id_visit_Dayofweek_60d_median      13.6535            1   \n",
       "rolling_air_store_id_visit_Dayofweek_60d_mean        13.5661            1   \n",
       "...                                                      ...          ...   \n",
       "avg_temperature                                          NaN          NaN   \n",
       "hours_sunlight                                           NaN          NaN   \n",
       "solar_radiation                                          NaN          NaN   \n",
       "total_snowfall                                           NaN          NaN   \n",
       "avg_humidity                                             NaN          NaN   \n",
       "day_of_week                                              NaN          NaN   \n",
       "holiday_flg                                         0.230924            0   \n",
       "af_holiday_flg                                       14.8318            0   \n",
       "be_holiday_flg                                       14.7434          -73   \n",
       "dur_time_holiday_flg                                0.429713            0   \n",
       "dur_holiday_flg                                     0.672098            0   \n",
       "dur_prog_holiday_flg                                0.199082            0   \n",
       "genre_name                                               NaN          NaN   \n",
       "area_name                                                NaN          NaN   \n",
       "hpg_genre_name                                           NaN          NaN   \n",
       "hpg_area_name                                            NaN          NaN   \n",
       "air_loc                                                  NaN          NaN   \n",
       "hpg_loc                                                  NaN          NaN   \n",
       "stores_in_air_loc                                    19.8978            2   \n",
       "stores_in_hpg_loc                                    206.391            1   \n",
       "stores_in_area_name                                  20.1683            2   \n",
       "stores_in_hpg_area_name                              1.40368            1   \n",
       "min_visits_in_area_name                             0.305514            1   \n",
       "max_visits_in_area_name                               170.58           29   \n",
       "mean_visits_in_area_name                             3.98036      4.47521   \n",
       "std_visits_in_area_name                              3.17338      4.09026   \n",
       "min_visits_in_air_loc                               0.305514            1   \n",
       "max_visits_in_air_loc                                164.063           29   \n",
       "mean_visits_in_air_loc                               4.09266      4.47521   \n",
       "std_visits_in_air_loc                                3.21465      4.09026   \n",
       "\n",
       "                                                         25%          50%  \\\n",
       "air_store_id                                             NaN          NaN   \n",
       "visit_date                                               NaN          NaN   \n",
       "visitors                                                   9           17   \n",
       "visit_Year                                              2016         2016   \n",
       "visit_Month                                                3            5   \n",
       "visit_Week                                                11           21   \n",
       "visit_Day                                                  8           16   \n",
       "visit_Dayofweek                                            1            3   \n",
       "visit_Dayofyear                                           77          145   \n",
       "visit_Is_month_end                                       NaN          NaN   \n",
       "visit_Is_month_start                                     NaN          NaN   \n",
       "visit_Is_quarter_end                                     NaN          NaN   \n",
       "visit_Is_quarter_start                                   NaN          NaN   \n",
       "visit_Is_year_end                                        NaN          NaN   \n",
       "visit_Is_year_start                                      NaN          NaN   \n",
       "visit_Elapsed                                    1.47018e+09  1.47917e+09   \n",
       "rolling_air_store_id_visit_Dayofweek_30d_mean        10.4812         17.8   \n",
       "rolling_air_store_id_visit_Dayofweek_30d_min               4           10   \n",
       "rolling_air_store_id_visit_Dayofweek_30d_max              16           26   \n",
       "rolling_air_store_id_visit_Dayofweek_30d_std         3.63318      6.10737   \n",
       "rolling_air_store_id_visit_Dayofweek_30d_skew      -0.515361     0.234565   \n",
       "rolling_air_store_id_visit_Dayofweek_30d_cnt               4            5   \n",
       "rolling_air_store_id_visit_Dayofweek_30d_median           10           17   \n",
       "rolling_air_store_id_visit_Dayofweek_60d_std         4.37015      6.81711   \n",
       "rolling_air_store_id_visit_Dayofweek_60d_min               3            8   \n",
       "rolling_air_store_id_visit_Dayofweek_60d_max              18           30   \n",
       "rolling_air_store_id_visit_Dayofweek_60d_cnt               8            9   \n",
       "rolling_air_store_id_visit_Dayofweek_60d_skew      -0.239337     0.330751   \n",
       "rolling_air_store_id_visit_Dayofweek_60d_median           10           17   \n",
       "rolling_air_store_id_visit_Dayofweek_60d_mean        10.6667           18   \n",
       "...                                                      ...          ...   \n",
       "avg_temperature                                          NaN          NaN   \n",
       "hours_sunlight                                           NaN          NaN   \n",
       "solar_radiation                                          NaN          NaN   \n",
       "total_snowfall                                           NaN          NaN   \n",
       "avg_humidity                                             NaN          NaN   \n",
       "day_of_week                                              NaN          NaN   \n",
       "holiday_flg                                                0            0   \n",
       "af_holiday_flg                                             6           14   \n",
       "be_holiday_flg                                           -22          -12   \n",
       "dur_time_holiday_flg                                       0            0   \n",
       "dur_holiday_flg                                            0            0   \n",
       "dur_prog_holiday_flg                                       0            0   \n",
       "genre_name                                               NaN          NaN   \n",
       "area_name                                                NaN          NaN   \n",
       "hpg_genre_name                                           NaN          NaN   \n",
       "hpg_area_name                                            NaN          NaN   \n",
       "air_loc                                                  NaN          NaN   \n",
       "hpg_loc                                                  NaN          NaN   \n",
       "stores_in_air_loc                                          6           17   \n",
       "stores_in_hpg_loc                                        766          766   \n",
       "stores_in_area_name                                        6           19   \n",
       "stores_in_hpg_area_name                                    1            2   \n",
       "min_visits_in_area_name                                    1            1   \n",
       "max_visits_in_area_name                                  119          199   \n",
       "mean_visits_in_area_name                             19.5731      20.6679   \n",
       "std_visits_in_area_name                              14.7378      16.3517   \n",
       "min_visits_in_air_loc                                      1            1   \n",
       "max_visits_in_air_loc                                    119          199   \n",
       "mean_visits_in_air_loc                               19.5731       20.466   \n",
       "std_visits_in_air_loc                                14.8014      16.3517   \n",
       "\n",
       "                                                         75%          max  \\\n",
       "air_store_id                                             NaN          NaN   \n",
       "visit_date                                               NaN          NaN   \n",
       "visitors                                                  29          877   \n",
       "visit_Year                                              2017         2017   \n",
       "visit_Month                                                9           12   \n",
       "visit_Week                                                38           53   \n",
       "visit_Day                                                 23           31   \n",
       "visit_Dayofweek                                            5            6   \n",
       "visit_Dayofyear                                          264          366   \n",
       "visit_Is_month_end                                       NaN          NaN   \n",
       "visit_Is_month_start                                     NaN          NaN   \n",
       "visit_Is_quarter_end                                     NaN          NaN   \n",
       "visit_Is_quarter_start                                   NaN          NaN   \n",
       "visit_Is_year_end                                        NaN          NaN   \n",
       "visit_Is_year_start                                      NaN          NaN   \n",
       "visit_Elapsed                                    1.48815e+09  1.49619e+09   \n",
       "rolling_air_store_id_visit_Dayofweek_30d_mean           28.4          372   \n",
       "rolling_air_store_id_visit_Dayofweek_30d_min              18          372   \n",
       "rolling_air_store_id_visit_Dayofweek_30d_max              40          877   \n",
       "rolling_air_store_id_visit_Dayofweek_30d_std         9.70985       449.72   \n",
       "rolling_air_store_id_visit_Dayofweek_30d_skew       0.988727  5.56583e+09   \n",
       "rolling_air_store_id_visit_Dayofweek_30d_cnt               5            5   \n",
       "rolling_air_store_id_visit_Dayofweek_30d_median           28          372   \n",
       "rolling_air_store_id_visit_Dayofweek_60d_std         10.2713       449.72   \n",
       "rolling_air_store_id_visit_Dayofweek_60d_min              15          372   \n",
       "rolling_air_store_id_visit_Dayofweek_60d_max              45          877   \n",
       "rolling_air_store_id_visit_Dayofweek_60d_cnt               9            9   \n",
       "rolling_air_store_id_visit_Dayofweek_60d_skew       0.940179  3.23229e+08   \n",
       "rolling_air_store_id_visit_Dayofweek_60d_median         27.5          372   \n",
       "rolling_air_store_id_visit_Dayofweek_60d_mean        28.2281          372   \n",
       "...                                                      ...          ...   \n",
       "avg_temperature                                          NaN          NaN   \n",
       "hours_sunlight                                           NaN          NaN   \n",
       "solar_radiation                                          NaN          NaN   \n",
       "total_snowfall                                           NaN          NaN   \n",
       "avg_humidity                                             NaN          NaN   \n",
       "day_of_week                                              NaN          NaN   \n",
       "holiday_flg                                                0            1   \n",
       "af_holiday_flg                                            24           73   \n",
       "be_holiday_flg                                            -3           26   \n",
       "dur_time_holiday_flg                                       0            6   \n",
       "dur_holiday_flg                                            0            6   \n",
       "dur_prog_holiday_flg                                       0            1   \n",
       "genre_name                                               NaN          NaN   \n",
       "area_name                                                NaN          NaN   \n",
       "hpg_genre_name                                           NaN          NaN   \n",
       "hpg_area_name                                            NaN          NaN   \n",
       "air_loc                                                  NaN          NaN   \n",
       "hpg_loc                                                  NaN          NaN   \n",
       "stores_in_air_loc                                         39           62   \n",
       "stores_in_hpg_loc                                        766          766   \n",
       "stores_in_area_name                                       39           64   \n",
       "stores_in_hpg_area_name                                    4            5   \n",
       "min_visits_in_area_name                                    1            6   \n",
       "max_visits_in_area_name                                  269          877   \n",
       "mean_visits_in_area_name                             23.0088      39.2757   \n",
       "std_visits_in_area_name                               16.846        32.18   \n",
       "min_visits_in_air_loc                                      1            6   \n",
       "max_visits_in_air_loc                                    269          877   \n",
       "mean_visits_in_air_loc                               22.9197      39.2757   \n",
       "std_visits_in_air_loc                                 16.792        32.18   \n",
       "\n",
       "                                                 counts uniques missing  \\\n",
       "air_store_id                                     284127     829       0   \n",
       "visit_date                                       284127     517       0   \n",
       "visitors                                         284127    1019       0   \n",
       "visit_Year                                       284127       2       0   \n",
       "visit_Month                                      284127      12       0   \n",
       "visit_Week                                       284127      53       0   \n",
       "visit_Day                                        284127      31       0   \n",
       "visit_Dayofweek                                  284127       7       0   \n",
       "visit_Dayofyear                                  284127     366       0   \n",
       "visit_Is_month_end                               284127       2       0   \n",
       "visit_Is_month_start                             284127       2       0   \n",
       "visit_Is_quarter_end                             284127       2       0   \n",
       "visit_Is_quarter_start                           284127       2       0   \n",
       "visit_Is_year_end                                284127       2       0   \n",
       "visit_Is_year_start                              284127       2       0   \n",
       "visit_Elapsed                                    284127     517       0   \n",
       "rolling_air_store_id_visit_Dayofweek_30d_mean    278328   22320    5799   \n",
       "rolling_air_store_id_visit_Dayofweek_30d_min     278328     936    5799   \n",
       "rolling_air_store_id_visit_Dayofweek_30d_max     278328    1019    5799   \n",
       "rolling_air_store_id_visit_Dayofweek_30d_std     270808   96258   13319   \n",
       "rolling_air_store_id_visit_Dayofweek_30d_skew    258668  148593   25459   \n",
       "rolling_air_store_id_visit_Dayofweek_30d_cnt     278328       5    5799   \n",
       "rolling_air_store_id_visit_Dayofweek_30d_median  278328    1793    5799   \n",
       "rolling_air_store_id_visit_Dayofweek_60d_std     271808  125850   12319   \n",
       "rolling_air_store_id_visit_Dayofweek_60d_min     278328     720    5799   \n",
       "rolling_air_store_id_visit_Dayofweek_60d_max     278328     932    5799   \n",
       "rolling_air_store_id_visit_Dayofweek_60d_cnt     278328       9    5799   \n",
       "rolling_air_store_id_visit_Dayofweek_60d_skew    264188  236459   19939   \n",
       "rolling_air_store_id_visit_Dayofweek_60d_median  278328    2185    5799   \n",
       "rolling_air_store_id_visit_Dayofweek_60d_mean    278328   27070    5799   \n",
       "...                                                 ...     ...     ...   \n",
       "avg_temperature                                  256229     451   27898   \n",
       "hours_sunlight                                   244040     147   40087   \n",
       "solar_radiation                                  211777    2473   72350   \n",
       "total_snowfall                                   211657     101   72470   \n",
       "avg_humidity                                     210243      75   73884   \n",
       "day_of_week                                      284127       7       0   \n",
       "holiday_flg                                      284127       2       0   \n",
       "af_holiday_flg                                   284127      74       0   \n",
       "be_holiday_flg                                   284127     100       0   \n",
       "dur_time_holiday_flg                             284127       7       0   \n",
       "dur_holiday_flg                                  284127       5       0   \n",
       "dur_prog_holiday_flg                             284127       7       0   \n",
       "genre_name                                       284127      14       0   \n",
       "area_name                                        284127     103       0   \n",
       "hpg_genre_name                                    22555      16  261572   \n",
       "hpg_area_name                                     22555      33  261572   \n",
       "air_loc                                          284127     108       0   \n",
       "hpg_loc                                          284127      35       0   \n",
       "stores_in_air_loc                                284127      25       0   \n",
       "stores_in_hpg_loc                                284127       6       0   \n",
       "stores_in_area_name                              284127      26       0   \n",
       "stores_in_hpg_area_name                           22555       5  261572   \n",
       "min_visits_in_area_name                          284127       3       0   \n",
       "max_visits_in_area_name                          284127      84       0   \n",
       "mean_visits_in_area_name                         284127     103       0   \n",
       "std_visits_in_area_name                          284127     103       0   \n",
       "min_visits_in_air_loc                            284127       3       0   \n",
       "max_visits_in_air_loc                            284127      88       0   \n",
       "mean_visits_in_air_loc                           284127     108       0   \n",
       "std_visits_in_air_loc                            284127     108       0   \n",
       "\n",
       "                                                missing_perc        types  \n",
       "air_store_id                                              0%  categorical  \n",
       "visit_date                                                0%  categorical  \n",
       "visitors                                                  0%      numeric  \n",
       "visit_Year                                                0%         bool  \n",
       "visit_Month                                               0%      numeric  \n",
       "visit_Week                                                0%      numeric  \n",
       "visit_Day                                                 0%      numeric  \n",
       "visit_Dayofweek                                           0%      numeric  \n",
       "visit_Dayofyear                                           0%      numeric  \n",
       "visit_Is_month_end                                        0%         bool  \n",
       "visit_Is_month_start                                      0%         bool  \n",
       "visit_Is_quarter_end                                      0%         bool  \n",
       "visit_Is_quarter_start                                    0%         bool  \n",
       "visit_Is_year_end                                         0%         bool  \n",
       "visit_Is_year_start                                       0%         bool  \n",
       "visit_Elapsed                                             0%      numeric  \n",
       "rolling_air_store_id_visit_Dayofweek_30d_mean          2.04%      numeric  \n",
       "rolling_air_store_id_visit_Dayofweek_30d_min           2.04%      numeric  \n",
       "rolling_air_store_id_visit_Dayofweek_30d_max           2.04%      numeric  \n",
       "rolling_air_store_id_visit_Dayofweek_30d_std           4.69%      numeric  \n",
       "rolling_air_store_id_visit_Dayofweek_30d_skew          8.96%      numeric  \n",
       "rolling_air_store_id_visit_Dayofweek_30d_cnt           2.04%      numeric  \n",
       "rolling_air_store_id_visit_Dayofweek_30d_median        2.04%      numeric  \n",
       "rolling_air_store_id_visit_Dayofweek_60d_std           4.34%      numeric  \n",
       "rolling_air_store_id_visit_Dayofweek_60d_min           2.04%      numeric  \n",
       "rolling_air_store_id_visit_Dayofweek_60d_max           2.04%      numeric  \n",
       "rolling_air_store_id_visit_Dayofweek_60d_cnt           2.04%      numeric  \n",
       "rolling_air_store_id_visit_Dayofweek_60d_skew          7.02%      numeric  \n",
       "rolling_air_store_id_visit_Dayofweek_60d_median        2.04%      numeric  \n",
       "rolling_air_store_id_visit_Dayofweek_60d_mean          2.04%      numeric  \n",
       "...                                                      ...          ...  \n",
       "avg_temperature                                        9.82%  categorical  \n",
       "hours_sunlight                                        14.11%  categorical  \n",
       "solar_radiation                                       25.46%  categorical  \n",
       "total_snowfall                                        25.51%  categorical  \n",
       "avg_humidity                                          26.00%  categorical  \n",
       "day_of_week                                               0%  categorical  \n",
       "holiday_flg                                               0%         bool  \n",
       "af_holiday_flg                                            0%      numeric  \n",
       "be_holiday_flg                                            0%      numeric  \n",
       "dur_time_holiday_flg                                      0%      numeric  \n",
       "dur_holiday_flg                                           0%      numeric  \n",
       "dur_prog_holiday_flg                                      0%      numeric  \n",
       "genre_name                                                0%  categorical  \n",
       "area_name                                                 0%  categorical  \n",
       "hpg_genre_name                                        92.06%  categorical  \n",
       "hpg_area_name                                         92.06%  categorical  \n",
       "air_loc                                                   0%  categorical  \n",
       "hpg_loc                                                   0%  categorical  \n",
       "stores_in_air_loc                                         0%      numeric  \n",
       "stores_in_hpg_loc                                         0%      numeric  \n",
       "stores_in_area_name                                       0%      numeric  \n",
       "stores_in_hpg_area_name                               92.06%      numeric  \n",
       "min_visits_in_area_name                                   0%      numeric  \n",
       "max_visits_in_area_name                                   0%      numeric  \n",
       "mean_visits_in_area_name                                  0%      numeric  \n",
       "std_visits_in_area_name                                   0%      numeric  \n",
       "min_visits_in_air_loc                                     0%      numeric  \n",
       "max_visits_in_air_loc                                     0%      numeric  \n",
       "mean_visits_in_air_loc                                    0%      numeric  \n",
       "std_visits_in_air_loc                                     0%      numeric  \n",
       "\n",
       "[116 rows x 13 columns]"
      ]
     },
     "execution_count": 77,
     "metadata": {},
     "output_type": "execute_result"
    }
   ],
   "source": [
    "DataFrameSummary(dataset).summary().T"
   ]
  },
  {
   "cell_type": "code",
   "execution_count": null,
   "metadata": {},
   "outputs": [],
   "source": []
  },
  {
   "cell_type": "code",
   "execution_count": null,
   "metadata": {},
   "outputs": [],
   "source": []
  },
  {
   "cell_type": "code",
   "execution_count": 70,
   "metadata": {},
   "outputs": [],
   "source": []
  },
  {
   "cell_type": "code",
   "execution_count": null,
   "metadata": {},
   "outputs": [],
   "source": []
  },
  {
   "cell_type": "code",
   "execution_count": null,
   "metadata": {},
   "outputs": [],
   "source": []
  },
  {
   "cell_type": "markdown",
   "metadata": {},
   "source": [
    "# Data split"
   ]
  },
  {
   "cell_type": "code",
   "execution_count": 15,
   "metadata": {},
   "outputs": [],
   "source": []
  },
  {
   "cell_type": "code",
   "execution_count": 104,
   "metadata": {},
   "outputs": [
    {
     "name": "stdout",
     "output_type": "stream",
     "text": [
      "air_reserve.csv        hpg_reserve.csv        train_set\r\n",
      "air_store_info.csv     hpg_store_info.csv     trn_like_data\r\n",
      "air_visit_data.csv     \u001b[34mmodels\u001b[m\u001b[m                 ts_prep.pkl\r\n",
      "cat_vars.pkl           sample_submission.csv  valid_set\r\n",
      "contin_vars.pkl        store_id_relation.csv  weather_data_merge.csv\r\n",
      "dataset                test_set\r\n",
      "date_info.csv          \u001b[34mtmp\u001b[m\u001b[m\r\n"
     ]
    }
   ],
   "source": [
    "!ls {PATH}"
   ]
  },
  {
   "cell_type": "code",
   "execution_count": 105,
   "metadata": {},
   "outputs": [],
   "source": [
    "dataset = pd.read_feather(f'{PATH}dataset')\n",
    "# test_set = pd.read_feather(f'{PATH}test_set')\n",
    "\n",
    "contin_vars = pickle.load(open(f'{PATH}contin_vars.pkl', 'rb'))\n",
    "cat_vars = pickle.load(open(f'{PATH}cat_vars.pkl','rb'))\n",
    "\n",
    "# ts_prep = pickle.load(open('{}ts_prep.pkl'.format(PATH), 'rb'))\n",
    "# train_set, cats, contins = utils.add_prop(train_set, ts_prep)\n",
    "# valid_set, *_ = utils.add_prop(valid_set, ts_prep)\n",
    "# test_set,*_ = utils.add_prop(test_set, ts_prep)\n",
    "# cat_vars.extend(cats)\n",
    "# contin_vars.extend(contins)"
   ]
  },
  {
   "cell_type": "code",
   "execution_count": 106,
   "metadata": {},
   "outputs": [],
   "source": [
    "def dataset_split(data_raw):\n",
    "    def split(df):\n",
    "        trn_len = int(np.floor(len(df) * 0.9))\n",
    "        valid_len = len(df) - trn_len\n",
    "        df['type'] = 0  #0 for train 1 for valid\n",
    "        indexs = df.index\n",
    "        df = df.reset_index()\n",
    "        df.loc[trn_len:, 'type'] =  1\n",
    "        return df\n",
    "    \n",
    "    test = pd.read_csv('{}sample_submission.csv'.format(PATH))\n",
    "    test_data = utils.tes2trn(test)\n",
    "    test_stores = test_data.air_store_id.unique()\n",
    "    data_raw.visit_date = data_raw.visit_date.astype('str')\n",
    "    test_data.visit_date = test_data.visit_date.astype('str')\n",
    "    test_set = data_raw[data_raw.visit_date.isin(test_data.visit_date.unique())]\n",
    "    data_raw = data_raw[~data_raw.visit_date.isin(test_data.visit_date.unique())]\n",
    "    data = data_raw[data_raw.air_store_id.isin(test_stores)]\n",
    "    tag_data = data.groupby('air_store_id').apply(split)\n",
    "    t = tag_data.set_index('index')\n",
    "    train_set = t[t.type == 0]\n",
    "    valid_set = t[t.type == 1]\n",
    "    train_set = train_set.reset_index().drop(['index', 'type'], axis=1)\n",
    "    valid_set = valid_set.reset_index().drop(['index', 'type'], axis=1)\n",
    "    return train_set, valid_set, test_set\n",
    "\n"
   ]
  },
  {
   "cell_type": "code",
   "execution_count": null,
   "metadata": {},
   "outputs": [],
   "source": []
  },
  {
   "cell_type": "code",
   "execution_count": 121,
   "metadata": {},
   "outputs": [],
   "source": [
    "train_set, valid_set, test_set = dataset_split(dataset)"
   ]
  },
  {
   "cell_type": "code",
   "execution_count": 136,
   "metadata": {},
   "outputs": [
    {
     "data": {
      "text/html": [
       "<div>\n",
       "<style scoped>\n",
       "    .dataframe tbody tr th:only-of-type {\n",
       "        vertical-align: middle;\n",
       "    }\n",
       "\n",
       "    .dataframe tbody tr th {\n",
       "        vertical-align: top;\n",
       "    }\n",
       "\n",
       "    .dataframe thead th {\n",
       "        text-align: right;\n",
       "    }\n",
       "</style>\n",
       "<table border=\"1\" class=\"dataframe\">\n",
       "  <thead>\n",
       "    <tr style=\"text-align: right;\">\n",
       "      <th></th>\n",
       "      <th>air_store_id</th>\n",
       "      <th>visit_Year</th>\n",
       "      <th>visit_Month</th>\n",
       "      <th>visit_Week</th>\n",
       "      <th>visit_Day</th>\n",
       "      <th>visit_Dayofweek</th>\n",
       "      <th>visit_Dayofyear</th>\n",
       "      <th>visit_Is_month_end</th>\n",
       "      <th>visit_Is_month_start</th>\n",
       "      <th>visit_Is_quarter_end</th>\n",
       "      <th>...</th>\n",
       "      <th>stores_in_hpg_area_name</th>\n",
       "      <th>min_visits_in_area_name</th>\n",
       "      <th>mean_visits_in_area_name</th>\n",
       "      <th>max_visits_in_air_loc</th>\n",
       "      <th>mean_visits_in_air_loc</th>\n",
       "      <th>max_visits_in_area_name</th>\n",
       "      <th>min_visits_in_air_loc</th>\n",
       "      <th>std_visits_in_air_loc</th>\n",
       "      <th>std_visits_in_area_name</th>\n",
       "      <th>visitors</th>\n",
       "    </tr>\n",
       "    <tr>\n",
       "      <th>visit_date</th>\n",
       "      <th></th>\n",
       "      <th></th>\n",
       "      <th></th>\n",
       "      <th></th>\n",
       "      <th></th>\n",
       "      <th></th>\n",
       "      <th></th>\n",
       "      <th></th>\n",
       "      <th></th>\n",
       "      <th></th>\n",
       "      <th></th>\n",
       "      <th></th>\n",
       "      <th></th>\n",
       "      <th></th>\n",
       "      <th></th>\n",
       "      <th></th>\n",
       "      <th></th>\n",
       "      <th></th>\n",
       "      <th></th>\n",
       "      <th></th>\n",
       "      <th></th>\n",
       "    </tr>\n",
       "  </thead>\n",
       "  <tbody>\n",
       "    <tr>\n",
       "      <th>2017-05-27</th>\n",
       "      <td>air_fff68b929994bfbd</td>\n",
       "      <td>2017</td>\n",
       "      <td>5</td>\n",
       "      <td>21</td>\n",
       "      <td>27</td>\n",
       "      <td>5</td>\n",
       "      <td>147</td>\n",
       "      <td>False</td>\n",
       "      <td>False</td>\n",
       "      <td>False</td>\n",
       "      <td>...</td>\n",
       "      <td>NaN</td>\n",
       "      <td>1</td>\n",
       "      <td>15.960577</td>\n",
       "      <td>61</td>\n",
       "      <td>10.343203</td>\n",
       "      <td>71</td>\n",
       "      <td>1</td>\n",
       "      <td>7.206193</td>\n",
       "      <td>13.230147</td>\n",
       "      <td>7.537000</td>\n",
       "    </tr>\n",
       "    <tr>\n",
       "      <th>2017-05-28</th>\n",
       "      <td>air_fff68b929994bfbd</td>\n",
       "      <td>2017</td>\n",
       "      <td>5</td>\n",
       "      <td>21</td>\n",
       "      <td>28</td>\n",
       "      <td>6</td>\n",
       "      <td>148</td>\n",
       "      <td>False</td>\n",
       "      <td>False</td>\n",
       "      <td>False</td>\n",
       "      <td>...</td>\n",
       "      <td>NaN</td>\n",
       "      <td>1</td>\n",
       "      <td>15.960577</td>\n",
       "      <td>61</td>\n",
       "      <td>10.343203</td>\n",
       "      <td>71</td>\n",
       "      <td>1</td>\n",
       "      <td>7.206193</td>\n",
       "      <td>13.230147</td>\n",
       "      <td>5.180032</td>\n",
       "    </tr>\n",
       "    <tr>\n",
       "      <th>2017-05-29</th>\n",
       "      <td>air_fff68b929994bfbd</td>\n",
       "      <td>2017</td>\n",
       "      <td>5</td>\n",
       "      <td>22</td>\n",
       "      <td>29</td>\n",
       "      <td>0</td>\n",
       "      <td>149</td>\n",
       "      <td>False</td>\n",
       "      <td>False</td>\n",
       "      <td>False</td>\n",
       "      <td>...</td>\n",
       "      <td>NaN</td>\n",
       "      <td>1</td>\n",
       "      <td>15.960577</td>\n",
       "      <td>61</td>\n",
       "      <td>10.343203</td>\n",
       "      <td>71</td>\n",
       "      <td>1</td>\n",
       "      <td>7.206193</td>\n",
       "      <td>13.230147</td>\n",
       "      <td>5.240227</td>\n",
       "    </tr>\n",
       "    <tr>\n",
       "      <th>2017-05-30</th>\n",
       "      <td>air_fff68b929994bfbd</td>\n",
       "      <td>2017</td>\n",
       "      <td>5</td>\n",
       "      <td>22</td>\n",
       "      <td>30</td>\n",
       "      <td>1</td>\n",
       "      <td>150</td>\n",
       "      <td>False</td>\n",
       "      <td>False</td>\n",
       "      <td>False</td>\n",
       "      <td>...</td>\n",
       "      <td>NaN</td>\n",
       "      <td>1</td>\n",
       "      <td>15.960577</td>\n",
       "      <td>61</td>\n",
       "      <td>10.343203</td>\n",
       "      <td>71</td>\n",
       "      <td>1</td>\n",
       "      <td>7.206193</td>\n",
       "      <td>13.230147</td>\n",
       "      <td>5.210396</td>\n",
       "    </tr>\n",
       "    <tr>\n",
       "      <th>2017-05-31</th>\n",
       "      <td>air_fff68b929994bfbd</td>\n",
       "      <td>2017</td>\n",
       "      <td>5</td>\n",
       "      <td>22</td>\n",
       "      <td>31</td>\n",
       "      <td>2</td>\n",
       "      <td>151</td>\n",
       "      <td>True</td>\n",
       "      <td>False</td>\n",
       "      <td>False</td>\n",
       "      <td>...</td>\n",
       "      <td>NaN</td>\n",
       "      <td>1</td>\n",
       "      <td>15.960577</td>\n",
       "      <td>61</td>\n",
       "      <td>10.343203</td>\n",
       "      <td>71</td>\n",
       "      <td>1</td>\n",
       "      <td>7.206193</td>\n",
       "      <td>13.230147</td>\n",
       "      <td>5.151812</td>\n",
       "    </tr>\n",
       "  </tbody>\n",
       "</table>\n",
       "<p>5 rows × 115 columns</p>\n",
       "</div>"
      ],
      "text/plain": [
       "                    air_store_id visit_Year visit_Month visit_Week visit_Day  \\\n",
       "visit_date                                                                     \n",
       "2017-05-27  air_fff68b929994bfbd       2017           5         21        27   \n",
       "2017-05-28  air_fff68b929994bfbd       2017           5         21        28   \n",
       "2017-05-29  air_fff68b929994bfbd       2017           5         22        29   \n",
       "2017-05-30  air_fff68b929994bfbd       2017           5         22        30   \n",
       "2017-05-31  air_fff68b929994bfbd       2017           5         22        31   \n",
       "\n",
       "           visit_Dayofweek visit_Dayofyear visit_Is_month_end  \\\n",
       "visit_date                                                      \n",
       "2017-05-27               5             147              False   \n",
       "2017-05-28               6             148              False   \n",
       "2017-05-29               0             149              False   \n",
       "2017-05-30               1             150              False   \n",
       "2017-05-31               2             151               True   \n",
       "\n",
       "           visit_Is_month_start visit_Is_quarter_end    ...     \\\n",
       "visit_date                                              ...      \n",
       "2017-05-27                False                False    ...      \n",
       "2017-05-28                False                False    ...      \n",
       "2017-05-29                False                False    ...      \n",
       "2017-05-30                False                False    ...      \n",
       "2017-05-31                False                False    ...      \n",
       "\n",
       "           stores_in_hpg_area_name min_visits_in_area_name  \\\n",
       "visit_date                                                   \n",
       "2017-05-27                     NaN                       1   \n",
       "2017-05-28                     NaN                       1   \n",
       "2017-05-29                     NaN                       1   \n",
       "2017-05-30                     NaN                       1   \n",
       "2017-05-31                     NaN                       1   \n",
       "\n",
       "           mean_visits_in_area_name max_visits_in_air_loc  \\\n",
       "visit_date                                                  \n",
       "2017-05-27                15.960577                    61   \n",
       "2017-05-28                15.960577                    61   \n",
       "2017-05-29                15.960577                    61   \n",
       "2017-05-30                15.960577                    61   \n",
       "2017-05-31                15.960577                    61   \n",
       "\n",
       "           mean_visits_in_air_loc max_visits_in_area_name  \\\n",
       "visit_date                                                  \n",
       "2017-05-27              10.343203                      71   \n",
       "2017-05-28              10.343203                      71   \n",
       "2017-05-29              10.343203                      71   \n",
       "2017-05-30              10.343203                      71   \n",
       "2017-05-31              10.343203                      71   \n",
       "\n",
       "           min_visits_in_air_loc std_visits_in_air_loc  \\\n",
       "visit_date                                               \n",
       "2017-05-27                     1              7.206193   \n",
       "2017-05-28                     1              7.206193   \n",
       "2017-05-29                     1              7.206193   \n",
       "2017-05-30                     1              7.206193   \n",
       "2017-05-31                     1              7.206193   \n",
       "\n",
       "           std_visits_in_area_name  visitors  \n",
       "visit_date                                    \n",
       "2017-05-27               13.230147  7.537000  \n",
       "2017-05-28               13.230147  5.180032  \n",
       "2017-05-29               13.230147  5.240227  \n",
       "2017-05-30               13.230147  5.210396  \n",
       "2017-05-31               13.230147  5.151812  \n",
       "\n",
       "[5 rows x 115 columns]"
      ]
     },
     "execution_count": 136,
     "metadata": {},
     "output_type": "execute_result"
    }
   ],
   "source": [
    "test_set.tail()"
   ]
  },
  {
   "cell_type": "code",
   "execution_count": 110,
   "metadata": {},
   "outputs": [
    {
     "data": {
      "text/html": [
       "<div>\n",
       "<style scoped>\n",
       "    .dataframe tbody tr th:only-of-type {\n",
       "        vertical-align: middle;\n",
       "    }\n",
       "\n",
       "    .dataframe tbody tr th {\n",
       "        vertical-align: top;\n",
       "    }\n",
       "\n",
       "    .dataframe thead th {\n",
       "        text-align: right;\n",
       "    }\n",
       "</style>\n",
       "<table border=\"1\" class=\"dataframe\">\n",
       "  <thead>\n",
       "    <tr style=\"text-align: right;\">\n",
       "      <th></th>\n",
       "      <th>air_store_id</th>\n",
       "      <th>visit_date</th>\n",
       "      <th>visitors</th>\n",
       "      <th>visit_Year</th>\n",
       "      <th>visit_Month</th>\n",
       "      <th>visit_Week</th>\n",
       "      <th>visit_Day</th>\n",
       "      <th>visit_Dayofweek</th>\n",
       "      <th>visit_Dayofyear</th>\n",
       "      <th>visit_Is_month_end</th>\n",
       "      <th>...</th>\n",
       "      <th>stores_in_area_name</th>\n",
       "      <th>stores_in_hpg_area_name</th>\n",
       "      <th>min_visits_in_area_name</th>\n",
       "      <th>max_visits_in_area_name</th>\n",
       "      <th>mean_visits_in_area_name</th>\n",
       "      <th>std_visits_in_area_name</th>\n",
       "      <th>min_visits_in_air_loc</th>\n",
       "      <th>max_visits_in_air_loc</th>\n",
       "      <th>mean_visits_in_air_loc</th>\n",
       "      <th>std_visits_in_air_loc</th>\n",
       "    </tr>\n",
       "  </thead>\n",
       "  <tbody>\n",
       "    <tr>\n",
       "      <th>25414</th>\n",
       "      <td>air_fff68b929994bfbd</td>\n",
       "      <td>2017-04-18</td>\n",
       "      <td>6.0</td>\n",
       "      <td>2017</td>\n",
       "      <td>4</td>\n",
       "      <td>16</td>\n",
       "      <td>18</td>\n",
       "      <td>1</td>\n",
       "      <td>108</td>\n",
       "      <td>False</td>\n",
       "      <td>...</td>\n",
       "      <td>6</td>\n",
       "      <td>NaN</td>\n",
       "      <td>1</td>\n",
       "      <td>71</td>\n",
       "      <td>15.960577</td>\n",
       "      <td>13.230147</td>\n",
       "      <td>1</td>\n",
       "      <td>61</td>\n",
       "      <td>10.343203</td>\n",
       "      <td>7.206193</td>\n",
       "    </tr>\n",
       "    <tr>\n",
       "      <th>25415</th>\n",
       "      <td>air_fff68b929994bfbd</td>\n",
       "      <td>2017-04-19</td>\n",
       "      <td>2.0</td>\n",
       "      <td>2017</td>\n",
       "      <td>4</td>\n",
       "      <td>16</td>\n",
       "      <td>19</td>\n",
       "      <td>2</td>\n",
       "      <td>109</td>\n",
       "      <td>False</td>\n",
       "      <td>...</td>\n",
       "      <td>6</td>\n",
       "      <td>NaN</td>\n",
       "      <td>1</td>\n",
       "      <td>71</td>\n",
       "      <td>15.960577</td>\n",
       "      <td>13.230147</td>\n",
       "      <td>1</td>\n",
       "      <td>61</td>\n",
       "      <td>10.343203</td>\n",
       "      <td>7.206193</td>\n",
       "    </tr>\n",
       "    <tr>\n",
       "      <th>25416</th>\n",
       "      <td>air_fff68b929994bfbd</td>\n",
       "      <td>2017-04-20</td>\n",
       "      <td>2.0</td>\n",
       "      <td>2017</td>\n",
       "      <td>4</td>\n",
       "      <td>16</td>\n",
       "      <td>20</td>\n",
       "      <td>3</td>\n",
       "      <td>110</td>\n",
       "      <td>False</td>\n",
       "      <td>...</td>\n",
       "      <td>6</td>\n",
       "      <td>NaN</td>\n",
       "      <td>1</td>\n",
       "      <td>71</td>\n",
       "      <td>15.960577</td>\n",
       "      <td>13.230147</td>\n",
       "      <td>1</td>\n",
       "      <td>61</td>\n",
       "      <td>10.343203</td>\n",
       "      <td>7.206193</td>\n",
       "    </tr>\n",
       "    <tr>\n",
       "      <th>25417</th>\n",
       "      <td>air_fff68b929994bfbd</td>\n",
       "      <td>2017-04-21</td>\n",
       "      <td>4.0</td>\n",
       "      <td>2017</td>\n",
       "      <td>4</td>\n",
       "      <td>16</td>\n",
       "      <td>21</td>\n",
       "      <td>4</td>\n",
       "      <td>111</td>\n",
       "      <td>False</td>\n",
       "      <td>...</td>\n",
       "      <td>6</td>\n",
       "      <td>NaN</td>\n",
       "      <td>1</td>\n",
       "      <td>71</td>\n",
       "      <td>15.960577</td>\n",
       "      <td>13.230147</td>\n",
       "      <td>1</td>\n",
       "      <td>61</td>\n",
       "      <td>10.343203</td>\n",
       "      <td>7.206193</td>\n",
       "    </tr>\n",
       "    <tr>\n",
       "      <th>25418</th>\n",
       "      <td>air_fff68b929994bfbd</td>\n",
       "      <td>2017-04-22</td>\n",
       "      <td>5.0</td>\n",
       "      <td>2017</td>\n",
       "      <td>4</td>\n",
       "      <td>16</td>\n",
       "      <td>22</td>\n",
       "      <td>5</td>\n",
       "      <td>112</td>\n",
       "      <td>False</td>\n",
       "      <td>...</td>\n",
       "      <td>6</td>\n",
       "      <td>NaN</td>\n",
       "      <td>1</td>\n",
       "      <td>71</td>\n",
       "      <td>15.960577</td>\n",
       "      <td>13.230147</td>\n",
       "      <td>1</td>\n",
       "      <td>61</td>\n",
       "      <td>10.343203</td>\n",
       "      <td>7.206193</td>\n",
       "    </tr>\n",
       "  </tbody>\n",
       "</table>\n",
       "<p>5 rows × 116 columns</p>\n",
       "</div>"
      ],
      "text/plain": [
       "               air_store_id  visit_date  visitors  visit_Year  visit_Month  \\\n",
       "25414  air_fff68b929994bfbd  2017-04-18       6.0        2017            4   \n",
       "25415  air_fff68b929994bfbd  2017-04-19       2.0        2017            4   \n",
       "25416  air_fff68b929994bfbd  2017-04-20       2.0        2017            4   \n",
       "25417  air_fff68b929994bfbd  2017-04-21       4.0        2017            4   \n",
       "25418  air_fff68b929994bfbd  2017-04-22       5.0        2017            4   \n",
       "\n",
       "       visit_Week  visit_Day  visit_Dayofweek  visit_Dayofyear  \\\n",
       "25414          16         18                1              108   \n",
       "25415          16         19                2              109   \n",
       "25416          16         20                3              110   \n",
       "25417          16         21                4              111   \n",
       "25418          16         22                5              112   \n",
       "\n",
       "       visit_Is_month_end          ...            stores_in_area_name  \\\n",
       "25414               False          ...                              6   \n",
       "25415               False          ...                              6   \n",
       "25416               False          ...                              6   \n",
       "25417               False          ...                              6   \n",
       "25418               False          ...                              6   \n",
       "\n",
       "       stores_in_hpg_area_name  min_visits_in_area_name  \\\n",
       "25414                      NaN                        1   \n",
       "25415                      NaN                        1   \n",
       "25416                      NaN                        1   \n",
       "25417                      NaN                        1   \n",
       "25418                      NaN                        1   \n",
       "\n",
       "       max_visits_in_area_name  mean_visits_in_area_name  \\\n",
       "25414                       71                 15.960577   \n",
       "25415                       71                 15.960577   \n",
       "25416                       71                 15.960577   \n",
       "25417                       71                 15.960577   \n",
       "25418                       71                 15.960577   \n",
       "\n",
       "       std_visits_in_area_name  min_visits_in_air_loc  max_visits_in_air_loc  \\\n",
       "25414                13.230147                      1                     61   \n",
       "25415                13.230147                      1                     61   \n",
       "25416                13.230147                      1                     61   \n",
       "25417                13.230147                      1                     61   \n",
       "25418                13.230147                      1                     61   \n",
       "\n",
       "       mean_visits_in_air_loc  std_visits_in_air_loc  \n",
       "25414               10.343203               7.206193  \n",
       "25415               10.343203               7.206193  \n",
       "25416               10.343203               7.206193  \n",
       "25417               10.343203               7.206193  \n",
       "25418               10.343203               7.206193  \n",
       "\n",
       "[5 rows x 116 columns]"
      ]
     },
     "execution_count": 110,
     "metadata": {},
     "output_type": "execute_result"
    }
   ],
   "source": [
    "valid_set.tail()"
   ]
  },
  {
   "cell_type": "code",
   "execution_count": null,
   "metadata": {},
   "outputs": [],
   "source": []
  },
  {
   "cell_type": "code",
   "execution_count": null,
   "metadata": {},
   "outputs": [],
   "source": [
    "# test_set = test_set[cat_vars+contin_vars+[dep, 'visit_date']].copy()\n",
    "# test_set = test_set.set_index(\"visit_date\")\n",
    "# df_test, _, _, _ = proc_df(test_set, 'visitors', do_scale=True, # skip_flds=['Id'],\n",
    "#                                   mapper=mapper, na_dict=nas)"
   ]
  },
  {
   "cell_type": "markdown",
   "metadata": {},
   "source": [
    "# Create feature"
   ]
  },
  {
   "cell_type": "code",
   "execution_count": 122,
   "metadata": {},
   "outputs": [
    {
     "name": "stderr",
     "output_type": "stream",
     "text": [
      "/Library/Frameworks/Python.framework/Versions/3.6/lib/python3.6/site-packages/fastai-0.6-py3.6.egg/fastai/structured.py:198: RuntimeWarning: None of the categories were found in values. Did you mean to use\n",
      "'Categorical.from_codes(codes, categories)'?\n",
      "  df[n] = pd.Categorical(c, categories=trn[n].cat.categories, ordered=True)\n"
     ]
    }
   ],
   "source": [
    "dep = 'visitors'\n",
    "\n",
    "n = len(train_set); n\n",
    "\n",
    "train_set = train_set[cat_vars+contin_vars+[dep, 'visit_date']].copy()\n",
    "valid_set = valid_set[cat_vars+contin_vars+[dep, 'visit_date']].copy()\n",
    "test_set = test_set[cat_vars+contin_vars+[dep, 'visit_date']].copy()\n",
    "\n",
    "for v in cat_vars: \n",
    "    train_set[v] = train_set[v].astype('category').cat.as_ordered()\n",
    "\n",
    "apply_cats(test_set, train_set)\n",
    "apply_cats(valid_set, train_set)\n",
    "\n",
    "valid_set = valid_set.set_index(\"visit_date\")\n",
    "train_set = train_set.set_index(\"visit_date\")\n",
    "test_set = test_set.set_index(\"visit_date\")"
   ]
  },
  {
   "cell_type": "code",
   "execution_count": 123,
   "metadata": {},
   "outputs": [
    {
     "data": {
      "text/html": [
       "<div>\n",
       "<style scoped>\n",
       "    .dataframe tbody tr th:only-of-type {\n",
       "        vertical-align: middle;\n",
       "    }\n",
       "\n",
       "    .dataframe tbody tr th {\n",
       "        vertical-align: top;\n",
       "    }\n",
       "\n",
       "    .dataframe thead th {\n",
       "        text-align: right;\n",
       "    }\n",
       "</style>\n",
       "<table border=\"1\" class=\"dataframe\">\n",
       "  <thead>\n",
       "    <tr style=\"text-align: right;\">\n",
       "      <th></th>\n",
       "      <th>air_store_id</th>\n",
       "      <th>visit_Year</th>\n",
       "      <th>visit_Month</th>\n",
       "      <th>visit_Week</th>\n",
       "      <th>visit_Day</th>\n",
       "      <th>visit_Dayofweek</th>\n",
       "      <th>visit_Dayofyear</th>\n",
       "      <th>visit_Is_month_end</th>\n",
       "      <th>visit_Is_month_start</th>\n",
       "      <th>visit_Is_quarter_end</th>\n",
       "      <th>...</th>\n",
       "      <th>stores_in_hpg_area_name</th>\n",
       "      <th>min_visits_in_area_name</th>\n",
       "      <th>mean_visits_in_area_name</th>\n",
       "      <th>max_visits_in_air_loc</th>\n",
       "      <th>mean_visits_in_air_loc</th>\n",
       "      <th>max_visits_in_area_name</th>\n",
       "      <th>min_visits_in_air_loc</th>\n",
       "      <th>std_visits_in_air_loc</th>\n",
       "      <th>std_visits_in_area_name</th>\n",
       "      <th>visitors</th>\n",
       "    </tr>\n",
       "    <tr>\n",
       "      <th>visit_date</th>\n",
       "      <th></th>\n",
       "      <th></th>\n",
       "      <th></th>\n",
       "      <th></th>\n",
       "      <th></th>\n",
       "      <th></th>\n",
       "      <th></th>\n",
       "      <th></th>\n",
       "      <th></th>\n",
       "      <th></th>\n",
       "      <th></th>\n",
       "      <th></th>\n",
       "      <th></th>\n",
       "      <th></th>\n",
       "      <th></th>\n",
       "      <th></th>\n",
       "      <th></th>\n",
       "      <th></th>\n",
       "      <th></th>\n",
       "      <th></th>\n",
       "      <th></th>\n",
       "    </tr>\n",
       "  </thead>\n",
       "  <tbody>\n",
       "    <tr>\n",
       "      <th>2017-03-25</th>\n",
       "      <td>air_00a91d42b08b08d9</td>\n",
       "      <td>2017</td>\n",
       "      <td>3</td>\n",
       "      <td>12</td>\n",
       "      <td>25</td>\n",
       "      <td>5</td>\n",
       "      <td>84</td>\n",
       "      <td>False</td>\n",
       "      <td>False</td>\n",
       "      <td>False</td>\n",
       "      <td>...</td>\n",
       "      <td>NaN</td>\n",
       "      <td>1</td>\n",
       "      <td>26.49806</td>\n",
       "      <td>142</td>\n",
       "      <td>26.49806</td>\n",
       "      <td>142</td>\n",
       "      <td>1</td>\n",
       "      <td>18.884427</td>\n",
       "      <td>18.884427</td>\n",
       "      <td>7.0</td>\n",
       "    </tr>\n",
       "    <tr>\n",
       "      <th>2017-03-27</th>\n",
       "      <td>air_00a91d42b08b08d9</td>\n",
       "      <td>2017</td>\n",
       "      <td>3</td>\n",
       "      <td>13</td>\n",
       "      <td>27</td>\n",
       "      <td>0</td>\n",
       "      <td>86</td>\n",
       "      <td>False</td>\n",
       "      <td>False</td>\n",
       "      <td>False</td>\n",
       "      <td>...</td>\n",
       "      <td>NaN</td>\n",
       "      <td>1</td>\n",
       "      <td>26.49806</td>\n",
       "      <td>142</td>\n",
       "      <td>26.49806</td>\n",
       "      <td>142</td>\n",
       "      <td>1</td>\n",
       "      <td>18.884427</td>\n",
       "      <td>18.884427</td>\n",
       "      <td>43.0</td>\n",
       "    </tr>\n",
       "    <tr>\n",
       "      <th>2017-03-28</th>\n",
       "      <td>air_00a91d42b08b08d9</td>\n",
       "      <td>2017</td>\n",
       "      <td>3</td>\n",
       "      <td>13</td>\n",
       "      <td>28</td>\n",
       "      <td>1</td>\n",
       "      <td>87</td>\n",
       "      <td>False</td>\n",
       "      <td>False</td>\n",
       "      <td>False</td>\n",
       "      <td>...</td>\n",
       "      <td>NaN</td>\n",
       "      <td>1</td>\n",
       "      <td>26.49806</td>\n",
       "      <td>142</td>\n",
       "      <td>26.49806</td>\n",
       "      <td>142</td>\n",
       "      <td>1</td>\n",
       "      <td>18.884427</td>\n",
       "      <td>18.884427</td>\n",
       "      <td>30.0</td>\n",
       "    </tr>\n",
       "    <tr>\n",
       "      <th>2017-03-29</th>\n",
       "      <td>air_00a91d42b08b08d9</td>\n",
       "      <td>2017</td>\n",
       "      <td>3</td>\n",
       "      <td>13</td>\n",
       "      <td>29</td>\n",
       "      <td>2</td>\n",
       "      <td>88</td>\n",
       "      <td>False</td>\n",
       "      <td>False</td>\n",
       "      <td>False</td>\n",
       "      <td>...</td>\n",
       "      <td>NaN</td>\n",
       "      <td>1</td>\n",
       "      <td>26.49806</td>\n",
       "      <td>142</td>\n",
       "      <td>26.49806</td>\n",
       "      <td>142</td>\n",
       "      <td>1</td>\n",
       "      <td>18.884427</td>\n",
       "      <td>18.884427</td>\n",
       "      <td>52.0</td>\n",
       "    </tr>\n",
       "    <tr>\n",
       "      <th>2017-03-30</th>\n",
       "      <td>air_00a91d42b08b08d9</td>\n",
       "      <td>2017</td>\n",
       "      <td>3</td>\n",
       "      <td>13</td>\n",
       "      <td>30</td>\n",
       "      <td>3</td>\n",
       "      <td>89</td>\n",
       "      <td>False</td>\n",
       "      <td>False</td>\n",
       "      <td>False</td>\n",
       "      <td>...</td>\n",
       "      <td>NaN</td>\n",
       "      <td>1</td>\n",
       "      <td>26.49806</td>\n",
       "      <td>142</td>\n",
       "      <td>26.49806</td>\n",
       "      <td>142</td>\n",
       "      <td>1</td>\n",
       "      <td>18.884427</td>\n",
       "      <td>18.884427</td>\n",
       "      <td>33.0</td>\n",
       "    </tr>\n",
       "  </tbody>\n",
       "</table>\n",
       "<p>5 rows × 115 columns</p>\n",
       "</div>"
      ],
      "text/plain": [
       "                    air_store_id visit_Year visit_Month visit_Week visit_Day  \\\n",
       "visit_date                                                                     \n",
       "2017-03-25  air_00a91d42b08b08d9       2017           3         12        25   \n",
       "2017-03-27  air_00a91d42b08b08d9       2017           3         13        27   \n",
       "2017-03-28  air_00a91d42b08b08d9       2017           3         13        28   \n",
       "2017-03-29  air_00a91d42b08b08d9       2017           3         13        29   \n",
       "2017-03-30  air_00a91d42b08b08d9       2017           3         13        30   \n",
       "\n",
       "           visit_Dayofweek visit_Dayofyear visit_Is_month_end  \\\n",
       "visit_date                                                      \n",
       "2017-03-25               5              84              False   \n",
       "2017-03-27               0              86              False   \n",
       "2017-03-28               1              87              False   \n",
       "2017-03-29               2              88              False   \n",
       "2017-03-30               3              89              False   \n",
       "\n",
       "           visit_Is_month_start visit_Is_quarter_end   ...     \\\n",
       "visit_date                                             ...      \n",
       "2017-03-25                False                False   ...      \n",
       "2017-03-27                False                False   ...      \n",
       "2017-03-28                False                False   ...      \n",
       "2017-03-29                False                False   ...      \n",
       "2017-03-30                False                False   ...      \n",
       "\n",
       "           stores_in_hpg_area_name min_visits_in_area_name  \\\n",
       "visit_date                                                   \n",
       "2017-03-25                     NaN                       1   \n",
       "2017-03-27                     NaN                       1   \n",
       "2017-03-28                     NaN                       1   \n",
       "2017-03-29                     NaN                       1   \n",
       "2017-03-30                     NaN                       1   \n",
       "\n",
       "           mean_visits_in_area_name max_visits_in_air_loc  \\\n",
       "visit_date                                                  \n",
       "2017-03-25                 26.49806                   142   \n",
       "2017-03-27                 26.49806                   142   \n",
       "2017-03-28                 26.49806                   142   \n",
       "2017-03-29                 26.49806                   142   \n",
       "2017-03-30                 26.49806                   142   \n",
       "\n",
       "           mean_visits_in_air_loc max_visits_in_area_name  \\\n",
       "visit_date                                                  \n",
       "2017-03-25               26.49806                     142   \n",
       "2017-03-27               26.49806                     142   \n",
       "2017-03-28               26.49806                     142   \n",
       "2017-03-29               26.49806                     142   \n",
       "2017-03-30               26.49806                     142   \n",
       "\n",
       "           min_visits_in_air_loc std_visits_in_air_loc  \\\n",
       "visit_date                                               \n",
       "2017-03-25                     1             18.884427   \n",
       "2017-03-27                     1             18.884427   \n",
       "2017-03-28                     1             18.884427   \n",
       "2017-03-29                     1             18.884427   \n",
       "2017-03-30                     1             18.884427   \n",
       "\n",
       "           std_visits_in_area_name visitors  \n",
       "visit_date                                   \n",
       "2017-03-25               18.884427      7.0  \n",
       "2017-03-27               18.884427     43.0  \n",
       "2017-03-28               18.884427     30.0  \n",
       "2017-03-29               18.884427     52.0  \n",
       "2017-03-30               18.884427     33.0  \n",
       "\n",
       "[5 rows x 115 columns]"
      ]
     },
     "execution_count": 123,
     "metadata": {},
     "output_type": "execute_result"
    }
   ],
   "source": [
    "valid_set.head()"
   ]
  },
  {
   "cell_type": "code",
   "execution_count": 124,
   "metadata": {},
   "outputs": [],
   "source": [
    "df, y, nas, mapper = proc_df(train_set, 'visitors', do_scale=True)\n",
    "\n",
    "yl = np.log1p(y)\n",
    "df_val, y_val, _, _ = proc_df(valid_set, 'visitors', do_scale=True, #  skip_flds=['Id'],\n",
    "                                  mapper=mapper, na_dict=nas)\n",
    "\n",
    "y2 = np.log1p(y_val)\n",
    "\n",
    "df_test, _, _, _ = proc_df(test_set, 'visitors', do_scale=True, # skip_flds=['Id'],\n",
    "                                  mapper=mapper, na_dict=nas)"
   ]
  },
  {
   "cell_type": "code",
   "execution_count": 145,
   "metadata": {},
   "outputs": [
    {
     "data": {
      "text/plain": [
       "(250468,)"
      ]
     },
     "execution_count": 145,
     "metadata": {},
     "output_type": "execute_result"
    }
   ],
   "source": [
    "y_train.shape"
   ]
  },
  {
   "cell_type": "markdown",
   "metadata": {},
   "source": [
    "# Random Forest"
   ]
  },
  {
   "cell_type": "code",
   "execution_count": 146,
   "metadata": {},
   "outputs": [],
   "source": [
    "X_train, y_train = pd.concat([df, df_val], axis=0), np.concatenate([yl, y2], axis=0)\n",
    "X_valid, y_valid = df_val, y2"
   ]
  },
  {
   "cell_type": "code",
   "execution_count": 147,
   "metadata": {},
   "outputs": [],
   "source": [
    "from sklearn.ensemble import RandomForestRegressor, RandomForestClassifier\n",
    "\n",
    "\n",
    "def rmse(x,y): return math.sqrt(((x-y)**2).mean())\n",
    "\n",
    "def print_score(m):\n",
    "    res = [rmse(m.predict(X_train), y_train), rmse(m.predict(X_valid), y_valid),\n",
    "                m.score(X_train, y_train), m.score(X_valid, y_valid)]\n",
    "    if hasattr(m, 'oob_score_'): res.append(m.oob_score_)\n",
    "    print(res)"
   ]
  },
  {
   "cell_type": "code",
   "execution_count": 128,
   "metadata": {},
   "outputs": [],
   "source": [
    "set_rf_samples(50000)"
   ]
  },
  {
   "cell_type": "code",
   "execution_count": 129,
   "metadata": {},
   "outputs": [
    {
     "name": "stdout",
     "output_type": "stream",
     "text": [
      "[0.43883527955527557, 0.51135207652721, 0.70383854796887424, 0.61478092196647083, 0.57609222116382297]\n"
     ]
    }
   ],
   "source": [
    "m = RandomForestRegressor(n_estimators=40, min_samples_leaf=3, max_features=0.6, n_jobs=-1, oob_score=True)\n",
    "m.fit(X_train, y_train)\n",
    "print_score(m)"
   ]
  },
  {
   "cell_type": "code",
   "execution_count": null,
   "metadata": {},
   "outputs": [],
   "source": []
  },
  {
   "cell_type": "code",
   "execution_count": 172,
   "metadata": {},
   "outputs": [],
   "source": []
  },
  {
   "cell_type": "code",
   "execution_count": 130,
   "metadata": {},
   "outputs": [],
   "source": [
    "\n",
    "def generate_sub(csv_fn, m, df_test):\n",
    "    pred_test= m.predict(df_test)\n",
    "    pred_test = np.exp(pred_test)\n",
    "    test_set['visitors']=pred_test\n",
    "    trn_like_test = test_set.reset_index()[['air_store_id', 'visit_date', 'visitors']]\n",
    "    trn_like_test.visit_date = trn_like_test.visit_date.astype('str')\n",
    "    sub = utils.trn2test(trn_like_test)\n",
    "    sub.to_csv(csv_fn, index=False)\n",
    "\n",
    "generate_sub('yy_split_sample.csv', m, df_test)"
   ]
  },
  {
   "cell_type": "code",
   "execution_count": 148,
   "metadata": {},
   "outputs": [],
   "source": [
    "reset_rf_samples()"
   ]
  },
  {
   "cell_type": "code",
   "execution_count": 149,
   "metadata": {},
   "outputs": [
    {
     "name": "stdout",
     "output_type": "stream",
     "text": [
      "[0.2660084942557704, 0.25482064411115884, 0.89166324858074664, 0.90433855032498067, 0.5607411790102238]\n"
     ]
    }
   ],
   "source": [
    "m = RandomForestRegressor(n_estimators=30, min_samples_leaf=3, max_features=0.5, n_jobs=-1, oob_score=True)\n",
    "m.fit(X_train, y_train)\n",
    "print_score(m)"
   ]
  },
  {
   "cell_type": "code",
   "execution_count": 150,
   "metadata": {},
   "outputs": [],
   "source": [
    "generate_sub('yy_split_full.csv', m, df_test)"
   ]
  },
  {
   "cell_type": "markdown",
   "metadata": {
    "heading_collapsed": true
   },
   "source": [
    "# For Validation only"
   ]
  },
  {
   "cell_type": "code",
   "execution_count": 181,
   "metadata": {
    "hidden": true
   },
   "outputs": [],
   "source": [
    "trn = data['tra']"
   ]
  },
  {
   "cell_type": "code",
   "execution_count": 182,
   "metadata": {
    "hidden": true
   },
   "outputs": [],
   "source": [
    "trn_like_test = test_set.reset_index()[['air_store_id', 'visit_date', 'visitors']]\n",
    "trn_like_test.visit_date = trn_like_test.visit_date.astype('str')\n",
    "sub = utils.trn2test(trn_like_test)"
   ]
  },
  {
   "cell_type": "code",
   "execution_count": 184,
   "metadata": {
    "hidden": true
   },
   "outputs": [
    {
     "name": "stderr",
     "output_type": "stream",
     "text": [
      "/Library/Frameworks/Python.framework/Versions/3.6/lib/python3.6/site-packages/pandas/core/generic.py:3643: SettingWithCopyWarning: \n",
      "A value is trying to be set on a copy of a slice from a DataFrame.\n",
      "Try using .loc[row_indexer,col_indexer] = value instead\n",
      "\n",
      "See the caveats in the documentation: http://pandas.pydata.org/pandas-docs/stable/indexing.html#indexing-view-versus-copy\n",
      "  self[name] = value\n"
     ]
    }
   ],
   "source": [
    "sub.visitors = trn.visitors.mean()"
   ]
  },
  {
   "cell_type": "code",
   "execution_count": 185,
   "metadata": {
    "hidden": true
   },
   "outputs": [
    {
     "data": {
      "text/html": [
       "<div>\n",
       "<style scoped>\n",
       "    .dataframe tbody tr th:only-of-type {\n",
       "        vertical-align: middle;\n",
       "    }\n",
       "\n",
       "    .dataframe tbody tr th {\n",
       "        vertical-align: top;\n",
       "    }\n",
       "\n",
       "    .dataframe thead th {\n",
       "        text-align: right;\n",
       "    }\n",
       "</style>\n",
       "<table border=\"1\" class=\"dataframe\">\n",
       "  <thead>\n",
       "    <tr style=\"text-align: right;\">\n",
       "      <th></th>\n",
       "      <th>id</th>\n",
       "      <th>visitors</th>\n",
       "    </tr>\n",
       "  </thead>\n",
       "  <tbody>\n",
       "    <tr>\n",
       "      <th>0</th>\n",
       "      <td>air_00a91d42b08b08d9_2017-04-23</td>\n",
       "      <td>20.973761</td>\n",
       "    </tr>\n",
       "    <tr>\n",
       "      <th>1</th>\n",
       "      <td>air_00a91d42b08b08d9_2017-04-24</td>\n",
       "      <td>20.973761</td>\n",
       "    </tr>\n",
       "    <tr>\n",
       "      <th>2</th>\n",
       "      <td>air_00a91d42b08b08d9_2017-04-25</td>\n",
       "      <td>20.973761</td>\n",
       "    </tr>\n",
       "    <tr>\n",
       "      <th>3</th>\n",
       "      <td>air_00a91d42b08b08d9_2017-04-26</td>\n",
       "      <td>20.973761</td>\n",
       "    </tr>\n",
       "    <tr>\n",
       "      <th>4</th>\n",
       "      <td>air_00a91d42b08b08d9_2017-04-27</td>\n",
       "      <td>20.973761</td>\n",
       "    </tr>\n",
       "  </tbody>\n",
       "</table>\n",
       "</div>"
      ],
      "text/plain": [
       "                                id   visitors\n",
       "0  air_00a91d42b08b08d9_2017-04-23  20.973761\n",
       "1  air_00a91d42b08b08d9_2017-04-24  20.973761\n",
       "2  air_00a91d42b08b08d9_2017-04-25  20.973761\n",
       "3  air_00a91d42b08b08d9_2017-04-26  20.973761\n",
       "4  air_00a91d42b08b08d9_2017-04-27  20.973761"
      ]
     },
     "execution_count": 185,
     "metadata": {},
     "output_type": "execute_result"
    }
   ],
   "source": [
    "sub.head()"
   ]
  },
  {
   "cell_type": "code",
   "execution_count": 189,
   "metadata": {
    "hidden": true
   },
   "outputs": [
    {
     "data": {
      "text/plain": [
       "0.8690054253642328"
      ]
     },
     "execution_count": 189,
     "metadata": {},
     "output_type": "execute_result"
    }
   ],
   "source": [
    "rmse(np.log1p(20.973761), y_valid)"
   ]
  },
  {
   "cell_type": "code",
   "execution_count": 190,
   "metadata": {
    "hidden": true
   },
   "outputs": [],
   "source": [
    "sub.to_csv('all_mean', index=False)"
   ]
  },
  {
   "cell_type": "code",
   "execution_count": 194,
   "metadata": {
    "hidden": true
   },
   "outputs": [],
   "source": [
    "result = trn.groupby('air_store_id').mean().reset_index()"
   ]
  },
  {
   "cell_type": "code",
   "execution_count": 199,
   "metadata": {
    "hidden": true
   },
   "outputs": [],
   "source": [
    "agg = pd.merge(valid_set[['air_store_id']].reset_index(), result)"
   ]
  },
  {
   "cell_type": "code",
   "execution_count": 201,
   "metadata": {
    "hidden": true
   },
   "outputs": [
    {
     "data": {
      "text/plain": [
       "0.6285172436351284"
      ]
     },
     "execution_count": 201,
     "metadata": {},
     "output_type": "execute_result"
    }
   ],
   "source": [
    "# agg.head()\n",
    "rmse(np.log1p(agg.visitors.values), y_valid)"
   ]
  },
  {
   "cell_type": "code",
   "execution_count": 206,
   "metadata": {
    "hidden": true
   },
   "outputs": [],
   "source": [
    "agg = pd.merge(trn_like_test[['air_store_id', 'visit_date']], result)\n",
    "sub = utils.trn2test(agg)\n",
    "sub.to_csv('grp_mean', index=False)"
   ]
  },
  {
   "cell_type": "code",
   "execution_count": 208,
   "metadata": {
    "hidden": true
   },
   "outputs": [],
   "source": [
    "x = [0.5659305848785533, 0.5481404729410964, 0.8690054253642328, 0.6285172436351284]\n",
    "y = [0.618 , 0.605, 0.886, 0.634]"
   ]
  },
  {
   "cell_type": "code",
   "execution_count": 209,
   "metadata": {
    "hidden": true
   },
   "outputs": [
    {
     "data": {
      "text/plain": [
       "<matplotlib.collections.PathCollection at 0x135e62a20>"
      ]
     },
     "execution_count": 209,
     "metadata": {},
     "output_type": "execute_result"
    },
    {
     "data": {
      "image/png": "[encoded data removed]",
      "text/plain": [
       "<matplotlib.figure.Figure at 0x169801ef0>"
      ]
     },
     "metadata": {},
     "output_type": "display_data"
    }
   ],
   "source": [
    "plt.scatter(x, y )"
   ]
  },
  {
   "cell_type": "markdown",
   "metadata": {
    "hidden": true
   },
   "source": [
    "Yang's split is a good default"
   ]
  },
  {
   "cell_type": "code",
   "execution_count": null,
   "metadata": {
    "hidden": true
   },
   "outputs": [],
   "source": []
  },
  {
   "cell_type": "code",
   "execution_count": 102,
   "metadata": {
    "hidden": true
   },
   "outputs": [
    {
     "data": {
      "text/html": [
       "<div>\n",
       "<style scoped>\n",
       "    .dataframe tbody tr th:only-of-type {\n",
       "        vertical-align: middle;\n",
       "    }\n",
       "\n",
       "    .dataframe tbody tr th {\n",
       "        vertical-align: top;\n",
       "    }\n",
       "\n",
       "    .dataframe thead th {\n",
       "        text-align: right;\n",
       "    }\n",
       "</style>\n",
       "<table border=\"1\" class=\"dataframe\">\n",
       "  <thead>\n",
       "    <tr style=\"text-align: right;\">\n",
       "      <th></th>\n",
       "      <th>cols</th>\n",
       "      <th>imp</th>\n",
       "    </tr>\n",
       "  </thead>\n",
       "  <tbody>\n",
       "    <tr>\n",
       "      <th>0</th>\n",
       "      <td>air_store_id</td>\n",
       "      <td>0.228499</td>\n",
       "    </tr>\n",
       "    <tr>\n",
       "      <th>21</th>\n",
       "      <td>genre_name</td>\n",
       "      <td>0.094079</td>\n",
       "    </tr>\n",
       "    <tr>\n",
       "      <th>41</th>\n",
       "      <td>mean_visits_in_air_loc</td>\n",
       "      <td>0.066963</td>\n",
       "    </tr>\n",
       "    <tr>\n",
       "      <th>5</th>\n",
       "      <td>visit_Dayofweek</td>\n",
       "      <td>0.052666</td>\n",
       "    </tr>\n",
       "    <tr>\n",
       "      <th>13</th>\n",
       "      <td>visit_Elapsed</td>\n",
       "      <td>0.043755</td>\n",
       "    </tr>\n",
       "    <tr>\n",
       "      <th>36</th>\n",
       "      <td>mean_visits_in_area_name</td>\n",
       "      <td>0.039343</td>\n",
       "    </tr>\n",
       "    <tr>\n",
       "      <th>17</th>\n",
       "      <td>be_holiday_flg</td>\n",
       "      <td>0.034536</td>\n",
       "    </tr>\n",
       "    <tr>\n",
       "      <th>27</th>\n",
       "      <td>avg_temperature</td>\n",
       "      <td>0.034209</td>\n",
       "    </tr>\n",
       "    <tr>\n",
       "      <th>4</th>\n",
       "      <td>visit_Day</td>\n",
       "      <td>0.031863</td>\n",
       "    </tr>\n",
       "    <tr>\n",
       "      <th>29</th>\n",
       "      <td>solar_radiation</td>\n",
       "      <td>0.031586</td>\n",
       "    </tr>\n",
       "  </tbody>\n",
       "</table>\n",
       "</div>"
      ],
      "text/plain": [
       "                        cols       imp\n",
       "0               air_store_id  0.228499\n",
       "21                genre_name  0.094079\n",
       "41    mean_visits_in_air_loc  0.066963\n",
       "5            visit_Dayofweek  0.052666\n",
       "13             visit_Elapsed  0.043755\n",
       "36  mean_visits_in_area_name  0.039343\n",
       "17            be_holiday_flg  0.034536\n",
       "27           avg_temperature  0.034209\n",
       "4                  visit_Day  0.031863\n",
       "29           solar_radiation  0.031586"
      ]
     },
     "execution_count": 102,
     "metadata": {},
     "output_type": "execute_result"
    }
   ],
   "source": [
    "fi = rf_feat_importance(m, X_train); fi[:10]"
   ]
  },
  {
   "cell_type": "code",
   "execution_count": 103,
   "metadata": {
    "hidden": true
   },
   "outputs": [
    {
     "data": {
      "image/png": "[encoded data removed]",
      "text/plain": [
       "<matplotlib.figure.Figure at 0x12c89e630>"
      ]
     },
     "metadata": {},
     "output_type": "display_data"
    }
   ],
   "source": [
    "fi.plot('cols', 'imp', figsize=(10,6), legend=False);"
   ]
  },
  {
   "cell_type": "code",
   "execution_count": 104,
   "metadata": {
    "hidden": true
   },
   "outputs": [],
   "source": [
    "def plot_fi(fi): return fi.plot('cols', 'imp', 'barh', figsize=(12,7), legend=False)"
   ]
  },
  {
   "cell_type": "code",
   "execution_count": 105,
   "metadata": {
    "hidden": true
   },
   "outputs": [
    {
     "data": {
      "image/png": "[encoded data removed]",
      "text/plain": [
       "<matplotlib.figure.Figure at 0x12c863550>"
      ]
     },
     "metadata": {},
     "output_type": "display_data"
    }
   ],
   "source": [
    "plot_fi(fi[:30]);"
   ]
  },
  {
   "cell_type": "code",
   "execution_count": 115,
   "metadata": {
    "hidden": true
   },
   "outputs": [
    {
     "data": {
      "text/plain": [
       "27"
      ]
     },
     "execution_count": 115,
     "metadata": {},
     "output_type": "execute_result"
    }
   ],
   "source": [
    "to_keep = fi[fi.imp>0.005].cols; \n",
    "to_keep = list(set(to_keep) - set([\"visit_Dayofyear\"]))\n",
    "len(to_keep)"
   ]
  },
  {
   "cell_type": "code",
   "execution_count": 116,
   "metadata": {
    "hidden": true
   },
   "outputs": [],
   "source": [
    "X_train, X_valid = df[to_keep].copy(), df_val[to_keep].copy()"
   ]
  },
  {
   "cell_type": "code",
   "execution_count": 124,
   "metadata": {
    "hidden": true
   },
   "outputs": [
    {
     "name": "stdout",
     "output_type": "stream",
     "text": [
      "[0.46817773054768813, 0.5664348115425176, 0.66290914916122134, 0.52731958101897236, 0.55586476982507405]\n"
     ]
    }
   ],
   "source": [
    "m = RandomForestRegressor(n_estimators=30, min_samples_leaf=3, max_features=0.6, n_jobs=-1, oob_score=True)\n",
    "m.fit(X_train, y_train)\n",
    "print_score(m)"
   ]
  },
  {
   "cell_type": "code",
   "execution_count": 125,
   "metadata": {
    "hidden": true
   },
   "outputs": [
    {
     "data": {
      "image/png": "[encoded data removed]",
      "text/plain": [
       "<matplotlib.figure.Figure at 0x124b25c18>"
      ]
     },
     "metadata": {},
     "output_type": "display_data"
    }
   ],
   "source": [
    "fi = rf_feat_importance(m, X_train)\n",
    "plot_fi(fi);"
   ]
  },
  {
   "cell_type": "code",
   "execution_count": 128,
   "metadata": {
    "hidden": true
   },
   "outputs": [
    {
     "data": {
      "text/plain": [
       "['{PATH}1st.pkl']"
      ]
     },
     "execution_count": 128,
     "metadata": {},
     "output_type": "execute_result"
    }
   ],
   "source": [
    "from sklearn.externals import joblib\n",
    "joblib.dump(m, '{PATH}1st.pkl') "
   ]
  },
  {
   "cell_type": "code",
   "execution_count": 111,
   "metadata": {
    "hidden": true
   },
   "outputs": [
    {
     "data": {
      "image/png": "[encoded data removed]",
      "text/plain": [
       "<matplotlib.figure.Figure at 0x12abc3320>"
      ]
     },
     "metadata": {},
     "output_type": "display_data"
    }
   ],
   "source": [
    "from scipy.cluster import hierarchy as hc\n",
    "\n",
    "corr = np.round(scipy.stats.spearmanr(X_train).correlation, 4)\n",
    "corr_condensed = hc.distance.squareform(1-corr)\n",
    "z = hc.linkage(corr_condensed, method='average')\n",
    "fig = plt.figure(figsize=(16,10))\n",
    "dendrogram = hc.dendrogram(z, labels=X_train.columns, orientation='left', leaf_font_size=16)\n",
    "plt.show()"
   ]
  },
  {
   "cell_type": "code",
   "execution_count": 112,
   "metadata": {
    "hidden": true
   },
   "outputs": [],
   "source": [
    "def get_oob(df):\n",
    "    m = RandomForestRegressor(n_estimators=30, min_samples_leaf=5, max_features=0.6, n_jobs=-1, oob_score=True)\n",
    "    m.fit(df, y_train)\n",
    "    return m.oob_score_"
   ]
  },
  {
   "cell_type": "code",
   "execution_count": 113,
   "metadata": {
    "hidden": true
   },
   "outputs": [
    {
     "data": {
      "text/plain": [
       "0.54944460285766084"
      ]
     },
     "execution_count": 113,
     "metadata": {},
     "output_type": "execute_result"
    }
   ],
   "source": [
    "get_oob(X_train)"
   ]
  },
  {
   "cell_type": "code",
   "execution_count": 114,
   "metadata": {
    "hidden": true
   },
   "outputs": [
    {
     "name": "stdout",
     "output_type": "stream",
     "text": [
      "hpg_area_name 0.548242842795\n",
      "hpg_genre_name 0.550920167942\n",
      "visit_Month 0.549747122541\n",
      "visit_Dayofyear 0.548202994228\n"
     ]
    }
   ],
   "source": [
    "for c in ('hpg_area_name', 'hpg_genre_name','visit_Month', 'visit_Dayofyear'):\n",
    "    print(c, get_oob(X_train.drop(c, axis=1)))"
   ]
  },
  {
   "cell_type": "code",
   "execution_count": 33,
   "metadata": {
    "hidden": true
   },
   "outputs": [],
   "source": [
    "reset_rf_samples()"
   ]
  },
  {
   "cell_type": "code",
   "execution_count": 34,
   "metadata": {
    "hidden": true
   },
   "outputs": [
    {
     "name": "stdout",
     "output_type": "stream",
     "text": [
      "[0.36179922521130875, 0.676993103351176, 0.79869214280979817, 0.32479409983233809, 0.57243590199522287]\n"
     ]
    }
   ],
   "source": [
    "m = RandomForestRegressor(n_estimators=40, min_samples_leaf=3, max_features=0.5, n_jobs=-1, oob_score=True)\n",
    "m.fit(X_train, y_train)\n",
    "print_score(m)"
   ]
  },
  {
   "cell_type": "markdown",
   "metadata": {
    "heading_collapsed": true
   },
   "source": [
    "# Partial dependence"
   ]
  },
  {
   "cell_type": "code",
   "execution_count": 36,
   "metadata": {
    "hidden": true
   },
   "outputs": [],
   "source": [
    "from pdpbox import pdp\n",
    "from plotnine import *"
   ]
  },
  {
   "cell_type": "code",
   "execution_count": 37,
   "metadata": {
    "hidden": true
   },
   "outputs": [],
   "source": [
    "set_rf_samples(50000)"
   ]
  },
  {
   "cell_type": "code",
   "execution_count": 38,
   "metadata": {
    "hidden": true
   },
   "outputs": [],
   "source": [
    "m = RandomForestRegressor(n_estimators=40, min_samples_leaf=3, max_features=0.6, n_jobs=-1)\n",
    "m.fit(X_train, y_train);"
   ]
  },
  {
   "cell_type": "code",
   "execution_count": 41,
   "metadata": {
    "hidden": true
   },
   "outputs": [
    {
     "data": {
      "image/png": "[encoded data removed]",
      "text/plain": [
       "<matplotlib.figure.Figure at 0x12b9c5cc0>"
      ]
     },
     "metadata": {},
     "output_type": "display_data"
    }
   ],
   "source": [
    "plot_fi(rf_feat_importance(m, X_train)[:10]);"
   ]
  },
  {
   "cell_type": "code",
   "execution_count": 46,
   "metadata": {
    "hidden": true
   },
   "outputs": [
    {
     "data": {
      "image/png": "[encoded data removed]",
      "text/plain": [
       "<matplotlib.figure.Figure at 0x12b5bb278>"
      ]
     },
     "metadata": {},
     "output_type": "display_data"
    }
   ],
   "source": [
    "X_train.plot('genre_name', 'air_loc', 'scatter', alpha=0.01, figsize=(10,8));"
   ]
  },
  {
   "cell_type": "code",
   "execution_count": null,
   "metadata": {
    "hidden": true
   },
   "outputs": [],
   "source": [
    "x_all = get_sample(df_raw[df_raw.YearMade>1930], 500)"
   ]
  },
  {
   "cell_type": "code",
   "execution_count": 47,
   "metadata": {
    "hidden": true
   },
   "outputs": [
    {
     "name": "stdout",
     "output_type": "stream",
     "text": [
      "CPU times: user 202 ms, sys: 40.7 ms, total: 243 ms\n",
      "Wall time: 242 ms\n"
     ]
    },
    {
     "data": {
      "text/plain": [
       "(3.4392016761615194, 0.60899233236474881)"
      ]
     },
     "execution_count": 47,
     "metadata": {},
     "output_type": "execute_result"
    }
   ],
   "source": [
    "%time preds = np.stack([t.predict(X_valid) for t in m.estimators_])\n",
    "np.mean(preds[:,0]), np.std(preds[:,0])"
   ]
  },
  {
   "cell_type": "code",
   "execution_count": 48,
   "metadata": {
    "hidden": true
   },
   "outputs": [
    {
     "name": "stdout",
     "output_type": "stream",
     "text": [
      "CPU times: user 87.4 ms, sys: 80.6 ms, total: 168 ms\n",
      "Wall time: 304 ms\n"
     ]
    },
    {
     "data": {
      "text/plain": [
       "(3.4392016761615194, 0.60899233236474881)"
      ]
     },
     "execution_count": 48,
     "metadata": {},
     "output_type": "execute_result"
    }
   ],
   "source": [
    "def get_preds(t): return t.predict(X_valid)\n",
    "%time preds = np.stack(parallel_trees(m, get_preds))\n",
    "np.mean(preds[:,0]), np.std(preds[:,0])"
   ]
  },
  {
   "cell_type": "code",
   "execution_count": 51,
   "metadata": {
    "hidden": true
   },
   "outputs": [
    {
     "data": {
      "image/png": "[encoded data removed]",
      "text/plain": [
       "<matplotlib.figure.Figure at 0x12d0f3be0>"
      ]
     },
     "metadata": {},
     "output_type": "display_data"
    }
   ],
   "source": [
    "x = valid_set.copy()\n",
    "x['pred_std'] = np.std(preds, axis=0)\n",
    "x['pred'] = np.mean(preds, axis=0)\n",
    "x.genre_name.value_counts().plot.barh();"
   ]
  },
  {
   "cell_type": "code",
   "execution_count": 54,
   "metadata": {
    "hidden": true
   },
   "outputs": [
    {
     "data": {
      "text/html": [
       "<div>\n",
       "<style scoped>\n",
       "    .dataframe tbody tr th:only-of-type {\n",
       "        vertical-align: middle;\n",
       "    }\n",
       "\n",
       "    .dataframe tbody tr th {\n",
       "        vertical-align: top;\n",
       "    }\n",
       "\n",
       "    .dataframe thead th {\n",
       "        text-align: right;\n",
       "    }\n",
       "</style>\n",
       "<table border=\"1\" class=\"dataframe\">\n",
       "  <thead>\n",
       "    <tr style=\"text-align: right;\">\n",
       "      <th></th>\n",
       "      <th>genre_name</th>\n",
       "      <th>visitors</th>\n",
       "      <th>pred</th>\n",
       "      <th>pred_std</th>\n",
       "    </tr>\n",
       "  </thead>\n",
       "  <tbody>\n",
       "    <tr>\n",
       "      <th>0</th>\n",
       "      <td>Asian</td>\n",
       "      <td>37.127273</td>\n",
       "      <td>2.873264</td>\n",
       "      <td>0.796646</td>\n",
       "    </tr>\n",
       "    <tr>\n",
       "      <th>1</th>\n",
       "      <td>Bar/Cocktail</td>\n",
       "      <td>13.279608</td>\n",
       "      <td>2.368110</td>\n",
       "      <td>0.602758</td>\n",
       "    </tr>\n",
       "    <tr>\n",
       "      <th>2</th>\n",
       "      <td>Cafe/Sweets</td>\n",
       "      <td>23.337569</td>\n",
       "      <td>3.009520</td>\n",
       "      <td>0.630609</td>\n",
       "    </tr>\n",
       "    <tr>\n",
       "      <th>3</th>\n",
       "      <td>Creative cuisine</td>\n",
       "      <td>26.486005</td>\n",
       "      <td>3.062032</td>\n",
       "      <td>0.648814</td>\n",
       "    </tr>\n",
       "    <tr>\n",
       "      <th>4</th>\n",
       "      <td>Dining bar</td>\n",
       "      <td>18.820835</td>\n",
       "      <td>2.752250</td>\n",
       "      <td>0.683347</td>\n",
       "    </tr>\n",
       "    <tr>\n",
       "      <th>5</th>\n",
       "      <td>International cuisine</td>\n",
       "      <td>26.410256</td>\n",
       "      <td>2.933772</td>\n",
       "      <td>0.870651</td>\n",
       "    </tr>\n",
       "    <tr>\n",
       "      <th>6</th>\n",
       "      <td>Italian/French</td>\n",
       "      <td>22.712401</td>\n",
       "      <td>2.970162</td>\n",
       "      <td>0.696028</td>\n",
       "    </tr>\n",
       "    <tr>\n",
       "      <th>7</th>\n",
       "      <td>Izakaya</td>\n",
       "      <td>23.771219</td>\n",
       "      <td>2.970354</td>\n",
       "      <td>0.631278</td>\n",
       "    </tr>\n",
       "    <tr>\n",
       "      <th>8</th>\n",
       "      <td>Japanese food</td>\n",
       "      <td>19.475616</td>\n",
       "      <td>2.883718</td>\n",
       "      <td>0.683474</td>\n",
       "    </tr>\n",
       "    <tr>\n",
       "      <th>9</th>\n",
       "      <td>Karaoke/Party</td>\n",
       "      <td>34.641509</td>\n",
       "      <td>3.081506</td>\n",
       "      <td>0.740399</td>\n",
       "    </tr>\n",
       "    <tr>\n",
       "      <th>10</th>\n",
       "      <td>Okonomiyaki/Monja/Teppanyaki</td>\n",
       "      <td>23.706667</td>\n",
       "      <td>3.058633</td>\n",
       "      <td>0.705875</td>\n",
       "    </tr>\n",
       "    <tr>\n",
       "      <th>11</th>\n",
       "      <td>Other</td>\n",
       "      <td>20.190931</td>\n",
       "      <td>2.906827</td>\n",
       "      <td>0.644309</td>\n",
       "    </tr>\n",
       "    <tr>\n",
       "      <th>12</th>\n",
       "      <td>Western food</td>\n",
       "      <td>22.624498</td>\n",
       "      <td>2.889736</td>\n",
       "      <td>0.685720</td>\n",
       "    </tr>\n",
       "    <tr>\n",
       "      <th>13</th>\n",
       "      <td>Yakiniku/Korean food</td>\n",
       "      <td>23.156118</td>\n",
       "      <td>3.016940</td>\n",
       "      <td>0.666662</td>\n",
       "    </tr>\n",
       "  </tbody>\n",
       "</table>\n",
       "</div>"
      ],
      "text/plain": [
       "                      genre_name   visitors      pred  pred_std\n",
       "0                          Asian  37.127273  2.873264  0.796646\n",
       "1                   Bar/Cocktail  13.279608  2.368110  0.602758\n",
       "2                    Cafe/Sweets  23.337569  3.009520  0.630609\n",
       "3               Creative cuisine  26.486005  3.062032  0.648814\n",
       "4                     Dining bar  18.820835  2.752250  0.683347\n",
       "5          International cuisine  26.410256  2.933772  0.870651\n",
       "6                 Italian/French  22.712401  2.970162  0.696028\n",
       "7                        Izakaya  23.771219  2.970354  0.631278\n",
       "8                  Japanese food  19.475616  2.883718  0.683474\n",
       "9                  Karaoke/Party  34.641509  3.081506  0.740399\n",
       "10  Okonomiyaki/Monja/Teppanyaki  23.706667  3.058633  0.705875\n",
       "11                         Other  20.190931  2.906827  0.644309\n",
       "12                  Western food  22.624498  2.889736  0.685720\n",
       "13          Yakiniku/Korean food  23.156118  3.016940  0.666662"
      ]
     },
     "execution_count": 54,
     "metadata": {},
     "output_type": "execute_result"
    }
   ],
   "source": [
    "flds = ['genre_name', 'visitors', 'pred', 'pred_std']\n",
    "enc_summ = x[flds].groupby('genre_name', as_index=False).mean()\n",
    "enc_summ"
   ]
  },
  {
   "cell_type": "code",
   "execution_count": 58,
   "metadata": {
    "hidden": true
   },
   "outputs": [
    {
     "data": {
      "image/png": "[encoded data removed]",
      "text/plain": [
       "<matplotlib.figure.Figure at 0x1336c40b8>"
      ]
     },
     "metadata": {},
     "output_type": "display_data"
    }
   ],
   "source": [
    "enc_summ = enc_summ[~pd.isnull(enc_summ.genre_name)]\n",
    "enc_summ.plot('genre_name', 'visitors', 'barh', xlim=(0,40));"
   ]
  },
  {
   "cell_type": "code",
   "execution_count": 63,
   "metadata": {
    "hidden": true
   },
   "outputs": [
    {
     "data": {
      "image/png": "[encoded data removed]",
      "text/plain": [
       "<matplotlib.figure.Figure at 0x12d1687b8>"
      ]
     },
     "metadata": {},
     "output_type": "display_data"
    }
   ],
   "source": [
    "\n",
    "enc_summ.plot('genre_name', 'pred', 'barh', xerr='pred_std', alpha=0.6, xlim=(0,40));"
   ]
  },
  {
   "cell_type": "code",
   "execution_count": null,
   "metadata": {
    "hidden": true
   },
   "outputs": [],
   "source": [
    "enc_summ.pred = np.exp(enc_summ.pred)"
   ]
  },
  {
   "cell_type": "code",
   "execution_count": 62,
   "metadata": {
    "hidden": true
   },
   "outputs": [],
   "source": [
    "enc_summ.pred_std = np.exp(enc_summ.pred_std)"
   ]
  },
  {
   "cell_type": "code",
   "execution_count": 64,
   "metadata": {
    "hidden": true
   },
   "outputs": [
    {
     "data": {
      "text/plain": [
       "1     0.171126\n",
       "5     0.127057\n",
       "4     0.126324\n",
       "0     0.125353\n",
       "8     0.110776\n",
       "12    0.110359\n",
       "11    0.104088\n",
       "6     0.102886\n",
       "7     0.096417\n",
       "9     0.096221\n",
       "13    0.095343\n",
       "10    0.095107\n",
       "2     0.092651\n",
       "3     0.089527\n",
       "dtype: float64"
      ]
     },
     "execution_count": 64,
     "metadata": {},
     "output_type": "execute_result"
    }
   ],
   "source": [
    "(enc_summ.pred_std/enc_summ.pred).sort_values(ascending=False)"
   ]
  },
  {
   "cell_type": "code",
   "execution_count": 65,
   "metadata": {
    "hidden": true
   },
   "outputs": [
    {
     "data": {
      "text/html": [
       "<div>\n",
       "<style scoped>\n",
       "    .dataframe tbody tr th:only-of-type {\n",
       "        vertical-align: middle;\n",
       "    }\n",
       "\n",
       "    .dataframe tbody tr th {\n",
       "        vertical-align: top;\n",
       "    }\n",
       "\n",
       "    .dataframe thead th {\n",
       "        text-align: right;\n",
       "    }\n",
       "</style>\n",
       "<table border=\"1\" class=\"dataframe\">\n",
       "  <thead>\n",
       "    <tr style=\"text-align: right;\">\n",
       "      <th></th>\n",
       "      <th>genre_name</th>\n",
       "      <th>visitors</th>\n",
       "      <th>pred</th>\n",
       "      <th>pred_std</th>\n",
       "    </tr>\n",
       "  </thead>\n",
       "  <tbody>\n",
       "    <tr>\n",
       "      <th>0</th>\n",
       "      <td>Asian</td>\n",
       "      <td>37.127273</td>\n",
       "      <td>17.694677</td>\n",
       "      <td>2.218089</td>\n",
       "    </tr>\n",
       "    <tr>\n",
       "      <th>1</th>\n",
       "      <td>Bar/Cocktail</td>\n",
       "      <td>13.279608</td>\n",
       "      <td>10.677196</td>\n",
       "      <td>1.827150</td>\n",
       "    </tr>\n",
       "    <tr>\n",
       "      <th>2</th>\n",
       "      <td>Cafe/Sweets</td>\n",
       "      <td>23.337569</td>\n",
       "      <td>20.277655</td>\n",
       "      <td>1.878754</td>\n",
       "    </tr>\n",
       "    <tr>\n",
       "      <th>3</th>\n",
       "      <td>Creative cuisine</td>\n",
       "      <td>26.486005</td>\n",
       "      <td>21.370933</td>\n",
       "      <td>1.913270</td>\n",
       "    </tr>\n",
       "    <tr>\n",
       "      <th>4</th>\n",
       "      <td>Dining bar</td>\n",
       "      <td>18.820835</td>\n",
       "      <td>15.677862</td>\n",
       "      <td>1.980495</td>\n",
       "    </tr>\n",
       "    <tr>\n",
       "      <th>5</th>\n",
       "      <td>International cuisine</td>\n",
       "      <td>26.410256</td>\n",
       "      <td>18.798410</td>\n",
       "      <td>2.388465</td>\n",
       "    </tr>\n",
       "    <tr>\n",
       "      <th>6</th>\n",
       "      <td>Italian/French</td>\n",
       "      <td>22.712401</td>\n",
       "      <td>19.495079</td>\n",
       "      <td>2.005771</td>\n",
       "    </tr>\n",
       "    <tr>\n",
       "      <th>7</th>\n",
       "      <td>Izakaya</td>\n",
       "      <td>23.771219</td>\n",
       "      <td>19.498812</td>\n",
       "      <td>1.880011</td>\n",
       "    </tr>\n",
       "    <tr>\n",
       "      <th>8</th>\n",
       "      <td>Japanese food</td>\n",
       "      <td>19.475616</td>\n",
       "      <td>17.880624</td>\n",
       "      <td>1.980747</td>\n",
       "    </tr>\n",
       "    <tr>\n",
       "      <th>9</th>\n",
       "      <td>Karaoke/Party</td>\n",
       "      <td>34.641509</td>\n",
       "      <td>21.791195</td>\n",
       "      <td>2.096772</td>\n",
       "    </tr>\n",
       "    <tr>\n",
       "      <th>10</th>\n",
       "      <td>Okonomiyaki/Monja/Teppanyaki</td>\n",
       "      <td>23.706667</td>\n",
       "      <td>21.298417</td>\n",
       "      <td>2.025619</td>\n",
       "    </tr>\n",
       "    <tr>\n",
       "      <th>11</th>\n",
       "      <td>Other</td>\n",
       "      <td>20.190931</td>\n",
       "      <td>18.298651</td>\n",
       "      <td>1.904670</td>\n",
       "    </tr>\n",
       "    <tr>\n",
       "      <th>12</th>\n",
       "      <td>Western food</td>\n",
       "      <td>22.624498</td>\n",
       "      <td>17.988562</td>\n",
       "      <td>1.985201</td>\n",
       "    </tr>\n",
       "    <tr>\n",
       "      <th>13</th>\n",
       "      <td>Yakiniku/Korean food</td>\n",
       "      <td>23.156118</td>\n",
       "      <td>20.428679</td>\n",
       "      <td>1.947724</td>\n",
       "    </tr>\n",
       "  </tbody>\n",
       "</table>\n",
       "</div>"
      ],
      "text/plain": [
       "                      genre_name   visitors       pred  pred_std\n",
       "0                          Asian  37.127273  17.694677  2.218089\n",
       "1                   Bar/Cocktail  13.279608  10.677196  1.827150\n",
       "2                    Cafe/Sweets  23.337569  20.277655  1.878754\n",
       "3               Creative cuisine  26.486005  21.370933  1.913270\n",
       "4                     Dining bar  18.820835  15.677862  1.980495\n",
       "5          International cuisine  26.410256  18.798410  2.388465\n",
       "6                 Italian/French  22.712401  19.495079  2.005771\n",
       "7                        Izakaya  23.771219  19.498812  1.880011\n",
       "8                  Japanese food  19.475616  17.880624  1.980747\n",
       "9                  Karaoke/Party  34.641509  21.791195  2.096772\n",
       "10  Okonomiyaki/Monja/Teppanyaki  23.706667  21.298417  2.025619\n",
       "11                         Other  20.190931  18.298651  1.904670\n",
       "12                  Western food  22.624498  17.988562  1.985201\n",
       "13          Yakiniku/Korean food  23.156118  20.428679  1.947724"
      ]
     },
     "execution_count": 65,
     "metadata": {},
     "output_type": "execute_result"
    }
   ],
   "source": [
    "enc_summ"
   ]
  },
  {
   "cell_type": "markdown",
   "metadata": {
    "heading_collapsed": true
   },
   "source": [
    "# Tree interpreter\n"
   ]
  },
  {
   "cell_type": "code",
   "execution_count": 67,
   "metadata": {
    "hidden": true
   },
   "outputs": [],
   "source": [
    "from treeinterpreter import treeinterpreter as ti"
   ]
  },
  {
   "cell_type": "code",
   "execution_count": 68,
   "metadata": {
    "hidden": true
   },
   "outputs": [
    {
     "data": {
      "text/plain": [
       "array([[   1.     ,    7.     ,    6.     ,  450.     ,    1.83413,   25.     ,   84.     ,    1.88624,\n",
       "          12.     ,   69.     ,   45.     ,    1.40543,    1.42265,    3.     ,   -0.68605,   -0.18596,\n",
       "          -0.67694,   -0.1581 ,    0.     ,   35.     ,    0.     ]])"
      ]
     },
     "execution_count": 68,
     "metadata": {},
     "output_type": "execute_result"
    }
   ],
   "source": [
    "row = X_valid.values[None,0]; row"
   ]
  },
  {
   "cell_type": "code",
   "execution_count": 69,
   "metadata": {
    "hidden": true
   },
   "outputs": [],
   "source": [
    "prediction, bias, contributions = ti.predict(m, row)"
   ]
  },
  {
   "cell_type": "code",
   "execution_count": 70,
   "metadata": {
    "hidden": true
   },
   "outputs": [
    {
     "data": {
      "text/plain": [
       "(3.4392016761615194, 2.8002709957732206)"
      ]
     },
     "execution_count": 70,
     "metadata": {},
     "output_type": "execute_result"
    }
   ],
   "source": [
    "prediction[0], bias[0]"
   ]
  },
  {
   "cell_type": "code",
   "execution_count": 71,
   "metadata": {
    "hidden": true
   },
   "outputs": [],
   "source": [
    "idxs = np.argsort(contributions[0])"
   ]
  },
  {
   "cell_type": "code",
   "execution_count": 73,
   "metadata": {
    "hidden": true
   },
   "outputs": [
    {
     "data": {
      "text/plain": [
       "[('visit_Elapsed', 183.0, -0.071514926613036184),\n",
       " ('air_loc', 69.0, -0.016864963159615231),\n",
       " ('stores_in_air_loc', -0.15810222944651017, -0.012196819936200165),\n",
       " ('area_name', 45.0, -0.011989975220242621),\n",
       " ('visit_Dayofyear', 183.0, -0.0051088356225353349),\n",
       " ('hpg_genre_name', 0.0, 0.0034689967357795061),\n",
       " ('std_visits_in_area_name', 0.9717744944336782, 0.0083173268337478519),\n",
       " ('hpg_loc', 35.0, 0.012676410884746914),\n",
       " ('max_visits_in_air_loc', -0.5084147876939403, 0.013161828844448598),\n",
       " ('stores_in_area_name', -0.18596131089351278, 0.014877503610547427),\n",
       " ('genre_name', 7.0, 0.015185691376606358),\n",
       " ('visit_Month', 7.0, 0.015746843540219858),\n",
       " ('visit_Day', 1.0, 0.016314787128898268),\n",
       " ('visit_Week', 26.0, 0.020107236634243318),\n",
       " ('std_visits_in_air_loc', 0.964317762725145, 0.023366772205020658),\n",
       " ('air_store_id', 1.0, 0.025112464677193413),\n",
       " ('hpg_area_name', 0.0, 0.035259543478246724),\n",
       " ('max_visits_in_area_name', -0.5185350940077101, 0.036990592214938833),\n",
       " ('mean_visits_in_area_name', 1.3461719284277707, 0.14022746526765684),\n",
       " ('visit_Dayofweek', 5.0, 0.17150715577276099),\n",
       " ('mean_visits_in_air_loc', 1.3089832397024193, 0.20428558173487224)]"
      ]
     },
     "execution_count": 73,
     "metadata": {},
     "output_type": "execute_result"
    }
   ],
   "source": [
    "[o for o in zip(X_train.columns[idxs], X_train.iloc[0][idxs], contributions[0][idxs])]"
   ]
  },
  {
   "cell_type": "code",
   "execution_count": 74,
   "metadata": {
    "hidden": true
   },
   "outputs": [
    {
     "data": {
      "text/plain": [
       "0.63893068038829837"
      ]
     },
     "execution_count": 74,
     "metadata": {},
     "output_type": "execute_result"
    }
   ],
   "source": [
    "contributions[0].sum()"
   ]
  },
  {
   "cell_type": "markdown",
   "metadata": {
    "heading_collapsed": true
   },
   "source": [
    "# Extrapolation"
   ]
  },
  {
   "cell_type": "code",
   "execution_count": 80,
   "metadata": {
    "hidden": true
   },
   "outputs": [],
   "source": [
    "df_ext = pd.concat((X_train.copy(), X_valid.copy()))\n",
    "df_ext['is_valid'] = 1\n",
    "df_ext.is_valid[:len(X_train)] = 0\n",
    "x, y, _ = proc_df(df_ext, 'is_valid')"
   ]
  },
  {
   "cell_type": "code",
   "execution_count": 81,
   "metadata": {
    "hidden": true
   },
   "outputs": [
    {
     "data": {
      "text/plain": [
       "0.9988541450404842"
      ]
     },
     "execution_count": 81,
     "metadata": {},
     "output_type": "execute_result"
    }
   ],
   "source": [
    "m = RandomForestClassifier(n_estimators=40, min_samples_leaf=3, max_features=0.5, n_jobs=-1, oob_score=True)\n",
    "m.fit(x, y);\n",
    "m.oob_score_"
   ]
  },
  {
   "cell_type": "code",
   "execution_count": 82,
   "metadata": {
    "hidden": true
   },
   "outputs": [
    {
     "data": {
      "text/html": [
       "<div>\n",
       "<style scoped>\n",
       "    .dataframe tbody tr th:only-of-type {\n",
       "        vertical-align: middle;\n",
       "    }\n",
       "\n",
       "    .dataframe tbody tr th {\n",
       "        vertical-align: top;\n",
       "    }\n",
       "\n",
       "    .dataframe thead th {\n",
       "        text-align: right;\n",
       "    }\n",
       "</style>\n",
       "<table border=\"1\" class=\"dataframe\">\n",
       "  <thead>\n",
       "    <tr style=\"text-align: right;\">\n",
       "      <th></th>\n",
       "      <th>cols</th>\n",
       "      <th>imp</th>\n",
       "    </tr>\n",
       "  </thead>\n",
       "  <tbody>\n",
       "    <tr>\n",
       "      <th>3</th>\n",
       "      <td>visit_Elapsed</td>\n",
       "      <td>0.607622</td>\n",
       "    </tr>\n",
       "    <tr>\n",
       "      <th>6</th>\n",
       "      <td>visit_Dayofyear</td>\n",
       "      <td>0.082584</td>\n",
       "    </tr>\n",
       "    <tr>\n",
       "      <th>8</th>\n",
       "      <td>visit_Week</td>\n",
       "      <td>0.057169</td>\n",
       "    </tr>\n",
       "    <tr>\n",
       "      <th>14</th>\n",
       "      <td>max_visits_in_area_name</td>\n",
       "      <td>0.053746</td>\n",
       "    </tr>\n",
       "    <tr>\n",
       "      <th>16</th>\n",
       "      <td>max_visits_in_air_loc</td>\n",
       "      <td>0.041384</td>\n",
       "    </tr>\n",
       "    <tr>\n",
       "      <th>17</th>\n",
       "      <td>stores_in_air_loc</td>\n",
       "      <td>0.037159</td>\n",
       "    </tr>\n",
       "    <tr>\n",
       "      <th>13</th>\n",
       "      <td>visit_Month</td>\n",
       "      <td>0.026922</td>\n",
       "    </tr>\n",
       "    <tr>\n",
       "      <th>15</th>\n",
       "      <td>stores_in_area_name</td>\n",
       "      <td>0.020840</td>\n",
       "    </tr>\n",
       "    <tr>\n",
       "      <th>11</th>\n",
       "      <td>std_visits_in_air_loc</td>\n",
       "      <td>0.019514</td>\n",
       "    </tr>\n",
       "    <tr>\n",
       "      <th>12</th>\n",
       "      <td>std_visits_in_area_name</td>\n",
       "      <td>0.016232</td>\n",
       "    </tr>\n",
       "  </tbody>\n",
       "</table>\n",
       "</div>"
      ],
      "text/plain": [
       "                       cols       imp\n",
       "3             visit_Elapsed  0.607622\n",
       "6           visit_Dayofyear  0.082584\n",
       "8                visit_Week  0.057169\n",
       "14  max_visits_in_area_name  0.053746\n",
       "16    max_visits_in_air_loc  0.041384\n",
       "17        stores_in_air_loc  0.037159\n",
       "13              visit_Month  0.026922\n",
       "15      stores_in_area_name  0.020840\n",
       "11    std_visits_in_air_loc  0.019514\n",
       "12  std_visits_in_area_name  0.016232"
      ]
     },
     "execution_count": 82,
     "metadata": {},
     "output_type": "execute_result"
    }
   ],
   "source": [
    "fi = rf_feat_importance(m, x); fi[:10]"
   ]
  },
  {
   "cell_type": "code",
   "execution_count": 83,
   "metadata": {
    "hidden": true
   },
   "outputs": [],
   "source": [
    "feats=['visit_Elapsed', 'visit_Dayofyear', 'visit_Week']"
   ]
  },
  {
   "cell_type": "code",
   "execution_count": 84,
   "metadata": {
    "hidden": true
   },
   "outputs": [
    {
     "data": {
      "text/html": [
       "<div>\n",
       "<style scoped>\n",
       "    .dataframe tbody tr th:only-of-type {\n",
       "        vertical-align: middle;\n",
       "    }\n",
       "\n",
       "    .dataframe tbody tr th {\n",
       "        vertical-align: top;\n",
       "    }\n",
       "\n",
       "    .dataframe thead th {\n",
       "        text-align: right;\n",
       "    }\n",
       "</style>\n",
       "<table border=\"1\" class=\"dataframe\">\n",
       "  <thead>\n",
       "    <tr style=\"text-align: right;\">\n",
       "      <th></th>\n",
       "      <th>visit_Elapsed</th>\n",
       "      <th>visit_Dayofyear</th>\n",
       "      <th>visit_Week</th>\n",
       "    </tr>\n",
       "  </thead>\n",
       "  <tbody>\n",
       "    <tr>\n",
       "      <th>count</th>\n",
       "      <td>225049.000000</td>\n",
       "      <td>225049.000000</td>\n",
       "      <td>225049.000000</td>\n",
       "    </tr>\n",
       "    <tr>\n",
       "      <th>mean</th>\n",
       "      <td>0.267299</td>\n",
       "      <td>0.182896</td>\n",
       "      <td>0.026270</td>\n",
       "    </tr>\n",
       "    <tr>\n",
       "      <th>std</th>\n",
       "      <td>0.114545</td>\n",
       "      <td>0.115288</td>\n",
       "      <td>0.016392</td>\n",
       "    </tr>\n",
       "    <tr>\n",
       "      <th>min</th>\n",
       "      <td>0.001000</td>\n",
       "      <td>0.001000</td>\n",
       "      <td>0.001000</td>\n",
       "    </tr>\n",
       "    <tr>\n",
       "      <th>25%</th>\n",
       "      <td>0.196000</td>\n",
       "      <td>0.062000</td>\n",
       "      <td>0.009000</td>\n",
       "    </tr>\n",
       "    <tr>\n",
       "      <th>50%</th>\n",
       "      <td>0.279000</td>\n",
       "      <td>0.202000</td>\n",
       "      <td>0.029000</td>\n",
       "    </tr>\n",
       "    <tr>\n",
       "      <th>75%</th>\n",
       "      <td>0.359000</td>\n",
       "      <td>0.285000</td>\n",
       "      <td>0.041000</td>\n",
       "    </tr>\n",
       "    <tr>\n",
       "      <th>max</th>\n",
       "      <td>0.476000</td>\n",
       "      <td>0.366000</td>\n",
       "      <td>0.053000</td>\n",
       "    </tr>\n",
       "  </tbody>\n",
       "</table>\n",
       "</div>"
      ],
      "text/plain": [
       "       visit_Elapsed  visit_Dayofyear     visit_Week\n",
       "count  225049.000000    225049.000000  225049.000000\n",
       "mean        0.267299         0.182896       0.026270\n",
       "std         0.114545         0.115288       0.016392\n",
       "min         0.001000         0.001000       0.001000\n",
       "25%         0.196000         0.062000       0.009000\n",
       "50%         0.279000         0.202000       0.029000\n",
       "75%         0.359000         0.285000       0.041000\n",
       "max         0.476000         0.366000       0.053000"
      ]
     },
     "execution_count": 84,
     "metadata": {},
     "output_type": "execute_result"
    }
   ],
   "source": [
    "(X_train[feats]/1000).describe()"
   ]
  },
  {
   "cell_type": "code",
   "execution_count": 85,
   "metadata": {
    "hidden": true
   },
   "outputs": [
    {
     "data": {
      "text/html": [
       "<div>\n",
       "<style scoped>\n",
       "    .dataframe tbody tr th:only-of-type {\n",
       "        vertical-align: middle;\n",
       "    }\n",
       "\n",
       "    .dataframe tbody tr th {\n",
       "        vertical-align: top;\n",
       "    }\n",
       "\n",
       "    .dataframe thead th {\n",
       "        text-align: right;\n",
       "    }\n",
       "</style>\n",
       "<table border=\"1\" class=\"dataframe\">\n",
       "  <thead>\n",
       "    <tr style=\"text-align: right;\">\n",
       "      <th></th>\n",
       "      <th>visit_Elapsed</th>\n",
       "      <th>visit_Dayofyear</th>\n",
       "      <th>visit_Week</th>\n",
       "    </tr>\n",
       "  </thead>\n",
       "  <tbody>\n",
       "    <tr>\n",
       "      <th>count</th>\n",
       "      <td>25419.000000</td>\n",
       "      <td>25419.000000</td>\n",
       "      <td>25419.000000</td>\n",
       "    </tr>\n",
       "    <tr>\n",
       "      <th>mean</th>\n",
       "      <td>0.430037</td>\n",
       "      <td>0.093751</td>\n",
       "      <td>0.013671</td>\n",
       "    </tr>\n",
       "    <tr>\n",
       "      <th>std</th>\n",
       "      <td>0.110584</td>\n",
       "      <td>0.015042</td>\n",
       "      <td>0.002156</td>\n",
       "    </tr>\n",
       "    <tr>\n",
       "      <th>min</th>\n",
       "      <td>0.000000</td>\n",
       "      <td>0.035000</td>\n",
       "      <td>0.005000</td>\n",
       "    </tr>\n",
       "    <tr>\n",
       "      <th>25%</th>\n",
       "      <td>0.449000</td>\n",
       "      <td>0.085000</td>\n",
       "      <td>0.012000</td>\n",
       "    </tr>\n",
       "    <tr>\n",
       "      <th>50%</th>\n",
       "      <td>0.458000</td>\n",
       "      <td>0.095000</td>\n",
       "      <td>0.014000</td>\n",
       "    </tr>\n",
       "    <tr>\n",
       "      <th>75%</th>\n",
       "      <td>0.468000</td>\n",
       "      <td>0.104000</td>\n",
       "      <td>0.015000</td>\n",
       "    </tr>\n",
       "    <tr>\n",
       "      <th>max</th>\n",
       "      <td>0.476000</td>\n",
       "      <td>0.363000</td>\n",
       "      <td>0.052000</td>\n",
       "    </tr>\n",
       "  </tbody>\n",
       "</table>\n",
       "</div>"
      ],
      "text/plain": [
       "       visit_Elapsed  visit_Dayofyear    visit_Week\n",
       "count   25419.000000     25419.000000  25419.000000\n",
       "mean        0.430037         0.093751      0.013671\n",
       "std         0.110584         0.015042      0.002156\n",
       "min         0.000000         0.035000      0.005000\n",
       "25%         0.449000         0.085000      0.012000\n",
       "50%         0.458000         0.095000      0.014000\n",
       "75%         0.468000         0.104000      0.015000\n",
       "max         0.476000         0.363000      0.052000"
      ]
     },
     "execution_count": 85,
     "metadata": {},
     "output_type": "execute_result"
    }
   ],
   "source": [
    "(X_valid[feats]/1000).describe()"
   ]
  },
  {
   "cell_type": "code",
   "execution_count": 86,
   "metadata": {
    "hidden": true
   },
   "outputs": [],
   "source": [
    "x.drop(feats, axis=1, inplace=True)"
   ]
  },
  {
   "cell_type": "code",
   "execution_count": 87,
   "metadata": {
    "hidden": true
   },
   "outputs": [
    {
     "data": {
      "text/plain": [
       "0.99990018685021642"
      ]
     },
     "execution_count": 87,
     "metadata": {},
     "output_type": "execute_result"
    }
   ],
   "source": [
    "m = RandomForestClassifier(n_estimators=40, min_samples_leaf=3, max_features=0.5, n_jobs=-1, oob_score=True)\n",
    "m.fit(x, y);\n",
    "m.oob_score_"
   ]
  },
  {
   "cell_type": "code",
   "execution_count": 88,
   "metadata": {
    "hidden": true
   },
   "outputs": [
    {
     "data": {
      "text/html": [
       "<div>\n",
       "<style scoped>\n",
       "    .dataframe tbody tr th:only-of-type {\n",
       "        vertical-align: middle;\n",
       "    }\n",
       "\n",
       "    .dataframe tbody tr th {\n",
       "        vertical-align: top;\n",
       "    }\n",
       "\n",
       "    .dataframe thead th {\n",
       "        text-align: right;\n",
       "    }\n",
       "</style>\n",
       "<table border=\"1\" class=\"dataframe\">\n",
       "  <thead>\n",
       "    <tr style=\"text-align: right;\">\n",
       "      <th></th>\n",
       "      <th>cols</th>\n",
       "      <th>imp</th>\n",
       "    </tr>\n",
       "  </thead>\n",
       "  <tbody>\n",
       "    <tr>\n",
       "      <th>10</th>\n",
       "      <td>visit_Month</td>\n",
       "      <td>0.331620</td>\n",
       "    </tr>\n",
       "    <tr>\n",
       "      <th>11</th>\n",
       "      <td>max_visits_in_area_name</td>\n",
       "      <td>0.163644</td>\n",
       "    </tr>\n",
       "    <tr>\n",
       "      <th>13</th>\n",
       "      <td>max_visits_in_air_loc</td>\n",
       "      <td>0.117868</td>\n",
       "    </tr>\n",
       "    <tr>\n",
       "      <th>14</th>\n",
       "      <td>stores_in_air_loc</td>\n",
       "      <td>0.107236</td>\n",
       "    </tr>\n",
       "    <tr>\n",
       "      <th>9</th>\n",
       "      <td>std_visits_in_area_name</td>\n",
       "      <td>0.056961</td>\n",
       "    </tr>\n",
       "    <tr>\n",
       "      <th>12</th>\n",
       "      <td>stores_in_area_name</td>\n",
       "      <td>0.049920</td>\n",
       "    </tr>\n",
       "    <tr>\n",
       "      <th>8</th>\n",
       "      <td>std_visits_in_air_loc</td>\n",
       "      <td>0.046896</td>\n",
       "    </tr>\n",
       "    <tr>\n",
       "      <th>5</th>\n",
       "      <td>mean_visits_in_area_name</td>\n",
       "      <td>0.037133</td>\n",
       "    </tr>\n",
       "    <tr>\n",
       "      <th>3</th>\n",
       "      <td>mean_visits_in_air_loc</td>\n",
       "      <td>0.028752</td>\n",
       "    </tr>\n",
       "    <tr>\n",
       "      <th>6</th>\n",
       "      <td>air_loc</td>\n",
       "      <td>0.025400</td>\n",
       "    </tr>\n",
       "  </tbody>\n",
       "</table>\n",
       "</div>"
      ],
      "text/plain": [
       "                        cols       imp\n",
       "10               visit_Month  0.331620\n",
       "11   max_visits_in_area_name  0.163644\n",
       "13     max_visits_in_air_loc  0.117868\n",
       "14         stores_in_air_loc  0.107236\n",
       "9    std_visits_in_area_name  0.056961\n",
       "12       stores_in_area_name  0.049920\n",
       "8      std_visits_in_air_loc  0.046896\n",
       "5   mean_visits_in_area_name  0.037133\n",
       "3     mean_visits_in_air_loc  0.028752\n",
       "6                    air_loc  0.025400"
      ]
     },
     "execution_count": 88,
     "metadata": {},
     "output_type": "execute_result"
    }
   ],
   "source": [
    "fi = rf_feat_importance(m, x); fi[:10]"
   ]
  },
  {
   "cell_type": "code",
   "execution_count": 89,
   "metadata": {
    "hidden": true
   },
   "outputs": [],
   "source": [
    "feats=['visit_Elapsed', 'visit_Dayofyear', 'visit_Week', 'visit_Month', 'max_visits_in_area_name']"
   ]
  },
  {
   "cell_type": "code",
   "execution_count": 91,
   "metadata": {
    "hidden": true
   },
   "outputs": [
    {
     "name": "stdout",
     "output_type": "stream",
     "text": [
      "visit_Elapsed\n"
     ]
    },
    {
     "ename": "ValueError",
     "evalue": "Number of features of the model must match the input. Model n_features is 20 and input n_features is 21 ",
     "output_type": "error",
     "traceback": [
      "\u001b[0;31m---------------------------------------------------------------------------\u001b[0m",
      "\u001b[0;31mValueError\u001b[0m                                Traceback (most recent call last)",
      "\u001b[0;32m<ipython-input-91-f8b2ad0429cc>\u001b[0m in \u001b[0;36m<module>\u001b[0;34m()\u001b[0m\n\u001b[1;32m      4\u001b[0m     \u001b[0mm\u001b[0m\u001b[0;34m.\u001b[0m\u001b[0mfit\u001b[0m\u001b[0;34m(\u001b[0m\u001b[0mdf_subs\u001b[0m\u001b[0;34m,\u001b[0m \u001b[0my_train\u001b[0m\u001b[0;34m)\u001b[0m\u001b[0;34m\u001b[0m\u001b[0m\n\u001b[1;32m      5\u001b[0m     \u001b[0mprint\u001b[0m\u001b[0;34m(\u001b[0m\u001b[0mf\u001b[0m\u001b[0;34m)\u001b[0m\u001b[0;34m\u001b[0m\u001b[0m\n\u001b[0;32m----> 6\u001b[0;31m     \u001b[0mprint_score\u001b[0m\u001b[0;34m(\u001b[0m\u001b[0mm\u001b[0m\u001b[0;34m)\u001b[0m\u001b[0;34m\u001b[0m\u001b[0m\n\u001b[0m",
      "\u001b[0;32m<ipython-input-14-ca7579f3eeed>\u001b[0m in \u001b[0;36mprint_score\u001b[0;34m(m)\u001b[0m\n\u001b[1;32m      5\u001b[0m \u001b[0;34m\u001b[0m\u001b[0m\n\u001b[1;32m      6\u001b[0m \u001b[0;32mdef\u001b[0m \u001b[0mprint_score\u001b[0m\u001b[0;34m(\u001b[0m\u001b[0mm\u001b[0m\u001b[0;34m)\u001b[0m\u001b[0;34m:\u001b[0m\u001b[0;34m\u001b[0m\u001b[0m\n\u001b[0;32m----> 7\u001b[0;31m     res = [rmse(m.predict(X_train), y_train), rmse(m.predict(X_valid), y_valid),\n\u001b[0m\u001b[1;32m      8\u001b[0m                 m.score(X_train, y_train), m.score(X_valid, y_valid)]\n\u001b[1;32m      9\u001b[0m     \u001b[0;32mif\u001b[0m \u001b[0mhasattr\u001b[0m\u001b[0;34m(\u001b[0m\u001b[0mm\u001b[0m\u001b[0;34m,\u001b[0m \u001b[0;34m'oob_score_'\u001b[0m\u001b[0;34m)\u001b[0m\u001b[0;34m:\u001b[0m \u001b[0mres\u001b[0m\u001b[0;34m.\u001b[0m\u001b[0mappend\u001b[0m\u001b[0;34m(\u001b[0m\u001b[0mm\u001b[0m\u001b[0;34m.\u001b[0m\u001b[0moob_score_\u001b[0m\u001b[0;34m)\u001b[0m\u001b[0;34m\u001b[0m\u001b[0m\n",
      "\u001b[0;32m/Library/Frameworks/Python.framework/Versions/3.6/lib/python3.6/site-packages/sklearn/ensemble/forest.py\u001b[0m in \u001b[0;36mpredict\u001b[0;34m(self, X)\u001b[0m\n\u001b[1;32m    679\u001b[0m         \u001b[0mcheck_is_fitted\u001b[0m\u001b[0;34m(\u001b[0m\u001b[0mself\u001b[0m\u001b[0;34m,\u001b[0m \u001b[0;34m'estimators_'\u001b[0m\u001b[0;34m)\u001b[0m\u001b[0;34m\u001b[0m\u001b[0m\n\u001b[1;32m    680\u001b[0m         \u001b[0;31m# Check data\u001b[0m\u001b[0;34m\u001b[0m\u001b[0;34m\u001b[0m\u001b[0m\n\u001b[0;32m--> 681\u001b[0;31m         \u001b[0mX\u001b[0m \u001b[0;34m=\u001b[0m \u001b[0mself\u001b[0m\u001b[0;34m.\u001b[0m\u001b[0m_validate_X_predict\u001b[0m\u001b[0;34m(\u001b[0m\u001b[0mX\u001b[0m\u001b[0;34m)\u001b[0m\u001b[0;34m\u001b[0m\u001b[0m\n\u001b[0m\u001b[1;32m    682\u001b[0m \u001b[0;34m\u001b[0m\u001b[0m\n\u001b[1;32m    683\u001b[0m         \u001b[0;31m# Assign chunk of trees to jobs\u001b[0m\u001b[0;34m\u001b[0m\u001b[0;34m\u001b[0m\u001b[0m\n",
      "\u001b[0;32m/Library/Frameworks/Python.framework/Versions/3.6/lib/python3.6/site-packages/sklearn/ensemble/forest.py\u001b[0m in \u001b[0;36m_validate_X_predict\u001b[0;34m(self, X)\u001b[0m\n\u001b[1;32m    355\u001b[0m                                  \"call `fit` before exploiting the model.\")\n\u001b[1;32m    356\u001b[0m \u001b[0;34m\u001b[0m\u001b[0m\n\u001b[0;32m--> 357\u001b[0;31m         \u001b[0;32mreturn\u001b[0m \u001b[0mself\u001b[0m\u001b[0;34m.\u001b[0m\u001b[0mestimators_\u001b[0m\u001b[0;34m[\u001b[0m\u001b[0;36m0\u001b[0m\u001b[0;34m]\u001b[0m\u001b[0;34m.\u001b[0m\u001b[0m_validate_X_predict\u001b[0m\u001b[0;34m(\u001b[0m\u001b[0mX\u001b[0m\u001b[0;34m,\u001b[0m \u001b[0mcheck_input\u001b[0m\u001b[0;34m=\u001b[0m\u001b[0;32mTrue\u001b[0m\u001b[0;34m)\u001b[0m\u001b[0;34m\u001b[0m\u001b[0m\n\u001b[0m\u001b[1;32m    358\u001b[0m \u001b[0;34m\u001b[0m\u001b[0m\n\u001b[1;32m    359\u001b[0m     \u001b[0;34m@\u001b[0m\u001b[0mproperty\u001b[0m\u001b[0;34m\u001b[0m\u001b[0m\n",
      "\u001b[0;32m/Library/Frameworks/Python.framework/Versions/3.6/lib/python3.6/site-packages/sklearn/tree/tree.py\u001b[0m in \u001b[0;36m_validate_X_predict\u001b[0;34m(self, X, check_input)\u001b[0m\n\u001b[1;32m    382\u001b[0m                              \u001b[0;34m\"match the input. Model n_features is %s and \"\u001b[0m\u001b[0;34m\u001b[0m\u001b[0m\n\u001b[1;32m    383\u001b[0m                              \u001b[0;34m\"input n_features is %s \"\u001b[0m\u001b[0;34m\u001b[0m\u001b[0m\n\u001b[0;32m--> 384\u001b[0;31m                              % (self.n_features_, n_features))\n\u001b[0m\u001b[1;32m    385\u001b[0m \u001b[0;34m\u001b[0m\u001b[0m\n\u001b[1;32m    386\u001b[0m         \u001b[0;32mreturn\u001b[0m \u001b[0mX\u001b[0m\u001b[0;34m\u001b[0m\u001b[0m\n",
      "\u001b[0;31mValueError\u001b[0m: Number of features of the model must match the input. Model n_features is 20 and input n_features is 21 "
     ]
    }
   ],
   "source": [
    "for f in feats:\n",
    "    df_subs = X_train.drop(f, axis=1).copy()\n",
    "    m = RandomForestRegressor(n_estimators=40, min_samples_leaf=3, max_features=0.5, n_jobs=-1, oob_score=True)\n",
    "    m.fit(df_subs, y_train)\n",
    "    print(f)\n",
    "    print_score(m)"
   ]
  },
  {
   "cell_type": "code",
   "execution_count": null,
   "metadata": {
    "hidden": true
   },
   "outputs": [],
   "source": []
  },
  {
   "cell_type": "code",
   "execution_count": null,
   "metadata": {
    "hidden": true
   },
   "outputs": [],
   "source": []
  },
  {
   "cell_type": "code",
   "execution_count": null,
   "metadata": {
    "hidden": true
   },
   "outputs": [],
   "source": []
  },
  {
   "cell_type": "code",
   "execution_count": null,
   "metadata": {
    "hidden": true
   },
   "outputs": [],
   "source": []
  },
  {
   "cell_type": "code",
   "execution_count": null,
   "metadata": {
    "hidden": true
   },
   "outputs": [],
   "source": []
  },
  {
   "cell_type": "code",
   "execution_count": null,
   "metadata": {
    "hidden": true
   },
   "outputs": [],
   "source": []
  },
  {
   "cell_type": "code",
   "execution_count": null,
   "metadata": {
    "hidden": true
   },
   "outputs": [],
   "source": []
  },
  {
   "cell_type": "markdown",
   "metadata": {
    "heading_collapsed": true
   },
   "source": [
    "# DL"
   ]
  },
  {
   "cell_type": "code",
   "execution_count": 102,
   "metadata": {
    "hidden": true
   },
   "outputs": [],
   "source": [
    "def inv_y(a): return np.exp(a)\n",
    "\n",
    "def rmsle(y_pred, targ):\n",
    "#     targ = inv_y(targ)\n",
    "    log_vars = np.log(targ + 1) - np.log(y_pred + 1)\n",
    "    return math.sqrt(np.square(log_vars).mean())\n",
    "\n",
    "max_log_y = np.max(yl)\n",
    "y_range = (0, max_log_y*1.2)"
   ]
  },
  {
   "cell_type": "code",
   "execution_count": 103,
   "metadata": {
    "hidden": true
   },
   "outputs": [],
   "source": [
    "md = ColumnarModelData.from_data_frames(PATH, df, df_val, yl.astype(np.float32), y2.astype(np.float32), cat_flds=cat_vars, bs=128, test_df=df_test)"
   ]
  },
  {
   "cell_type": "code",
   "execution_count": 104,
   "metadata": {
    "hidden": true
   },
   "outputs": [],
   "source": [
    "cat_sz = [(c, len(train_set[c].cat.categories)+1) for c in cat_vars]\n",
    "emb_szs = [(c, min(50, (c+1)//2)) for _,c in cat_sz]"
   ]
  },
  {
   "cell_type": "code",
   "execution_count": 105,
   "metadata": {
    "hidden": true
   },
   "outputs": [],
   "source": [
    "m = md.get_learner(emb_szs, len(df.columns)-len(cat_vars),\n",
    "                   0.04, 1, [1000,500], [0.001,0.01], y_range=y_range)"
   ]
  },
  {
   "cell_type": "code",
   "execution_count": 106,
   "metadata": {
    "hidden": true
   },
   "outputs": [
    {
     "data": {
      "application/vnd.jupyter.widget-view+json": {
       "model_id": "826e8b5baf23414fb32d6c65d597b495",
       "version_major": 2,
       "version_minor": 0
      },
      "text/html": [
       "<p>Failed to display Jupyter Widget of type <code>HBox</code>.</p>\n",
       "<p>\n",
       "  If you're reading this message in the Jupyter Notebook or JupyterLab Notebook, it may mean\n",
       "  that the widgets JavaScript is still loading. If this message persists, it\n",
       "  likely means that the widgets JavaScript library is either not installed or\n",
       "  not enabled. See the <a href=\"https://ipywidgets.readthedocs.io/en/stable/user_install.html\">Jupyter\n",
       "  Widgets Documentation</a> for setup instructions.\n",
       "</p>\n",
       "<p>\n",
       "  If you're reading this message in another frontend (for example, a static\n",
       "  rendering on GitHub or <a href=\"https://nbviewer.jupyter.org/\">NBViewer</a>),\n",
       "  it may mean that your frontend doesn't currently support widgets.\n",
       "</p>\n"
      ],
      "text/plain": [
       "HBox(children=(IntProgress(value=0, description='Epoch', max=1), HTML(value='')))"
      ]
     },
     "metadata": {},
     "output_type": "display_data"
    },
    {
     "name": "stdout",
     "output_type": "stream",
     "text": [
      "  3%|▎         | 52/1759 [00:02<01:23, 20.42it/s, loss=0.934] \n",
      "  3%|▎         | 54/1759 [00:02<01:26, 19.65it/s, loss=0.893]"
     ]
    },
    {
     "name": "stderr",
     "output_type": "stream",
     "text": [
      "Exception in thread Thread-8:\n",
      "Traceback (most recent call last):\n",
      "  File \"/usr/local/lib/python3.6/threading.py\", line 916, in _bootstrap_inner\n",
      "    self.run()\n",
      "  File \"/usr/local/lib/python3.6/site-packages/tqdm/_tqdm.py\", line 144, in run\n",
      "    for instance in self.tqdm_cls._instances:\n",
      "  File \"/usr/local/lib/python3.6/_weakrefset.py\", line 60, in __iter__\n",
      "    for itemref in self.data:\n",
      "RuntimeError: Set changed size during iteration\n",
      "\n"
     ]
    },
    {
     "name": "stdout",
     "output_type": "stream",
     "text": [
      " 59%|█████▉    | 1034/1759 [00:14<00:09, 72.91it/s, loss=1.36] \n"
     ]
    }
   ],
   "source": [
    "m.lr_find()\n"
   ]
  },
  {
   "cell_type": "code",
   "execution_count": 107,
   "metadata": {
    "hidden": true
   },
   "outputs": [
    {
     "data": {
      "image/png": "[encoded data removed]",
      "text/plain": [
       "<matplotlib.figure.Figure at 0x7f65f9e010b8>"
      ]
     },
     "metadata": {},
     "output_type": "display_data"
    }
   ],
   "source": [
    "m.sched.plot(100)"
   ]
  },
  {
   "cell_type": "code",
   "execution_count": 108,
   "metadata": {
    "hidden": true
   },
   "outputs": [],
   "source": [
    "m = md.get_learner(emb_szs, len(df.columns)-len(cat_vars),\n",
    "                   0.04, 1, [1000,500], [0.001,0.01], y_range=y_range)\n",
    "lr = 1e-4/1.1"
   ]
  },
  {
   "cell_type": "code",
   "execution_count": 109,
   "metadata": {
    "hidden": true
   },
   "outputs": [
    {
     "data": {
      "application/vnd.jupyter.widget-view+json": {
       "model_id": "956e680f5af547acb6bcf6876f14cf69",
       "version_major": 2,
       "version_minor": 0
      },
      "text/html": [
       "<p>Failed to display Jupyter Widget of type <code>HBox</code>.</p>\n",
       "<p>\n",
       "  If you're reading this message in the Jupyter Notebook or JupyterLab Notebook, it may mean\n",
       "  that the widgets JavaScript is still loading. If this message persists, it\n",
       "  likely means that the widgets JavaScript library is either not installed or\n",
       "  not enabled. See the <a href=\"https://ipywidgets.readthedocs.io/en/stable/user_install.html\">Jupyter\n",
       "  Widgets Documentation</a> for setup instructions.\n",
       "</p>\n",
       "<p>\n",
       "  If you're reading this message in another frontend (for example, a static\n",
       "  rendering on GitHub or <a href=\"https://nbviewer.jupyter.org/\">NBViewer</a>),\n",
       "  it may mean that your frontend doesn't currently support widgets.\n",
       "</p>\n"
      ],
      "text/plain": [
       "HBox(children=(IntProgress(value=0, description='Epoch', max=3), HTML(value='')))"
      ]
     },
     "metadata": {},
     "output_type": "display_data"
    },
    {
     "name": "stdout",
     "output_type": "stream",
     "text": [
      "epoch      trn_loss   val_loss   rmsle                         \n",
      "    0      0.318883   0.343378   0.210507  \n",
      "    1      0.30198    0.324165   0.208273                      \n",
      "    2      0.307295   0.338393   0.209531                      \n",
      "\n"
     ]
    },
    {
     "data": {
      "text/plain": [
       "[0.3383929, 0.2095314960915929]"
      ]
     },
     "execution_count": 109,
     "metadata": {},
     "output_type": "execute_result"
    }
   ],
   "source": [
    "m.fit(lr, 3, metrics=[rmsle])"
   ]
  },
  {
   "cell_type": "code",
   "execution_count": 116,
   "metadata": {
    "hidden": true
   },
   "outputs": [
    {
     "data": {
      "application/vnd.jupyter.widget-view+json": {
       "model_id": "212188778be54020a054333737005d35",
       "version_major": 2,
       "version_minor": 0
      },
      "text/html": [
       "<p>Failed to display Jupyter Widget of type <code>HBox</code>.</p>\n",
       "<p>\n",
       "  If you're reading this message in the Jupyter Notebook or JupyterLab Notebook, it may mean\n",
       "  that the widgets JavaScript is still loading. If this message persists, it\n",
       "  likely means that the widgets JavaScript library is either not installed or\n",
       "  not enabled. See the <a href=\"https://ipywidgets.readthedocs.io/en/stable/user_install.html\">Jupyter\n",
       "  Widgets Documentation</a> for setup instructions.\n",
       "</p>\n",
       "<p>\n",
       "  If you're reading this message in another frontend (for example, a static\n",
       "  rendering on GitHub or <a href=\"https://nbviewer.jupyter.org/\">NBViewer</a>),\n",
       "  it may mean that your frontend doesn't currently support widgets.\n",
       "</p>\n"
      ],
      "text/plain": [
       "HBox(children=(IntProgress(value=0, description='Epoch', max=60), HTML(value='')))"
      ]
     },
     "metadata": {},
     "output_type": "display_data"
    },
    {
     "name": "stdout",
     "output_type": "stream",
     "text": [
      "epoch      trn_loss   val_loss   rmsle                         \n",
      "    0      0.292008   0.340122   0.210913  \n",
      "    1      0.280181   0.348281   0.211798                      \n",
      "    2      0.287628   0.35659    0.21342                       \n",
      "    3      0.290715   0.348601   0.213467                      \n",
      "    4      0.275758   0.355558   0.213066                      \n",
      "    5      0.279356   0.359688   0.214379                      \n",
      "    6      0.289535   0.368537   0.216161                      \n",
      "    7      0.283198   0.360726   0.214673                      \n",
      "    8      0.274161   0.363977   0.215295                      \n",
      "    9      0.282894   0.360507   0.215914                      \n",
      " 13%|█▎        | 225/1759 [00:04<00:31, 48.22it/s, loss=0.273]"
     ]
    },
    {
     "ename": "KeyboardInterrupt",
     "evalue": "",
     "output_type": "error",
     "traceback": [
      "\u001b[0;31m\u001b[0m",
      "\u001b[0;31mKeyboardInterrupt\u001b[0mTraceback (most recent call last)",
      "\u001b[0;32m<ipython-input-116-9df391262d18>\u001b[0m in \u001b[0;36m<module>\u001b[0;34m()\u001b[0m\n\u001b[1;32m      1\u001b[0m \u001b[0mlr\u001b[0m \u001b[0;34m=\u001b[0m \u001b[0;36m1e-4\u001b[0m\u001b[0;34m\u001b[0m\u001b[0m\n\u001b[0;32m----> 2\u001b[0;31m \u001b[0mm\u001b[0m\u001b[0;34m.\u001b[0m\u001b[0mfit\u001b[0m\u001b[0;34m(\u001b[0m\u001b[0mlr\u001b[0m\u001b[0;34m,\u001b[0m \u001b[0;36m20\u001b[0m\u001b[0;34m,\u001b[0m \u001b[0mmetrics\u001b[0m\u001b[0;34m=\u001b[0m\u001b[0;34m[\u001b[0m\u001b[0mrmsle\u001b[0m\u001b[0;34m]\u001b[0m\u001b[0;34m,\u001b[0m \u001b[0mcycle_len\u001b[0m\u001b[0;34m=\u001b[0m\u001b[0;36m3\u001b[0m\u001b[0;34m,\u001b[0m \u001b[0mcycle_mult\u001b[0m\u001b[0;34m=\u001b[0m\u001b[0;36m1\u001b[0m\u001b[0;34m)\u001b[0m\u001b[0;34m\u001b[0m\u001b[0m\n\u001b[0m",
      "\u001b[0;32m/usr/local/lib/python3.6/site-packages/fastai-0.6-py3.6.egg/fastai/learner.py\u001b[0m in \u001b[0;36mfit\u001b[0;34m(self, lrs, n_cycle, wds, **kwargs)\u001b[0m\n\u001b[1;32m    207\u001b[0m         \u001b[0mself\u001b[0m\u001b[0;34m.\u001b[0m\u001b[0msched\u001b[0m \u001b[0;34m=\u001b[0m \u001b[0;32mNone\u001b[0m\u001b[0;34m\u001b[0m\u001b[0m\n\u001b[1;32m    208\u001b[0m         \u001b[0mlayer_opt\u001b[0m \u001b[0;34m=\u001b[0m \u001b[0mself\u001b[0m\u001b[0;34m.\u001b[0m\u001b[0mget_layer_opt\u001b[0m\u001b[0;34m(\u001b[0m\u001b[0mlrs\u001b[0m\u001b[0;34m,\u001b[0m \u001b[0mwds\u001b[0m\u001b[0;34m)\u001b[0m\u001b[0;34m\u001b[0m\u001b[0m\n\u001b[0;32m--> 209\u001b[0;31m         \u001b[0;32mreturn\u001b[0m \u001b[0mself\u001b[0m\u001b[0;34m.\u001b[0m\u001b[0mfit_gen\u001b[0m\u001b[0;34m(\u001b[0m\u001b[0mself\u001b[0m\u001b[0;34m.\u001b[0m\u001b[0mmodel\u001b[0m\u001b[0;34m,\u001b[0m \u001b[0mself\u001b[0m\u001b[0;34m.\u001b[0m\u001b[0mdata\u001b[0m\u001b[0;34m,\u001b[0m \u001b[0mlayer_opt\u001b[0m\u001b[0;34m,\u001b[0m \u001b[0mn_cycle\u001b[0m\u001b[0;34m,\u001b[0m \u001b[0;34m**\u001b[0m\u001b[0mkwargs\u001b[0m\u001b[0;34m)\u001b[0m\u001b[0;34m\u001b[0m\u001b[0m\n\u001b[0m\u001b[1;32m    210\u001b[0m \u001b[0;34m\u001b[0m\u001b[0m\n\u001b[1;32m    211\u001b[0m     \u001b[0;32mdef\u001b[0m \u001b[0mwarm_up\u001b[0m\u001b[0;34m(\u001b[0m\u001b[0mself\u001b[0m\u001b[0;34m,\u001b[0m \u001b[0mlr\u001b[0m\u001b[0;34m,\u001b[0m \u001b[0mwds\u001b[0m\u001b[0;34m=\u001b[0m\u001b[0;32mNone\u001b[0m\u001b[0;34m)\u001b[0m\u001b[0;34m:\u001b[0m\u001b[0;34m\u001b[0m\u001b[0m\n",
      "\u001b[0;32m/usr/local/lib/python3.6/site-packages/fastai-0.6-py3.6.egg/fastai/learner.py\u001b[0m in \u001b[0;36mfit_gen\u001b[0;34m(self, model, data, layer_opt, n_cycle, cycle_len, cycle_mult, cycle_save_name, use_clr, metrics, callbacks, use_wd_sched, norm_wds, wds_sched_mult, **kwargs)\u001b[0m\n\u001b[1;32m    154\u001b[0m         \u001b[0mn_epoch\u001b[0m \u001b[0;34m=\u001b[0m \u001b[0msum_geom\u001b[0m\u001b[0;34m(\u001b[0m\u001b[0mcycle_len\u001b[0m \u001b[0;32mif\u001b[0m \u001b[0mcycle_len\u001b[0m \u001b[0;32melse\u001b[0m \u001b[0;36m1\u001b[0m\u001b[0;34m,\u001b[0m \u001b[0mcycle_mult\u001b[0m\u001b[0;34m,\u001b[0m \u001b[0mn_cycle\u001b[0m\u001b[0;34m)\u001b[0m\u001b[0;34m\u001b[0m\u001b[0m\n\u001b[1;32m    155\u001b[0m         return fit(model, data, n_epoch, layer_opt.opt, self.crit,\n\u001b[0;32m--> 156\u001b[0;31m             metrics=metrics, callbacks=callbacks, reg_fn=self.reg_fn, clip=self.clip, **kwargs)\n\u001b[0m\u001b[1;32m    157\u001b[0m \u001b[0;34m\u001b[0m\u001b[0m\n\u001b[1;32m    158\u001b[0m     \u001b[0;32mdef\u001b[0m \u001b[0mget_layer_groups\u001b[0m\u001b[0;34m(\u001b[0m\u001b[0mself\u001b[0m\u001b[0;34m)\u001b[0m\u001b[0;34m:\u001b[0m \u001b[0;32mreturn\u001b[0m \u001b[0mself\u001b[0m\u001b[0;34m.\u001b[0m\u001b[0mmodels\u001b[0m\u001b[0;34m.\u001b[0m\u001b[0mget_layer_groups\u001b[0m\u001b[0;34m(\u001b[0m\u001b[0;34m)\u001b[0m\u001b[0;34m\u001b[0m\u001b[0m\n",
      "\u001b[0;32m/usr/local/lib/python3.6/site-packages/fastai-0.6-py3.6.egg/fastai/model.py\u001b[0m in \u001b[0;36mfit\u001b[0;34m(model, data, epochs, opt, crit, metrics, callbacks, **kwargs)\u001b[0m\n\u001b[1;32m     94\u001b[0m             \u001b[0mbatch_num\u001b[0m \u001b[0;34m+=\u001b[0m \u001b[0;36m1\u001b[0m\u001b[0;34m\u001b[0m\u001b[0m\n\u001b[1;32m     95\u001b[0m             \u001b[0;32mfor\u001b[0m \u001b[0mcb\u001b[0m \u001b[0;32min\u001b[0m \u001b[0mcallbacks\u001b[0m\u001b[0;34m:\u001b[0m \u001b[0mcb\u001b[0m\u001b[0;34m.\u001b[0m\u001b[0mon_batch_begin\u001b[0m\u001b[0;34m(\u001b[0m\u001b[0;34m)\u001b[0m\u001b[0;34m\u001b[0m\u001b[0m\n\u001b[0;32m---> 96\u001b[0;31m             \u001b[0mloss\u001b[0m \u001b[0;34m=\u001b[0m \u001b[0mstepper\u001b[0m\u001b[0;34m.\u001b[0m\u001b[0mstep\u001b[0m\u001b[0;34m(\u001b[0m\u001b[0mV\u001b[0m\u001b[0;34m(\u001b[0m\u001b[0mx\u001b[0m\u001b[0;34m)\u001b[0m\u001b[0;34m,\u001b[0m\u001b[0mV\u001b[0m\u001b[0;34m(\u001b[0m\u001b[0my\u001b[0m\u001b[0;34m)\u001b[0m\u001b[0;34m)\u001b[0m\u001b[0;34m\u001b[0m\u001b[0m\n\u001b[0m\u001b[1;32m     97\u001b[0m             \u001b[0mavg_loss\u001b[0m \u001b[0;34m=\u001b[0m \u001b[0mavg_loss\u001b[0m \u001b[0;34m*\u001b[0m \u001b[0mavg_mom\u001b[0m \u001b[0;34m+\u001b[0m \u001b[0mloss\u001b[0m \u001b[0;34m*\u001b[0m \u001b[0;34m(\u001b[0m\u001b[0;36m1\u001b[0m\u001b[0;34m-\u001b[0m\u001b[0mavg_mom\u001b[0m\u001b[0;34m)\u001b[0m\u001b[0;34m\u001b[0m\u001b[0m\n\u001b[1;32m     98\u001b[0m             \u001b[0mdebias_loss\u001b[0m \u001b[0;34m=\u001b[0m \u001b[0mavg_loss\u001b[0m \u001b[0;34m/\u001b[0m \u001b[0;34m(\u001b[0m\u001b[0;36m1\u001b[0m \u001b[0;34m-\u001b[0m \u001b[0mavg_mom\u001b[0m\u001b[0;34m**\u001b[0m\u001b[0mbatch_num\u001b[0m\u001b[0;34m)\u001b[0m\u001b[0;34m\u001b[0m\u001b[0m\n",
      "\u001b[0;32m/usr/local/lib/python3.6/site-packages/fastai-0.6-py3.6.egg/fastai/model.py\u001b[0m in \u001b[0;36mstep\u001b[0;34m(self, xs, y)\u001b[0m\n\u001b[1;32m     43\u001b[0m         \u001b[0mloss\u001b[0m \u001b[0;34m=\u001b[0m \u001b[0mraw_loss\u001b[0m \u001b[0;34m=\u001b[0m \u001b[0mself\u001b[0m\u001b[0;34m.\u001b[0m\u001b[0mcrit\u001b[0m\u001b[0;34m(\u001b[0m\u001b[0moutput\u001b[0m\u001b[0;34m,\u001b[0m \u001b[0my\u001b[0m\u001b[0;34m)\u001b[0m\u001b[0;34m\u001b[0m\u001b[0m\n\u001b[1;32m     44\u001b[0m         \u001b[0;32mif\u001b[0m \u001b[0mself\u001b[0m\u001b[0;34m.\u001b[0m\u001b[0mreg_fn\u001b[0m\u001b[0;34m:\u001b[0m \u001b[0mloss\u001b[0m \u001b[0;34m=\u001b[0m \u001b[0mself\u001b[0m\u001b[0;34m.\u001b[0m\u001b[0mreg_fn\u001b[0m\u001b[0;34m(\u001b[0m\u001b[0moutput\u001b[0m\u001b[0;34m,\u001b[0m \u001b[0mxtra\u001b[0m\u001b[0;34m,\u001b[0m \u001b[0mraw_loss\u001b[0m\u001b[0;34m)\u001b[0m\u001b[0;34m\u001b[0m\u001b[0m\n\u001b[0;32m---> 45\u001b[0;31m         \u001b[0mloss\u001b[0m\u001b[0;34m.\u001b[0m\u001b[0mbackward\u001b[0m\u001b[0;34m(\u001b[0m\u001b[0;34m)\u001b[0m\u001b[0;34m\u001b[0m\u001b[0m\n\u001b[0m\u001b[1;32m     46\u001b[0m         \u001b[0;32mif\u001b[0m \u001b[0mself\u001b[0m\u001b[0;34m.\u001b[0m\u001b[0mclip\u001b[0m\u001b[0;34m:\u001b[0m   \u001b[0;31m# Gradient clipping\u001b[0m\u001b[0;34m\u001b[0m\u001b[0m\n\u001b[1;32m     47\u001b[0m             \u001b[0mnn\u001b[0m\u001b[0;34m.\u001b[0m\u001b[0mutils\u001b[0m\u001b[0;34m.\u001b[0m\u001b[0mclip_grad_norm\u001b[0m\u001b[0;34m(\u001b[0m\u001b[0mtrainable_params_\u001b[0m\u001b[0;34m(\u001b[0m\u001b[0mself\u001b[0m\u001b[0;34m.\u001b[0m\u001b[0mm\u001b[0m\u001b[0;34m)\u001b[0m\u001b[0;34m,\u001b[0m \u001b[0mself\u001b[0m\u001b[0;34m.\u001b[0m\u001b[0mclip\u001b[0m\u001b[0;34m)\u001b[0m\u001b[0;34m\u001b[0m\u001b[0m\n",
      "\u001b[0;32m/usr/local/lib/python3.6/site-packages/torch/autograd/variable.py\u001b[0m in \u001b[0;36mbackward\u001b[0;34m(self, gradient, retain_graph, create_graph, retain_variables)\u001b[0m\n\u001b[1;32m    165\u001b[0m                 \u001b[0mVariable\u001b[0m\u001b[0;34m.\u001b[0m\u001b[0;34m\u001b[0m\u001b[0m\n\u001b[1;32m    166\u001b[0m         \"\"\"\n\u001b[0;32m--> 167\u001b[0;31m         \u001b[0mtorch\u001b[0m\u001b[0;34m.\u001b[0m\u001b[0mautograd\u001b[0m\u001b[0;34m.\u001b[0m\u001b[0mbackward\u001b[0m\u001b[0;34m(\u001b[0m\u001b[0mself\u001b[0m\u001b[0;34m,\u001b[0m \u001b[0mgradient\u001b[0m\u001b[0;34m,\u001b[0m \u001b[0mretain_graph\u001b[0m\u001b[0;34m,\u001b[0m \u001b[0mcreate_graph\u001b[0m\u001b[0;34m,\u001b[0m \u001b[0mretain_variables\u001b[0m\u001b[0;34m)\u001b[0m\u001b[0;34m\u001b[0m\u001b[0m\n\u001b[0m\u001b[1;32m    168\u001b[0m \u001b[0;34m\u001b[0m\u001b[0m\n\u001b[1;32m    169\u001b[0m     \u001b[0;32mdef\u001b[0m \u001b[0mregister_hook\u001b[0m\u001b[0;34m(\u001b[0m\u001b[0mself\u001b[0m\u001b[0;34m,\u001b[0m \u001b[0mhook\u001b[0m\u001b[0;34m)\u001b[0m\u001b[0;34m:\u001b[0m\u001b[0;34m\u001b[0m\u001b[0m\n",
      "\u001b[0;32m/usr/local/lib/python3.6/site-packages/torch/autograd/__init__.py\u001b[0m in \u001b[0;36mbackward\u001b[0;34m(variables, grad_variables, retain_graph, create_graph, retain_variables)\u001b[0m\n\u001b[1;32m     97\u001b[0m \u001b[0;34m\u001b[0m\u001b[0m\n\u001b[1;32m     98\u001b[0m     Variable._execution_engine.run_backward(\n\u001b[0;32m---> 99\u001b[0;31m         variables, grad_variables, retain_graph)\n\u001b[0m\u001b[1;32m    100\u001b[0m \u001b[0;34m\u001b[0m\u001b[0m\n\u001b[1;32m    101\u001b[0m \u001b[0;34m\u001b[0m\u001b[0m\n",
      "\u001b[0;31mKeyboardInterrupt\u001b[0m: "
     ]
    },
    {
     "name": "stdout",
     "output_type": "stream",
     "text": [
      "\r",
      " 13%|█▎        | 225/1759 [00:20<02:16, 11.24it/s, loss=0.273]"
     ]
    }
   ],
   "source": [
    "lr = 1e-4\n",
    "m.fit(lr, 20, metrics=[rmsle], cycle_len=3, cycle_mult=1)"
   ]
  },
  {
   "cell_type": "code",
   "execution_count": 114,
   "metadata": {
    "hidden": true
   },
   "outputs": [
    {
     "data": {
      "image/png": "[encoded data removed]",
      "text/plain": [
       "<matplotlib.figure.Figure at 0x7f65f9f4a198>"
      ]
     },
     "metadata": {},
     "output_type": "display_data"
    }
   ],
   "source": [
    "m.sched.plot_loss()"
   ]
  },
  {
   "cell_type": "code",
   "execution_count": 115,
   "metadata": {
    "hidden": true
   },
   "outputs": [
    {
     "data": {
      "text/plain": [
       "0.21373713471361197"
      ]
     },
     "execution_count": 115,
     "metadata": {},
     "output_type": "execute_result"
    }
   ],
   "source": [
    "x,y=m.predict_with_targs()\n",
    "rmsle(x,y)"
   ]
  },
  {
   "cell_type": "code",
   "execution_count": 28,
   "metadata": {
    "hidden": true
   },
   "outputs": [
    {
     "data": {
      "text/plain": [
       "['prop_yhat_lower',\n",
       " 'prop_yhat_upper',\n",
       " 'prop_yhat',\n",
       " 'stores_in_air_loc',\n",
       " 'stores_in_hpg_loc',\n",
       " 'stores_in_area_name',\n",
       " 'stores_in_hpg_area_name',\n",
       " 'min_visits_in_air_store_id',\n",
       " 'max_visits_in_air_store_id',\n",
       " 'mean_visits_in_air_store_id',\n",
       " 'std_visits_in_air_store_id',\n",
       " 'min_visits_in_air_loc',\n",
       " 'max_visits_in_air_loc',\n",
       " 'mean_visits_in_air_loc',\n",
       " 'std_visits_in_air_loc',\n",
       " 'min_visits_in_hpg_loc',\n",
       " 'max_visits_in_hpg_loc',\n",
       " 'mean_visits_in_hpg_loc',\n",
       " 'std_visits_in_hpg_loc',\n",
       " 'min_visits_in_area_name',\n",
       " 'max_visits_in_area_name',\n",
       " 'mean_visits_in_area_name',\n",
       " 'std_visits_in_area_name',\n",
       " 'min_visits_in_hpg_area_name',\n",
       " 'max_visits_in_hpg_area_name',\n",
       " 'mean_visits_in_hpg_area_name',\n",
       " 'std_visits_in_hpg_area_name']"
      ]
     },
     "execution_count": 28,
     "metadata": {},
     "output_type": "execute_result"
    }
   ],
   "source": [
    "contin_vars\n"
   ]
  },
  {
   "cell_type": "code",
   "execution_count": null,
   "metadata": {
    "hidden": true
   },
   "outputs": [],
   "source": []
  },
  {
   "cell_type": "code",
   "execution_count": 200,
   "metadata": {
    "hidden": true
   },
   "outputs": [],
   "source": []
  },
  {
   "cell_type": "code",
   "execution_count": 201,
   "metadata": {
    "hidden": true
   },
   "outputs": [],
   "source": [
    "\n"
   ]
  },
  {
   "cell_type": "code",
   "execution_count": 34,
   "metadata": {
    "hidden": true
   },
   "outputs": [
    {
     "data": {
      "text/plain": [
       "[('air_store_id', 822),\n",
       " ('visit_Year', 3),\n",
       " ('visit_Month', 13),\n",
       " ('visit_Week', 54),\n",
       " ('visit_Day', 32),\n",
       " ('visit_Dayofweek', 8),\n",
       " ('visit_Dayofyear', 367),\n",
       " ('visit_Is_month_end', 3),\n",
       " ('visit_Is_month_start', 3),\n",
       " ('visit_Is_quarter_end', 3),\n",
       " ('visit_Is_quarter_start', 3),\n",
       " ('visit_Is_year_end', 3),\n",
       " ('visit_Is_year_start', 3),\n",
       " ('visit_Elapsed', 477),\n",
       " ('day_of_week', 8),\n",
       " ('holiday_flg', 3),\n",
       " ('af_holiday_flg', 75),\n",
       " ('be_holiday_flg', 75),\n",
       " ('dur_time_holiday_flg', 8),\n",
       " ('dur_holiday_flg', 6),\n",
       " ('dur_prog_holiday_flg', 8),\n",
       " ('genre_name', 15),\n",
       " ('area_name', 72),\n",
       " ('hpb_genre_name', 16),\n",
       " ('hpb_area_name', 33),\n",
       " ('air_loc', 74),\n",
       " ('hpb_loc', 34)]"
      ]
     },
     "execution_count": 34,
     "metadata": {},
     "output_type": "execute_result"
    }
   ],
   "source": [
    "cat_sz\n"
   ]
  },
  {
   "cell_type": "code",
   "execution_count": 387,
   "metadata": {
    "hidden": true
   },
   "outputs": [],
   "source": [
    "csv_fn=f'sub1.csv'\n",
    "pred_test=m.predict(True)\n",
    "pred_test = np.exp(pred_test)\n",
    "test_set['visitors']=pred_test\n",
    "sub = utils.trn2test(test_set.reset_index()[['air_store_id', 'visit_date', 'visitors']])\n",
    "sub.to_csv(csv_fn, index=False)"
   ]
  },
  {
   "cell_type": "code",
   "execution_count": 388,
   "metadata": {
    "hidden": true
   },
   "outputs": [
    {
     "data": {
      "text/html": [
       "<a href='sub1.csv' target='_blank'>sub1.csv</a><br>"
      ],
      "text/plain": [
       "/notebooks/sub1.csv"
      ]
     },
     "execution_count": 388,
     "metadata": {},
     "output_type": "execute_result"
    }
   ],
   "source": [
    "FileLink(csv_fn)\n"
   ]
  },
  {
   "cell_type": "code",
   "execution_count": null,
   "metadata": {
    "hidden": true
   },
   "outputs": [],
   "source": []
  },
  {
   "cell_type": "code",
   "execution_count": 326,
   "metadata": {
    "hidden": true
   },
   "outputs": [
    {
     "data": {
      "text/plain": [
       "[<matplotlib.lines.Line2D at 0x7fdc22c75588>]"
      ]
     },
     "execution_count": 326,
     "metadata": {},
     "output_type": "execute_result"
    },
    {
     "data": {
      "image/png": "[encoded data removed]",
      "text/plain": [
       "<matplotlib.figure.Figure at 0x7fdd9173f908>"
      ]
     },
     "metadata": {},
     "output_type": "display_data"
    }
   ],
   "source": [
    "plt.plot(test_set.prop_yhat.values[:100])\n",
    "plt.plot(pred_test[:100])"
   ]
  },
  {
   "cell_type": "code",
   "execution_count": 95,
   "metadata": {
    "hidden": true
   },
   "outputs": [
    {
     "data": {
      "text/plain": [
       "1.0449823548884438"
      ]
     },
     "execution_count": 95,
     "metadata": {},
     "output_type": "execute_result"
    }
   ],
   "source": [
    "np.exp(0.044)"
   ]
  },
  {
   "cell_type": "code",
   "execution_count": 96,
   "metadata": {
    "hidden": true
   },
   "outputs": [
    {
     "data": {
      "text/plain": [
       "29.665572681664447"
      ]
     },
     "execution_count": 96,
     "metadata": {},
     "output_type": "execute_result"
    }
   ],
   "source": [
    "np.exp(np.log1p(30) - 0.044)"
   ]
  },
  {
   "cell_type": "code",
   "execution_count": null,
   "metadata": {
    "hidden": true
   },
   "outputs": [],
   "source": []
  }
 ],
 "metadata": {
  "kernelspec": {
   "display_name": "Python 3",
   "language": "python",
   "name": "python3"
  },
  "language_info": {
   "codemirror_mode": {
    "name": "ipython",
    "version": 3
   },
   "file_extension": ".py",
   "mimetype": "text/x-python",
   "name": "python",
   "nbconvert_exporter": "python",
   "pygments_lexer": "ipython3",
   "version": "3.6.3"
  }
 },
 "nbformat": 4,
 "nbformat_minor": 2
}
