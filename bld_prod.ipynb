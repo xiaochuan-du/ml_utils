{
 "cells": [
  {
   "cell_type": "code",
   "execution_count": 2,
   "metadata": {},
   "outputs": [
    {
     "name": "stdout",
     "output_type": "stream",
     "text": [
      "Requirement already satisfied: pandas_summary in /usr/local/lib/python3.5/dist-packages\n",
      "Requirement already satisfied: isoweek in /usr/local/lib/python3.5/dist-packages\n",
      "Collecting sklearn_pandas\n",
      "  Downloading https://pypi.tuna.tsinghua.edu.cn/packages/c5/9e/42d7bcddb09a3ff52d0c60c810ba5d0fded28abbe320c85bbf7368192956/sklearn_pandas-1.6.0-py2.py3-none-any.whl\n",
      "Requirement already satisfied: pandas in /usr/local/lib/python3.5/dist-packages (from pandas_summary)\n",
      "Requirement already satisfied: numpy in /usr/local/lib/python3.5/dist-packages (from pandas_summary)\n",
      "Requirement already satisfied: scikit-learn>=0.15.0 in /usr/local/lib/python3.5/dist-packages (from sklearn_pandas)\n",
      "Requirement already satisfied: scipy>=0.14 in /usr/local/lib/python3.5/dist-packages (from sklearn_pandas)\n",
      "Requirement already satisfied: pytz>=2011k in /usr/local/lib/python3.5/dist-packages (from pandas->pandas_summary)\n",
      "Requirement already satisfied: python-dateutil>=2 in /usr/local/lib/python3.5/dist-packages (from pandas->pandas_summary)\n",
      "Requirement already satisfied: six>=1.5 in /usr/local/lib/python3.5/dist-packages (from python-dateutil>=2->pandas->pandas_summary)\n",
      "Installing collected packages: sklearn-pandas\n",
      "Successfully installed sklearn-pandas-1.6.0\n",
      "Requirement already up-to-date: keras in /usr/local/lib/python3.5/dist-packages\n",
      "Requirement already up-to-date: scipy>=0.14 in /usr/local/lib/python3.5/dist-packages (from keras)\n",
      "Requirement already up-to-date: six>=1.9.0 in /usr/local/lib/python3.5/dist-packages (from keras)\n",
      "Requirement already up-to-date: numpy>=1.9.1 in /usr/local/lib/python3.5/dist-packages (from keras)\n",
      "Requirement already up-to-date: pyyaml in /usr/local/lib/python3.5/dist-packages (from keras)\n"
     ]
    }
   ],
   "source": [
    "!pip3 install pandas_summary isoweek sklearn_pandas -i https://pypi.tuna.tsinghua.edu.cn/simple\n",
    "! pip3 install --upgrade keras"
   ]
  },
  {
   "cell_type": "code",
   "execution_count": 3,
   "metadata": {
    "collapsed": true
   },
   "outputs": [],
   "source": [
    "%matplotlib inline\n",
    "from imp import reload\n",
    "import math, keras, datetime, pandas as pd, numpy as np, keras.backend as K\n",
    "from pandas_summary import DataFrameSummary\n",
    "import bld_etl; reload(bld_etl)\n",
    "from bld_etl import read_raw, loadtypes, add_datepart, fillna, type_map, get_data"
   ]
  },
  {
   "cell_type": "code",
   "execution_count": 4,
   "metadata": {
    "collapsed": true
   },
   "outputs": [],
   "source": [
    "%matplotlib inline\n",
    "np.set_printoptions(threshold=50, edgeitems=20)"
   ]
  },
  {
   "cell_type": "code",
   "execution_count": 8,
   "metadata": {
    "collapsed": true
   },
   "outputs": [],
   "source": [
    "merged_df = pd.read_json('/data/ai_opinfo_2017-01_to_2017-10.json', lines=True)"
   ]
  },
  {
   "cell_type": "code",
   "execution_count": null,
   "metadata": {
    "collapsed": true
   },
   "outputs": [],
   "source": []
  },
  {
   "cell_type": "code",
   "execution_count": 13,
   "metadata": {
    "collapsed": true
   },
   "outputs": [],
   "source": [
    "# filtered the data without RBC\n",
    "merged_df = merged_df[~merged_df.TRANS_RBC.isnull()]"
   ]
  },
  {
   "cell_type": "code",
   "execution_count": 15,
   "metadata": {},
   "outputs": [
    {
     "name": "stderr",
     "output_type": "stream",
     "text": [
      "/usr/local/lib/python3.5/dist-packages/ipykernel_launcher.py:4: SettingWithCopyWarning: \n",
      "A value is trying to be set on a copy of a slice from a DataFrame\n",
      "\n",
      "See the caveats in the documentation: http://pandas.pydata.org/pandas-docs/stable/indexing.html#indexing-view-versus-copy\n",
      "  after removing the cwd from sys.path.\n",
      "/usr/local/lib/python3.5/dist-packages/pandas/core/frame.py:2352: SettingWithCopyWarning: \n",
      "A value is trying to be set on a copy of a slice from a DataFrame.\n",
      "Try using .loc[row_indexer,col_indexer] = value instead\n",
      "\n",
      "See the caveats in the documentation: http://pandas.pydata.org/pandas-docs/stable/indexing.html#indexing-view-versus-copy\n",
      "  self[k1] = value[k2]\n"
     ]
    }
   ],
   "source": [
    "y_df, x_df = read_raw(merged_df)\n",
    "contin_vars, cat_vars, dt_vars, text_vars, const_vars = loadtypes(x_df)\n",
    "# drop the cols with contant value, cause this contribute nothing to predicted results\n",
    "x_df.drop(const_vars, axis=1, inplace=True, errors=\"ignore\")\n",
    "add_datepart(x_df, dt_vars)\n",
    "fillna(x_df, contin_vars, cat_vars)\n",
    "x_df.to_pickle('/data/result/cleaned_data.pkl')"
   ]
  },
  {
   "cell_type": "code",
   "execution_count": 16,
   "metadata": {
    "collapsed": true
   },
   "outputs": [],
   "source": [
    "joined = pd.read_pickle('/data/result/cleaned_data.pkl')"
   ]
  },
  {
   "cell_type": "code",
   "execution_count": 17,
   "metadata": {
    "collapsed": true
   },
   "outputs": [],
   "source": [
    "contin_vars.remove('TRANS_RBC')"
   ]
  },
  {
   "cell_type": "code",
   "execution_count": 19,
   "metadata": {},
   "outputs": [
    {
     "name": "stderr",
     "output_type": "stream",
     "text": [
      "/usr/local/lib/python3.5/dist-packages/sklearn/utils/validation.py:444: DataConversionWarning: Data with input dtype int64 was converted to float64 by StandardScaler.\n",
      "  warnings.warn(msg, DataConversionWarning)\n"
     ]
    }
   ],
   "source": [
    "cat_map_fit, contin_map_fit, contin_cols = type_map(joined, cat_vars, contin_vars, use_cache=False, cache_dir='/data/result')"
   ]
  },
  {
   "cell_type": "code",
   "execution_count": 20,
   "metadata": {},
   "outputs": [
    {
     "name": "stdout",
     "output_type": "stream",
     "text": [
      "(4500, 54) (4500,) (500, 54) (500,)\n"
     ]
    },
    {
     "name": "stderr",
     "output_type": "stream",
     "text": [
      "/notebooks/bld_etl.py:137: SettingWithCopyWarning: \n",
      "A value is trying to be set on a copy of a slice from a DataFrame\n",
      "\n",
      "See the caveats in the documentation: http://pandas.pydata.org/pandas-docs/stable/indexing.html#indexing-view-versus-copy\n",
      "  joined_train.drop('TRANS_RBC', axis=1, inplace=True)\n",
      "/notebooks/bld_etl.py:138: SettingWithCopyWarning: \n",
      "A value is trying to be set on a copy of a slice from a DataFrame\n",
      "\n",
      "See the caveats in the documentation: http://pandas.pydata.org/pandas-docs/stable/indexing.html#indexing-view-versus-copy\n",
      "  joined_valid.drop('TRANS_RBC', axis=1, inplace=True)\n",
      "/usr/local/lib/python3.5/dist-packages/sklearn/utils/validation.py:444: DataConversionWarning: Data with input dtype int64 was converted to float64 by StandardScaler.\n",
      "  warnings.warn(msg, DataConversionWarning)\n"
     ]
    }
   ],
   "source": [
    "x_train, y_train, x_valid, y_valid, cat_map_train, cat_map_valid, contin_map_train, contin_map_valid = get_data(joined, cat_map_fit, contin_map_fit)\n",
    "print(x_train.shape, y_train.shape, x_valid.shape, y_valid.shape)"
   ]
  },
  {
   "cell_type": "code",
   "execution_count": 3,
   "metadata": {},
   "outputs": [],
   "source": [
    "# from tpot import TPOTRegressor\n",
    "\n",
    "# tpot = TPOTRegressor(generations=5, population_size=20, verbosity=2)\n",
    "# tpot.fit(x_train, y_train)\n",
    "# print(tpot.score(x_valid, y_valid))\n",
    "# predicted = tpot.predict(x_valid)\n",
    "# diff = np.abs(predicted - y_valid.values)\n",
    "# len(diff[diff <= 1]) / len(diff)"
   ]
  },
  {
   "cell_type": "markdown",
   "metadata": {},
   "source": [
    "Missing, \n",
    "- Durations between opt\n",
    "- Doctor's trend between trans, rolling avg"
   ]
  },
  {
   "cell_type": "markdown",
   "metadata": {
    "collapsed": true
   },
   "source": [
    "## keras"
   ]
  },
  {
   "cell_type": "code",
   "execution_count": 23,
   "metadata": {
    "collapsed": true
   },
   "outputs": [],
   "source": [
    "def rmspe(y_pred, targ = y_valid):\n",
    "    pct_var = (targ - y_pred)/targ\n",
    "    return math.sqrt(np.square(pct_var).mean())\n",
    "# def log_max_inv(preds, mx = max_log_y):\n",
    "#     return np.exp(preds * mx)\n",
    "def normalize_inv(preds):\n",
    "    return preds * ystd + ymean"
   ]
  },
  {
   "cell_type": "code",
   "execution_count": 24,
   "metadata": {
    "collapsed": true
   },
   "outputs": [],
   "source": [
    "def split_cols(arr): return np.hsplit(arr,arr.shape[1])"
   ]
  },
  {
   "cell_type": "code",
   "execution_count": 25,
   "metadata": {
    "collapsed": true
   },
   "outputs": [],
   "source": [
    "map_train = split_cols(cat_map_train) + [contin_map_train]\n",
    "map_valid = split_cols(cat_map_valid) + [contin_map_valid]"
   ]
  },
  {
   "cell_type": "code",
   "execution_count": 26,
   "metadata": {
    "collapsed": true
   },
   "outputs": [],
   "source": [
    "def cat_map_info(feat): return feat[0], len(feat[1].classes_)"
   ]
  },
  {
   "cell_type": "code",
   "execution_count": 27,
   "metadata": {},
   "outputs": [
    {
     "data": {
      "text/plain": [
       "('OP_DOCT_NAME', 297)"
      ]
     },
     "execution_count": 27,
     "metadata": {},
     "output_type": "execute_result"
    }
   ],
   "source": [
    "cat_map_info(cat_map_fit.features[2])"
   ]
  },
  {
   "cell_type": "code",
   "execution_count": 28,
   "metadata": {
    "collapsed": true
   },
   "outputs": [],
   "source": [
    "from keras.layers import Input, Dense, Flatten, Dropout, Embedding, Concatenate\n",
    "from keras import initializers, Model\n",
    "\n",
    "def my_init(scale):\n",
    "    return initializers.RandomNormal() #lambda shape, name=None: initializers.uniform(shape, scale=scale, name=name)\n",
    "def emb_init(shape, name=None): \n",
    "    return initializers.RandomNormal() # initializers.uniform(shape, scale=2/(shape[1]+1), name=name)\n",
    "def get_emb(feat):\n",
    "    name, c = cat_map_info(feat)\n",
    "    c2 = (c+1)//2\n",
    "    if c2>50: c2=50\n",
    "    inp = Input((1,), dtype='int64', name=name+'_in')\n",
    "    u = Flatten(name=name+'_flt')(Embedding(c, c2, input_length=1)(inp)) # , init=emb_init\n",
    "    return inp,u\n",
    "def get_contin(feat):\n",
    "    name = feat[0][0]\n",
    "    inp = Input((1,), name=name+'_in')\n",
    "    return inp, Dense(1, name=name+'_d')(inp) # , init=my_init(1.)\n",
    "\n",
    "contin_inp = Input((contin_cols,), name='contin')\n",
    "contin_out = Dense(contin_cols*10, activation='relu', name='contin_d')(contin_inp)\n",
    "embs = [get_emb(feat) for feat in cat_map_fit.features]\n",
    "# conts = [get_contin(feat) for feat in contin_map_fit.features]\n",
    "# contin_d = [d for inp,d in conts]\n",
    "x = Concatenate()([emb for inp,emb in embs] + [contin_out])\n",
    "#x = merge([emb for inp,emb in embs] + contin_d, mode='concat')\n",
    "\n",
    "x = Dropout(0.02)(x)\n",
    "x = Dense(1000, activation='relu', kernel_initializer='uniform')(x)\n",
    "x = Dense(500, activation='relu', kernel_initializer='uniform')(x)\n",
    "x = Dropout(0.2)(x)\n",
    "x = Dense(1, activation='linear')(x)\n",
    "\n",
    "model = Model([inp for inp,emb in embs] + [contin_inp], x)\n",
    "#model = Model([inp for inp,emb in embs] + [inp for inp,d in conts], x)\n",
    "model.compile('adam', 'mean_squared_error')"
   ]
  },
  {
   "cell_type": "code",
   "execution_count": 39,
   "metadata": {},
   "outputs": [
    {
     "name": "stdout",
     "output_type": "stream",
     "text": [
      "CPU times: user 12 s, sys: 1.72 s, total: 13.7 s\n",
      "Wall time: 6.99 s\n"
     ]
    }
   ],
   "source": [
    "%%time \n",
    "hist = model.fit(map_train, y_train, batch_size=128, epochs=30,\n",
    "                 verbose=0, validation_data=(map_valid, y_valid))"
   ]
  },
  {
   "cell_type": "code",
   "execution_count": 40,
   "metadata": {
    "collapsed": true
   },
   "outputs": [],
   "source": [
    "import matplotlib.pyplot as plt\n",
    "def plot_train(hist):\n",
    "    h = hist.history\n",
    "    if 'acc' in h:\n",
    "        meas='acc'\n",
    "        loc='lower right'\n",
    "    else:\n",
    "        meas='loss'\n",
    "        loc='upper right'\n",
    "    plt.plot(hist.history[meas])\n",
    "    plt.plot(hist.history['val_'+meas])\n",
    "    plt.title('model '+meas)\n",
    "    plt.ylabel(meas)\n",
    "    plt.xlabel('epoch')\n",
    "    plt.legend(['train', 'validation'], loc=loc)"
   ]
  },
  {
   "cell_type": "code",
   "execution_count": 41,
   "metadata": {},
   "outputs": [
    {
     "data": {
      "image/png": "[encoded data removed]",
      "text/plain": [
       "<matplotlib.figure.Figure at 0x7f25e6b676a0>"
      ]
     },
     "metadata": {},
     "output_type": "display_data"
    }
   ],
   "source": [
    "\n",
    "plot_train(hist)"
   ]
  },
  {
   "cell_type": "code",
   "execution_count": 43,
   "metadata": {},
   "outputs": [
    {
     "data": {
      "text/plain": [
       "(4500, 46)"
      ]
     },
     "execution_count": 43,
     "metadata": {},
     "output_type": "execute_result"
    }
   ],
   "source": [
    "map_train[8].shape"
   ]
  },
  {
   "cell_type": "code",
   "execution_count": 45,
   "metadata": {},
   "outputs": [
    {
     "data": {
      "text/plain": [
       "<matplotlib.axes._subplots.AxesSubplot at 0xe9c0790>"
      ]
     },
     "execution_count": 45,
     "metadata": {},
     "output_type": "execute_result"
    },
    {
     "data": {
      "image/png": "[encoded data removed]",
      "text/plain": [
       "<matplotlib.figure.Figure at 0xe984fd0>"
      ]
     },
     "metadata": {},
     "output_type": "display_data"
    }
   ],
   "source": [
    "y_train.hist()"
   ]
  },
  {
   "cell_type": "code",
   "execution_count": 31,
   "metadata": {},
   "outputs": [
    {
     "data": {
      "text/plain": [
       "<keras.callbacks.History at 0x7f25e7728dd8>"
      ]
     },
     "execution_count": 31,
     "metadata": {},
     "output_type": "execute_result"
    }
   ],
   "source": [
    "hist"
   ]
  },
  {
   "cell_type": "code",
   "execution_count": null,
   "metadata": {
    "collapsed": true
   },
   "outputs": [],
   "source": []
  }
 ],
 "metadata": {
  "kernelspec": {
   "display_name": "Python 3",
   "language": "python",
   "name": "python3"
  },
  "language_info": {
   "codemirror_mode": {
    "name": "ipython",
    "version": 3
   },
   "file_extension": ".py",
   "mimetype": "text/x-python",
   "name": "python",
   "nbconvert_exporter": "python",
   "pygments_lexer": "ipython3",
   "version": "3.5.2"
  }
 },
 "nbformat": 4,
 "nbformat_minor": 2
}
