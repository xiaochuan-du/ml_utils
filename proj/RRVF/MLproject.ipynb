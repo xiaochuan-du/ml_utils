{
 "cells": [
  {
   "cell_type": "code",
   "execution_count": 1,
   "metadata": {},
   "outputs": [],
   "source": [
    "# Put these at the top of every notebook, to get automatic reloading and inline plotting\n",
    "%reload_ext autoreload\n",
    "%autoreload 2\n",
    "%matplotlib inline"
   ]
  },
  {
   "cell_type": "code",
   "execution_count": 2,
   "metadata": {},
   "outputs": [],
   "source": [
    "from fastai.imports import *\n",
    "from fastai.transforms import *\n",
    "from fastai.conv_learner import *\n",
    "from fastai.model import *\n",
    "from fastai.dataset import *\n",
    "from fastai.sgdr import *\n",
    "from fastai.plots import *\n",
    "from fastai.structured import *\n",
    "from fastai.column_data import *\n",
    "import utils\n",
    "from dateutil.parser import parse\n",
    "from datetime import date, timedelta\n",
    "\n",
    "\n",
    "np.set_printoptions(threshold=50, edgeitems=20)\n",
    "\n",
    "import utils"
   ]
  },
  {
   "cell_type": "markdown",
   "metadata": {},
   "source": [
    "# Data fetching"
   ]
  },
  {
   "cell_type": "code",
   "execution_count": 3,
   "metadata": {},
   "outputs": [],
   "source": [
    "PATH = \"data/\" # \"../../../data/RRVF/\" \"/data/\"\n",
    "RESULT = \"result/\""
   ]
  },
  {
   "cell_type": "code",
   "execution_count": 4,
   "metadata": {},
   "outputs": [
    {
     "name": "stdout",
     "output_type": "stream",
     "text": [
      "1-1-16_5-31-17_Weather.zip\r\n",
      "air_reserve.csv\r\n",
      "air_station_distances.csv\r\n",
      "air_store_info.csv\r\n",
      "air_store_info_with_nearest_active_station.csv\r\n",
      "air_visit_data.csv\r\n",
      "date_info.csv\r\n",
      "feature_manifest.csv\r\n",
      "hpg_reserve.csv\r\n",
      "hpg_station_distances.csv\r\n",
      "hpg_store_info.csv\r\n",
      "hpg_store_info_with_nearest_active_station.csv\r\n",
      "models\r\n",
      "nearby_active_stations.csv\r\n",
      "rrv-weather-data.zip\r\n",
      "sample_submission.csv\r\n",
      "store_id_relation.csv\r\n",
      "tmp\r\n",
      "ts_prep.pkl\r\n",
      "weather_data_merge.csv\r\n",
      "weather_stations.csv\r\n"
     ]
    }
   ],
   "source": [
    "!ls {PATH}"
   ]
  },
  {
   "cell_type": "code",
   "execution_count": 5,
   "metadata": {},
   "outputs": [],
   "source": [
    "splits = pickle.load(open(f'{RESULT}_datasplits.pkl','rb'))\n",
    "contin_vars = splits['contin_vars']\n",
    "cat_vars = splits['cat_vars']\n",
    "X_train = splits['trn']\n",
    "y_train = splits['trn_y']\n",
    "X_valid = splits['val']\n",
    "y_valid = splits['val_y']\n",
    "X_test = splits['test']"
   ]
  },
  {
   "cell_type": "code",
   "execution_count": null,
   "metadata": {},
   "outputs": [],
   "source": []
  },
  {
   "cell_type": "code",
   "execution_count": null,
   "metadata": {},
   "outputs": [],
   "source": []
  },
  {
   "cell_type": "markdown",
   "metadata": {},
   "source": [
    "# Random Forest"
   ]
  },
  {
   "cell_type": "code",
   "execution_count": 6,
   "metadata": {},
   "outputs": [],
   "source": [
    "from sklearn.ensemble import RandomForestRegressor, RandomForestClassifier\n",
    "\n",
    "\n",
    "def rmse(x,y): return math.sqrt(((x-y)**2).mean())\n",
    "\n",
    "def print_score(m):\n",
    "    res = [rmse(m.predict(X_train), y_train), rmse(m.predict(X_valid), y_valid),\n",
    "                m.score(X_train, y_train), m.score(X_valid, y_valid)]\n",
    "    if hasattr(m, 'oob_score_'): res.append(m.oob_score_)\n",
    "    print(res)\n",
    "    \n",
    "def generate_sub(csv_fn, m, df_test):\n",
    "    pred_test= m.predict(df_test)\n",
    "    pred_test = np.exp(pred_test)\n",
    "    test_set['visitors']=pred_test\n",
    "    trn_like_test = test_set.reset_index()[['air_store_id', 'visit_date', 'visitors']]\n",
    "    trn_like_test.visit_date = trn_like_test.visit_date.astype('str')\n",
    "    sub = utils.trn2test(trn_like_test)\n",
    "    sub.to_csv(csv_fn, index=False)"
   ]
  },
  {
   "cell_type": "code",
   "execution_count": 7,
   "metadata": {},
   "outputs": [],
   "source": [
    "set_rf_samples(50000)"
   ]
  },
  {
   "cell_type": "code",
   "execution_count": 8,
   "metadata": {},
   "outputs": [
    {
     "name": "stdout",
     "output_type": "stream",
     "text": [
      "[0.4391320808417637, 0.5100765331096846, 0.70343780158622971, 0.61670034633252691, 0.57565926933857947]\n"
     ]
    }
   ],
   "source": [
    "m = RandomForestRegressor(n_estimators=40, min_samples_leaf=3, max_features=0.6, n_jobs=-1, oob_score=True)\n",
    "m.fit(X_train, y_train)\n",
    "print_score(m)"
   ]
  },
  {
   "cell_type": "code",
   "execution_count": 11,
   "metadata": {},
   "outputs": [
    {
     "name": "stdout",
     "output_type": "stream",
     "text": [
      "[0.4534025102144126, 0.5064660276988415, 0.68384991602011569, 0.62210740779621987, 0.58007803367154787]\n"
     ]
    }
   ],
   "source": [
    "m = RandomForestRegressor(n_estimators=55, min_samples_leaf=5, max_features=0.6, n_jobs=-1, oob_score=True)\n",
    "m.fit(X_train, y_train)\n",
    "print_score(m)"
   ]
  },
  {
   "cell_type": "code",
   "execution_count": 172,
   "metadata": {},
   "outputs": [],
   "source": []
  },
  {
   "cell_type": "code",
   "execution_count": 130,
   "metadata": {},
   "outputs": [],
   "source": [
    "\n",
    "\n",
    "generate_sub('yy_split_sample.csv', m, df_test)"
   ]
  },
  {
   "cell_type": "code",
   "execution_count": 36,
   "metadata": {},
   "outputs": [],
   "source": [
    "reset_rf_samples()"
   ]
  },
  {
   "cell_type": "code",
   "execution_count": 37,
   "metadata": {},
   "outputs": [
    {
     "name": "stdout",
     "output_type": "stream",
     "text": [
      "[0.2673434892587321, 0.5126637835121219, 0.89008304593489351, 0.61280207935372966, 0.55459379384574037]\n"
     ]
    }
   ],
   "source": [
    "m = RandomForestRegressor(n_estimators=30, min_samples_leaf=3, max_features=0.5, n_jobs=-1, oob_score=True)\n",
    "m.fit(X_train, y_train)\n",
    "print_score(m)"
   ]
  },
  {
   "cell_type": "code",
   "execution_count": 150,
   "metadata": {},
   "outputs": [],
   "source": [
    "generate_sub('yy_split_full.csv', m, df_test)"
   ]
  },
  {
   "cell_type": "markdown",
   "metadata": {
    "heading_collapsed": true
   },
   "source": [
    "# For Validation only"
   ]
  },
  {
   "cell_type": "code",
   "execution_count": 181,
   "metadata": {
    "hidden": true
   },
   "outputs": [],
   "source": [
    "trn = data['tra']"
   ]
  },
  {
   "cell_type": "code",
   "execution_count": 182,
   "metadata": {
    "hidden": true
   },
   "outputs": [],
   "source": [
    "trn_like_test = test_set.reset_index()[['air_store_id', 'visit_date', 'visitors']]\n",
    "trn_like_test.visit_date = trn_like_test.visit_date.astype('str')\n",
    "sub = utils.trn2test(trn_like_test)"
   ]
  },
  {
   "cell_type": "code",
   "execution_count": 184,
   "metadata": {
    "hidden": true
   },
   "outputs": [
    {
     "name": "stderr",
     "output_type": "stream",
     "text": [
      "/Library/Frameworks/Python.framework/Versions/3.6/lib/python3.6/site-packages/pandas/core/generic.py:3643: SettingWithCopyWarning: \n",
      "A value is trying to be set on a copy of a slice from a DataFrame.\n",
      "Try using .loc[row_indexer,col_indexer] = value instead\n",
      "\n",
      "See the caveats in the documentation: http://pandas.pydata.org/pandas-docs/stable/indexing.html#indexing-view-versus-copy\n",
      "  self[name] = value\n"
     ]
    }
   ],
   "source": [
    "sub.visitors = trn.visitors.mean()"
   ]
  },
  {
   "cell_type": "code",
   "execution_count": 185,
   "metadata": {
    "hidden": true
   },
   "outputs": [
    {
     "data": {
      "text/html": [
       "<div>\n",
       "<style scoped>\n",
       "    .dataframe tbody tr th:only-of-type {\n",
       "        vertical-align: middle;\n",
       "    }\n",
       "\n",
       "    .dataframe tbody tr th {\n",
       "        vertical-align: top;\n",
       "    }\n",
       "\n",
       "    .dataframe thead th {\n",
       "        text-align: right;\n",
       "    }\n",
       "</style>\n",
       "<table border=\"1\" class=\"dataframe\">\n",
       "  <thead>\n",
       "    <tr style=\"text-align: right;\">\n",
       "      <th></th>\n",
       "      <th>id</th>\n",
       "      <th>visitors</th>\n",
       "    </tr>\n",
       "  </thead>\n",
       "  <tbody>\n",
       "    <tr>\n",
       "      <th>0</th>\n",
       "      <td>air_00a91d42b08b08d9_2017-04-23</td>\n",
       "      <td>20.973761</td>\n",
       "    </tr>\n",
       "    <tr>\n",
       "      <th>1</th>\n",
       "      <td>air_00a91d42b08b08d9_2017-04-24</td>\n",
       "      <td>20.973761</td>\n",
       "    </tr>\n",
       "    <tr>\n",
       "      <th>2</th>\n",
       "      <td>air_00a91d42b08b08d9_2017-04-25</td>\n",
       "      <td>20.973761</td>\n",
       "    </tr>\n",
       "    <tr>\n",
       "      <th>3</th>\n",
       "      <td>air_00a91d42b08b08d9_2017-04-26</td>\n",
       "      <td>20.973761</td>\n",
       "    </tr>\n",
       "    <tr>\n",
       "      <th>4</th>\n",
       "      <td>air_00a91d42b08b08d9_2017-04-27</td>\n",
       "      <td>20.973761</td>\n",
       "    </tr>\n",
       "  </tbody>\n",
       "</table>\n",
       "</div>"
      ],
      "text/plain": [
       "                                id   visitors\n",
       "0  air_00a91d42b08b08d9_2017-04-23  20.973761\n",
       "1  air_00a91d42b08b08d9_2017-04-24  20.973761\n",
       "2  air_00a91d42b08b08d9_2017-04-25  20.973761\n",
       "3  air_00a91d42b08b08d9_2017-04-26  20.973761\n",
       "4  air_00a91d42b08b08d9_2017-04-27  20.973761"
      ]
     },
     "execution_count": 185,
     "metadata": {},
     "output_type": "execute_result"
    }
   ],
   "source": [
    "sub.head()"
   ]
  },
  {
   "cell_type": "code",
   "execution_count": 189,
   "metadata": {
    "hidden": true
   },
   "outputs": [
    {
     "data": {
      "text/plain": [
       "0.8690054253642328"
      ]
     },
     "execution_count": 189,
     "metadata": {},
     "output_type": "execute_result"
    }
   ],
   "source": [
    "rmse(np.log1p(20.973761), y_valid)"
   ]
  },
  {
   "cell_type": "code",
   "execution_count": 190,
   "metadata": {
    "hidden": true
   },
   "outputs": [],
   "source": [
    "sub.to_csv('all_mean', index=False)"
   ]
  },
  {
   "cell_type": "code",
   "execution_count": 194,
   "metadata": {
    "hidden": true
   },
   "outputs": [],
   "source": [
    "result = trn.groupby('air_store_id').mean().reset_index()"
   ]
  },
  {
   "cell_type": "code",
   "execution_count": 199,
   "metadata": {
    "hidden": true
   },
   "outputs": [],
   "source": [
    "agg = pd.merge(valid_set[['air_store_id']].reset_index(), result)"
   ]
  },
  {
   "cell_type": "code",
   "execution_count": 201,
   "metadata": {
    "hidden": true
   },
   "outputs": [
    {
     "data": {
      "text/plain": [
       "0.6285172436351284"
      ]
     },
     "execution_count": 201,
     "metadata": {},
     "output_type": "execute_result"
    }
   ],
   "source": [
    "# agg.head()\n",
    "rmse(np.log1p(agg.visitors.values), y_valid)"
   ]
  },
  {
   "cell_type": "code",
   "execution_count": 206,
   "metadata": {
    "hidden": true
   },
   "outputs": [],
   "source": [
    "agg = pd.merge(trn_like_test[['air_store_id', 'visit_date']], result)\n",
    "sub = utils.trn2test(agg)\n",
    "sub.to_csv('grp_mean', index=False)"
   ]
  },
  {
   "cell_type": "code",
   "execution_count": 208,
   "metadata": {
    "hidden": true
   },
   "outputs": [],
   "source": [
    "x = [0.5659305848785533, 0.5481404729410964, 0.8690054253642328, 0.6285172436351284]\n",
    "y = [0.618 , 0.605, 0.886, 0.634]"
   ]
  },
  {
   "cell_type": "code",
   "execution_count": 209,
   "metadata": {
    "hidden": true
   },
   "outputs": [
    {
     "data": {
      "text/plain": [
       "<matplotlib.collections.PathCollection at 0x135e62a20>"
      ]
     },
     "execution_count": 209,
     "metadata": {},
     "output_type": "execute_result"
    },
    {
     "data": {
      "image/png": "[encoded data removed]",
      "text/plain": [
       "<matplotlib.figure.Figure at 0x169801ef0>"
      ]
     },
     "metadata": {},
     "output_type": "display_data"
    }
   ],
   "source": [
    "plt.scatter(x, y )"
   ]
  },
  {
   "cell_type": "markdown",
   "metadata": {
    "hidden": true
   },
   "source": [
    "Yang's split is a good default"
   ]
  },
  {
   "cell_type": "code",
   "execution_count": null,
   "metadata": {
    "hidden": true
   },
   "outputs": [],
   "source": []
  },
  {
   "cell_type": "code",
   "execution_count": 13,
   "metadata": {
    "hidden": true
   },
   "outputs": [
    {
     "data": {
      "text/html": [
       "<div>\n",
       "<style scoped>\n",
       "    .dataframe tbody tr th:only-of-type {\n",
       "        vertical-align: middle;\n",
       "    }\n",
       "\n",
       "    .dataframe tbody tr th {\n",
       "        vertical-align: top;\n",
       "    }\n",
       "\n",
       "    .dataframe thead th {\n",
       "        text-align: right;\n",
       "    }\n",
       "</style>\n",
       "<table border=\"1\" class=\"dataframe\">\n",
       "  <thead>\n",
       "    <tr style=\"text-align: right;\">\n",
       "      <th></th>\n",
       "      <th>cols</th>\n",
       "      <th>imp</th>\n",
       "    </tr>\n",
       "  </thead>\n",
       "  <tbody>\n",
       "    <tr>\n",
       "      <th>37</th>\n",
       "      <td>rolling_air_store_id_visit_Dayofweek_90d_mean</td>\n",
       "      <td>0.317518</td>\n",
       "    </tr>\n",
       "    <tr>\n",
       "      <th>76</th>\n",
       "      <td>rolling_air_store_id_visit_Dayofweek_90d_median</td>\n",
       "      <td>0.114667</td>\n",
       "    </tr>\n",
       "    <tr>\n",
       "      <th>52</th>\n",
       "      <td>rolling_air_store_id_visit_Dayofweek_180d_mean</td>\n",
       "      <td>0.091479</td>\n",
       "    </tr>\n",
       "    <tr>\n",
       "      <th>75</th>\n",
       "      <td>rolling_air_store_id_visit_Dayofweek_60d_mean</td>\n",
       "      <td>0.060703</td>\n",
       "    </tr>\n",
       "    <tr>\n",
       "      <th>40</th>\n",
       "      <td>rolling_air_store_id_30d_median</td>\n",
       "      <td>0.019544</td>\n",
       "    </tr>\n",
       "    <tr>\n",
       "      <th>85</th>\n",
       "      <td>rolling_air_store_id_30d_mean</td>\n",
       "      <td>0.017957</td>\n",
       "    </tr>\n",
       "    <tr>\n",
       "      <th>94</th>\n",
       "      <td>rolling_air_store_id_visit_Dayofweek_180d_median</td>\n",
       "      <td>0.016489</td>\n",
       "    </tr>\n",
       "    <tr>\n",
       "      <th>68</th>\n",
       "      <td>rolling_air_store_id_visit_Dayofweek_360d_median</td>\n",
       "      <td>0.014629</td>\n",
       "    </tr>\n",
       "    <tr>\n",
       "      <th>9</th>\n",
       "      <td>be_holiday_flg</td>\n",
       "      <td>0.010887</td>\n",
       "    </tr>\n",
       "    <tr>\n",
       "      <th>35</th>\n",
       "      <td>rolling_air_store_id_visit_Dayofweek_360d_mean</td>\n",
       "      <td>0.010544</td>\n",
       "    </tr>\n",
       "  </tbody>\n",
       "</table>\n",
       "</div>"
      ],
      "text/plain": [
       "                                                cols       imp\n",
       "37     rolling_air_store_id_visit_Dayofweek_90d_mean  0.317518\n",
       "76   rolling_air_store_id_visit_Dayofweek_90d_median  0.114667\n",
       "52    rolling_air_store_id_visit_Dayofweek_180d_mean  0.091479\n",
       "75     rolling_air_store_id_visit_Dayofweek_60d_mean  0.060703\n",
       "40                   rolling_air_store_id_30d_median  0.019544\n",
       "85                     rolling_air_store_id_30d_mean  0.017957\n",
       "94  rolling_air_store_id_visit_Dayofweek_180d_median  0.016489\n",
       "68  rolling_air_store_id_visit_Dayofweek_360d_median  0.014629\n",
       "9                                     be_holiday_flg  0.010887\n",
       "35    rolling_air_store_id_visit_Dayofweek_360d_mean  0.010544"
      ]
     },
     "execution_count": 13,
     "metadata": {},
     "output_type": "execute_result"
    }
   ],
   "source": [
    "fi = rf_feat_importance(m, X_train); fi[:10]"
   ]
  },
  {
   "cell_type": "code",
   "execution_count": 14,
   "metadata": {
    "hidden": true
   },
   "outputs": [
    {
     "data": {
      "image/png": "[encoded data removed]",
      "text/plain": [
       "<matplotlib.figure.Figure at 0x7f61b9be2278>"
      ]
     },
     "metadata": {},
     "output_type": "display_data"
    }
   ],
   "source": [
    "fi.plot('cols', 'imp', figsize=(10,6), legend=False);"
   ]
  },
  {
   "cell_type": "code",
   "execution_count": 15,
   "metadata": {
    "hidden": true
   },
   "outputs": [],
   "source": [
    "def plot_fi(fi): return fi.plot('cols', 'imp', 'barh', figsize=(12,7), legend=False)"
   ]
  },
  {
   "cell_type": "code",
   "execution_count": 16,
   "metadata": {
    "hidden": true
   },
   "outputs": [
    {
     "data": {
      "image/png": "[encoded data removed]",
      "text/plain": [
       "<matplotlib.figure.Figure at 0x7f61b9b6e390>"
      ]
     },
     "metadata": {},
     "output_type": "display_data"
    }
   ],
   "source": [
    "plot_fi(fi[:30]);"
   ]
  },
  {
   "cell_type": "code",
   "execution_count": 115,
   "metadata": {
    "hidden": true
   },
   "outputs": [
    {
     "data": {
      "text/plain": [
       "27"
      ]
     },
     "execution_count": 115,
     "metadata": {},
     "output_type": "execute_result"
    }
   ],
   "source": [
    "to_keep = fi[fi.imp>0.005].cols; \n",
    "to_keep = list(set(to_keep) - set([\"visit_Dayofyear\"]))\n",
    "len(to_keep)"
   ]
  },
  {
   "cell_type": "code",
   "execution_count": 116,
   "metadata": {
    "hidden": true
   },
   "outputs": [],
   "source": [
    "X_train, X_valid = df[to_keep].copy(), df_val[to_keep].copy()"
   ]
  },
  {
   "cell_type": "code",
   "execution_count": 124,
   "metadata": {
    "hidden": true
   },
   "outputs": [
    {
     "name": "stdout",
     "output_type": "stream",
     "text": [
      "[0.46817773054768813, 0.5664348115425176, 0.66290914916122134, 0.52731958101897236, 0.55586476982507405]\n"
     ]
    }
   ],
   "source": [
    "m = RandomForestRegressor(n_estimators=30, min_samples_leaf=3, max_features=0.6, n_jobs=-1, oob_score=True)\n",
    "m.fit(X_train, y_train)\n",
    "print_score(m)"
   ]
  },
  {
   "cell_type": "code",
   "execution_count": 125,
   "metadata": {
    "hidden": true
   },
   "outputs": [
    {
     "data": {
      "image/png": "[encoded data removed]",
      "text/plain": [
       "<matplotlib.figure.Figure at 0x124b25c18>"
      ]
     },
     "metadata": {},
     "output_type": "display_data"
    }
   ],
   "source": [
    "fi = rf_feat_importance(m, X_train)\n",
    "plot_fi(fi);"
   ]
  },
  {
   "cell_type": "code",
   "execution_count": 128,
   "metadata": {
    "hidden": true
   },
   "outputs": [
    {
     "data": {
      "text/plain": [
       "['{PATH}1st.pkl']"
      ]
     },
     "execution_count": 128,
     "metadata": {},
     "output_type": "execute_result"
    }
   ],
   "source": [
    "from sklearn.externals import joblib\n",
    "joblib.dump(m, '{PATH}1st.pkl') "
   ]
  },
  {
   "cell_type": "code",
   "execution_count": 111,
   "metadata": {
    "hidden": true
   },
   "outputs": [
    {
     "data": {
      "image/png": "[encoded data removed]",
      "text/plain": [
       "<matplotlib.figure.Figure at 0x12abc3320>"
      ]
     },
     "metadata": {},
     "output_type": "display_data"
    }
   ],
   "source": [
    "from scipy.cluster import hierarchy as hc\n",
    "\n",
    "corr = np.round(scipy.stats.spearmanr(X_train).correlation, 4)\n",
    "corr_condensed = hc.distance.squareform(1-corr)\n",
    "z = hc.linkage(corr_condensed, method='average')\n",
    "fig = plt.figure(figsize=(16,10))\n",
    "dendrogram = hc.dendrogram(z, labels=X_train.columns, orientation='left', leaf_font_size=16)\n",
    "plt.show()"
   ]
  },
  {
   "cell_type": "code",
   "execution_count": 112,
   "metadata": {
    "hidden": true
   },
   "outputs": [],
   "source": [
    "def get_oob(df):\n",
    "    m = RandomForestRegressor(n_estimators=30, min_samples_leaf=5, max_features=0.6, n_jobs=-1, oob_score=True)\n",
    "    m.fit(df, y_train)\n",
    "    return m.oob_score_"
   ]
  },
  {
   "cell_type": "code",
   "execution_count": 113,
   "metadata": {
    "hidden": true
   },
   "outputs": [
    {
     "data": {
      "text/plain": [
       "0.54944460285766084"
      ]
     },
     "execution_count": 113,
     "metadata": {},
     "output_type": "execute_result"
    }
   ],
   "source": [
    "get_oob(X_train)"
   ]
  },
  {
   "cell_type": "code",
   "execution_count": 114,
   "metadata": {
    "hidden": true
   },
   "outputs": [
    {
     "name": "stdout",
     "output_type": "stream",
     "text": [
      "hpg_area_name 0.548242842795\n",
      "hpg_genre_name 0.550920167942\n",
      "visit_Month 0.549747122541\n",
      "visit_Dayofyear 0.548202994228\n"
     ]
    }
   ],
   "source": [
    "for c in ('hpg_area_name', 'hpg_genre_name','visit_Month', 'visit_Dayofyear'):\n",
    "    print(c, get_oob(X_train.drop(c, axis=1)))"
   ]
  },
  {
   "cell_type": "code",
   "execution_count": 33,
   "metadata": {
    "hidden": true
   },
   "outputs": [],
   "source": [
    "reset_rf_samples()"
   ]
  },
  {
   "cell_type": "code",
   "execution_count": 34,
   "metadata": {
    "hidden": true
   },
   "outputs": [
    {
     "name": "stdout",
     "output_type": "stream",
     "text": [
      "[0.36179922521130875, 0.676993103351176, 0.79869214280979817, 0.32479409983233809, 0.57243590199522287]\n"
     ]
    }
   ],
   "source": [
    "m = RandomForestRegressor(n_estimators=40, min_samples_leaf=3, max_features=0.5, n_jobs=-1, oob_score=True)\n",
    "m.fit(X_train, y_train)\n",
    "print_score(m)"
   ]
  },
  {
   "cell_type": "markdown",
   "metadata": {
    "heading_collapsed": true
   },
   "source": [
    "# Partial dependence"
   ]
  },
  {
   "cell_type": "code",
   "execution_count": 36,
   "metadata": {
    "hidden": true
   },
   "outputs": [],
   "source": [
    "from pdpbox import pdp\n",
    "from plotnine import *"
   ]
  },
  {
   "cell_type": "code",
   "execution_count": 37,
   "metadata": {
    "hidden": true
   },
   "outputs": [],
   "source": [
    "set_rf_samples(50000)"
   ]
  },
  {
   "cell_type": "code",
   "execution_count": 38,
   "metadata": {
    "hidden": true
   },
   "outputs": [],
   "source": [
    "m = RandomForestRegressor(n_estimators=40, min_samples_leaf=3, max_features=0.6, n_jobs=-1)\n",
    "m.fit(X_train, y_train);"
   ]
  },
  {
   "cell_type": "code",
   "execution_count": 41,
   "metadata": {
    "hidden": true
   },
   "outputs": [
    {
     "data": {
      "image/png": "[encoded data removed]",
      "text/plain": [
       "<matplotlib.figure.Figure at 0x12b9c5cc0>"
      ]
     },
     "metadata": {},
     "output_type": "display_data"
    }
   ],
   "source": [
    "plot_fi(rf_feat_importance(m, X_train)[:10]);"
   ]
  },
  {
   "cell_type": "code",
   "execution_count": 46,
   "metadata": {
    "hidden": true
   },
   "outputs": [
    {
     "data": {
      "image/png": "[encoded data removed]",
      "text/plain": [
       "<matplotlib.figure.Figure at 0x12b5bb278>"
      ]
     },
     "metadata": {},
     "output_type": "display_data"
    }
   ],
   "source": [
    "X_train.plot('genre_name', 'air_loc', 'scatter', alpha=0.01, figsize=(10,8));"
   ]
  },
  {
   "cell_type": "code",
   "execution_count": null,
   "metadata": {
    "hidden": true
   },
   "outputs": [],
   "source": [
    "x_all = get_sample(df_raw[df_raw.YearMade>1930], 500)"
   ]
  },
  {
   "cell_type": "code",
   "execution_count": 47,
   "metadata": {
    "hidden": true
   },
   "outputs": [
    {
     "name": "stdout",
     "output_type": "stream",
     "text": [
      "CPU times: user 202 ms, sys: 40.7 ms, total: 243 ms\n",
      "Wall time: 242 ms\n"
     ]
    },
    {
     "data": {
      "text/plain": [
       "(3.4392016761615194, 0.60899233236474881)"
      ]
     },
     "execution_count": 47,
     "metadata": {},
     "output_type": "execute_result"
    }
   ],
   "source": [
    "%time preds = np.stack([t.predict(X_valid) for t in m.estimators_])\n",
    "np.mean(preds[:,0]), np.std(preds[:,0])"
   ]
  },
  {
   "cell_type": "code",
   "execution_count": 48,
   "metadata": {
    "hidden": true
   },
   "outputs": [
    {
     "name": "stdout",
     "output_type": "stream",
     "text": [
      "CPU times: user 87.4 ms, sys: 80.6 ms, total: 168 ms\n",
      "Wall time: 304 ms\n"
     ]
    },
    {
     "data": {
      "text/plain": [
       "(3.4392016761615194, 0.60899233236474881)"
      ]
     },
     "execution_count": 48,
     "metadata": {},
     "output_type": "execute_result"
    }
   ],
   "source": [
    "def get_preds(t): return t.predict(X_valid)\n",
    "%time preds = np.stack(parallel_trees(m, get_preds))\n",
    "np.mean(preds[:,0]), np.std(preds[:,0])"
   ]
  },
  {
   "cell_type": "code",
   "execution_count": 51,
   "metadata": {
    "hidden": true
   },
   "outputs": [
    {
     "data": {
      "image/png": "[encoded data removed]",
      "text/plain": [
       "<matplotlib.figure.Figure at 0x12d0f3be0>"
      ]
     },
     "metadata": {},
     "output_type": "display_data"
    }
   ],
   "source": [
    "x = valid_set.copy()\n",
    "x['pred_std'] = np.std(preds, axis=0)\n",
    "x['pred'] = np.mean(preds, axis=0)\n",
    "x.genre_name.value_counts().plot.barh();"
   ]
  },
  {
   "cell_type": "code",
   "execution_count": 54,
   "metadata": {
    "hidden": true
   },
   "outputs": [
    {
     "data": {
      "text/html": [
       "<div>\n",
       "<style scoped>\n",
       "    .dataframe tbody tr th:only-of-type {\n",
       "        vertical-align: middle;\n",
       "    }\n",
       "\n",
       "    .dataframe tbody tr th {\n",
       "        vertical-align: top;\n",
       "    }\n",
       "\n",
       "    .dataframe thead th {\n",
       "        text-align: right;\n",
       "    }\n",
       "</style>\n",
       "<table border=\"1\" class=\"dataframe\">\n",
       "  <thead>\n",
       "    <tr style=\"text-align: right;\">\n",
       "      <th></th>\n",
       "      <th>genre_name</th>\n",
       "      <th>visitors</th>\n",
       "      <th>pred</th>\n",
       "      <th>pred_std</th>\n",
       "    </tr>\n",
       "  </thead>\n",
       "  <tbody>\n",
       "    <tr>\n",
       "      <th>0</th>\n",
       "      <td>Asian</td>\n",
       "      <td>37.127273</td>\n",
       "      <td>2.873264</td>\n",
       "      <td>0.796646</td>\n",
       "    </tr>\n",
       "    <tr>\n",
       "      <th>1</th>\n",
       "      <td>Bar/Cocktail</td>\n",
       "      <td>13.279608</td>\n",
       "      <td>2.368110</td>\n",
       "      <td>0.602758</td>\n",
       "    </tr>\n",
       "    <tr>\n",
       "      <th>2</th>\n",
       "      <td>Cafe/Sweets</td>\n",
       "      <td>23.337569</td>\n",
       "      <td>3.009520</td>\n",
       "      <td>0.630609</td>\n",
       "    </tr>\n",
       "    <tr>\n",
       "      <th>3</th>\n",
       "      <td>Creative cuisine</td>\n",
       "      <td>26.486005</td>\n",
       "      <td>3.062032</td>\n",
       "      <td>0.648814</td>\n",
       "    </tr>\n",
       "    <tr>\n",
       "      <th>4</th>\n",
       "      <td>Dining bar</td>\n",
       "      <td>18.820835</td>\n",
       "      <td>2.752250</td>\n",
       "      <td>0.683347</td>\n",
       "    </tr>\n",
       "    <tr>\n",
       "      <th>5</th>\n",
       "      <td>International cuisine</td>\n",
       "      <td>26.410256</td>\n",
       "      <td>2.933772</td>\n",
       "      <td>0.870651</td>\n",
       "    </tr>\n",
       "    <tr>\n",
       "      <th>6</th>\n",
       "      <td>Italian/French</td>\n",
       "      <td>22.712401</td>\n",
       "      <td>2.970162</td>\n",
       "      <td>0.696028</td>\n",
       "    </tr>\n",
       "    <tr>\n",
       "      <th>7</th>\n",
       "      <td>Izakaya</td>\n",
       "      <td>23.771219</td>\n",
       "      <td>2.970354</td>\n",
       "      <td>0.631278</td>\n",
       "    </tr>\n",
       "    <tr>\n",
       "      <th>8</th>\n",
       "      <td>Japanese food</td>\n",
       "      <td>19.475616</td>\n",
       "      <td>2.883718</td>\n",
       "      <td>0.683474</td>\n",
       "    </tr>\n",
       "    <tr>\n",
       "      <th>9</th>\n",
       "      <td>Karaoke/Party</td>\n",
       "      <td>34.641509</td>\n",
       "      <td>3.081506</td>\n",
       "      <td>0.740399</td>\n",
       "    </tr>\n",
       "    <tr>\n",
       "      <th>10</th>\n",
       "      <td>Okonomiyaki/Monja/Teppanyaki</td>\n",
       "      <td>23.706667</td>\n",
       "      <td>3.058633</td>\n",
       "      <td>0.705875</td>\n",
       "    </tr>\n",
       "    <tr>\n",
       "      <th>11</th>\n",
       "      <td>Other</td>\n",
       "      <td>20.190931</td>\n",
       "      <td>2.906827</td>\n",
       "      <td>0.644309</td>\n",
       "    </tr>\n",
       "    <tr>\n",
       "      <th>12</th>\n",
       "      <td>Western food</td>\n",
       "      <td>22.624498</td>\n",
       "      <td>2.889736</td>\n",
       "      <td>0.685720</td>\n",
       "    </tr>\n",
       "    <tr>\n",
       "      <th>13</th>\n",
       "      <td>Yakiniku/Korean food</td>\n",
       "      <td>23.156118</td>\n",
       "      <td>3.016940</td>\n",
       "      <td>0.666662</td>\n",
       "    </tr>\n",
       "  </tbody>\n",
       "</table>\n",
       "</div>"
      ],
      "text/plain": [
       "                      genre_name   visitors      pred  pred_std\n",
       "0                          Asian  37.127273  2.873264  0.796646\n",
       "1                   Bar/Cocktail  13.279608  2.368110  0.602758\n",
       "2                    Cafe/Sweets  23.337569  3.009520  0.630609\n",
       "3               Creative cuisine  26.486005  3.062032  0.648814\n",
       "4                     Dining bar  18.820835  2.752250  0.683347\n",
       "5          International cuisine  26.410256  2.933772  0.870651\n",
       "6                 Italian/French  22.712401  2.970162  0.696028\n",
       "7                        Izakaya  23.771219  2.970354  0.631278\n",
       "8                  Japanese food  19.475616  2.883718  0.683474\n",
       "9                  Karaoke/Party  34.641509  3.081506  0.740399\n",
       "10  Okonomiyaki/Monja/Teppanyaki  23.706667  3.058633  0.705875\n",
       "11                         Other  20.190931  2.906827  0.644309\n",
       "12                  Western food  22.624498  2.889736  0.685720\n",
       "13          Yakiniku/Korean food  23.156118  3.016940  0.666662"
      ]
     },
     "execution_count": 54,
     "metadata": {},
     "output_type": "execute_result"
    }
   ],
   "source": [
    "flds = ['genre_name', 'visitors', 'pred', 'pred_std']\n",
    "enc_summ = x[flds].groupby('genre_name', as_index=False).mean()\n",
    "enc_summ"
   ]
  },
  {
   "cell_type": "code",
   "execution_count": 58,
   "metadata": {
    "hidden": true
   },
   "outputs": [
    {
     "data": {
      "image/png": "[encoded data removed]",
      "text/plain": [
       "<matplotlib.figure.Figure at 0x1336c40b8>"
      ]
     },
     "metadata": {},
     "output_type": "display_data"
    }
   ],
   "source": [
    "enc_summ = enc_summ[~pd.isnull(enc_summ.genre_name)]\n",
    "enc_summ.plot('genre_name', 'visitors', 'barh', xlim=(0,40));"
   ]
  },
  {
   "cell_type": "code",
   "execution_count": 63,
   "metadata": {
    "hidden": true
   },
   "outputs": [
    {
     "data": {
      "image/png": "[encoded data removed]",
      "text/plain": [
       "<matplotlib.figure.Figure at 0x12d1687b8>"
      ]
     },
     "metadata": {},
     "output_type": "display_data"
    }
   ],
   "source": [
    "\n",
    "enc_summ.plot('genre_name', 'pred', 'barh', xerr='pred_std', alpha=0.6, xlim=(0,40));"
   ]
  },
  {
   "cell_type": "code",
   "execution_count": null,
   "metadata": {
    "hidden": true
   },
   "outputs": [],
   "source": [
    "enc_summ.pred = np.exp(enc_summ.pred)"
   ]
  },
  {
   "cell_type": "code",
   "execution_count": 62,
   "metadata": {
    "hidden": true
   },
   "outputs": [],
   "source": [
    "enc_summ.pred_std = np.exp(enc_summ.pred_std)"
   ]
  },
  {
   "cell_type": "code",
   "execution_count": 64,
   "metadata": {
    "hidden": true
   },
   "outputs": [
    {
     "data": {
      "text/plain": [
       "1     0.171126\n",
       "5     0.127057\n",
       "4     0.126324\n",
       "0     0.125353\n",
       "8     0.110776\n",
       "12    0.110359\n",
       "11    0.104088\n",
       "6     0.102886\n",
       "7     0.096417\n",
       "9     0.096221\n",
       "13    0.095343\n",
       "10    0.095107\n",
       "2     0.092651\n",
       "3     0.089527\n",
       "dtype: float64"
      ]
     },
     "execution_count": 64,
     "metadata": {},
     "output_type": "execute_result"
    }
   ],
   "source": [
    "(enc_summ.pred_std/enc_summ.pred).sort_values(ascending=False)"
   ]
  },
  {
   "cell_type": "code",
   "execution_count": 65,
   "metadata": {
    "hidden": true
   },
   "outputs": [
    {
     "data": {
      "text/html": [
       "<div>\n",
       "<style scoped>\n",
       "    .dataframe tbody tr th:only-of-type {\n",
       "        vertical-align: middle;\n",
       "    }\n",
       "\n",
       "    .dataframe tbody tr th {\n",
       "        vertical-align: top;\n",
       "    }\n",
       "\n",
       "    .dataframe thead th {\n",
       "        text-align: right;\n",
       "    }\n",
       "</style>\n",
       "<table border=\"1\" class=\"dataframe\">\n",
       "  <thead>\n",
       "    <tr style=\"text-align: right;\">\n",
       "      <th></th>\n",
       "      <th>genre_name</th>\n",
       "      <th>visitors</th>\n",
       "      <th>pred</th>\n",
       "      <th>pred_std</th>\n",
       "    </tr>\n",
       "  </thead>\n",
       "  <tbody>\n",
       "    <tr>\n",
       "      <th>0</th>\n",
       "      <td>Asian</td>\n",
       "      <td>37.127273</td>\n",
       "      <td>17.694677</td>\n",
       "      <td>2.218089</td>\n",
       "    </tr>\n",
       "    <tr>\n",
       "      <th>1</th>\n",
       "      <td>Bar/Cocktail</td>\n",
       "      <td>13.279608</td>\n",
       "      <td>10.677196</td>\n",
       "      <td>1.827150</td>\n",
       "    </tr>\n",
       "    <tr>\n",
       "      <th>2</th>\n",
       "      <td>Cafe/Sweets</td>\n",
       "      <td>23.337569</td>\n",
       "      <td>20.277655</td>\n",
       "      <td>1.878754</td>\n",
       "    </tr>\n",
       "    <tr>\n",
       "      <th>3</th>\n",
       "      <td>Creative cuisine</td>\n",
       "      <td>26.486005</td>\n",
       "      <td>21.370933</td>\n",
       "      <td>1.913270</td>\n",
       "    </tr>\n",
       "    <tr>\n",
       "      <th>4</th>\n",
       "      <td>Dining bar</td>\n",
       "      <td>18.820835</td>\n",
       "      <td>15.677862</td>\n",
       "      <td>1.980495</td>\n",
       "    </tr>\n",
       "    <tr>\n",
       "      <th>5</th>\n",
       "      <td>International cuisine</td>\n",
       "      <td>26.410256</td>\n",
       "      <td>18.798410</td>\n",
       "      <td>2.388465</td>\n",
       "    </tr>\n",
       "    <tr>\n",
       "      <th>6</th>\n",
       "      <td>Italian/French</td>\n",
       "      <td>22.712401</td>\n",
       "      <td>19.495079</td>\n",
       "      <td>2.005771</td>\n",
       "    </tr>\n",
       "    <tr>\n",
       "      <th>7</th>\n",
       "      <td>Izakaya</td>\n",
       "      <td>23.771219</td>\n",
       "      <td>19.498812</td>\n",
       "      <td>1.880011</td>\n",
       "    </tr>\n",
       "    <tr>\n",
       "      <th>8</th>\n",
       "      <td>Japanese food</td>\n",
       "      <td>19.475616</td>\n",
       "      <td>17.880624</td>\n",
       "      <td>1.980747</td>\n",
       "    </tr>\n",
       "    <tr>\n",
       "      <th>9</th>\n",
       "      <td>Karaoke/Party</td>\n",
       "      <td>34.641509</td>\n",
       "      <td>21.791195</td>\n",
       "      <td>2.096772</td>\n",
       "    </tr>\n",
       "    <tr>\n",
       "      <th>10</th>\n",
       "      <td>Okonomiyaki/Monja/Teppanyaki</td>\n",
       "      <td>23.706667</td>\n",
       "      <td>21.298417</td>\n",
       "      <td>2.025619</td>\n",
       "    </tr>\n",
       "    <tr>\n",
       "      <th>11</th>\n",
       "      <td>Other</td>\n",
       "      <td>20.190931</td>\n",
       "      <td>18.298651</td>\n",
       "      <td>1.904670</td>\n",
       "    </tr>\n",
       "    <tr>\n",
       "      <th>12</th>\n",
       "      <td>Western food</td>\n",
       "      <td>22.624498</td>\n",
       "      <td>17.988562</td>\n",
       "      <td>1.985201</td>\n",
       "    </tr>\n",
       "    <tr>\n",
       "      <th>13</th>\n",
       "      <td>Yakiniku/Korean food</td>\n",
       "      <td>23.156118</td>\n",
       "      <td>20.428679</td>\n",
       "      <td>1.947724</td>\n",
       "    </tr>\n",
       "  </tbody>\n",
       "</table>\n",
       "</div>"
      ],
      "text/plain": [
       "                      genre_name   visitors       pred  pred_std\n",
       "0                          Asian  37.127273  17.694677  2.218089\n",
       "1                   Bar/Cocktail  13.279608  10.677196  1.827150\n",
       "2                    Cafe/Sweets  23.337569  20.277655  1.878754\n",
       "3               Creative cuisine  26.486005  21.370933  1.913270\n",
       "4                     Dining bar  18.820835  15.677862  1.980495\n",
       "5          International cuisine  26.410256  18.798410  2.388465\n",
       "6                 Italian/French  22.712401  19.495079  2.005771\n",
       "7                        Izakaya  23.771219  19.498812  1.880011\n",
       "8                  Japanese food  19.475616  17.880624  1.980747\n",
       "9                  Karaoke/Party  34.641509  21.791195  2.096772\n",
       "10  Okonomiyaki/Monja/Teppanyaki  23.706667  21.298417  2.025619\n",
       "11                         Other  20.190931  18.298651  1.904670\n",
       "12                  Western food  22.624498  17.988562  1.985201\n",
       "13          Yakiniku/Korean food  23.156118  20.428679  1.947724"
      ]
     },
     "execution_count": 65,
     "metadata": {},
     "output_type": "execute_result"
    }
   ],
   "source": [
    "enc_summ"
   ]
  },
  {
   "cell_type": "markdown",
   "metadata": {
    "heading_collapsed": true
   },
   "source": [
    "# Tree interpreter\n"
   ]
  },
  {
   "cell_type": "code",
   "execution_count": 67,
   "metadata": {
    "hidden": true
   },
   "outputs": [],
   "source": [
    "from treeinterpreter import treeinterpreter as ti"
   ]
  },
  {
   "cell_type": "code",
   "execution_count": 68,
   "metadata": {
    "hidden": true
   },
   "outputs": [
    {
     "data": {
      "text/plain": [
       "array([[   1.     ,    7.     ,    6.     ,  450.     ,    1.83413,   25.     ,   84.     ,    1.88624,\n",
       "          12.     ,   69.     ,   45.     ,    1.40543,    1.42265,    3.     ,   -0.68605,   -0.18596,\n",
       "          -0.67694,   -0.1581 ,    0.     ,   35.     ,    0.     ]])"
      ]
     },
     "execution_count": 68,
     "metadata": {},
     "output_type": "execute_result"
    }
   ],
   "source": [
    "row = X_valid.values[None,0]; row"
   ]
  },
  {
   "cell_type": "code",
   "execution_count": 69,
   "metadata": {
    "hidden": true
   },
   "outputs": [],
   "source": [
    "prediction, bias, contributions = ti.predict(m, row)"
   ]
  },
  {
   "cell_type": "code",
   "execution_count": 70,
   "metadata": {
    "hidden": true
   },
   "outputs": [
    {
     "data": {
      "text/plain": [
       "(3.4392016761615194, 2.8002709957732206)"
      ]
     },
     "execution_count": 70,
     "metadata": {},
     "output_type": "execute_result"
    }
   ],
   "source": [
    "prediction[0], bias[0]"
   ]
  },
  {
   "cell_type": "code",
   "execution_count": 71,
   "metadata": {
    "hidden": true
   },
   "outputs": [],
   "source": [
    "idxs = np.argsort(contributions[0])"
   ]
  },
  {
   "cell_type": "code",
   "execution_count": 73,
   "metadata": {
    "hidden": true
   },
   "outputs": [
    {
     "data": {
      "text/plain": [
       "[('visit_Elapsed', 183.0, -0.071514926613036184),\n",
       " ('air_loc', 69.0, -0.016864963159615231),\n",
       " ('stores_in_air_loc', -0.15810222944651017, -0.012196819936200165),\n",
       " ('area_name', 45.0, -0.011989975220242621),\n",
       " ('visit_Dayofyear', 183.0, -0.0051088356225353349),\n",
       " ('hpg_genre_name', 0.0, 0.0034689967357795061),\n",
       " ('std_visits_in_area_name', 0.9717744944336782, 0.0083173268337478519),\n",
       " ('hpg_loc', 35.0, 0.012676410884746914),\n",
       " ('max_visits_in_air_loc', -0.5084147876939403, 0.013161828844448598),\n",
       " ('stores_in_area_name', -0.18596131089351278, 0.014877503610547427),\n",
       " ('genre_name', 7.0, 0.015185691376606358),\n",
       " ('visit_Month', 7.0, 0.015746843540219858),\n",
       " ('visit_Day', 1.0, 0.016314787128898268),\n",
       " ('visit_Week', 26.0, 0.020107236634243318),\n",
       " ('std_visits_in_air_loc', 0.964317762725145, 0.023366772205020658),\n",
       " ('air_store_id', 1.0, 0.025112464677193413),\n",
       " ('hpg_area_name', 0.0, 0.035259543478246724),\n",
       " ('max_visits_in_area_name', -0.5185350940077101, 0.036990592214938833),\n",
       " ('mean_visits_in_area_name', 1.3461719284277707, 0.14022746526765684),\n",
       " ('visit_Dayofweek', 5.0, 0.17150715577276099),\n",
       " ('mean_visits_in_air_loc', 1.3089832397024193, 0.20428558173487224)]"
      ]
     },
     "execution_count": 73,
     "metadata": {},
     "output_type": "execute_result"
    }
   ],
   "source": [
    "[o for o in zip(X_train.columns[idxs], X_train.iloc[0][idxs], contributions[0][idxs])]"
   ]
  },
  {
   "cell_type": "code",
   "execution_count": 74,
   "metadata": {
    "hidden": true
   },
   "outputs": [
    {
     "data": {
      "text/plain": [
       "0.63893068038829837"
      ]
     },
     "execution_count": 74,
     "metadata": {},
     "output_type": "execute_result"
    }
   ],
   "source": [
    "contributions[0].sum()"
   ]
  },
  {
   "cell_type": "markdown",
   "metadata": {
    "heading_collapsed": true
   },
   "source": [
    "# Extrapolation"
   ]
  },
  {
   "cell_type": "code",
   "execution_count": 80,
   "metadata": {
    "hidden": true
   },
   "outputs": [],
   "source": [
    "df_ext = pd.concat((X_train.copy(), X_valid.copy()))\n",
    "df_ext['is_valid'] = 1\n",
    "df_ext.is_valid[:len(X_train)] = 0\n",
    "x, y, _ = proc_df(df_ext, 'is_valid')"
   ]
  },
  {
   "cell_type": "code",
   "execution_count": 81,
   "metadata": {
    "hidden": true
   },
   "outputs": [
    {
     "data": {
      "text/plain": [
       "0.9988541450404842"
      ]
     },
     "execution_count": 81,
     "metadata": {},
     "output_type": "execute_result"
    }
   ],
   "source": [
    "m = RandomForestClassifier(n_estimators=40, min_samples_leaf=3, max_features=0.5, n_jobs=-1, oob_score=True)\n",
    "m.fit(x, y);\n",
    "m.oob_score_"
   ]
  },
  {
   "cell_type": "code",
   "execution_count": 82,
   "metadata": {
    "hidden": true
   },
   "outputs": [
    {
     "data": {
      "text/html": [
       "<div>\n",
       "<style scoped>\n",
       "    .dataframe tbody tr th:only-of-type {\n",
       "        vertical-align: middle;\n",
       "    }\n",
       "\n",
       "    .dataframe tbody tr th {\n",
       "        vertical-align: top;\n",
       "    }\n",
       "\n",
       "    .dataframe thead th {\n",
       "        text-align: right;\n",
       "    }\n",
       "</style>\n",
       "<table border=\"1\" class=\"dataframe\">\n",
       "  <thead>\n",
       "    <tr style=\"text-align: right;\">\n",
       "      <th></th>\n",
       "      <th>cols</th>\n",
       "      <th>imp</th>\n",
       "    </tr>\n",
       "  </thead>\n",
       "  <tbody>\n",
       "    <tr>\n",
       "      <th>3</th>\n",
       "      <td>visit_Elapsed</td>\n",
       "      <td>0.607622</td>\n",
       "    </tr>\n",
       "    <tr>\n",
       "      <th>6</th>\n",
       "      <td>visit_Dayofyear</td>\n",
       "      <td>0.082584</td>\n",
       "    </tr>\n",
       "    <tr>\n",
       "      <th>8</th>\n",
       "      <td>visit_Week</td>\n",
       "      <td>0.057169</td>\n",
       "    </tr>\n",
       "    <tr>\n",
       "      <th>14</th>\n",
       "      <td>max_visits_in_area_name</td>\n",
       "      <td>0.053746</td>\n",
       "    </tr>\n",
       "    <tr>\n",
       "      <th>16</th>\n",
       "      <td>max_visits_in_air_loc</td>\n",
       "      <td>0.041384</td>\n",
       "    </tr>\n",
       "    <tr>\n",
       "      <th>17</th>\n",
       "      <td>stores_in_air_loc</td>\n",
       "      <td>0.037159</td>\n",
       "    </tr>\n",
       "    <tr>\n",
       "      <th>13</th>\n",
       "      <td>visit_Month</td>\n",
       "      <td>0.026922</td>\n",
       "    </tr>\n",
       "    <tr>\n",
       "      <th>15</th>\n",
       "      <td>stores_in_area_name</td>\n",
       "      <td>0.020840</td>\n",
       "    </tr>\n",
       "    <tr>\n",
       "      <th>11</th>\n",
       "      <td>std_visits_in_air_loc</td>\n",
       "      <td>0.019514</td>\n",
       "    </tr>\n",
       "    <tr>\n",
       "      <th>12</th>\n",
       "      <td>std_visits_in_area_name</td>\n",
       "      <td>0.016232</td>\n",
       "    </tr>\n",
       "  </tbody>\n",
       "</table>\n",
       "</div>"
      ],
      "text/plain": [
       "                       cols       imp\n",
       "3             visit_Elapsed  0.607622\n",
       "6           visit_Dayofyear  0.082584\n",
       "8                visit_Week  0.057169\n",
       "14  max_visits_in_area_name  0.053746\n",
       "16    max_visits_in_air_loc  0.041384\n",
       "17        stores_in_air_loc  0.037159\n",
       "13              visit_Month  0.026922\n",
       "15      stores_in_area_name  0.020840\n",
       "11    std_visits_in_air_loc  0.019514\n",
       "12  std_visits_in_area_name  0.016232"
      ]
     },
     "execution_count": 82,
     "metadata": {},
     "output_type": "execute_result"
    }
   ],
   "source": [
    "fi = rf_feat_importance(m, x); fi[:10]"
   ]
  },
  {
   "cell_type": "code",
   "execution_count": 83,
   "metadata": {
    "hidden": true
   },
   "outputs": [],
   "source": [
    "feats=['visit_Elapsed', 'visit_Dayofyear', 'visit_Week']"
   ]
  },
  {
   "cell_type": "code",
   "execution_count": 84,
   "metadata": {
    "hidden": true
   },
   "outputs": [
    {
     "data": {
      "text/html": [
       "<div>\n",
       "<style scoped>\n",
       "    .dataframe tbody tr th:only-of-type {\n",
       "        vertical-align: middle;\n",
       "    }\n",
       "\n",
       "    .dataframe tbody tr th {\n",
       "        vertical-align: top;\n",
       "    }\n",
       "\n",
       "    .dataframe thead th {\n",
       "        text-align: right;\n",
       "    }\n",
       "</style>\n",
       "<table border=\"1\" class=\"dataframe\">\n",
       "  <thead>\n",
       "    <tr style=\"text-align: right;\">\n",
       "      <th></th>\n",
       "      <th>visit_Elapsed</th>\n",
       "      <th>visit_Dayofyear</th>\n",
       "      <th>visit_Week</th>\n",
       "    </tr>\n",
       "  </thead>\n",
       "  <tbody>\n",
       "    <tr>\n",
       "      <th>count</th>\n",
       "      <td>225049.000000</td>\n",
       "      <td>225049.000000</td>\n",
       "      <td>225049.000000</td>\n",
       "    </tr>\n",
       "    <tr>\n",
       "      <th>mean</th>\n",
       "      <td>0.267299</td>\n",
       "      <td>0.182896</td>\n",
       "      <td>0.026270</td>\n",
       "    </tr>\n",
       "    <tr>\n",
       "      <th>std</th>\n",
       "      <td>0.114545</td>\n",
       "      <td>0.115288</td>\n",
       "      <td>0.016392</td>\n",
       "    </tr>\n",
       "    <tr>\n",
       "      <th>min</th>\n",
       "      <td>0.001000</td>\n",
       "      <td>0.001000</td>\n",
       "      <td>0.001000</td>\n",
       "    </tr>\n",
       "    <tr>\n",
       "      <th>25%</th>\n",
       "      <td>0.196000</td>\n",
       "      <td>0.062000</td>\n",
       "      <td>0.009000</td>\n",
       "    </tr>\n",
       "    <tr>\n",
       "      <th>50%</th>\n",
       "      <td>0.279000</td>\n",
       "      <td>0.202000</td>\n",
       "      <td>0.029000</td>\n",
       "    </tr>\n",
       "    <tr>\n",
       "      <th>75%</th>\n",
       "      <td>0.359000</td>\n",
       "      <td>0.285000</td>\n",
       "      <td>0.041000</td>\n",
       "    </tr>\n",
       "    <tr>\n",
       "      <th>max</th>\n",
       "      <td>0.476000</td>\n",
       "      <td>0.366000</td>\n",
       "      <td>0.053000</td>\n",
       "    </tr>\n",
       "  </tbody>\n",
       "</table>\n",
       "</div>"
      ],
      "text/plain": [
       "       visit_Elapsed  visit_Dayofyear     visit_Week\n",
       "count  225049.000000    225049.000000  225049.000000\n",
       "mean        0.267299         0.182896       0.026270\n",
       "std         0.114545         0.115288       0.016392\n",
       "min         0.001000         0.001000       0.001000\n",
       "25%         0.196000         0.062000       0.009000\n",
       "50%         0.279000         0.202000       0.029000\n",
       "75%         0.359000         0.285000       0.041000\n",
       "max         0.476000         0.366000       0.053000"
      ]
     },
     "execution_count": 84,
     "metadata": {},
     "output_type": "execute_result"
    }
   ],
   "source": [
    "(X_train[feats]/1000).describe()"
   ]
  },
  {
   "cell_type": "code",
   "execution_count": 85,
   "metadata": {
    "hidden": true
   },
   "outputs": [
    {
     "data": {
      "text/html": [
       "<div>\n",
       "<style scoped>\n",
       "    .dataframe tbody tr th:only-of-type {\n",
       "        vertical-align: middle;\n",
       "    }\n",
       "\n",
       "    .dataframe tbody tr th {\n",
       "        vertical-align: top;\n",
       "    }\n",
       "\n",
       "    .dataframe thead th {\n",
       "        text-align: right;\n",
       "    }\n",
       "</style>\n",
       "<table border=\"1\" class=\"dataframe\">\n",
       "  <thead>\n",
       "    <tr style=\"text-align: right;\">\n",
       "      <th></th>\n",
       "      <th>visit_Elapsed</th>\n",
       "      <th>visit_Dayofyear</th>\n",
       "      <th>visit_Week</th>\n",
       "    </tr>\n",
       "  </thead>\n",
       "  <tbody>\n",
       "    <tr>\n",
       "      <th>count</th>\n",
       "      <td>25419.000000</td>\n",
       "      <td>25419.000000</td>\n",
       "      <td>25419.000000</td>\n",
       "    </tr>\n",
       "    <tr>\n",
       "      <th>mean</th>\n",
       "      <td>0.430037</td>\n",
       "      <td>0.093751</td>\n",
       "      <td>0.013671</td>\n",
       "    </tr>\n",
       "    <tr>\n",
       "      <th>std</th>\n",
       "      <td>0.110584</td>\n",
       "      <td>0.015042</td>\n",
       "      <td>0.002156</td>\n",
       "    </tr>\n",
       "    <tr>\n",
       "      <th>min</th>\n",
       "      <td>0.000000</td>\n",
       "      <td>0.035000</td>\n",
       "      <td>0.005000</td>\n",
       "    </tr>\n",
       "    <tr>\n",
       "      <th>25%</th>\n",
       "      <td>0.449000</td>\n",
       "      <td>0.085000</td>\n",
       "      <td>0.012000</td>\n",
       "    </tr>\n",
       "    <tr>\n",
       "      <th>50%</th>\n",
       "      <td>0.458000</td>\n",
       "      <td>0.095000</td>\n",
       "      <td>0.014000</td>\n",
       "    </tr>\n",
       "    <tr>\n",
       "      <th>75%</th>\n",
       "      <td>0.468000</td>\n",
       "      <td>0.104000</td>\n",
       "      <td>0.015000</td>\n",
       "    </tr>\n",
       "    <tr>\n",
       "      <th>max</th>\n",
       "      <td>0.476000</td>\n",
       "      <td>0.363000</td>\n",
       "      <td>0.052000</td>\n",
       "    </tr>\n",
       "  </tbody>\n",
       "</table>\n",
       "</div>"
      ],
      "text/plain": [
       "       visit_Elapsed  visit_Dayofyear    visit_Week\n",
       "count   25419.000000     25419.000000  25419.000000\n",
       "mean        0.430037         0.093751      0.013671\n",
       "std         0.110584         0.015042      0.002156\n",
       "min         0.000000         0.035000      0.005000\n",
       "25%         0.449000         0.085000      0.012000\n",
       "50%         0.458000         0.095000      0.014000\n",
       "75%         0.468000         0.104000      0.015000\n",
       "max         0.476000         0.363000      0.052000"
      ]
     },
     "execution_count": 85,
     "metadata": {},
     "output_type": "execute_result"
    }
   ],
   "source": [
    "(X_valid[feats]/1000).describe()"
   ]
  },
  {
   "cell_type": "code",
   "execution_count": 86,
   "metadata": {
    "hidden": true
   },
   "outputs": [],
   "source": [
    "x.drop(feats, axis=1, inplace=True)"
   ]
  },
  {
   "cell_type": "code",
   "execution_count": 87,
   "metadata": {
    "hidden": true
   },
   "outputs": [
    {
     "data": {
      "text/plain": [
       "0.99990018685021642"
      ]
     },
     "execution_count": 87,
     "metadata": {},
     "output_type": "execute_result"
    }
   ],
   "source": [
    "m = RandomForestClassifier(n_estimators=40, min_samples_leaf=3, max_features=0.5, n_jobs=-1, oob_score=True)\n",
    "m.fit(x, y);\n",
    "m.oob_score_"
   ]
  },
  {
   "cell_type": "code",
   "execution_count": 88,
   "metadata": {
    "hidden": true
   },
   "outputs": [
    {
     "data": {
      "text/html": [
       "<div>\n",
       "<style scoped>\n",
       "    .dataframe tbody tr th:only-of-type {\n",
       "        vertical-align: middle;\n",
       "    }\n",
       "\n",
       "    .dataframe tbody tr th {\n",
       "        vertical-align: top;\n",
       "    }\n",
       "\n",
       "    .dataframe thead th {\n",
       "        text-align: right;\n",
       "    }\n",
       "</style>\n",
       "<table border=\"1\" class=\"dataframe\">\n",
       "  <thead>\n",
       "    <tr style=\"text-align: right;\">\n",
       "      <th></th>\n",
       "      <th>cols</th>\n",
       "      <th>imp</th>\n",
       "    </tr>\n",
       "  </thead>\n",
       "  <tbody>\n",
       "    <tr>\n",
       "      <th>10</th>\n",
       "      <td>visit_Month</td>\n",
       "      <td>0.331620</td>\n",
       "    </tr>\n",
       "    <tr>\n",
       "      <th>11</th>\n",
       "      <td>max_visits_in_area_name</td>\n",
       "      <td>0.163644</td>\n",
       "    </tr>\n",
       "    <tr>\n",
       "      <th>13</th>\n",
       "      <td>max_visits_in_air_loc</td>\n",
       "      <td>0.117868</td>\n",
       "    </tr>\n",
       "    <tr>\n",
       "      <th>14</th>\n",
       "      <td>stores_in_air_loc</td>\n",
       "      <td>0.107236</td>\n",
       "    </tr>\n",
       "    <tr>\n",
       "      <th>9</th>\n",
       "      <td>std_visits_in_area_name</td>\n",
       "      <td>0.056961</td>\n",
       "    </tr>\n",
       "    <tr>\n",
       "      <th>12</th>\n",
       "      <td>stores_in_area_name</td>\n",
       "      <td>0.049920</td>\n",
       "    </tr>\n",
       "    <tr>\n",
       "      <th>8</th>\n",
       "      <td>std_visits_in_air_loc</td>\n",
       "      <td>0.046896</td>\n",
       "    </tr>\n",
       "    <tr>\n",
       "      <th>5</th>\n",
       "      <td>mean_visits_in_area_name</td>\n",
       "      <td>0.037133</td>\n",
       "    </tr>\n",
       "    <tr>\n",
       "      <th>3</th>\n",
       "      <td>mean_visits_in_air_loc</td>\n",
       "      <td>0.028752</td>\n",
       "    </tr>\n",
       "    <tr>\n",
       "      <th>6</th>\n",
       "      <td>air_loc</td>\n",
       "      <td>0.025400</td>\n",
       "    </tr>\n",
       "  </tbody>\n",
       "</table>\n",
       "</div>"
      ],
      "text/plain": [
       "                        cols       imp\n",
       "10               visit_Month  0.331620\n",
       "11   max_visits_in_area_name  0.163644\n",
       "13     max_visits_in_air_loc  0.117868\n",
       "14         stores_in_air_loc  0.107236\n",
       "9    std_visits_in_area_name  0.056961\n",
       "12       stores_in_area_name  0.049920\n",
       "8      std_visits_in_air_loc  0.046896\n",
       "5   mean_visits_in_area_name  0.037133\n",
       "3     mean_visits_in_air_loc  0.028752\n",
       "6                    air_loc  0.025400"
      ]
     },
     "execution_count": 88,
     "metadata": {},
     "output_type": "execute_result"
    }
   ],
   "source": [
    "fi = rf_feat_importance(m, x); fi[:10]"
   ]
  },
  {
   "cell_type": "code",
   "execution_count": 89,
   "metadata": {
    "hidden": true
   },
   "outputs": [],
   "source": [
    "feats=['visit_Elapsed', 'visit_Dayofyear', 'visit_Week', 'visit_Month', 'max_visits_in_area_name']"
   ]
  },
  {
   "cell_type": "code",
   "execution_count": 91,
   "metadata": {
    "hidden": true
   },
   "outputs": [
    {
     "name": "stdout",
     "output_type": "stream",
     "text": [
      "visit_Elapsed\n"
     ]
    },
    {
     "ename": "ValueError",
     "evalue": "Number of features of the model must match the input. Model n_features is 20 and input n_features is 21 ",
     "output_type": "error",
     "traceback": [
      "\u001b[0;31m---------------------------------------------------------------------------\u001b[0m",
      "\u001b[0;31mValueError\u001b[0m                                Traceback (most recent call last)",
      "\u001b[0;32m<ipython-input-91-f8b2ad0429cc>\u001b[0m in \u001b[0;36m<module>\u001b[0;34m()\u001b[0m\n\u001b[1;32m      4\u001b[0m     \u001b[0mm\u001b[0m\u001b[0;34m.\u001b[0m\u001b[0mfit\u001b[0m\u001b[0;34m(\u001b[0m\u001b[0mdf_subs\u001b[0m\u001b[0;34m,\u001b[0m \u001b[0my_train\u001b[0m\u001b[0;34m)\u001b[0m\u001b[0;34m\u001b[0m\u001b[0m\n\u001b[1;32m      5\u001b[0m     \u001b[0mprint\u001b[0m\u001b[0;34m(\u001b[0m\u001b[0mf\u001b[0m\u001b[0;34m)\u001b[0m\u001b[0;34m\u001b[0m\u001b[0m\n\u001b[0;32m----> 6\u001b[0;31m     \u001b[0mprint_score\u001b[0m\u001b[0;34m(\u001b[0m\u001b[0mm\u001b[0m\u001b[0;34m)\u001b[0m\u001b[0;34m\u001b[0m\u001b[0m\n\u001b[0m",
      "\u001b[0;32m<ipython-input-14-ca7579f3eeed>\u001b[0m in \u001b[0;36mprint_score\u001b[0;34m(m)\u001b[0m\n\u001b[1;32m      5\u001b[0m \u001b[0;34m\u001b[0m\u001b[0m\n\u001b[1;32m      6\u001b[0m \u001b[0;32mdef\u001b[0m \u001b[0mprint_score\u001b[0m\u001b[0;34m(\u001b[0m\u001b[0mm\u001b[0m\u001b[0;34m)\u001b[0m\u001b[0;34m:\u001b[0m\u001b[0;34m\u001b[0m\u001b[0m\n\u001b[0;32m----> 7\u001b[0;31m     res = [rmse(m.predict(X_train), y_train), rmse(m.predict(X_valid), y_valid),\n\u001b[0m\u001b[1;32m      8\u001b[0m                 m.score(X_train, y_train), m.score(X_valid, y_valid)]\n\u001b[1;32m      9\u001b[0m     \u001b[0;32mif\u001b[0m \u001b[0mhasattr\u001b[0m\u001b[0;34m(\u001b[0m\u001b[0mm\u001b[0m\u001b[0;34m,\u001b[0m \u001b[0;34m'oob_score_'\u001b[0m\u001b[0;34m)\u001b[0m\u001b[0;34m:\u001b[0m \u001b[0mres\u001b[0m\u001b[0;34m.\u001b[0m\u001b[0mappend\u001b[0m\u001b[0;34m(\u001b[0m\u001b[0mm\u001b[0m\u001b[0;34m.\u001b[0m\u001b[0moob_score_\u001b[0m\u001b[0;34m)\u001b[0m\u001b[0;34m\u001b[0m\u001b[0m\n",
      "\u001b[0;32m/Library/Frameworks/Python.framework/Versions/3.6/lib/python3.6/site-packages/sklearn/ensemble/forest.py\u001b[0m in \u001b[0;36mpredict\u001b[0;34m(self, X)\u001b[0m\n\u001b[1;32m    679\u001b[0m         \u001b[0mcheck_is_fitted\u001b[0m\u001b[0;34m(\u001b[0m\u001b[0mself\u001b[0m\u001b[0;34m,\u001b[0m \u001b[0;34m'estimators_'\u001b[0m\u001b[0;34m)\u001b[0m\u001b[0;34m\u001b[0m\u001b[0m\n\u001b[1;32m    680\u001b[0m         \u001b[0;31m# Check data\u001b[0m\u001b[0;34m\u001b[0m\u001b[0;34m\u001b[0m\u001b[0m\n\u001b[0;32m--> 681\u001b[0;31m         \u001b[0mX\u001b[0m \u001b[0;34m=\u001b[0m \u001b[0mself\u001b[0m\u001b[0;34m.\u001b[0m\u001b[0m_validate_X_predict\u001b[0m\u001b[0;34m(\u001b[0m\u001b[0mX\u001b[0m\u001b[0;34m)\u001b[0m\u001b[0;34m\u001b[0m\u001b[0m\n\u001b[0m\u001b[1;32m    682\u001b[0m \u001b[0;34m\u001b[0m\u001b[0m\n\u001b[1;32m    683\u001b[0m         \u001b[0;31m# Assign chunk of trees to jobs\u001b[0m\u001b[0;34m\u001b[0m\u001b[0;34m\u001b[0m\u001b[0m\n",
      "\u001b[0;32m/Library/Frameworks/Python.framework/Versions/3.6/lib/python3.6/site-packages/sklearn/ensemble/forest.py\u001b[0m in \u001b[0;36m_validate_X_predict\u001b[0;34m(self, X)\u001b[0m\n\u001b[1;32m    355\u001b[0m                                  \"call `fit` before exploiting the model.\")\n\u001b[1;32m    356\u001b[0m \u001b[0;34m\u001b[0m\u001b[0m\n\u001b[0;32m--> 357\u001b[0;31m         \u001b[0;32mreturn\u001b[0m \u001b[0mself\u001b[0m\u001b[0;34m.\u001b[0m\u001b[0mestimators_\u001b[0m\u001b[0;34m[\u001b[0m\u001b[0;36m0\u001b[0m\u001b[0;34m]\u001b[0m\u001b[0;34m.\u001b[0m\u001b[0m_validate_X_predict\u001b[0m\u001b[0;34m(\u001b[0m\u001b[0mX\u001b[0m\u001b[0;34m,\u001b[0m \u001b[0mcheck_input\u001b[0m\u001b[0;34m=\u001b[0m\u001b[0;32mTrue\u001b[0m\u001b[0;34m)\u001b[0m\u001b[0;34m\u001b[0m\u001b[0m\n\u001b[0m\u001b[1;32m    358\u001b[0m \u001b[0;34m\u001b[0m\u001b[0m\n\u001b[1;32m    359\u001b[0m     \u001b[0;34m@\u001b[0m\u001b[0mproperty\u001b[0m\u001b[0;34m\u001b[0m\u001b[0m\n",
      "\u001b[0;32m/Library/Frameworks/Python.framework/Versions/3.6/lib/python3.6/site-packages/sklearn/tree/tree.py\u001b[0m in \u001b[0;36m_validate_X_predict\u001b[0;34m(self, X, check_input)\u001b[0m\n\u001b[1;32m    382\u001b[0m                              \u001b[0;34m\"match the input. Model n_features is %s and \"\u001b[0m\u001b[0;34m\u001b[0m\u001b[0m\n\u001b[1;32m    383\u001b[0m                              \u001b[0;34m\"input n_features is %s \"\u001b[0m\u001b[0;34m\u001b[0m\u001b[0m\n\u001b[0;32m--> 384\u001b[0;31m                              % (self.n_features_, n_features))\n\u001b[0m\u001b[1;32m    385\u001b[0m \u001b[0;34m\u001b[0m\u001b[0m\n\u001b[1;32m    386\u001b[0m         \u001b[0;32mreturn\u001b[0m \u001b[0mX\u001b[0m\u001b[0;34m\u001b[0m\u001b[0m\n",
      "\u001b[0;31mValueError\u001b[0m: Number of features of the model must match the input. Model n_features is 20 and input n_features is 21 "
     ]
    }
   ],
   "source": [
    "for f in feats:\n",
    "    df_subs = X_train.drop(f, axis=1).copy()\n",
    "    m = RandomForestRegressor(n_estimators=40, min_samples_leaf=3, max_features=0.5, n_jobs=-1, oob_score=True)\n",
    "    m.fit(df_subs, y_train)\n",
    "    print(f)\n",
    "    print_score(m)"
   ]
  },
  {
   "cell_type": "code",
   "execution_count": null,
   "metadata": {
    "hidden": true
   },
   "outputs": [],
   "source": []
  },
  {
   "cell_type": "code",
   "execution_count": null,
   "metadata": {
    "hidden": true
   },
   "outputs": [],
   "source": []
  },
  {
   "cell_type": "code",
   "execution_count": null,
   "metadata": {
    "hidden": true
   },
   "outputs": [],
   "source": []
  },
  {
   "cell_type": "code",
   "execution_count": null,
   "metadata": {
    "hidden": true
   },
   "outputs": [],
   "source": []
  },
  {
   "cell_type": "code",
   "execution_count": null,
   "metadata": {
    "hidden": true
   },
   "outputs": [],
   "source": []
  },
  {
   "cell_type": "code",
   "execution_count": null,
   "metadata": {
    "hidden": true
   },
   "outputs": [],
   "source": []
  },
  {
   "cell_type": "code",
   "execution_count": null,
   "metadata": {
    "hidden": true
   },
   "outputs": [],
   "source": []
  },
  {
   "cell_type": "markdown",
   "metadata": {
    "heading_collapsed": true
   },
   "source": [
    "# DL"
   ]
  },
  {
   "cell_type": "code",
   "execution_count": 6,
   "metadata": {},
   "outputs": [],
   "source": [
    "yl, df, y2, df_val, df_test = y_train, X_train, y_valid, X_valid, X_test"
   ]
  },
  {
   "cell_type": "code",
   "execution_count": 7,
   "metadata": {
    "hidden": true
   },
   "outputs": [],
   "source": [
    "def inv_y(a): return np.exp(a)\n",
    "\n",
    "def rmsle(y_pred, targ):\n",
    "#     targ = inv_y(targ)\n",
    "    log_vars = targ - y_pred\n",
    "    return math.sqrt(np.square(log_vars).mean())\n",
    "\n",
    "max_log_y = np.max(yl)\n",
    "y_range = (0, max_log_y*1.2)"
   ]
  },
  {
   "cell_type": "code",
   "execution_count": 9,
   "metadata": {
    "hidden": true
   },
   "outputs": [],
   "source": [
    "md = ColumnarModelData.from_data_frames(PATH, df, df_val, yl.astype(np.float32), y2.astype(np.float32), cat_flds=cat_vars, bs=128, test_df=df_test)"
   ]
  },
  {
   "cell_type": "code",
   "execution_count": null,
   "metadata": {},
   "outputs": [],
   "source": []
  },
  {
   "cell_type": "code",
   "execution_count": 10,
   "metadata": {
    "hidden": true
   },
   "outputs": [],
   "source": [
    "cat_sz = [(c, len(df[c].unique())+1) for c in cat_vars]\n",
    "emb_szs = [(c, min(50, (c+1)//2)) for _,c in cat_sz]"
   ]
  },
  {
   "cell_type": "code",
   "execution_count": 11,
   "metadata": {
    "hidden": true
   },
   "outputs": [],
   "source": [
    "m = md.get_learner(emb_szs, len(df.columns)-len(cat_vars),\n",
    "                   0.04, 1, [1000,500], [0.001,0.01], y_range=y_range)"
   ]
  },
  {
   "cell_type": "code",
   "execution_count": 12,
   "metadata": {
    "hidden": true
   },
   "outputs": [
    {
     "data": {
      "application/vnd.jupyter.widget-view+json": {
       "model_id": "152ce27c60b14146b879272fd0e90ba7",
       "version_major": 2,
       "version_minor": 0
      },
      "text/html": [
       "<p>Failed to display Jupyter Widget of type <code>HBox</code>.</p>\n",
       "<p>\n",
       "  If you're reading this message in Jupyter Notebook or JupyterLab, it may mean\n",
       "  that the widgets JavaScript is still loading. If this message persists, it\n",
       "  likely means that the widgets JavaScript library is either not installed or\n",
       "  not enabled. See the <a href=\"https://ipywidgets.readthedocs.io/en/stable/user_install.html\">Jupyter\n",
       "  Widgets Documentation</a> for setup instructions.\n",
       "</p>\n",
       "<p>\n",
       "  If you're reading this message in another notebook frontend (for example, a static\n",
       "  rendering on GitHub or <a href=\"https://nbviewer.jupyter.org/\">NBViewer</a>),\n",
       "  it may mean that your frontend doesn't currently support widgets.\n",
       "</p>\n"
      ],
      "text/plain": [
       "HBox(children=(IntProgress(value=0, description='Epoch', max=1), HTML(value='')))"
      ]
     },
     "metadata": {},
     "output_type": "display_data"
    },
    {
     "name": "stdout",
     "output_type": "stream",
     "text": [
      " 96%|█████████▌| 1682/1759 [00:48<00:02, 34.45it/s, loss=1.3]] "
     ]
    }
   ],
   "source": [
    "m.lr_find()\n"
   ]
  },
  {
   "cell_type": "code",
   "execution_count": 13,
   "metadata": {
    "hidden": true
   },
   "outputs": [
    {
     "data": {
      "image/png": "[encoded data removed]",
      "text/plain": [
       "<matplotlib.figure.Figure at 0x7f82d4c214e0>"
      ]
     },
     "metadata": {},
     "output_type": "display_data"
    },
    {
     "name": "stdout",
     "output_type": "stream",
     "text": [
      "\r",
      "          \r",
      " 96%|█████████▌| 1682/1759 [01:00<00:02, 28.01it/s, loss=1.3]"
     ]
    }
   ],
   "source": [
    "m.sched.plot(100)"
   ]
  },
  {
   "cell_type": "code",
   "execution_count": 14,
   "metadata": {
    "hidden": true
   },
   "outputs": [],
   "source": [
    "m = md.get_learner(emb_szs, len(df.columns)-len(cat_vars),\n",
    "                   0.04, 1, [1000,500], [0.001,0.01], y_range=y_range)\n",
    "lr = 1e-4/1.1"
   ]
  },
  {
   "cell_type": "code",
   "execution_count": 15,
   "metadata": {
    "hidden": true
   },
   "outputs": [
    {
     "data": {
      "application/vnd.jupyter.widget-view+json": {
       "model_id": "433f8e5129954b9eb1fdcb9eb4fdad7e",
       "version_major": 2,
       "version_minor": 0
      },
      "text/html": [
       "<p>Failed to display Jupyter Widget of type <code>HBox</code>.</p>\n",
       "<p>\n",
       "  If you're reading this message in Jupyter Notebook or JupyterLab, it may mean\n",
       "  that the widgets JavaScript is still loading. If this message persists, it\n",
       "  likely means that the widgets JavaScript library is either not installed or\n",
       "  not enabled. See the <a href=\"https://ipywidgets.readthedocs.io/en/stable/user_install.html\">Jupyter\n",
       "  Widgets Documentation</a> for setup instructions.\n",
       "</p>\n",
       "<p>\n",
       "  If you're reading this message in another notebook frontend (for example, a static\n",
       "  rendering on GitHub or <a href=\"https://nbviewer.jupyter.org/\">NBViewer</a>),\n",
       "  it may mean that your frontend doesn't currently support widgets.\n",
       "</p>\n"
      ],
      "text/plain": [
       "HBox(children=(IntProgress(value=0, description='Epoch', max=3), HTML(value='')))"
      ]
     },
     "metadata": {},
     "output_type": "display_data"
    },
    {
     "name": "stdout",
     "output_type": "stream",
     "text": [
      "\n",
      "  0%|          | 0/1759 [00:00<?, ?it/s]\u001b[A\n",
      "  0%|          | 0/1759 [00:00<?, ?it/s, loss=3.49]\u001b[A\n",
      "  0%|          | 1/1759 [00:00<05:59,  4.89it/s, loss=3.49]\u001b[A\n",
      "  0%|          | 1/1759 [00:00<07:24,  3.95it/s, loss=3.03]\u001b[A\n",
      "  0%|          | 1/1759 [00:00<08:52,  3.30it/s, loss=2.51]\u001b[A\n",
      "  0%|          | 1/1759 [00:00<10:17,  2.85it/s, loss=2.06]\u001b[A\n",
      "  0%|          | 4/1759 [00:00<02:34, 11.38it/s, loss=2.06]\u001b[A\n",
      "  0%|          | 4/1759 [00:00<02:58,  9.85it/s, loss=1.74]\u001b[A\n",
      "  0%|          | 4/1759 [00:00<03:19,  8.79it/s, loss=1.53]\u001b[A\n",
      "  0%|          | 6/1759 [00:00<02:12, 13.18it/s, loss=1.53]\u001b[A\n",
      "  0%|          | 6/1759 [00:00<02:28, 11.83it/s, loss=1.38]\u001b[A\n",
      "  0%|          | 6/1759 [00:00<02:42, 10.81it/s, loss=1.32]\u001b[A\n",
      "  0%|          | 8/1759 [00:00<02:01, 14.39it/s, loss=1.32]\u001b[A\n",
      "  0%|          | 8/1759 [00:00<02:12, 13.20it/s, loss=1.28]\u001b[A\n",
      "  0%|          | 8/1759 [00:00<02:23, 12.16it/s, loss=1.23]\u001b[A\n",
      "  1%|          | 10/1759 [00:00<01:55, 15.20it/s, loss=1.23]\u001b[A\n",
      "  1%|          | 10/1759 [00:00<02:03, 14.13it/s, loss=1.18]\u001b[A\n",
      "  1%|          | 10/1759 [00:00<02:12, 13.22it/s, loss=1.14]\u001b[A\n",
      "  1%|          | 10/1759 [00:00<02:20, 12.40it/s, loss=1.11]\u001b[A\n",
      "  1%|          | 13/1759 [00:00<01:48, 16.12it/s, loss=1.11]\u001b[A\n",
      "  1%|          | 13/1759 [00:00<01:54, 15.20it/s, loss=1.07]\u001b[A\n",
      "  1%|          | 13/1759 [00:00<02:01, 14.35it/s, loss=1.02]\u001b[A\n",
      "  1%|          | 15/1759 [00:00<01:45, 16.55it/s, loss=1.02]\u001b[A\n",
      "  1%|          | 15/1759 [00:00<01:51, 15.70it/s, loss=0.987]\u001b[A\n",
      "  1%|          | 15/1759 [00:01<01:57, 14.90it/s, loss=0.954]\u001b[A\n",
      "  1%|          | 17/1759 [00:01<01:43, 16.89it/s, loss=0.954]\u001b[A\n",
      "  1%|          | 17/1759 [00:01<01:48, 16.07it/s, loss=0.928]\u001b[A\n",
      "  1%|          | 17/1759 [00:01<01:53, 15.34it/s, loss=0.905]\u001b[A\n",
      "  1%|          | 19/1759 [00:01<01:41, 17.14it/s, loss=0.905]\u001b[A\n",
      "  1%|          | 19/1759 [00:01<01:46, 16.40it/s, loss=0.872]\u001b[A\n",
      "  1%|          | 19/1759 [00:01<01:50, 15.71it/s, loss=0.853]\u001b[A\n",
      "  1%|          | 21/1759 [00:01<01:40, 17.36it/s, loss=0.853]\u001b[A\n",
      "  1%|          | 21/1759 [00:01<01:44, 16.61it/s, loss=0.836]\u001b[A\n",
      "  1%|          | 21/1759 [00:01<01:49, 15.94it/s, loss=0.814]\u001b[A\n",
      "  1%|▏         | 23/1759 [00:01<01:39, 17.46it/s, loss=0.814]\u001b[A\n",
      "  1%|▏         | 23/1759 [00:01<01:43, 16.82it/s, loss=0.801]\u001b[A\n",
      "  1%|▏         | 23/1759 [00:01<01:47, 16.21it/s, loss=0.779]\u001b[A\n",
      "  1%|▏         | 25/1759 [00:01<01:38, 17.62it/s, loss=0.779]\u001b[A\n",
      "  1%|▏         | 25/1759 [00:01<01:41, 17.01it/s, loss=0.762]\u001b[A\n",
      "  1%|▏         | 25/1759 [00:01<01:45, 16.45it/s, loss=0.746]\u001b[A\n",
      "  2%|▏         | 27/1759 [00:01<01:37, 17.75it/s, loss=0.746]\u001b[A\n",
      "  2%|▏         | 27/1759 [00:01<01:40, 17.19it/s, loss=0.728]\u001b[A\n",
      "  2%|▏         | 27/1759 [00:01<01:43, 16.67it/s, loss=0.712]\u001b[A\n",
      "  2%|▏         | 27/1759 [00:01<01:47, 16.16it/s, loss=0.695]\u001b[A\n",
      "  2%|▏         | 30/1759 [00:01<01:36, 17.95it/s, loss=0.695]\u001b[A\n",
      "  2%|▏         | 30/1759 [00:01<01:39, 17.41it/s, loss=0.68]\u001b[A\n",
      "  2%|▏         | 30/1759 [00:01<01:42, 16.94it/s, loss=0.667]\u001b[A\n",
      "  2%|▏         | 32/1759 [00:01<01:35, 18.06it/s, loss=0.667]\u001b[A\n",
      "  2%|▏         | 32/1759 [00:01<01:38, 17.56it/s, loss=0.654]\u001b[A\n",
      "  2%|▏         | 32/1759 [00:01<01:41, 17.08it/s, loss=0.65]\u001b[A\n",
      "  2%|▏         | 34/1759 [00:01<01:35, 18.15it/s, loss=0.65] \u001b[A\n",
      "  2%|▏         | 34/1759 [00:01<01:37, 17.66it/s, loss=0.646]\u001b[A\n",
      "  2%|▏         | 34/1759 [00:01<01:40, 17.22it/s, loss=0.633]\u001b[A\n",
      "  2%|▏         | 36/1759 [00:01<01:34, 18.23it/s, loss=0.633]\u001b[A\n",
      "  2%|▏         | 36/1759 [00:02<01:36, 17.78it/s, loss=0.632]\u001b[A\n",
      "  2%|▏         | 36/1759 [00:02<01:39, 17.35it/s, loss=0.629]\u001b[A\n",
      "  2%|▏         | 38/1759 [00:02<01:33, 18.31it/s, loss=0.629]\u001b[A\n",
      "  2%|▏         | 38/1759 [00:02<01:35, 18.02it/s, loss=0.621]\u001b[A\n",
      "  2%|▏         | 38/1759 [00:02<01:36, 17.79it/s, loss=0.61]\u001b[A\n",
      "  2%|▏         | 38/1759 [00:02<01:37, 17.57it/s, loss=0.603]\u001b[A\n",
      "  2%|▏         | 38/1759 [00:02<01:39, 17.34it/s, loss=0.598]\u001b[A\n",
      "  2%|▏         | 42/1759 [00:02<01:29, 19.16it/s, loss=0.598]\u001b[A\n",
      "  2%|▏         | 42/1759 [00:02<01:30, 18.92it/s, loss=0.593]\u001b[A\n",
      "  2%|▏         | 42/1759 [00:02<01:31, 18.69it/s, loss=0.588]\u001b[A\n",
      "  2%|▏         | 42/1759 [00:02<01:32, 18.48it/s, loss=0.587]\u001b[A\n",
      "  2%|▏         | 42/1759 [00:02<01:34, 18.26it/s, loss=0.578]\u001b[A\n",
      "  3%|▎         | 46/1759 [00:02<01:25, 19.99it/s, loss=0.578]\u001b[A\n",
      "  3%|▎         | 46/1759 [00:02<01:26, 19.75it/s, loss=0.573]\u001b[A\n",
      "  3%|▎         | 46/1759 [00:02<01:27, 19.51it/s, loss=0.572]\u001b[A\n",
      "  3%|▎         | 46/1759 [00:02<01:28, 19.29it/s, loss=0.564]\u001b[A\n",
      "  3%|▎         | 46/1759 [00:02<01:29, 19.06it/s, loss=0.555]\u001b[A\n",
      "  3%|▎         | 50/1759 [00:02<01:22, 20.72it/s, loss=0.555]\u001b[A\n",
      "  3%|▎         | 50/1759 [00:02<01:23, 20.48it/s, loss=0.547]\u001b[A\n",
      "  3%|▎         | 50/1759 [00:02<01:24, 20.25it/s, loss=0.537]\u001b[A\n",
      "  3%|▎         | 50/1759 [00:02<01:25, 20.03it/s, loss=0.53]\u001b[A\n",
      "  3%|▎         | 50/1759 [00:02<01:26, 19.81it/s, loss=0.524]\u001b[A\n",
      "  3%|▎         | 54/1759 [00:02<01:19, 21.39it/s, loss=0.524]\u001b[A\n",
      "  3%|▎         | 54/1759 [00:02<01:20, 21.15it/s, loss=0.518]\u001b[A\n",
      "  3%|▎         | 54/1759 [00:02<01:21, 20.93it/s, loss=0.513]\u001b[A\n",
      "  3%|▎         | 54/1759 [00:02<01:22, 20.72it/s, loss=0.505]\u001b[A\n",
      "  3%|▎         | 54/1759 [00:02<01:23, 20.50it/s, loss=0.502]\u001b[A\n",
      "  3%|▎         | 58/1759 [00:02<01:17, 22.02it/s, loss=0.502]\u001b[A\n",
      "  3%|▎         | 58/1759 [00:02<01:18, 21.78it/s, loss=0.5]\u001b[A\n",
      "  3%|▎         | 58/1759 [00:02<01:18, 21.56it/s, loss=0.494]\u001b[A\n",
      "  3%|▎         | 58/1759 [00:02<01:19, 21.34it/s, loss=0.489]\u001b[A\n",
      "  3%|▎         | 58/1759 [00:02<01:20, 21.12it/s, loss=0.485]\u001b[A\n",
      "  4%|▎         | 62/1759 [00:02<01:15, 22.57it/s, loss=0.485]\u001b[A\n",
      "  4%|▎         | 62/1759 [00:02<01:15, 22.35it/s, loss=0.478]\u001b[A\n",
      "  4%|▎         | 62/1759 [00:02<01:16, 22.13it/s, loss=0.477]\u001b[A\n",
      "  4%|▎         | 62/1759 [00:02<01:17, 21.92it/s, loss=0.472]\u001b[A\n",
      "  4%|▎         | 62/1759 [00:02<01:18, 21.70it/s, loss=0.479]\u001b[A\n",
      "  4%|▍         | 66/1759 [00:02<01:13, 23.10it/s, loss=0.479]\u001b[A\n",
      "  4%|▍         | 66/1759 [00:02<01:14, 22.86it/s, loss=0.476]\u001b[A\n",
      "  4%|▍         | 66/1759 [00:02<01:14, 22.63it/s, loss=0.472]\u001b[A\n",
      "  4%|▍         | 66/1759 [00:02<01:15, 22.42it/s, loss=0.47]\u001b[A\n",
      "  4%|▍         | 66/1759 [00:02<01:16, 22.20it/s, loss=0.468]\u001b[A\n",
      "  4%|▍         | 70/1759 [00:02<01:11, 23.55it/s, loss=0.468]\u001b[A\n",
      "  4%|▍         | 70/1759 [00:03<01:12, 23.33it/s, loss=0.464]\u001b[A\n",
      "  4%|▍         | 70/1759 [00:03<01:13, 23.12it/s, loss=0.464]\u001b[A\n",
      "  4%|▍         | 70/1759 [00:03<01:13, 22.92it/s, loss=0.461]\u001b[A\n",
      "  4%|▍         | 70/1759 [00:03<01:14, 22.70it/s, loss=0.46]\u001b[A\n",
      "  4%|▍         | 74/1759 [00:03<01:10, 24.00it/s, loss=0.46] \u001b[A\n",
      "  4%|▍         | 74/1759 [00:03<01:10, 23.79it/s, loss=0.464]\u001b[A\n",
      "  4%|▍         | 74/1759 [00:03<01:11, 23.58it/s, loss=0.463]\u001b[A\n",
      "  4%|▍         | 74/1759 [00:03<01:12, 23.38it/s, loss=0.46]\u001b[A\n",
      "  4%|▍         | 74/1759 [00:03<01:12, 23.17it/s, loss=0.457]\u001b[A\n",
      "  4%|▍         | 78/1759 [00:03<01:08, 24.42it/s, loss=0.457]\u001b[A\n",
      "  4%|▍         | 78/1759 [00:03<01:09, 24.21it/s, loss=0.454]\u001b[A\n",
      "  4%|▍         | 78/1759 [00:03<01:10, 24.00it/s, loss=0.455]\u001b[A\n",
      "  4%|▍         | 78/1759 [00:03<01:10, 23.81it/s, loss=0.454]\u001b[A\n",
      "  4%|▍         | 78/1759 [00:03<01:11, 23.59it/s, loss=0.454]\u001b[A\n",
      "  5%|▍         | 82/1759 [00:03<01:07, 24.79it/s, loss=0.454]\u001b[A\n",
      "  5%|▍         | 82/1759 [00:03<01:08, 24.59it/s, loss=0.453]\u001b[A\n",
      "  5%|▍         | 82/1759 [00:03<01:08, 24.39it/s, loss=0.451]\u001b[A\n",
      "  5%|▍         | 82/1759 [00:03<01:09, 24.20it/s, loss=0.448]\u001b[A\n",
      "  5%|▍         | 82/1759 [00:03<01:09, 24.00it/s, loss=0.447]\u001b[A\n",
      "  5%|▍         | 86/1759 [00:03<01:06, 25.17it/s, loss=0.447]\u001b[A\n",
      "  5%|▍         | 86/1759 [00:03<01:06, 24.97it/s, loss=0.444]\u001b[A\n",
      "  5%|▍         | 86/1759 [00:03<01:07, 24.77it/s, loss=0.443]\u001b[A\n",
      "  5%|▍         | 86/1759 [00:03<01:08, 24.58it/s, loss=0.44]\u001b[A\n",
      "  5%|▍         | 86/1759 [00:03<01:08, 24.38it/s, loss=0.437]\u001b[A\n",
      "  5%|▌         | 90/1759 [00:03<01:05, 25.51it/s, loss=0.437]\u001b[A\n",
      "  5%|▌         | 90/1759 [00:03<01:05, 25.32it/s, loss=0.437]\u001b[A\n",
      "  5%|▌         | 90/1759 [00:03<01:06, 25.12it/s, loss=0.435]\u001b[A\n",
      "  5%|▌         | 90/1759 [00:03<01:06, 24.93it/s, loss=0.431]\u001b[A\n",
      "  5%|▌         | 90/1759 [00:03<01:07, 24.74it/s, loss=0.427]\u001b[A\n",
      "  5%|▌         | 94/1759 [00:03<01:04, 25.84it/s, loss=0.427]\u001b[A\n"
     ]
    },
    {
     "name": "stdout",
     "output_type": "stream",
     "text": [
      "  5%|▌         | 94/1759 [00:03<01:04, 25.64it/s, loss=0.424]\u001b[A\n",
      "  5%|▌         | 94/1759 [00:03<01:05, 25.45it/s, loss=0.422]\u001b[A\n",
      "  5%|▌         | 94/1759 [00:03<01:05, 25.26it/s, loss=0.423]\u001b[A\n",
      "  5%|▌         | 94/1759 [00:03<01:06, 25.07it/s, loss=0.422]\u001b[A\n",
      "  6%|▌         | 98/1759 [00:03<01:03, 26.14it/s, loss=0.422]\u001b[A\n",
      "  6%|▌         | 98/1759 [00:03<01:04, 25.95it/s, loss=0.419]\u001b[A\n",
      "  6%|▌         | 98/1759 [00:03<01:04, 25.76it/s, loss=0.418]\u001b[A\n",
      "  6%|▌         | 98/1759 [00:03<01:04, 25.58it/s, loss=0.419]\u001b[A\n",
      "  6%|▌         | 98/1759 [00:03<01:05, 25.40it/s, loss=0.416]\u001b[A\n",
      "  6%|▌         | 102/1759 [00:03<01:02, 26.43it/s, loss=0.416]\u001b[A\n",
      "  6%|▌         | 102/1759 [00:03<01:03, 26.24it/s, loss=0.414]\u001b[A\n",
      "  6%|▌         | 102/1759 [00:03<01:03, 26.05it/s, loss=0.413]\u001b[A\n",
      "  6%|▌         | 102/1759 [00:03<01:04, 25.87it/s, loss=0.41]\u001b[A\n",
      "  6%|▌         | 102/1759 [00:03<01:04, 25.69it/s, loss=0.409]\u001b[A\n",
      "  6%|▌         | 106/1759 [00:03<01:01, 26.70it/s, loss=0.409]\u001b[A\n",
      "  6%|▌         | 106/1759 [00:03<01:02, 26.51it/s, loss=0.407]\u001b[A\n",
      "  6%|▌         | 106/1759 [00:04<01:02, 26.33it/s, loss=0.407]\u001b[A\n",
      "  6%|▌         | 106/1759 [00:04<01:03, 26.16it/s, loss=0.405]\u001b[A\n",
      "  6%|▌         | 106/1759 [00:04<01:03, 25.98it/s, loss=0.402]\u001b[A\n",
      "  6%|▋         | 110/1759 [00:04<01:01, 26.95it/s, loss=0.402]\u001b[A\n",
      "  6%|▋         | 110/1759 [00:04<01:01, 26.77it/s, loss=0.399]\u001b[A\n",
      "  6%|▋         | 110/1759 [00:04<01:02, 26.60it/s, loss=0.402]\u001b[A\n",
      "  6%|▋         | 110/1759 [00:04<01:02, 26.42it/s, loss=0.4]\u001b[A\n",
      "  6%|▋         | 110/1759 [00:04<01:02, 26.25it/s, loss=0.4]\u001b[A\n",
      "  6%|▋         | 114/1759 [00:04<01:00, 27.20it/s, loss=0.4]  \u001b[A\n",
      "  6%|▋         | 114/1759 [00:04<01:00, 27.02it/s, loss=0.4]\u001b[A\n",
      "  6%|▋         | 114/1759 [00:04<01:01, 26.84it/s, loss=0.401]\u001b[A\n",
      "  6%|▋         | 114/1759 [00:04<01:01, 26.67it/s, loss=0.403]\u001b[A\n",
      "  6%|▋         | 114/1759 [00:04<01:02, 26.50it/s, loss=0.401]\u001b[A\n",
      "  7%|▋         | 118/1759 [00:04<00:59, 27.43it/s, loss=0.401]\u001b[A\n",
      "  7%|▋         | 118/1759 [00:04<01:00, 27.25it/s, loss=0.398]\u001b[A\n",
      "  7%|▋         | 118/1759 [00:04<01:00, 27.07it/s, loss=0.398]\u001b[A\n",
      "  7%|▋         | 118/1759 [00:04<01:00, 26.91it/s, loss=0.396]\u001b[A\n",
      "  7%|▋         | 118/1759 [00:04<01:01, 26.74it/s, loss=0.394]\u001b[A\n",
      "  7%|▋         | 122/1759 [00:04<00:59, 27.64it/s, loss=0.394]\u001b[A\n",
      "  7%|▋         | 122/1759 [00:04<00:59, 27.48it/s, loss=0.395]\u001b[A\n",
      "  7%|▋         | 122/1759 [00:04<00:59, 27.30it/s, loss=0.394]\u001b[A\n",
      "  7%|▋         | 122/1759 [00:04<01:00, 27.14it/s, loss=0.392]\u001b[A\n",
      "  7%|▋         | 122/1759 [00:04<01:00, 26.97it/s, loss=0.392]\u001b[A\n",
      "  7%|▋         | 126/1759 [00:04<00:58, 27.85it/s, loss=0.392]\u001b[A\n",
      "  7%|▋         | 126/1759 [00:04<00:59, 27.68it/s, loss=0.392]\u001b[A\n",
      "  7%|▋         | 126/1759 [00:04<00:59, 27.51it/s, loss=0.394]\u001b[A\n",
      "  7%|▋         | 126/1759 [00:04<00:59, 27.35it/s, loss=0.392]\u001b[A\n",
      "  7%|▋         | 126/1759 [00:04<01:00, 27.18it/s, loss=0.392]\u001b[A\n",
      "  7%|▋         | 130/1759 [00:04<00:58, 28.05it/s, loss=0.392]\u001b[A\n",
      "  7%|▋         | 130/1759 [00:04<00:58, 27.88it/s, loss=0.395]\u001b[A\n",
      "  7%|▋         | 130/1759 [00:04<00:58, 27.71it/s, loss=0.393]\u001b[A\n",
      "  7%|▋         | 130/1759 [00:04<00:59, 27.55it/s, loss=0.39]\u001b[A\n",
      "  7%|▋         | 130/1759 [00:04<00:59, 27.40it/s, loss=0.39]\u001b[A\n",
      "  8%|▊         | 134/1759 [00:04<00:57, 28.24it/s, loss=0.39] \u001b[A\n",
      "  8%|▊         | 134/1759 [00:04<00:57, 28.07it/s, loss=0.388]\u001b[A\n",
      "  8%|▊         | 134/1759 [00:04<00:58, 27.90it/s, loss=0.388]\u001b[A\n",
      "  8%|▊         | 134/1759 [00:04<00:58, 27.75it/s, loss=0.386]\u001b[A\n",
      "  8%|▊         | 134/1759 [00:04<00:58, 27.59it/s, loss=0.383]\u001b[A\n",
      "  8%|▊         | 138/1759 [00:04<00:57, 28.41it/s, loss=0.383]\u001b[A\n",
      "  8%|▊         | 138/1759 [00:04<00:57, 28.25it/s, loss=0.38]\u001b[A\n",
      "  8%|▊         | 138/1759 [00:04<00:57, 28.09it/s, loss=0.378]\u001b[A\n",
      "  8%|▊         | 138/1759 [00:04<00:58, 27.93it/s, loss=0.379]\u001b[A\n",
      "  8%|▊         | 138/1759 [00:04<00:58, 27.78it/s, loss=0.378]\u001b[A\n",
      "  8%|▊         | 142/1759 [00:04<00:56, 28.58it/s, loss=0.378]\u001b[A\n",
      "  8%|▊         | 142/1759 [00:04<00:56, 28.42it/s, loss=0.378]\u001b[A\n",
      "  8%|▊         | 142/1759 [00:05<00:57, 28.26it/s, loss=0.378]\u001b[A\n",
      "  8%|▊         | 142/1759 [00:05<00:57, 28.11it/s, loss=0.379]\u001b[A\n",
      "  8%|▊         | 142/1759 [00:05<00:57, 27.96it/s, loss=0.377]\u001b[A\n",
      "  8%|▊         | 146/1759 [00:05<00:56, 28.74it/s, loss=0.377]\u001b[A\n",
      "  8%|▊         | 146/1759 [00:05<00:56, 28.59it/s, loss=0.376]\u001b[A\n",
      "  8%|▊         | 146/1759 [00:05<00:56, 28.44it/s, loss=0.375]\u001b[A\n",
      "  8%|▊         | 146/1759 [00:05<00:57, 28.29it/s, loss=0.373]\u001b[A\n",
      "  8%|▊         | 146/1759 [00:05<00:57, 28.13it/s, loss=0.372]\u001b[A\n",
      "  9%|▊         | 150/1759 [00:05<00:55, 28.91it/s, loss=0.372]\u001b[A\n",
      "  9%|▊         | 150/1759 [00:05<00:55, 28.75it/s, loss=0.373]\u001b[A\n",
      "  9%|▊         | 150/1759 [00:05<00:56, 28.59it/s, loss=0.372]\u001b[A\n",
      "  9%|▊         | 150/1759 [00:05<00:56, 28.45it/s, loss=0.37]\u001b[A\n",
      "  9%|▊         | 150/1759 [00:05<00:56, 28.30it/s, loss=0.369]\u001b[A\n",
      "  9%|▉         | 154/1759 [00:05<00:55, 29.05it/s, loss=0.369]\u001b[A\n",
      "  9%|▉         | 154/1759 [00:05<00:55, 28.90it/s, loss=0.364]\u001b[A\n",
      "  9%|▉         | 154/1759 [00:05<00:55, 28.75it/s, loss=0.366]\u001b[A\n",
      "  9%|▉         | 154/1759 [00:05<00:56, 28.60it/s, loss=0.364]\u001b[A\n",
      "  9%|▉         | 154/1759 [00:05<00:56, 28.46it/s, loss=0.365]\u001b[A\n",
      "  9%|▉         | 158/1759 [00:05<00:54, 29.20it/s, loss=0.365]\u001b[A\n",
      "  9%|▉         | 158/1759 [00:05<00:55, 29.05it/s, loss=0.365]\u001b[A\n",
      "  9%|▉         | 158/1759 [00:05<00:55, 28.90it/s, loss=0.366]\u001b[A\n",
      "  9%|▉         | 158/1759 [00:05<00:55, 28.75it/s, loss=0.366]\u001b[A\n",
      "  9%|▉         | 158/1759 [00:05<00:55, 28.60it/s, loss=0.367]\u001b[A\n",
      "  9%|▉         | 162/1759 [00:05<00:54, 29.32it/s, loss=0.367]\u001b[A\n",
      "  9%|▉         | 162/1759 [00:05<00:54, 29.18it/s, loss=0.365]\u001b[A\n",
      "  9%|▉         | 162/1759 [00:05<00:55, 29.03it/s, loss=0.366]\u001b[A\n",
      "  9%|▉         | 162/1759 [00:05<00:55, 28.89it/s, loss=0.364]\u001b[A\n",
      "  9%|▉         | 162/1759 [00:05<00:55, 28.75it/s, loss=0.361]\u001b[A\n",
      "  9%|▉         | 166/1759 [00:05<00:54, 29.46it/s, loss=0.361]\u001b[A\n",
      "  9%|▉         | 166/1759 [00:05<00:54, 29.31it/s, loss=0.359]\u001b[A\n",
      "  9%|▉         | 166/1759 [00:05<00:54, 29.17it/s, loss=0.359]\u001b[A\n",
      "  9%|▉         | 166/1759 [00:05<00:54, 29.03it/s, loss=0.358]\u001b[A\n",
      "  9%|▉         | 166/1759 [00:05<00:55, 28.89it/s, loss=0.357]\u001b[A\n",
      " 10%|▉         | 170/1759 [00:05<00:53, 29.58it/s, loss=0.357]\u001b[A\n",
      " 10%|▉         | 170/1759 [00:05<00:53, 29.44it/s, loss=0.358]\u001b[A\n",
      " 10%|▉         | 170/1759 [00:05<00:54, 29.30it/s, loss=0.357]\u001b[A\n",
      " 10%|▉         | 170/1759 [00:05<00:54, 29.16it/s, loss=0.358]\u001b[A\n",
      " 10%|▉         | 170/1759 [00:05<00:54, 29.02it/s, loss=0.355]\u001b[A\n",
      " 10%|▉         | 174/1759 [00:05<00:53, 29.71it/s, loss=0.355]\u001b[A\n",
      " 10%|▉         | 174/1759 [00:05<00:53, 29.55it/s, loss=0.356]\u001b[A\n",
      " 10%|▉         | 174/1759 [00:05<00:53, 29.41it/s, loss=0.357]\u001b[A\n",
      " 10%|▉         | 174/1759 [00:05<00:54, 29.28it/s, loss=0.357]\u001b[A\n",
      " 10%|▉         | 174/1759 [00:05<00:54, 29.14it/s, loss=0.355]\u001b[A\n",
      " 10%|█         | 178/1759 [00:05<00:53, 29.81it/s, loss=0.355]\u001b[A\n",
      " 10%|█         | 178/1759 [00:05<00:53, 29.67it/s, loss=0.355]\u001b[A\n",
      " 10%|█         | 178/1759 [00:06<00:53, 29.53it/s, loss=0.354]\u001b[A\n",
      " 10%|█         | 178/1759 [00:06<00:53, 29.40it/s, loss=0.352]\u001b[A\n",
      " 10%|█         | 178/1759 [00:06<00:54, 29.26it/s, loss=0.35]\u001b[A\n",
      " 10%|█         | 182/1759 [00:06<00:52, 29.92it/s, loss=0.35] \u001b[A\n",
      " 10%|█         | 182/1759 [00:06<00:52, 29.79it/s, loss=0.353]\u001b[A\n",
      " 10%|█         | 182/1759 [00:06<00:53, 29.65it/s, loss=0.351]\u001b[A\n",
      " 10%|█         | 182/1759 [00:06<00:53, 29.52it/s, loss=0.35]\u001b[A\n",
      " 10%|█         | 182/1759 [00:06<00:53, 29.39it/s, loss=0.349]\u001b[A\n",
      " 11%|█         | 186/1759 [00:06<00:52, 30.03it/s, loss=0.349]\u001b[A\n",
      " 11%|█         | 186/1759 [00:06<00:52, 29.90it/s, loss=0.354]\u001b[A\n",
      " 11%|█         | 186/1759 [00:06<00:52, 29.76it/s, loss=0.355]\u001b[A\n",
      " 11%|█         | 186/1759 [00:06<00:53, 29.64it/s, loss=0.354]\u001b[A\n",
      " 11%|█         | 186/1759 [00:06<00:53, 29.50it/s, loss=0.355]\u001b[A\n",
      " 11%|█         | 190/1759 [00:06<00:52, 30.13it/s, loss=0.355]\u001b[A\n",
      " 11%|█         | 190/1759 [00:06<00:52, 30.00it/s, loss=0.356]\u001b[A\n",
      " 11%|█         | 190/1759 [00:06<00:52, 29.88it/s, loss=0.356]\u001b[A\n",
      " 11%|█         | 190/1759 [00:06<00:52, 29.75it/s, loss=0.357]\u001b[A\n",
      " 11%|█         | 190/1759 [00:06<00:52, 29.62it/s, loss=0.356]\u001b[A\n"
     ]
    },
    {
     "name": "stdout",
     "output_type": "stream",
     "text": [
      " 11%|█         | 194/1759 [00:06<00:51, 30.24it/s, loss=0.356]\u001b[A\n",
      " 11%|█         | 194/1759 [00:06<00:51, 30.11it/s, loss=0.355]\u001b[A\n",
      " 11%|█         | 194/1759 [00:06<00:52, 29.98it/s, loss=0.357]\u001b[A\n",
      " 11%|█         | 194/1759 [00:06<00:52, 29.85it/s, loss=0.356]\u001b[A\n",
      " 11%|█         | 194/1759 [00:06<00:52, 29.72it/s, loss=0.355]\u001b[A\n",
      " 11%|█▏        | 198/1759 [00:06<00:51, 30.34it/s, loss=0.355]\u001b[A\n",
      " 11%|█▏        | 198/1759 [00:06<00:51, 30.21it/s, loss=0.355]\u001b[A\n",
      " 11%|█▏        | 198/1759 [00:06<00:51, 30.08it/s, loss=0.354]\u001b[A\n",
      " 11%|█▏        | 198/1759 [00:06<00:52, 29.96it/s, loss=0.352]\u001b[A\n",
      " 11%|█▏        | 198/1759 [00:06<00:52, 29.83it/s, loss=0.351]\u001b[A\n",
      " 11%|█▏        | 202/1759 [00:06<00:51, 30.43it/s, loss=0.351]\u001b[A\n",
      " 11%|█▏        | 202/1759 [00:06<00:51, 30.31it/s, loss=0.349]\u001b[A\n",
      " 11%|█▏        | 202/1759 [00:06<00:51, 30.18it/s, loss=0.348]\u001b[A\n",
      " 11%|█▏        | 202/1759 [00:06<00:51, 30.06it/s, loss=0.347]\u001b[A\n",
      " 11%|█▏        | 202/1759 [00:06<00:52, 29.93it/s, loss=0.347]\u001b[A\n",
      " 12%|█▏        | 206/1759 [00:06<00:50, 30.53it/s, loss=0.347]\u001b[A\n",
      " 12%|█▏        | 206/1759 [00:06<00:51, 30.40it/s, loss=0.345]\u001b[A\n",
      " 12%|█▏        | 206/1759 [00:06<00:51, 30.27it/s, loss=0.345]\u001b[A\n",
      " 12%|█▏        | 206/1759 [00:06<00:51, 30.16it/s, loss=0.344]\u001b[A\n",
      " 12%|█▏        | 206/1759 [00:06<00:51, 30.03it/s, loss=0.344]\u001b[A\n",
      " 12%|█▏        | 210/1759 [00:06<00:50, 30.61it/s, loss=0.344]\u001b[A\n",
      " 12%|█▏        | 210/1759 [00:06<00:50, 30.49it/s, loss=0.343]\u001b[A\n",
      " 12%|█▏        | 210/1759 [00:06<00:51, 30.37it/s, loss=0.344]\u001b[A\n",
      " 12%|█▏        | 210/1759 [00:06<00:51, 30.24it/s, loss=0.342]\u001b[A\n",
      " 12%|█▏        | 210/1759 [00:06<00:51, 30.13it/s, loss=0.341]\u001b[A\n",
      " 12%|█▏        | 214/1759 [00:06<00:50, 30.70it/s, loss=0.341]\u001b[A\n",
      " 12%|█▏        | 214/1759 [00:06<00:50, 30.57it/s, loss=0.34]\u001b[A\n",
      " 12%|█▏        | 214/1759 [00:07<00:50, 30.45it/s, loss=0.342]\u001b[A\n",
      " 12%|█▏        | 214/1759 [00:07<00:50, 30.34it/s, loss=0.341]\u001b[A\n",
      " 12%|█▏        | 214/1759 [00:07<00:51, 30.22it/s, loss=0.341]\u001b[A\n",
      " 12%|█▏        | 218/1759 [00:07<00:50, 30.78it/s, loss=0.341]\u001b[A\n",
      " 12%|█▏        | 218/1759 [00:07<00:50, 30.66it/s, loss=0.341]\u001b[A\n",
      " 12%|█▏        | 218/1759 [00:07<00:50, 30.54it/s, loss=0.343]\u001b[A\n",
      " 12%|█▏        | 218/1759 [00:07<00:50, 30.43it/s, loss=0.343]\u001b[A\n",
      " 12%|█▏        | 218/1759 [00:07<00:50, 30.31it/s, loss=0.342]\u001b[A\n",
      " 13%|█▎        | 222/1759 [00:07<00:49, 30.86it/s, loss=0.342]\u001b[A\n",
      " 13%|█▎        | 222/1759 [00:07<00:49, 30.74it/s, loss=0.342]\u001b[A\n",
      " 13%|█▎        | 222/1759 [00:07<00:50, 30.62it/s, loss=0.342]\u001b[A\n",
      " 13%|█▎        | 222/1759 [00:07<00:50, 30.51it/s, loss=0.342]\u001b[A\n",
      " 13%|█▎        | 222/1759 [00:07<00:50, 30.39it/s, loss=0.343]\u001b[A\n",
      " 13%|█▎        | 226/1759 [00:07<00:49, 30.94it/s, loss=0.343]\u001b[A\n",
      " 13%|█▎        | 226/1759 [00:07<00:49, 30.82it/s, loss=0.341]\u001b[A\n",
      " 13%|█▎        | 226/1759 [00:07<00:49, 30.71it/s, loss=0.339]\u001b[A\n",
      " 13%|█▎        | 226/1759 [00:07<00:50, 30.59it/s, loss=0.337]\u001b[A\n",
      " 13%|█▎        | 226/1759 [00:07<00:50, 30.48it/s, loss=0.339]\u001b[A\n",
      " 13%|█▎        | 230/1759 [00:07<00:49, 31.02it/s, loss=0.339]\u001b[A\n",
      " 13%|█▎        | 230/1759 [00:07<00:49, 30.90it/s, loss=0.339]\u001b[A\n",
      " 13%|█▎        | 230/1759 [00:07<00:49, 30.78it/s, loss=0.338]\u001b[A\n",
      " 13%|█▎        | 230/1759 [00:07<00:49, 30.67it/s, loss=0.338]\u001b[A\n",
      " 13%|█▎        | 230/1759 [00:07<00:50, 30.56it/s, loss=0.339]\u001b[A\n",
      " 13%|█▎        | 234/1759 [00:07<00:49, 31.09it/s, loss=0.339]\u001b[A\n",
      " 13%|█▎        | 234/1759 [00:07<00:49, 30.97it/s, loss=0.34]\u001b[A\n",
      " 13%|█▎        | 234/1759 [00:07<00:49, 30.86it/s, loss=0.34]\u001b[A\n",
      " 13%|█▎        | 234/1759 [00:07<00:49, 30.75it/s, loss=0.339]\u001b[A\n",
      " 13%|█▎        | 234/1759 [00:07<00:49, 30.64it/s, loss=0.339]\u001b[A\n",
      " 14%|█▎        | 238/1759 [00:07<00:48, 31.16it/s, loss=0.339]\u001b[A\n",
      " 14%|█▎        | 238/1759 [00:07<00:48, 31.05it/s, loss=0.339]\u001b[A\n",
      " 14%|█▎        | 238/1759 [00:07<00:49, 30.93it/s, loss=0.339]\u001b[A\n",
      " 14%|█▎        | 238/1759 [00:07<00:49, 30.83it/s, loss=0.339]\u001b[A\n",
      " 14%|█▎        | 238/1759 [00:07<00:49, 30.71it/s, loss=0.339]\u001b[A\n",
      " 14%|█▍        | 242/1759 [00:07<00:48, 31.23it/s, loss=0.339]\u001b[A\n",
      " 14%|█▍        | 242/1759 [00:07<00:48, 31.12it/s, loss=0.339]\u001b[A\n",
      " 14%|█▍        | 242/1759 [00:07<00:48, 31.01it/s, loss=0.338]\u001b[A\n",
      " 14%|█▍        | 242/1759 [00:07<00:49, 30.90it/s, loss=0.337]\u001b[A\n",
      " 14%|█▍        | 242/1759 [00:07<00:49, 30.79it/s, loss=0.336]\u001b[A\n",
      " 14%|█▍        | 246/1759 [00:07<00:48, 31.30it/s, loss=0.336]\u001b[A\n",
      " 14%|█▍        | 246/1759 [00:07<00:48, 31.19it/s, loss=0.335]\u001b[A\n",
      " 14%|█▍        | 246/1759 [00:07<00:48, 31.08it/s, loss=0.334]\u001b[A\n",
      " 14%|█▍        | 246/1759 [00:07<00:48, 30.97it/s, loss=0.338]\u001b[A\n",
      " 14%|█▍        | 246/1759 [00:07<00:49, 30.87it/s, loss=0.337]\u001b[A\n",
      " 14%|█▍        | 250/1759 [00:07<00:48, 31.36it/s, loss=0.337]\u001b[A\n",
      " 14%|█▍        | 250/1759 [00:07<00:48, 31.26it/s, loss=0.338]\u001b[A\n",
      " 14%|█▍        | 250/1759 [00:08<00:48, 31.15it/s, loss=0.337]\u001b[A\n",
      " 14%|█▍        | 250/1759 [00:08<00:48, 31.04it/s, loss=0.336]\u001b[A\n",
      " 14%|█▍        | 250/1759 [00:08<00:48, 30.94it/s, loss=0.334]\u001b[A\n",
      " 14%|█▍        | 254/1759 [00:08<00:47, 31.43it/s, loss=0.334]\u001b[A\n",
      " 14%|█▍        | 254/1759 [00:08<00:48, 31.32it/s, loss=0.335]\u001b[A\n",
      " 14%|█▍        | 254/1759 [00:08<00:48, 31.21it/s, loss=0.336]\u001b[A\n",
      " 14%|█▍        | 254/1759 [00:08<00:48, 31.11it/s, loss=0.335]\u001b[A\n",
      " 14%|█▍        | 254/1759 [00:08<00:48, 31.00it/s, loss=0.335]\u001b[A\n",
      " 15%|█▍        | 258/1759 [00:08<00:47, 31.49it/s, loss=0.335]\u001b[A\n",
      " 15%|█▍        | 258/1759 [00:08<00:47, 31.38it/s, loss=0.334]\u001b[A\n",
      " 15%|█▍        | 258/1759 [00:08<00:47, 31.28it/s, loss=0.333]\u001b[A\n",
      " 15%|█▍        | 258/1759 [00:08<00:48, 31.18it/s, loss=0.332]\u001b[A\n",
      " 15%|█▍        | 258/1759 [00:08<00:48, 31.07it/s, loss=0.33]\u001b[A\n",
      " 15%|█▍        | 262/1759 [00:08<00:47, 31.55it/s, loss=0.33] \u001b[A\n",
      " 15%|█▍        | 262/1759 [00:08<00:47, 31.45it/s, loss=0.33]\u001b[A\n",
      " 15%|█▍        | 262/1759 [00:08<00:47, 31.35it/s, loss=0.328]\u001b[A\n",
      " 15%|█▍        | 262/1759 [00:08<00:47, 31.25it/s, loss=0.329]\u001b[A\n",
      " 15%|█▍        | 262/1759 [00:08<00:48, 31.14it/s, loss=0.327]\u001b[A\n",
      " 15%|█▌        | 266/1759 [00:08<00:47, 31.61it/s, loss=0.327]\u001b[A\n",
      " 15%|█▌        | 266/1759 [00:08<00:47, 31.51it/s, loss=0.327]\u001b[A\n",
      " 15%|█▌        | 266/1759 [00:08<00:47, 31.41it/s, loss=0.326]\u001b[A\n",
      " 15%|█▌        | 266/1759 [00:08<00:47, 31.30it/s, loss=0.328]\u001b[A\n",
      " 15%|█▌        | 266/1759 [00:08<00:47, 31.20it/s, loss=0.331]\u001b[A\n",
      " 15%|█▌        | 270/1759 [00:08<00:47, 31.67it/s, loss=0.331]\u001b[A\n",
      " 15%|█▌        | 270/1759 [00:08<00:47, 31.57it/s, loss=0.33]\u001b[A\n",
      " 15%|█▌        | 270/1759 [00:08<00:47, 31.47it/s, loss=0.33]\u001b[A\n",
      " 15%|█▌        | 270/1759 [00:08<00:47, 31.37it/s, loss=0.328]\u001b[A\n",
      " 15%|█▌        | 270/1759 [00:08<00:47, 31.27it/s, loss=0.329]\u001b[A\n",
      " 16%|█▌        | 274/1759 [00:08<00:46, 31.73it/s, loss=0.329]\u001b[A\n",
      " 16%|█▌        | 274/1759 [00:08<00:46, 31.63it/s, loss=0.329]\u001b[A\n",
      " 16%|█▌        | 274/1759 [00:08<00:47, 31.53it/s, loss=0.33]\u001b[A\n",
      " 16%|█▌        | 274/1759 [00:08<00:47, 31.43it/s, loss=0.332]\u001b[A\n",
      " 16%|█▌        | 274/1759 [00:08<00:47, 31.33it/s, loss=0.33]\u001b[A\n",
      " 16%|█▌        | 278/1759 [00:08<00:46, 31.79it/s, loss=0.33] \u001b[A\n",
      " 16%|█▌        | 278/1759 [00:08<00:46, 31.69it/s, loss=0.329]\u001b[A\n",
      " 16%|█▌        | 278/1759 [00:08<00:46, 31.59it/s, loss=0.331]\u001b[A\n",
      " 16%|█▌        | 278/1759 [00:08<00:47, 31.49it/s, loss=0.33]\u001b[A\n",
      " 16%|█▌        | 278/1759 [00:08<00:47, 31.39it/s, loss=0.332]\u001b[A\n",
      " 16%|█▌        | 282/1759 [00:08<00:46, 31.84it/s, loss=0.332]\u001b[A\n",
      " 16%|█▌        | 282/1759 [00:08<00:46, 31.73it/s, loss=0.333]\u001b[A\n",
      " 16%|█▌        | 282/1759 [00:08<00:46, 31.64it/s, loss=0.331]\u001b[A\n",
      " 16%|█▌        | 282/1759 [00:08<00:46, 31.54it/s, loss=0.329]\u001b[A\n",
      " 16%|█▌        | 282/1759 [00:08<00:46, 31.44it/s, loss=0.329]\u001b[A\n",
      " 16%|█▋        | 286/1759 [00:08<00:46, 31.88it/s, loss=0.329]\u001b[A\n",
      " 16%|█▋        | 286/1759 [00:08<00:46, 31.79it/s, loss=0.331]\u001b[A\n",
      " 16%|█▋        | 286/1759 [00:09<00:46, 31.69it/s, loss=0.33]\u001b[A\n",
      " 16%|█▋        | 286/1759 [00:09<00:46, 31.59it/s, loss=0.33]\u001b[A\n",
      " 16%|█▋        | 286/1759 [00:09<00:46, 31.50it/s, loss=0.332]\u001b[A\n",
      " 16%|█▋        | 290/1759 [00:09<00:46, 31.93it/s, loss=0.332]\u001b[A\n",
      " 16%|█▋        | 290/1759 [00:09<00:46, 31.84it/s, loss=0.329]\u001b[A\n",
      " 16%|█▋        | 290/1759 [00:09<00:46, 31.74it/s, loss=0.331]\u001b[A\n",
      " 16%|█▋        | 290/1759 [00:09<00:46, 31.65it/s, loss=0.331]\u001b[A\n",
      " 16%|█▋        | 290/1759 [00:09<00:46, 31.55it/s, loss=0.33]\u001b[A\n"
     ]
    },
    {
     "name": "stdout",
     "output_type": "stream",
     "text": [
      " 17%|█▋        | 294/1759 [00:09<00:45, 31.99it/s, loss=0.33] \u001b[A\n",
      " 17%|█▋        | 294/1759 [00:09<00:45, 31.89it/s, loss=0.33]\u001b[A\n",
      " 17%|█▋        | 294/1759 [00:09<00:46, 31.79it/s, loss=0.329]\u001b[A\n",
      " 17%|█▋        | 294/1759 [00:09<00:46, 31.70it/s, loss=0.327]\u001b[A\n",
      " 17%|█▋        | 294/1759 [00:09<00:46, 31.61it/s, loss=0.326]\u001b[A\n",
      " 17%|█▋        | 298/1759 [00:09<00:45, 32.03it/s, loss=0.326]\u001b[A\n",
      " 17%|█▋        | 298/1759 [00:09<00:45, 31.94it/s, loss=0.329]\u001b[A\n",
      " 17%|█▋        | 298/1759 [00:09<00:45, 31.84it/s, loss=0.328]\u001b[A\n",
      " 17%|█▋        | 298/1759 [00:09<00:46, 31.75it/s, loss=0.331]\u001b[A\n",
      " 17%|█▋        | 298/1759 [00:09<00:46, 31.66it/s, loss=0.33]\u001b[A\n",
      " 17%|█▋        | 302/1759 [00:09<00:45, 32.09it/s, loss=0.33] \u001b[A"
     ]
    },
    {
     "ename": "KeyboardInterrupt",
     "evalue": "",
     "output_type": "error",
     "traceback": [
      "\u001b[0;31m---------------------------------------------------------------------------\u001b[0m",
      "\u001b[0;31mKeyboardInterrupt\u001b[0m                         Traceback (most recent call last)",
      "\u001b[0;32m<ipython-input-15-dbe396372e1c>\u001b[0m in \u001b[0;36m<module>\u001b[0;34m()\u001b[0m\n\u001b[0;32m----> 1\u001b[0;31m \u001b[0mm\u001b[0m\u001b[0;34m.\u001b[0m\u001b[0mfit\u001b[0m\u001b[0;34m(\u001b[0m\u001b[0mlr\u001b[0m\u001b[0;34m,\u001b[0m \u001b[0;36m3\u001b[0m\u001b[0;34m,\u001b[0m \u001b[0mmetrics\u001b[0m\u001b[0;34m=\u001b[0m\u001b[0;34m[\u001b[0m\u001b[0mrmsle\u001b[0m\u001b[0;34m]\u001b[0m\u001b[0;34m)\u001b[0m\u001b[0;34m\u001b[0m\u001b[0m\n\u001b[0m",
      "\u001b[0;32m/usr/local/lib/python3.6/site-packages/fastai/learner.py\u001b[0m in \u001b[0;36mfit\u001b[0;34m(self, lrs, n_cycle, wds, **kwargs)\u001b[0m\n\u001b[1;32m     97\u001b[0m         \u001b[0mself\u001b[0m\u001b[0;34m.\u001b[0m\u001b[0msched\u001b[0m \u001b[0;34m=\u001b[0m \u001b[0;32mNone\u001b[0m\u001b[0;34m\u001b[0m\u001b[0m\n\u001b[1;32m     98\u001b[0m         \u001b[0mlayer_opt\u001b[0m \u001b[0;34m=\u001b[0m \u001b[0mself\u001b[0m\u001b[0;34m.\u001b[0m\u001b[0mget_layer_opt\u001b[0m\u001b[0;34m(\u001b[0m\u001b[0mlrs\u001b[0m\u001b[0;34m,\u001b[0m \u001b[0mwds\u001b[0m\u001b[0;34m)\u001b[0m\u001b[0;34m\u001b[0m\u001b[0m\n\u001b[0;32m---> 99\u001b[0;31m         \u001b[0mself\u001b[0m\u001b[0;34m.\u001b[0m\u001b[0mfit_gen\u001b[0m\u001b[0;34m(\u001b[0m\u001b[0mself\u001b[0m\u001b[0;34m.\u001b[0m\u001b[0mmodel\u001b[0m\u001b[0;34m,\u001b[0m \u001b[0mself\u001b[0m\u001b[0;34m.\u001b[0m\u001b[0mdata\u001b[0m\u001b[0;34m,\u001b[0m \u001b[0mlayer_opt\u001b[0m\u001b[0;34m,\u001b[0m \u001b[0mn_cycle\u001b[0m\u001b[0;34m,\u001b[0m \u001b[0;34m**\u001b[0m\u001b[0mkwargs\u001b[0m\u001b[0;34m)\u001b[0m\u001b[0;34m\u001b[0m\u001b[0m\n\u001b[0m\u001b[1;32m    100\u001b[0m \u001b[0;34m\u001b[0m\u001b[0m\n\u001b[1;32m    101\u001b[0m     \u001b[0;32mdef\u001b[0m \u001b[0mlr_find\u001b[0m\u001b[0;34m(\u001b[0m\u001b[0mself\u001b[0m\u001b[0;34m,\u001b[0m \u001b[0mstart_lr\u001b[0m\u001b[0;34m=\u001b[0m\u001b[0;36m1e-5\u001b[0m\u001b[0;34m,\u001b[0m \u001b[0mend_lr\u001b[0m\u001b[0;34m=\u001b[0m\u001b[0;36m10\u001b[0m\u001b[0;34m,\u001b[0m \u001b[0mwds\u001b[0m\u001b[0;34m=\u001b[0m\u001b[0;32mNone\u001b[0m\u001b[0;34m)\u001b[0m\u001b[0;34m:\u001b[0m\u001b[0;34m\u001b[0m\u001b[0m\n",
      "\u001b[0;32m/usr/local/lib/python3.6/site-packages/fastai/learner.py\u001b[0m in \u001b[0;36mfit_gen\u001b[0;34m(self, model, data, layer_opt, n_cycle, cycle_len, cycle_mult, cycle_save_name, metrics, callbacks, **kwargs)\u001b[0m\n\u001b[1;32m     87\u001b[0m         \u001b[0mn_epoch\u001b[0m \u001b[0;34m=\u001b[0m \u001b[0msum_geom\u001b[0m\u001b[0;34m(\u001b[0m\u001b[0mcycle_len\u001b[0m \u001b[0;32mif\u001b[0m \u001b[0mcycle_len\u001b[0m \u001b[0;32melse\u001b[0m \u001b[0;36m1\u001b[0m\u001b[0;34m,\u001b[0m \u001b[0mcycle_mult\u001b[0m\u001b[0;34m,\u001b[0m \u001b[0mn_cycle\u001b[0m\u001b[0;34m)\u001b[0m\u001b[0;34m\u001b[0m\u001b[0m\n\u001b[1;32m     88\u001b[0m         fit(model, data, n_epoch, layer_opt.opt, self.crit,\n\u001b[0;32m---> 89\u001b[0;31m             metrics=metrics, callbacks=callbacks, reg_fn=self.reg_fn, clip=self.clip, **kwargs)\n\u001b[0m\u001b[1;32m     90\u001b[0m \u001b[0;34m\u001b[0m\u001b[0m\n\u001b[1;32m     91\u001b[0m     \u001b[0;32mdef\u001b[0m \u001b[0mget_layer_groups\u001b[0m\u001b[0;34m(\u001b[0m\u001b[0mself\u001b[0m\u001b[0;34m)\u001b[0m\u001b[0;34m:\u001b[0m \u001b[0;32mreturn\u001b[0m \u001b[0mself\u001b[0m\u001b[0;34m.\u001b[0m\u001b[0mmodels\u001b[0m\u001b[0;34m.\u001b[0m\u001b[0mget_layer_groups\u001b[0m\u001b[0;34m(\u001b[0m\u001b[0;34m)\u001b[0m\u001b[0;34m\u001b[0m\u001b[0m\n",
      "\u001b[0;32m/usr/local/lib/python3.6/site-packages/fastai/model.py\u001b[0m in \u001b[0;36mfit\u001b[0;34m(model, data, epochs, opt, crit, metrics, callbacks, **kwargs)\u001b[0m\n\u001b[1;32m     85\u001b[0m             \u001b[0mavg_loss\u001b[0m \u001b[0;34m=\u001b[0m \u001b[0mavg_loss\u001b[0m \u001b[0;34m*\u001b[0m \u001b[0mavg_mom\u001b[0m \u001b[0;34m+\u001b[0m \u001b[0mloss\u001b[0m \u001b[0;34m*\u001b[0m \u001b[0;34m(\u001b[0m\u001b[0;36m1\u001b[0m\u001b[0;34m-\u001b[0m\u001b[0mavg_mom\u001b[0m\u001b[0;34m)\u001b[0m\u001b[0;34m\u001b[0m\u001b[0m\n\u001b[1;32m     86\u001b[0m             \u001b[0mdebias_loss\u001b[0m \u001b[0;34m=\u001b[0m \u001b[0mavg_loss\u001b[0m \u001b[0;34m/\u001b[0m \u001b[0;34m(\u001b[0m\u001b[0;36m1\u001b[0m \u001b[0;34m-\u001b[0m \u001b[0mavg_mom\u001b[0m\u001b[0;34m**\u001b[0m\u001b[0mbatch_num\u001b[0m\u001b[0;34m)\u001b[0m\u001b[0;34m\u001b[0m\u001b[0m\n\u001b[0;32m---> 87\u001b[0;31m             \u001b[0mt\u001b[0m\u001b[0;34m.\u001b[0m\u001b[0mset_postfix\u001b[0m\u001b[0;34m(\u001b[0m\u001b[0mloss\u001b[0m\u001b[0;34m=\u001b[0m\u001b[0mdebias_loss\u001b[0m\u001b[0;34m)\u001b[0m\u001b[0;34m\u001b[0m\u001b[0m\n\u001b[0m\u001b[1;32m     88\u001b[0m             \u001b[0mstop\u001b[0m\u001b[0;34m=\u001b[0m\u001b[0;32mFalse\u001b[0m\u001b[0;34m\u001b[0m\u001b[0m\n\u001b[1;32m     89\u001b[0m             \u001b[0;32mfor\u001b[0m \u001b[0mcb\u001b[0m \u001b[0;32min\u001b[0m \u001b[0mcallbacks\u001b[0m\u001b[0;34m:\u001b[0m \u001b[0mstop\u001b[0m \u001b[0;34m=\u001b[0m \u001b[0mstop\u001b[0m \u001b[0;32mor\u001b[0m \u001b[0mcb\u001b[0m\u001b[0;34m.\u001b[0m\u001b[0mon_batch_end\u001b[0m\u001b[0;34m(\u001b[0m\u001b[0mdebias_loss\u001b[0m\u001b[0;34m)\u001b[0m\u001b[0;34m\u001b[0m\u001b[0m\n",
      "\u001b[0;32m/usr/local/lib/python3.6/site-packages/tqdm/_tqdm.py\u001b[0m in \u001b[0;36mset_postfix\u001b[0;34m(self, ordered_dict, refresh, **kwargs)\u001b[0m\n\u001b[1;32m   1200\u001b[0m                                  for key in postfix.keys())\n\u001b[1;32m   1201\u001b[0m         \u001b[0;32mif\u001b[0m \u001b[0mrefresh\u001b[0m\u001b[0;34m:\u001b[0m\u001b[0;34m\u001b[0m\u001b[0m\n\u001b[0;32m-> 1202\u001b[0;31m             \u001b[0mself\u001b[0m\u001b[0;34m.\u001b[0m\u001b[0mrefresh\u001b[0m\u001b[0;34m(\u001b[0m\u001b[0;34m)\u001b[0m\u001b[0;34m\u001b[0m\u001b[0m\n\u001b[0m\u001b[1;32m   1203\u001b[0m \u001b[0;34m\u001b[0m\u001b[0m\n\u001b[1;32m   1204\u001b[0m     \u001b[0;32mdef\u001b[0m \u001b[0mset_postfix_str\u001b[0m\u001b[0;34m(\u001b[0m\u001b[0mself\u001b[0m\u001b[0;34m,\u001b[0m \u001b[0ms\u001b[0m\u001b[0;34m=\u001b[0m\u001b[0;34m''\u001b[0m\u001b[0;34m,\u001b[0m \u001b[0mrefresh\u001b[0m\u001b[0;34m=\u001b[0m\u001b[0;32mTrue\u001b[0m\u001b[0;34m)\u001b[0m\u001b[0;34m:\u001b[0m\u001b[0;34m\u001b[0m\u001b[0m\n",
      "\u001b[0;32m/usr/local/lib/python3.6/site-packages/tqdm/_tqdm.py\u001b[0m in \u001b[0;36mrefresh\u001b[0;34m(self, nolock)\u001b[0m\n\u001b[1;32m   1241\u001b[0m \u001b[0;34m\u001b[0m\u001b[0m\n\u001b[1;32m   1242\u001b[0m         \u001b[0;32mif\u001b[0m \u001b[0;32mnot\u001b[0m \u001b[0mnolock\u001b[0m\u001b[0;34m:\u001b[0m\u001b[0;34m\u001b[0m\u001b[0m\n\u001b[0;32m-> 1243\u001b[0;31m             \u001b[0mself\u001b[0m\u001b[0;34m.\u001b[0m\u001b[0m_lock\u001b[0m\u001b[0;34m.\u001b[0m\u001b[0macquire\u001b[0m\u001b[0;34m(\u001b[0m\u001b[0;34m)\u001b[0m\u001b[0;34m\u001b[0m\u001b[0m\n\u001b[0m\u001b[1;32m   1244\u001b[0m         \u001b[0mself\u001b[0m\u001b[0;34m.\u001b[0m\u001b[0mmoveto\u001b[0m\u001b[0;34m(\u001b[0m\u001b[0mself\u001b[0m\u001b[0;34m.\u001b[0m\u001b[0mpos\u001b[0m\u001b[0;34m)\u001b[0m\u001b[0;34m\u001b[0m\u001b[0m\n\u001b[1;32m   1245\u001b[0m         \u001b[0;31m# clear up this line's content (whatever there was)\u001b[0m\u001b[0;34m\u001b[0m\u001b[0;34m\u001b[0m\u001b[0m\n",
      "\u001b[0;32m/usr/local/lib/python3.6/site-packages/tqdm/_tqdm.py\u001b[0m in \u001b[0;36macquire\u001b[0;34m(self)\u001b[0m\n\u001b[1;32m     68\u001b[0m     \u001b[0;32mdef\u001b[0m \u001b[0macquire\u001b[0m\u001b[0;34m(\u001b[0m\u001b[0mself\u001b[0m\u001b[0;34m)\u001b[0m\u001b[0;34m:\u001b[0m\u001b[0;34m\u001b[0m\u001b[0m\n\u001b[1;32m     69\u001b[0m         \u001b[0;32mfor\u001b[0m \u001b[0mlock\u001b[0m \u001b[0;32min\u001b[0m \u001b[0mself\u001b[0m\u001b[0;34m.\u001b[0m\u001b[0mlocks\u001b[0m\u001b[0;34m:\u001b[0m\u001b[0;34m\u001b[0m\u001b[0m\n\u001b[0;32m---> 70\u001b[0;31m             \u001b[0mlock\u001b[0m\u001b[0;34m.\u001b[0m\u001b[0macquire\u001b[0m\u001b[0;34m(\u001b[0m\u001b[0;34m)\u001b[0m\u001b[0;34m\u001b[0m\u001b[0m\n\u001b[0m\u001b[1;32m     71\u001b[0m \u001b[0;34m\u001b[0m\u001b[0m\n\u001b[1;32m     72\u001b[0m     \u001b[0;32mdef\u001b[0m \u001b[0mrelease\u001b[0m\u001b[0;34m(\u001b[0m\u001b[0mself\u001b[0m\u001b[0;34m)\u001b[0m\u001b[0;34m:\u001b[0m\u001b[0;34m\u001b[0m\u001b[0m\n",
      "\u001b[0;31mKeyboardInterrupt\u001b[0m: "
     ]
    }
   ],
   "source": [
    "m.fit(lr, 3, metrics=[rmsle])"
   ]
  },
  {
   "cell_type": "code",
   "execution_count": 36,
   "metadata": {
    "hidden": true
   },
   "outputs": [
    {
     "ename": "KeyboardInterrupt",
     "evalue": "",
     "output_type": "error",
     "traceback": [
      "\u001b[0;31m---------------------------------------------------------------------------\u001b[0m",
      "\u001b[0;31mKeyboardInterrupt\u001b[0m                         Traceback (most recent call last)",
      "\u001b[0;32m<ipython-input-36-9df391262d18>\u001b[0m in \u001b[0;36m<module>\u001b[0;34m()\u001b[0m\n\u001b[1;32m      1\u001b[0m \u001b[0mlr\u001b[0m \u001b[0;34m=\u001b[0m \u001b[0;36m1e-4\u001b[0m\u001b[0;34m\u001b[0m\u001b[0m\n\u001b[0;32m----> 2\u001b[0;31m \u001b[0mm\u001b[0m\u001b[0;34m.\u001b[0m\u001b[0mfit\u001b[0m\u001b[0;34m(\u001b[0m\u001b[0mlr\u001b[0m\u001b[0;34m,\u001b[0m \u001b[0;36m20\u001b[0m\u001b[0;34m,\u001b[0m \u001b[0mmetrics\u001b[0m\u001b[0;34m=\u001b[0m\u001b[0;34m[\u001b[0m\u001b[0mrmsle\u001b[0m\u001b[0;34m]\u001b[0m\u001b[0;34m,\u001b[0m \u001b[0mcycle_len\u001b[0m\u001b[0;34m=\u001b[0m\u001b[0;36m3\u001b[0m\u001b[0;34m,\u001b[0m \u001b[0mcycle_mult\u001b[0m\u001b[0;34m=\u001b[0m\u001b[0;36m1\u001b[0m\u001b[0;34m)\u001b[0m\u001b[0;34m\u001b[0m\u001b[0m\n\u001b[0m",
      "\u001b[0;32m/usr/local/lib/python3.6/site-packages/fastai/learner.py\u001b[0m in \u001b[0;36mfit\u001b[0;34m(self, lrs, n_cycle, wds, **kwargs)\u001b[0m\n\u001b[1;32m     97\u001b[0m         \u001b[0mself\u001b[0m\u001b[0;34m.\u001b[0m\u001b[0msched\u001b[0m \u001b[0;34m=\u001b[0m \u001b[0;32mNone\u001b[0m\u001b[0;34m\u001b[0m\u001b[0m\n\u001b[1;32m     98\u001b[0m         \u001b[0mlayer_opt\u001b[0m \u001b[0;34m=\u001b[0m \u001b[0mself\u001b[0m\u001b[0;34m.\u001b[0m\u001b[0mget_layer_opt\u001b[0m\u001b[0;34m(\u001b[0m\u001b[0mlrs\u001b[0m\u001b[0;34m,\u001b[0m \u001b[0mwds\u001b[0m\u001b[0;34m)\u001b[0m\u001b[0;34m\u001b[0m\u001b[0m\n\u001b[0;32m---> 99\u001b[0;31m         \u001b[0mself\u001b[0m\u001b[0;34m.\u001b[0m\u001b[0mfit_gen\u001b[0m\u001b[0;34m(\u001b[0m\u001b[0mself\u001b[0m\u001b[0;34m.\u001b[0m\u001b[0mmodel\u001b[0m\u001b[0;34m,\u001b[0m \u001b[0mself\u001b[0m\u001b[0;34m.\u001b[0m\u001b[0mdata\u001b[0m\u001b[0;34m,\u001b[0m \u001b[0mlayer_opt\u001b[0m\u001b[0;34m,\u001b[0m \u001b[0mn_cycle\u001b[0m\u001b[0;34m,\u001b[0m \u001b[0;34m**\u001b[0m\u001b[0mkwargs\u001b[0m\u001b[0;34m)\u001b[0m\u001b[0;34m\u001b[0m\u001b[0m\n\u001b[0m\u001b[1;32m    100\u001b[0m \u001b[0;34m\u001b[0m\u001b[0m\n\u001b[1;32m    101\u001b[0m     \u001b[0;32mdef\u001b[0m \u001b[0mlr_find\u001b[0m\u001b[0;34m(\u001b[0m\u001b[0mself\u001b[0m\u001b[0;34m,\u001b[0m \u001b[0mstart_lr\u001b[0m\u001b[0;34m=\u001b[0m\u001b[0;36m1e-5\u001b[0m\u001b[0;34m,\u001b[0m \u001b[0mend_lr\u001b[0m\u001b[0;34m=\u001b[0m\u001b[0;36m10\u001b[0m\u001b[0;34m,\u001b[0m \u001b[0mwds\u001b[0m\u001b[0;34m=\u001b[0m\u001b[0;32mNone\u001b[0m\u001b[0;34m)\u001b[0m\u001b[0;34m:\u001b[0m\u001b[0;34m\u001b[0m\u001b[0m\n",
      "\u001b[0;32m/usr/local/lib/python3.6/site-packages/fastai/learner.py\u001b[0m in \u001b[0;36mfit_gen\u001b[0;34m(self, model, data, layer_opt, n_cycle, cycle_len, cycle_mult, cycle_save_name, metrics, callbacks, **kwargs)\u001b[0m\n\u001b[1;32m     87\u001b[0m         \u001b[0mn_epoch\u001b[0m \u001b[0;34m=\u001b[0m \u001b[0msum_geom\u001b[0m\u001b[0;34m(\u001b[0m\u001b[0mcycle_len\u001b[0m \u001b[0;32mif\u001b[0m \u001b[0mcycle_len\u001b[0m \u001b[0;32melse\u001b[0m \u001b[0;36m1\u001b[0m\u001b[0;34m,\u001b[0m \u001b[0mcycle_mult\u001b[0m\u001b[0;34m,\u001b[0m \u001b[0mn_cycle\u001b[0m\u001b[0;34m)\u001b[0m\u001b[0;34m\u001b[0m\u001b[0m\n\u001b[1;32m     88\u001b[0m         fit(model, data, n_epoch, layer_opt.opt, self.crit,\n\u001b[0;32m---> 89\u001b[0;31m             metrics=metrics, callbacks=callbacks, reg_fn=self.reg_fn, clip=self.clip, **kwargs)\n\u001b[0m\u001b[1;32m     90\u001b[0m \u001b[0;34m\u001b[0m\u001b[0m\n\u001b[1;32m     91\u001b[0m     \u001b[0;32mdef\u001b[0m \u001b[0mget_layer_groups\u001b[0m\u001b[0;34m(\u001b[0m\u001b[0mself\u001b[0m\u001b[0;34m)\u001b[0m\u001b[0;34m:\u001b[0m \u001b[0;32mreturn\u001b[0m \u001b[0mself\u001b[0m\u001b[0;34m.\u001b[0m\u001b[0mmodels\u001b[0m\u001b[0;34m.\u001b[0m\u001b[0mget_layer_groups\u001b[0m\u001b[0;34m(\u001b[0m\u001b[0;34m)\u001b[0m\u001b[0;34m\u001b[0m\u001b[0m\n",
      "\u001b[0;32m/usr/local/lib/python3.6/site-packages/fastai/model.py\u001b[0m in \u001b[0;36mfit\u001b[0;34m(model, data, epochs, opt, crit, metrics, callbacks, **kwargs)\u001b[0m\n\u001b[1;32m     77\u001b[0m     \u001b[0mbatch_num\u001b[0m\u001b[0;34m,\u001b[0m\u001b[0mavg_loss\u001b[0m\u001b[0;34m=\u001b[0m\u001b[0;36m0\u001b[0m\u001b[0;34m,\u001b[0m\u001b[0;36m0.\u001b[0m\u001b[0;34m\u001b[0m\u001b[0m\n\u001b[1;32m     78\u001b[0m \u001b[0;34m\u001b[0m\u001b[0m\n\u001b[0;32m---> 79\u001b[0;31m     \u001b[0;32mfor\u001b[0m \u001b[0mepoch\u001b[0m \u001b[0;32min\u001b[0m \u001b[0mtnrange\u001b[0m\u001b[0;34m(\u001b[0m\u001b[0mepochs\u001b[0m\u001b[0;34m,\u001b[0m \u001b[0mdesc\u001b[0m\u001b[0;34m=\u001b[0m\u001b[0;34m'Epoch'\u001b[0m\u001b[0;34m)\u001b[0m\u001b[0;34m:\u001b[0m\u001b[0;34m\u001b[0m\u001b[0m\n\u001b[0m\u001b[1;32m     80\u001b[0m         \u001b[0mstepper\u001b[0m\u001b[0;34m.\u001b[0m\u001b[0mreset\u001b[0m\u001b[0;34m(\u001b[0m\u001b[0;32mTrue\u001b[0m\u001b[0;34m)\u001b[0m\u001b[0;34m\u001b[0m\u001b[0m\n\u001b[1;32m     81\u001b[0m         \u001b[0mt\u001b[0m \u001b[0;34m=\u001b[0m \u001b[0mtqdm\u001b[0m\u001b[0;34m(\u001b[0m\u001b[0miter\u001b[0m\u001b[0;34m(\u001b[0m\u001b[0mdata\u001b[0m\u001b[0;34m.\u001b[0m\u001b[0mtrn_dl\u001b[0m\u001b[0;34m)\u001b[0m\u001b[0;34m,\u001b[0m \u001b[0mleave\u001b[0m\u001b[0;34m=\u001b[0m\u001b[0;32mFalse\u001b[0m\u001b[0;34m,\u001b[0m \u001b[0mtotal\u001b[0m\u001b[0;34m=\u001b[0m\u001b[0mlen\u001b[0m\u001b[0;34m(\u001b[0m\u001b[0mdata\u001b[0m\u001b[0;34m.\u001b[0m\u001b[0mtrn_dl\u001b[0m\u001b[0;34m)\u001b[0m\u001b[0;34m)\u001b[0m\u001b[0;34m\u001b[0m\u001b[0m\n",
      "\u001b[0;32m/usr/local/lib/python3.6/site-packages/tqdm/__init__.py\u001b[0m in \u001b[0;36mtnrange\u001b[0;34m(*args, **kwargs)\u001b[0m\n\u001b[1;32m     26\u001b[0m     \"\"\"\n\u001b[1;32m     27\u001b[0m     \u001b[0;32mfrom\u001b[0m \u001b[0;34m.\u001b[0m\u001b[0m_tqdm_notebook\u001b[0m \u001b[0;32mimport\u001b[0m \u001b[0mtnrange\u001b[0m \u001b[0;32mas\u001b[0m \u001b[0m_tnrange\u001b[0m\u001b[0;34m\u001b[0m\u001b[0m\n\u001b[0;32m---> 28\u001b[0;31m     \u001b[0;32mreturn\u001b[0m \u001b[0m_tnrange\u001b[0m\u001b[0;34m(\u001b[0m\u001b[0;34m*\u001b[0m\u001b[0margs\u001b[0m\u001b[0;34m,\u001b[0m \u001b[0;34m**\u001b[0m\u001b[0mkwargs\u001b[0m\u001b[0;34m)\u001b[0m\u001b[0;34m\u001b[0m\u001b[0m\n\u001b[0m",
      "\u001b[0;32m/usr/local/lib/python3.6/site-packages/tqdm/_tqdm_notebook.py\u001b[0m in \u001b[0;36mtnrange\u001b[0;34m(*args, **kwargs)\u001b[0m\n\u001b[1;32m    231\u001b[0m     \u001b[0mOn\u001b[0m \u001b[0mPython3\u001b[0m\u001b[0;34m+\u001b[0m \u001b[0mrange\u001b[0m \u001b[0;32mis\u001b[0m \u001b[0mused\u001b[0m \u001b[0minstead\u001b[0m \u001b[0mof\u001b[0m \u001b[0mxrange\u001b[0m\u001b[0;34m.\u001b[0m\u001b[0;34m\u001b[0m\u001b[0m\n\u001b[1;32m    232\u001b[0m     \"\"\"\n\u001b[0;32m--> 233\u001b[0;31m     \u001b[0;32mreturn\u001b[0m \u001b[0mtqdm_notebook\u001b[0m\u001b[0;34m(\u001b[0m\u001b[0m_range\u001b[0m\u001b[0;34m(\u001b[0m\u001b[0;34m*\u001b[0m\u001b[0margs\u001b[0m\u001b[0;34m)\u001b[0m\u001b[0;34m,\u001b[0m \u001b[0;34m**\u001b[0m\u001b[0mkwargs\u001b[0m\u001b[0;34m)\u001b[0m\u001b[0;34m\u001b[0m\u001b[0m\n\u001b[0m",
      "\u001b[0;32m/usr/local/lib/python3.6/site-packages/tqdm/_tqdm.py\u001b[0m in \u001b[0;36m__new__\u001b[0;34m(cls, *args, **kwargs)\u001b[0m\n\u001b[1;32m    445\u001b[0m         \u001b[0;32mif\u001b[0m \u001b[0;34m\"_instances\"\u001b[0m \u001b[0;32mnot\u001b[0m \u001b[0;32min\u001b[0m \u001b[0mcls\u001b[0m\u001b[0;34m.\u001b[0m\u001b[0m__dict__\u001b[0m\u001b[0;34m:\u001b[0m\u001b[0;34m\u001b[0m\u001b[0m\n\u001b[1;32m    446\u001b[0m             \u001b[0mcls\u001b[0m\u001b[0;34m.\u001b[0m\u001b[0m_instances\u001b[0m \u001b[0;34m=\u001b[0m \u001b[0mWeakSet\u001b[0m\u001b[0;34m(\u001b[0m\u001b[0;34m)\u001b[0m\u001b[0;34m\u001b[0m\u001b[0m\n\u001b[0;32m--> 447\u001b[0;31m         \u001b[0;32mwith\u001b[0m \u001b[0mcls\u001b[0m\u001b[0;34m.\u001b[0m\u001b[0m_lock\u001b[0m\u001b[0;34m:\u001b[0m\u001b[0;34m\u001b[0m\u001b[0m\n\u001b[0m\u001b[1;32m    448\u001b[0m             \u001b[0mcls\u001b[0m\u001b[0;34m.\u001b[0m\u001b[0m_instances\u001b[0m\u001b[0;34m.\u001b[0m\u001b[0madd\u001b[0m\u001b[0;34m(\u001b[0m\u001b[0minstance\u001b[0m\u001b[0;34m)\u001b[0m\u001b[0;34m\u001b[0m\u001b[0m\n\u001b[1;32m    449\u001b[0m         \u001b[0;31m# Create the monitoring thread\u001b[0m\u001b[0;34m\u001b[0m\u001b[0;34m\u001b[0m\u001b[0m\n",
      "\u001b[0;32m/usr/local/lib/python3.6/site-packages/tqdm/_tqdm.py\u001b[0m in \u001b[0;36m__enter__\u001b[0;34m(self)\u001b[0m\n\u001b[1;32m     75\u001b[0m \u001b[0;34m\u001b[0m\u001b[0m\n\u001b[1;32m     76\u001b[0m     \u001b[0;32mdef\u001b[0m \u001b[0m__enter__\u001b[0m\u001b[0;34m(\u001b[0m\u001b[0mself\u001b[0m\u001b[0;34m)\u001b[0m\u001b[0;34m:\u001b[0m\u001b[0;34m\u001b[0m\u001b[0m\n\u001b[0;32m---> 77\u001b[0;31m         \u001b[0mself\u001b[0m\u001b[0;34m.\u001b[0m\u001b[0macquire\u001b[0m\u001b[0;34m(\u001b[0m\u001b[0;34m)\u001b[0m\u001b[0;34m\u001b[0m\u001b[0m\n\u001b[0m\u001b[1;32m     78\u001b[0m \u001b[0;34m\u001b[0m\u001b[0m\n\u001b[1;32m     79\u001b[0m     \u001b[0;32mdef\u001b[0m \u001b[0m__exit__\u001b[0m\u001b[0;34m(\u001b[0m\u001b[0mself\u001b[0m\u001b[0;34m,\u001b[0m \u001b[0;34m*\u001b[0m\u001b[0mexc\u001b[0m\u001b[0;34m)\u001b[0m\u001b[0;34m:\u001b[0m\u001b[0;34m\u001b[0m\u001b[0m\n",
      "\u001b[0;32m/usr/local/lib/python3.6/site-packages/tqdm/_tqdm.py\u001b[0m in \u001b[0;36macquire\u001b[0;34m(self)\u001b[0m\n\u001b[1;32m     68\u001b[0m     \u001b[0;32mdef\u001b[0m \u001b[0macquire\u001b[0m\u001b[0;34m(\u001b[0m\u001b[0mself\u001b[0m\u001b[0;34m)\u001b[0m\u001b[0;34m:\u001b[0m\u001b[0;34m\u001b[0m\u001b[0m\n\u001b[1;32m     69\u001b[0m         \u001b[0;32mfor\u001b[0m \u001b[0mlock\u001b[0m \u001b[0;32min\u001b[0m \u001b[0mself\u001b[0m\u001b[0;34m.\u001b[0m\u001b[0mlocks\u001b[0m\u001b[0;34m:\u001b[0m\u001b[0;34m\u001b[0m\u001b[0m\n\u001b[0;32m---> 70\u001b[0;31m             \u001b[0mlock\u001b[0m\u001b[0;34m.\u001b[0m\u001b[0macquire\u001b[0m\u001b[0;34m(\u001b[0m\u001b[0;34m)\u001b[0m\u001b[0;34m\u001b[0m\u001b[0m\n\u001b[0m\u001b[1;32m     71\u001b[0m \u001b[0;34m\u001b[0m\u001b[0m\n\u001b[1;32m     72\u001b[0m     \u001b[0;32mdef\u001b[0m \u001b[0mrelease\u001b[0m\u001b[0;34m(\u001b[0m\u001b[0mself\u001b[0m\u001b[0;34m)\u001b[0m\u001b[0;34m:\u001b[0m\u001b[0;34m\u001b[0m\u001b[0m\n",
      "\u001b[0;31mKeyboardInterrupt\u001b[0m: "
     ]
    }
   ],
   "source": [
    "lr = 1e-4\n",
    "m.fit(lr, 20, metrics=[rmsle], cycle_len=3, cycle_mult=1)"
   ]
  },
  {
   "cell_type": "code",
   "execution_count": 17,
   "metadata": {
    "hidden": true
   },
   "outputs": [
    {
     "data": {
      "image/png": "[encoded data removed]",
      "text/plain": [
       "<matplotlib.figure.Figure at 0x7f82d337f898>"
      ]
     },
     "metadata": {},
     "output_type": "display_data"
    }
   ],
   "source": [
    "m.sched.plot_loss()"
   ]
  },
  {
   "cell_type": "code",
   "execution_count": 20,
   "metadata": {
    "hidden": true
   },
   "outputs": [
    {
     "data": {
      "text/plain": [
       "0.5354620623609236"
      ]
     },
     "execution_count": 20,
     "metadata": {},
     "output_type": "execute_result"
    }
   ],
   "source": [
    "x,y=m.predict_with_targs()\n",
    "rmsle(x,y)"
   ]
  },
  {
   "cell_type": "code",
   "execution_count": 19,
   "metadata": {},
   "outputs": [],
   "source": [
    "x,y=m.predict_with_targs()"
   ]
  },
  {
   "cell_type": "code",
   "execution_count": 28,
   "metadata": {
    "hidden": true
   },
   "outputs": [
    {
     "data": {
      "text/plain": [
       "['prop_yhat_lower',\n",
       " 'prop_yhat_upper',\n",
       " 'prop_yhat',\n",
       " 'stores_in_air_loc',\n",
       " 'stores_in_hpg_loc',\n",
       " 'stores_in_area_name',\n",
       " 'stores_in_hpg_area_name',\n",
       " 'min_visits_in_air_store_id',\n",
       " 'max_visits_in_air_store_id',\n",
       " 'mean_visits_in_air_store_id',\n",
       " 'std_visits_in_air_store_id',\n",
       " 'min_visits_in_air_loc',\n",
       " 'max_visits_in_air_loc',\n",
       " 'mean_visits_in_air_loc',\n",
       " 'std_visits_in_air_loc',\n",
       " 'min_visits_in_hpg_loc',\n",
       " 'max_visits_in_hpg_loc',\n",
       " 'mean_visits_in_hpg_loc',\n",
       " 'std_visits_in_hpg_loc',\n",
       " 'min_visits_in_area_name',\n",
       " 'max_visits_in_area_name',\n",
       " 'mean_visits_in_area_name',\n",
       " 'std_visits_in_area_name',\n",
       " 'min_visits_in_hpg_area_name',\n",
       " 'max_visits_in_hpg_area_name',\n",
       " 'mean_visits_in_hpg_area_name',\n",
       " 'std_visits_in_hpg_area_name']"
      ]
     },
     "execution_count": 28,
     "metadata": {},
     "output_type": "execute_result"
    }
   ],
   "source": [
    "contin_vars\n"
   ]
  },
  {
   "cell_type": "code",
   "execution_count": null,
   "metadata": {
    "hidden": true
   },
   "outputs": [],
   "source": []
  },
  {
   "cell_type": "code",
   "execution_count": 200,
   "metadata": {
    "hidden": true
   },
   "outputs": [],
   "source": []
  },
  {
   "cell_type": "code",
   "execution_count": 201,
   "metadata": {
    "hidden": true
   },
   "outputs": [],
   "source": [
    "\n"
   ]
  },
  {
   "cell_type": "code",
   "execution_count": 34,
   "metadata": {
    "hidden": true
   },
   "outputs": [
    {
     "data": {
      "text/plain": [
       "[('air_store_id', 822),\n",
       " ('visit_Year', 3),\n",
       " ('visit_Month', 13),\n",
       " ('visit_Week', 54),\n",
       " ('visit_Day', 32),\n",
       " ('visit_Dayofweek', 8),\n",
       " ('visit_Dayofyear', 367),\n",
       " ('visit_Is_month_end', 3),\n",
       " ('visit_Is_month_start', 3),\n",
       " ('visit_Is_quarter_end', 3),\n",
       " ('visit_Is_quarter_start', 3),\n",
       " ('visit_Is_year_end', 3),\n",
       " ('visit_Is_year_start', 3),\n",
       " ('visit_Elapsed', 477),\n",
       " ('day_of_week', 8),\n",
       " ('holiday_flg', 3),\n",
       " ('af_holiday_flg', 75),\n",
       " ('be_holiday_flg', 75),\n",
       " ('dur_time_holiday_flg', 8),\n",
       " ('dur_holiday_flg', 6),\n",
       " ('dur_prog_holiday_flg', 8),\n",
       " ('genre_name', 15),\n",
       " ('area_name', 72),\n",
       " ('hpb_genre_name', 16),\n",
       " ('hpb_area_name', 33),\n",
       " ('air_loc', 74),\n",
       " ('hpb_loc', 34)]"
      ]
     },
     "execution_count": 34,
     "metadata": {},
     "output_type": "execute_result"
    }
   ],
   "source": [
    "cat_sz\n"
   ]
  },
  {
   "cell_type": "code",
   "execution_count": 387,
   "metadata": {
    "hidden": true
   },
   "outputs": [],
   "source": [
    "csv_fn=f'sub1.csv'\n",
    "pred_test=m.predict(True)\n",
    "pred_test = np.exp(pred_test)\n",
    "test_set['visitors']=pred_test\n",
    "sub = utils.trn2test(test_set.reset_index()[['air_store_id', 'visit_date', 'visitors']])\n",
    "sub.to_csv(csv_fn, index=False)"
   ]
  },
  {
   "cell_type": "code",
   "execution_count": 388,
   "metadata": {
    "hidden": true
   },
   "outputs": [
    {
     "data": {
      "text/html": [
       "<a href='sub1.csv' target='_blank'>sub1.csv</a><br>"
      ],
      "text/plain": [
       "/notebooks/sub1.csv"
      ]
     },
     "execution_count": 388,
     "metadata": {},
     "output_type": "execute_result"
    }
   ],
   "source": [
    "FileLink(csv_fn)\n"
   ]
  },
  {
   "cell_type": "code",
   "execution_count": null,
   "metadata": {
    "hidden": true
   },
   "outputs": [],
   "source": []
  },
  {
   "cell_type": "code",
   "execution_count": 326,
   "metadata": {
    "hidden": true
   },
   "outputs": [
    {
     "data": {
      "text/plain": [
       "[<matplotlib.lines.Line2D at 0x7fdc22c75588>]"
      ]
     },
     "execution_count": 326,
     "metadata": {},
     "output_type": "execute_result"
    },
    {
     "data": {
      "image/png": "[encoded data removed]",
      "text/plain": [
       "<matplotlib.figure.Figure at 0x7fdd9173f908>"
      ]
     },
     "metadata": {},
     "output_type": "display_data"
    }
   ],
   "source": [
    "plt.plot(test_set.prop_yhat.values[:100])\n",
    "plt.plot(pred_test[:100])"
   ]
  },
  {
   "cell_type": "code",
   "execution_count": 95,
   "metadata": {
    "hidden": true
   },
   "outputs": [
    {
     "data": {
      "text/plain": [
       "1.0449823548884438"
      ]
     },
     "execution_count": 95,
     "metadata": {},
     "output_type": "execute_result"
    }
   ],
   "source": [
    "np.exp(0.044)"
   ]
  },
  {
   "cell_type": "code",
   "execution_count": 96,
   "metadata": {
    "hidden": true
   },
   "outputs": [
    {
     "data": {
      "text/plain": [
       "29.665572681664447"
      ]
     },
     "execution_count": 96,
     "metadata": {},
     "output_type": "execute_result"
    }
   ],
   "source": [
    "np.exp(np.log1p(30) - 0.044)"
   ]
  },
  {
   "cell_type": "code",
   "execution_count": null,
   "metadata": {
    "hidden": true
   },
   "outputs": [],
   "source": []
  }
 ],
 "metadata": {
  "kernelspec": {
   "display_name": "Python 3",
   "language": "python",
   "name": "python3"
  },
  "language_info": {
   "codemirror_mode": {
    "name": "ipython",
    "version": 3
   },
   "file_extension": ".py",
   "mimetype": "text/x-python",
   "name": "python",
   "nbconvert_exporter": "python",
   "pygments_lexer": "ipython3",
   "version": "3.6.2"
  }
 },
 "nbformat": 4,
 "nbformat_minor": 2
}
