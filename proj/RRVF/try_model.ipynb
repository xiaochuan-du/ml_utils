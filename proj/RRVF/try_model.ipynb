{
 "cells": [
  {
   "cell_type": "markdown",
   "metadata": {},
   "source": [
    "# Try models"
   ]
  },
  {
   "cell_type": "code",
   "execution_count": 14,
   "metadata": {},
   "outputs": [],
   "source": [
    "import glob\n",
    "import re\n",
    "import pickle\n",
    "\n",
    "import numpy as np\n",
    "import pandas as pd\n",
    "from isoweek import Week\n",
    "from pandas_summary import DataFrameSummary\n",
    "import itertools\n",
    "import utils\n",
    "import lightgbm as lgb\n",
    "import random\n",
    "import matplotlib.pyplot as plt, xgboost, operator, random, pickle\n",
    "# from keras.models import model_from_yaml\n",
    "from pandas_summary import DataFrameSummary\n",
    "from importlib import reload\n",
    "reload(utils)\n",
    "import matplotlib\n",
    "\n",
    "%matplotlib inline\n",
    "matplotlib.rcParams['figure.figsize'] = (20.0, 20.0)\n",
    "\n",
    "import math\n",
    "def rmsle(y_pred, targ):\n",
    "    log_vars = np.log(targ + 1) - np.log(y_pred + 1)\n",
    "    return math.sqrt(np.square(log_vars).mean())\n",
    "def plot_impt(model):\n",
    "    importance = model.get_fscore()\n",
    "    importance = sorted(importance.items(), key=operator.itemgetter(1))\n",
    "\n",
    "    df = pd.DataFrame(importance, columns=['feature', 'fscore'])\n",
    "    df['fscore'] = df['fscore'] / df['fscore'].sum()\n",
    "\n",
    "    df.plot(kind='barh', x='feature', y='fscore', legend=False, figsize=(6, 10))\n",
    "    plt.title('XGBoost Feature Importance')\n",
    "    plt.xlabel('relative importance');\n",
    "    # df[df.fscore < 0.009].feature.tolist()\n",
    "\n",
    "def rmsle_wo_log(y_predicted, y_true):\n",
    "    y_true = y_true.get_label()\n",
    "    y_predicted_orig = utils.log_max_inv(y_predicted, max_log_y)\n",
    "    y_true_orig = utils.log_max_inv(y_true, max_log_y)\n",
    "    score = rmsle(y_predicted_orig, y_true_orig)\n",
    "    return ('rmsle', score, False)\n",
    "\n",
    "def rmsle_wo_log_sk(y_predicted, y_true):\n",
    "    y_predicted_orig = utils.log_max_inv(y_predicted, max_log_y)\n",
    "    y_true_orig = utils.log_max_inv(y_true, max_log_y)\n",
    "    score = rmsle(y_predicted_orig, y_true_orig)\n",
    "    return score"
   ]
  },
  {
   "cell_type": "code",
   "execution_count": 2,
   "metadata": {},
   "outputs": [
    {
     "data": {
      "text/plain": [
       "(225049, 821, 25419, 821)"
      ]
     },
     "execution_count": 2,
     "metadata": {},
     "output_type": "execute_result"
    }
   ],
   "source": [
    "def split(df):\n",
    "    trn_len = int(np.floor(len(df) * 0.9))\n",
    "    valid_len = len(df) - trn_len\n",
    "    df['type'] = 0  #0 for train 1 for valid\n",
    "    indexs = df.index\n",
    "    df = df.reset_index()\n",
    "    df.loc[trn_len:, 'type'] =  1\n",
    "    return df\n",
    "data_raw = pd.read_csv('./data/air_visit_data.csv')\n",
    "test = pd.read_csv('./data/sample_submission.csv')\n",
    "test_data = utils.tes2trn(test)\n",
    "test_stores = test_data.air_store_id.unique()\n",
    "data = data_raw[data_raw.air_store_id.isin(test_stores)]\n",
    "tag_data = data.groupby('air_store_id').apply(split)\n",
    "t = tag_data.set_index('index')\n",
    "train_set = t[t.type == 0]\n",
    "valid_set = t[t.type == 1]\n",
    "train_set = train_set.reset_index().drop(['index', 'type'], axis=1)\n",
    "valid_set = valid_set.reset_index().drop(['index', 'type'], axis=1)\n",
    "\n",
    "len(train_set), len(train_set.air_store_id.unique()), len(valid_set), len(valid_set.air_store_id.unique())"
   ]
  },
  {
   "cell_type": "code",
   "execution_count": 19,
   "metadata": {},
   "outputs": [
    {
     "name": "stderr",
     "output_type": "stream",
     "text": [
      "/Users/kevindu/Documents/workspace/ml_utils/proj/RRVF/utils.py:651: RuntimeWarning: invalid value encountered in log1p\n",
      "  max_log_y = np.max(np.log1p(y_orig))\n",
      "/Users/kevindu/Documents/workspace/ml_utils/proj/RRVF/utils.py:652: RuntimeWarning: invalid value encountered in log1p\n",
      "  return np.log1p(y_orig) / max_log_y\n"
     ]
    }
   ],
   "source": [
    "reload(utils)\n",
    "trn_data = utils.get_data(train_set)\n",
    "X_train = trn_data['X']\n",
    "y_train = trn_data['Y']\n",
    "y_train_orig = trn_data['Y_org']\n",
    "max_log_y = trn_data['max_log_y']\n",
    "g_y_trn = trn_data['gadge']\n",
    "contin_map_fit = trn_data['contin_map_fit']\n",
    "cat_map_fit = trn_data['cat_map_fit']\n",
    "all_vars = trn_data['all_vars']\n",
    "\n",
    "\n",
    "val_data = utils.get_data(valid_set, contin_map_fit=contin_map_fit, cat_map_fit=cat_map_fit)\n",
    "X_valid = val_data['X']\n",
    "y_valid = val_data['Y']\n",
    "y_valid_orig = val_data['Y_org']\n",
    "g_y_valid = val_data['gadge']"
   ]
  },
  {
   "cell_type": "code",
   "execution_count": 20,
   "metadata": {},
   "outputs": [
    {
     "data": {
      "text/plain": [
       "(225049, 16)"
      ]
     },
     "execution_count": 20,
     "metadata": {},
     "output_type": "execute_result"
    }
   ],
   "source": [
    "X_train.shape"
   ]
  },
  {
   "cell_type": "code",
   "execution_count": null,
   "metadata": {},
   "outputs": [],
   "source": []
  },
  {
   "cell_type": "code",
   "execution_count": null,
   "metadata": {},
   "outputs": [],
   "source": []
  },
  {
   "cell_type": "code",
   "execution_count": null,
   "metadata": {},
   "outputs": [],
   "source": []
  },
  {
   "cell_type": "code",
   "execution_count": null,
   "metadata": {},
   "outputs": [],
   "source": []
  },
  {
   "cell_type": "code",
   "execution_count": null,
   "metadata": {},
   "outputs": [],
   "source": []
  },
  {
   "cell_type": "code",
   "execution_count": null,
   "metadata": {},
   "outputs": [],
   "source": []
  },
  {
   "cell_type": "code",
   "execution_count": null,
   "metadata": {},
   "outputs": [],
   "source": []
  },
  {
   "cell_type": "code",
   "execution_count": null,
   "metadata": {},
   "outputs": [],
   "source": [
    "categorical_feature=cat_vars, feature_name=all_vars, "
   ]
  },
  {
   "cell_type": "code",
   "execution_count": null,
   "metadata": {},
   "outputs": [],
   "source": []
  },
  {
   "cell_type": "code",
   "execution_count": null,
   "metadata": {},
   "outputs": [],
   "source": []
  },
  {
   "cell_type": "code",
   "execution_count": 21,
   "metadata": {},
   "outputs": [],
   "source": [
    "import lightgbm as lgb\n",
    "\n",
    "lgb_train = lgb.Dataset(X_train, y_train.ravel(), free_raw_data=False)\n",
    "lgb_eval = lgb.Dataset(X_valid, y_valid.ravel(), reference=lgb_train, free_raw_data=False)"
   ]
  },
  {
   "cell_type": "code",
   "execution_count": null,
   "metadata": {},
   "outputs": [],
   "source": []
  },
  {
   "cell_type": "code",
   "execution_count": null,
   "metadata": {},
   "outputs": [],
   "source": []
  },
  {
   "cell_type": "code",
   "execution_count": null,
   "metadata": {},
   "outputs": [],
   "source": []
  },
  {
   "cell_type": "code",
   "execution_count": 28,
   "metadata": {},
   "outputs": [
    {
     "name": "stdout",
     "output_type": "stream",
     "text": [
      "[1]\ttraining's rmsle: 0.766697\tvalid_1's rmsle: 0.759454\n",
      "[2]\ttraining's rmsle: 0.731303\tvalid_1's rmsle: 0.726172\n",
      "[3]\ttraining's rmsle: 0.699861\tvalid_1's rmsle: 0.696749\n",
      "[4]\ttraining's rmsle: 0.672138\tvalid_1's rmsle: 0.669819\n",
      "[5]\ttraining's rmsle: 0.647732\tvalid_1's rmsle: 0.649003\n",
      "[6]\ttraining's rmsle: 0.626246\tvalid_1's rmsle: 0.631691\n",
      "[7]\ttraining's rmsle: 0.607458\tvalid_1's rmsle: 0.615822\n",
      "[8]\ttraining's rmsle: 0.591082\tvalid_1's rmsle: 0.603055\n",
      "[9]\ttraining's rmsle: 0.576891\tvalid_1's rmsle: 0.592959\n",
      "[10]\ttraining's rmsle: 0.564595\tvalid_1's rmsle: 0.584317\n",
      "[11]\ttraining's rmsle: 0.558366\tvalid_1's rmsle: 0.576661\n",
      "[12]\ttraining's rmsle: 0.548572\tvalid_1's rmsle: 0.570008\n",
      "[13]\ttraining's rmsle: 0.540121\tvalid_1's rmsle: 0.563746\n",
      "[14]\ttraining's rmsle: 0.532856\tvalid_1's rmsle: 0.558413\n",
      "[15]\ttraining's rmsle: 0.526661\tvalid_1's rmsle: 0.555089\n",
      "[16]\ttraining's rmsle: 0.521296\tvalid_1's rmsle: 0.552035\n",
      "[17]\ttraining's rmsle: 0.516656\tvalid_1's rmsle: 0.549055\n",
      "[18]\ttraining's rmsle: 0.512693\tvalid_1's rmsle: 0.546431\n",
      "[19]\ttraining's rmsle: 0.50948\tvalid_1's rmsle: 0.545141\n",
      "[20]\ttraining's rmsle: 0.506582\tvalid_1's rmsle: 0.544411\n",
      "[21]\ttraining's rmsle: 0.504089\tvalid_1's rmsle: 0.543225\n",
      "[22]\ttraining's rmsle: 0.501955\tvalid_1's rmsle: 0.542306\n",
      "[23]\ttraining's rmsle: 0.500239\tvalid_1's rmsle: 0.542563\n",
      "[24]\ttraining's rmsle: 0.498669\tvalid_1's rmsle: 0.542801\n",
      "[25]\ttraining's rmsle: 0.497352\tvalid_1's rmsle: 0.541903\n",
      "[26]\ttraining's rmsle: 0.4962\tvalid_1's rmsle: 0.542158\n",
      "[27]\ttraining's rmsle: 0.495228\tvalid_1's rmsle: 0.541802\n",
      "[28]\ttraining's rmsle: 0.49438\tvalid_1's rmsle: 0.542017\n",
      "[29]\ttraining's rmsle: 0.493672\tvalid_1's rmsle: 0.541865\n",
      "[30]\ttraining's rmsle: 0.493059\tvalid_1's rmsle: 0.540385\n",
      "[31]\ttraining's rmsle: 0.492507\tvalid_1's rmsle: 0.54005\n",
      "[32]\ttraining's rmsle: 0.492036\tvalid_1's rmsle: 0.540287\n",
      "[33]\ttraining's rmsle: 0.491603\tvalid_1's rmsle: 0.54009\n",
      "[34]\ttraining's rmsle: 0.491223\tvalid_1's rmsle: 0.540102\n",
      "[35]\ttraining's rmsle: 0.490918\tvalid_1's rmsle: 0.540536\n",
      "[36]\ttraining's rmsle: 0.490646\tvalid_1's rmsle: 0.540481\n",
      "[37]\ttraining's rmsle: 0.490411\tvalid_1's rmsle: 0.540193\n",
      "[38]\ttraining's rmsle: 0.490209\tvalid_1's rmsle: 0.540233\n",
      "[39]\ttraining's rmsle: 0.49003\tvalid_1's rmsle: 0.54027\n",
      "[40]\ttraining's rmsle: 0.489853\tvalid_1's rmsle: 0.540121\n",
      "[41]\ttraining's rmsle: 0.489689\tvalid_1's rmsle: 0.539332\n",
      "[42]\ttraining's rmsle: 0.489533\tvalid_1's rmsle: 0.539446\n",
      "[43]\ttraining's rmsle: 0.489398\tvalid_1's rmsle: 0.539143\n",
      "[44]\ttraining's rmsle: 0.48933\tvalid_1's rmsle: 0.538581\n",
      "[45]\ttraining's rmsle: 0.489224\tvalid_1's rmsle: 0.538424\n",
      "[46]\ttraining's rmsle: 0.489114\tvalid_1's rmsle: 0.537166\n",
      "[47]\ttraining's rmsle: 0.489016\tvalid_1's rmsle: 0.53648\n",
      "[48]\ttraining's rmsle: 0.48893\tvalid_1's rmsle: 0.536245\n",
      "[49]\ttraining's rmsle: 0.488837\tvalid_1's rmsle: 0.53608\n",
      "[50]\ttraining's rmsle: 0.488765\tvalid_1's rmsle: 0.535625\n",
      "[51]\ttraining's rmsle: 0.488691\tvalid_1's rmsle: 0.535636\n",
      "[52]\ttraining's rmsle: 0.488622\tvalid_1's rmsle: 0.535784\n",
      "[53]\ttraining's rmsle: 0.488555\tvalid_1's rmsle: 0.535764\n",
      "[54]\ttraining's rmsle: 0.488489\tvalid_1's rmsle: 0.535843\n",
      "[55]\ttraining's rmsle: 0.488433\tvalid_1's rmsle: 0.535805\n",
      "[56]\ttraining's rmsle: 0.488375\tvalid_1's rmsle: 0.535428\n",
      "[57]\ttraining's rmsle: 0.488307\tvalid_1's rmsle: 0.534885\n",
      "[58]\ttraining's rmsle: 0.488257\tvalid_1's rmsle: 0.534678\n",
      "[59]\ttraining's rmsle: 0.488211\tvalid_1's rmsle: 0.534681\n",
      "[60]\ttraining's rmsle: 0.488163\tvalid_1's rmsle: 0.53482\n",
      "[61]\ttraining's rmsle: 0.48811\tvalid_1's rmsle: 0.53478\n",
      "[62]\ttraining's rmsle: 0.488064\tvalid_1's rmsle: 0.534638\n",
      "[63]\ttraining's rmsle: 0.487995\tvalid_1's rmsle: 0.534267\n",
      "[64]\ttraining's rmsle: 0.487961\tvalid_1's rmsle: 0.534382\n",
      "[65]\ttraining's rmsle: 0.487918\tvalid_1's rmsle: 0.533415\n",
      "[66]\ttraining's rmsle: 0.487875\tvalid_1's rmsle: 0.533376\n",
      "[67]\ttraining's rmsle: 0.487842\tvalid_1's rmsle: 0.533414\n",
      "[68]\ttraining's rmsle: 0.487801\tvalid_1's rmsle: 0.533505\n",
      "[69]\ttraining's rmsle: 0.487761\tvalid_1's rmsle: 0.533606\n",
      "[70]\ttraining's rmsle: 0.487725\tvalid_1's rmsle: 0.53356\n",
      "[71]\ttraining's rmsle: 0.487676\tvalid_1's rmsle: 0.53358\n",
      "[72]\ttraining's rmsle: 0.487644\tvalid_1's rmsle: 0.533536\n",
      "[73]\ttraining's rmsle: 0.487612\tvalid_1's rmsle: 0.533361\n",
      "[74]\ttraining's rmsle: 0.487565\tvalid_1's rmsle: 0.533252\n",
      "[75]\ttraining's rmsle: 0.487532\tvalid_1's rmsle: 0.533252\n",
      "[76]\ttraining's rmsle: 0.487495\tvalid_1's rmsle: 0.533352\n",
      "[77]\ttraining's rmsle: 0.487461\tvalid_1's rmsle: 0.533332\n",
      "[78]\ttraining's rmsle: 0.487425\tvalid_1's rmsle: 0.533249\n",
      "[79]\ttraining's rmsle: 0.487392\tvalid_1's rmsle: 0.533435\n",
      "[80]\ttraining's rmsle: 0.487358\tvalid_1's rmsle: 0.533322\n",
      "[81]\ttraining's rmsle: 0.487324\tvalid_1's rmsle: 0.533241\n",
      "[82]\ttraining's rmsle: 0.487293\tvalid_1's rmsle: 0.53306\n",
      "[83]\ttraining's rmsle: 0.487258\tvalid_1's rmsle: 0.532966\n",
      "[84]\ttraining's rmsle: 0.487212\tvalid_1's rmsle: 0.532993\n",
      "[85]\ttraining's rmsle: 0.487166\tvalid_1's rmsle: 0.533083\n",
      "[86]\ttraining's rmsle: 0.48714\tvalid_1's rmsle: 0.533084\n",
      "[87]\ttraining's rmsle: 0.487109\tvalid_1's rmsle: 0.533005\n",
      "[88]\ttraining's rmsle: 0.487079\tvalid_1's rmsle: 0.533042\n",
      "[89]\ttraining's rmsle: 0.487051\tvalid_1's rmsle: 0.533074\n",
      "[90]\ttraining's rmsle: 0.487017\tvalid_1's rmsle: 0.532906\n",
      "[91]\ttraining's rmsle: 0.486983\tvalid_1's rmsle: 0.532825\n",
      "[92]\ttraining's rmsle: 0.486952\tvalid_1's rmsle: 0.532792\n",
      "[93]\ttraining's rmsle: 0.486916\tvalid_1's rmsle: 0.532492\n",
      "[94]\ttraining's rmsle: 0.486883\tvalid_1's rmsle: 0.532322\n",
      "[95]\ttraining's rmsle: 0.486858\tvalid_1's rmsle: 0.53213\n",
      "[96]\ttraining's rmsle: 0.486815\tvalid_1's rmsle: 0.532098\n",
      "[97]\ttraining's rmsle: 0.486777\tvalid_1's rmsle: 0.532118\n",
      "[98]\ttraining's rmsle: 0.486738\tvalid_1's rmsle: 0.532157\n",
      "[99]\ttraining's rmsle: 0.486707\tvalid_1's rmsle: 0.531962\n",
      "[100]\ttraining's rmsle: 0.486677\tvalid_1's rmsle: 0.531955\n",
      "[101]\ttraining's rmsle: 0.48665\tvalid_1's rmsle: 0.531938\n",
      "[102]\ttraining's rmsle: 0.486616\tvalid_1's rmsle: 0.531884\n",
      "[103]\ttraining's rmsle: 0.486591\tvalid_1's rmsle: 0.53195\n",
      "[104]\ttraining's rmsle: 0.48656\tvalid_1's rmsle: 0.531912\n",
      "[105]\ttraining's rmsle: 0.486535\tvalid_1's rmsle: 0.531918\n",
      "[106]\ttraining's rmsle: 0.486499\tvalid_1's rmsle: 0.531432\n",
      "[107]\ttraining's rmsle: 0.486464\tvalid_1's rmsle: 0.531318\n",
      "[108]\ttraining's rmsle: 0.486437\tvalid_1's rmsle: 0.531303\n",
      "[109]\ttraining's rmsle: 0.48641\tvalid_1's rmsle: 0.531297\n",
      "[110]\ttraining's rmsle: 0.486385\tvalid_1's rmsle: 0.531298\n",
      "[111]\ttraining's rmsle: 0.486361\tvalid_1's rmsle: 0.530971\n",
      "[112]\ttraining's rmsle: 0.486331\tvalid_1's rmsle: 0.530967\n",
      "[113]\ttraining's rmsle: 0.486299\tvalid_1's rmsle: 0.530937\n",
      "[114]\ttraining's rmsle: 0.486274\tvalid_1's rmsle: 0.530835\n",
      "[115]\ttraining's rmsle: 0.486253\tvalid_1's rmsle: 0.530617\n",
      "[116]\ttraining's rmsle: 0.486224\tvalid_1's rmsle: 0.530622\n",
      "[117]\ttraining's rmsle: 0.486194\tvalid_1's rmsle: 0.530615\n",
      "[118]\ttraining's rmsle: 0.486166\tvalid_1's rmsle: 0.530693\n",
      "[119]\ttraining's rmsle: 0.486122\tvalid_1's rmsle: 0.530694\n",
      "[120]\ttraining's rmsle: 0.486101\tvalid_1's rmsle: 0.530742\n",
      "[121]\ttraining's rmsle: 0.486075\tvalid_1's rmsle: 0.530681\n",
      "[122]\ttraining's rmsle: 0.486053\tvalid_1's rmsle: 0.530665\n",
      "[123]\ttraining's rmsle: 0.486021\tvalid_1's rmsle: 0.530722\n",
      "[124]\ttraining's rmsle: 0.485994\tvalid_1's rmsle: 0.530716\n",
      "[125]\ttraining's rmsle: 0.485967\tvalid_1's rmsle: 0.530596\n",
      "[126]\ttraining's rmsle: 0.485952\tvalid_1's rmsle: 0.530638\n",
      "[127]\ttraining's rmsle: 0.485936\tvalid_1's rmsle: 0.53062\n",
      "[128]\ttraining's rmsle: 0.485904\tvalid_1's rmsle: 0.530555\n",
      "[129]\ttraining's rmsle: 0.485891\tvalid_1's rmsle: 0.530568\n",
      "[130]\ttraining's rmsle: 0.485864\tvalid_1's rmsle: 0.530574\n",
      "[131]\ttraining's rmsle: 0.485838\tvalid_1's rmsle: 0.530636\n",
      "[132]\ttraining's rmsle: 0.485813\tvalid_1's rmsle: 0.530632\n",
      "[133]\ttraining's rmsle: 0.4858\tvalid_1's rmsle: 0.530663\n",
      "[134]\ttraining's rmsle: 0.485777\tvalid_1's rmsle: 0.530262\n",
      "[135]\ttraining's rmsle: 0.485742\tvalid_1's rmsle: 0.530329\n",
      "[136]\ttraining's rmsle: 0.485699\tvalid_1's rmsle: 0.530346\n",
      "[137]\ttraining's rmsle: 0.485668\tvalid_1's rmsle: 0.530314\n",
      "[138]\ttraining's rmsle: 0.485645\tvalid_1's rmsle: 0.530246\n",
      "[139]\ttraining's rmsle: 0.485616\tvalid_1's rmsle: 0.530234\n",
      "[140]\ttraining's rmsle: 0.485599\tvalid_1's rmsle: 0.530294\n",
      "[141]\ttraining's rmsle: 0.485575\tvalid_1's rmsle: 0.530383\n",
      "[142]\ttraining's rmsle: 0.485545\tvalid_1's rmsle: 0.53035\n",
      "[143]\ttraining's rmsle: 0.48552\tvalid_1's rmsle: 0.530336\n"
     ]
    },
    {
     "name": "stdout",
     "output_type": "stream",
     "text": [
      "[144]\ttraining's rmsle: 0.485497\tvalid_1's rmsle: 0.530325\n",
      "[145]\ttraining's rmsle: 0.485475\tvalid_1's rmsle: 0.530098\n",
      "[146]\ttraining's rmsle: 0.485451\tvalid_1's rmsle: 0.530099\n",
      "[147]\ttraining's rmsle: 0.485424\tvalid_1's rmsle: 0.529984\n",
      "[148]\ttraining's rmsle: 0.485403\tvalid_1's rmsle: 0.529928\n",
      "[149]\ttraining's rmsle: 0.48538\tvalid_1's rmsle: 0.529931\n",
      "[150]\ttraining's rmsle: 0.485358\tvalid_1's rmsle: 0.529889\n",
      "[151]\ttraining's rmsle: 0.485337\tvalid_1's rmsle: 0.529912\n",
      "[152]\ttraining's rmsle: 0.48532\tvalid_1's rmsle: 0.529922\n",
      "[153]\ttraining's rmsle: 0.485298\tvalid_1's rmsle: 0.529925\n",
      "[154]\ttraining's rmsle: 0.485278\tvalid_1's rmsle: 0.530007\n",
      "[155]\ttraining's rmsle: 0.485254\tvalid_1's rmsle: 0.530035\n",
      "[156]\ttraining's rmsle: 0.485229\tvalid_1's rmsle: 0.530063\n",
      "[157]\ttraining's rmsle: 0.485208\tvalid_1's rmsle: 0.530011\n",
      "[158]\ttraining's rmsle: 0.48519\tvalid_1's rmsle: 0.53004\n",
      "[159]\ttraining's rmsle: 0.485171\tvalid_1's rmsle: 0.530023\n",
      "[160]\ttraining's rmsle: 0.485149\tvalid_1's rmsle: 0.530044\n",
      "[161]\ttraining's rmsle: 0.485123\tvalid_1's rmsle: 0.530111\n",
      "[162]\ttraining's rmsle: 0.485106\tvalid_1's rmsle: 0.530094\n",
      "[163]\ttraining's rmsle: 0.485087\tvalid_1's rmsle: 0.530128\n",
      "[164]\ttraining's rmsle: 0.485076\tvalid_1's rmsle: 0.530131\n",
      "[165]\ttraining's rmsle: 0.485065\tvalid_1's rmsle: 0.530116\n",
      "[166]\ttraining's rmsle: 0.485044\tvalid_1's rmsle: 0.530114\n",
      "[167]\ttraining's rmsle: 0.485013\tvalid_1's rmsle: 0.530122\n",
      "[168]\ttraining's rmsle: 0.484991\tvalid_1's rmsle: 0.530119\n",
      "[169]\ttraining's rmsle: 0.484974\tvalid_1's rmsle: 0.5301\n",
      "[170]\ttraining's rmsle: 0.484961\tvalid_1's rmsle: 0.530115\n",
      "[171]\ttraining's rmsle: 0.484939\tvalid_1's rmsle: 0.529754\n",
      "[172]\ttraining's rmsle: 0.484923\tvalid_1's rmsle: 0.529692\n",
      "[173]\ttraining's rmsle: 0.4849\tvalid_1's rmsle: 0.529561\n",
      "[174]\ttraining's rmsle: 0.484875\tvalid_1's rmsle: 0.529148\n",
      "[175]\ttraining's rmsle: 0.484845\tvalid_1's rmsle: 0.529132\n",
      "[176]\ttraining's rmsle: 0.484819\tvalid_1's rmsle: 0.529197\n",
      "[177]\ttraining's rmsle: 0.484787\tvalid_1's rmsle: 0.529331\n",
      "[178]\ttraining's rmsle: 0.48476\tvalid_1's rmsle: 0.529398\n",
      "[179]\ttraining's rmsle: 0.48474\tvalid_1's rmsle: 0.529411\n",
      "[180]\ttraining's rmsle: 0.484727\tvalid_1's rmsle: 0.529446\n",
      "[181]\ttraining's rmsle: 0.484712\tvalid_1's rmsle: 0.529475\n",
      "[182]\ttraining's rmsle: 0.484685\tvalid_1's rmsle: 0.529351\n",
      "[183]\ttraining's rmsle: 0.484662\tvalid_1's rmsle: 0.52936\n",
      "[184]\ttraining's rmsle: 0.484642\tvalid_1's rmsle: 0.529306\n",
      "[185]\ttraining's rmsle: 0.484614\tvalid_1's rmsle: 0.529223\n",
      "[186]\ttraining's rmsle: 0.484596\tvalid_1's rmsle: 0.529238\n",
      "[187]\ttraining's rmsle: 0.484572\tvalid_1's rmsle: 0.529364\n",
      "[188]\ttraining's rmsle: 0.484562\tvalid_1's rmsle: 0.529323\n",
      "[189]\ttraining's rmsle: 0.484538\tvalid_1's rmsle: 0.529011\n",
      "[190]\ttraining's rmsle: 0.48451\tvalid_1's rmsle: 0.52896\n",
      "[191]\ttraining's rmsle: 0.484487\tvalid_1's rmsle: 0.528967\n",
      "[192]\ttraining's rmsle: 0.484468\tvalid_1's rmsle: 0.528899\n",
      "[193]\ttraining's rmsle: 0.484447\tvalid_1's rmsle: 0.528841\n",
      "[194]\ttraining's rmsle: 0.484422\tvalid_1's rmsle: 0.528811\n",
      "[195]\ttraining's rmsle: 0.484395\tvalid_1's rmsle: 0.528837\n",
      "[196]\ttraining's rmsle: 0.48438\tvalid_1's rmsle: 0.528886\n",
      "[197]\ttraining's rmsle: 0.484358\tvalid_1's rmsle: 0.52894\n",
      "[198]\ttraining's rmsle: 0.484342\tvalid_1's rmsle: 0.529044\n",
      "[199]\ttraining's rmsle: 0.484324\tvalid_1's rmsle: 0.529064\n",
      "[200]\ttraining's rmsle: 0.484305\tvalid_1's rmsle: 0.529133\n",
      "[201]\ttraining's rmsle: 0.484283\tvalid_1's rmsle: 0.529128\n",
      "[202]\ttraining's rmsle: 0.484255\tvalid_1's rmsle: 0.528945\n",
      "[203]\ttraining's rmsle: 0.48424\tvalid_1's rmsle: 0.52873\n",
      "[204]\ttraining's rmsle: 0.484217\tvalid_1's rmsle: 0.528736\n",
      "[205]\ttraining's rmsle: 0.484197\tvalid_1's rmsle: 0.528733\n",
      "[206]\ttraining's rmsle: 0.484171\tvalid_1's rmsle: 0.528601\n",
      "[207]\ttraining's rmsle: 0.484142\tvalid_1's rmsle: 0.528571\n",
      "[208]\ttraining's rmsle: 0.484121\tvalid_1's rmsle: 0.528368\n",
      "[209]\ttraining's rmsle: 0.484096\tvalid_1's rmsle: 0.528273\n",
      "[210]\ttraining's rmsle: 0.484074\tvalid_1's rmsle: 0.528242\n",
      "[211]\ttraining's rmsle: 0.484059\tvalid_1's rmsle: 0.528133\n",
      "[212]\ttraining's rmsle: 0.484043\tvalid_1's rmsle: 0.528163\n",
      "[213]\ttraining's rmsle: 0.484024\tvalid_1's rmsle: 0.528119\n",
      "[214]\ttraining's rmsle: 0.484005\tvalid_1's rmsle: 0.528006\n",
      "[215]\ttraining's rmsle: 0.483979\tvalid_1's rmsle: 0.528015\n",
      "[216]\ttraining's rmsle: 0.483957\tvalid_1's rmsle: 0.527453\n",
      "[217]\ttraining's rmsle: 0.483943\tvalid_1's rmsle: 0.527399\n",
      "[218]\ttraining's rmsle: 0.483927\tvalid_1's rmsle: 0.527063\n",
      "[219]\ttraining's rmsle: 0.483914\tvalid_1's rmsle: 0.527093\n",
      "[220]\ttraining's rmsle: 0.483883\tvalid_1's rmsle: 0.527108\n",
      "[221]\ttraining's rmsle: 0.48387\tvalid_1's rmsle: 0.527082\n",
      "[222]\ttraining's rmsle: 0.483848\tvalid_1's rmsle: 0.526943\n",
      "[223]\ttraining's rmsle: 0.483833\tvalid_1's rmsle: 0.52693\n",
      "[224]\ttraining's rmsle: 0.483821\tvalid_1's rmsle: 0.52684\n",
      "[225]\ttraining's rmsle: 0.483807\tvalid_1's rmsle: 0.526832\n",
      "[226]\ttraining's rmsle: 0.483791\tvalid_1's rmsle: 0.526811\n",
      "[227]\ttraining's rmsle: 0.483779\tvalid_1's rmsle: 0.526775\n",
      "[228]\ttraining's rmsle: 0.483746\tvalid_1's rmsle: 0.526647\n",
      "[229]\ttraining's rmsle: 0.483731\tvalid_1's rmsle: 0.526496\n",
      "[230]\ttraining's rmsle: 0.483716\tvalid_1's rmsle: 0.526474\n",
      "[231]\ttraining's rmsle: 0.483701\tvalid_1's rmsle: 0.526457\n",
      "[232]\ttraining's rmsle: 0.483681\tvalid_1's rmsle: 0.526463\n",
      "[233]\ttraining's rmsle: 0.483662\tvalid_1's rmsle: 0.526483\n",
      "[234]\ttraining's rmsle: 0.483651\tvalid_1's rmsle: 0.526422\n",
      "[235]\ttraining's rmsle: 0.483636\tvalid_1's rmsle: 0.526446\n",
      "[236]\ttraining's rmsle: 0.48362\tvalid_1's rmsle: 0.526479\n",
      "[237]\ttraining's rmsle: 0.483605\tvalid_1's rmsle: 0.526514\n",
      "[238]\ttraining's rmsle: 0.483591\tvalid_1's rmsle: 0.526544\n",
      "[239]\ttraining's rmsle: 0.483577\tvalid_1's rmsle: 0.526534\n",
      "[240]\ttraining's rmsle: 0.483559\tvalid_1's rmsle: 0.526509\n",
      "[241]\ttraining's rmsle: 0.483526\tvalid_1's rmsle: 0.526425\n",
      "[242]\ttraining's rmsle: 0.483505\tvalid_1's rmsle: 0.526298\n",
      "[243]\ttraining's rmsle: 0.48349\tvalid_1's rmsle: 0.526293\n",
      "[244]\ttraining's rmsle: 0.483475\tvalid_1's rmsle: 0.526276\n",
      "[245]\ttraining's rmsle: 0.483459\tvalid_1's rmsle: 0.526131\n",
      "[246]\ttraining's rmsle: 0.483449\tvalid_1's rmsle: 0.526153\n",
      "[247]\ttraining's rmsle: 0.483434\tvalid_1's rmsle: 0.526153\n",
      "[248]\ttraining's rmsle: 0.483417\tvalid_1's rmsle: 0.526157\n",
      "[249]\ttraining's rmsle: 0.483408\tvalid_1's rmsle: 0.526208\n",
      "[250]\ttraining's rmsle: 0.483393\tvalid_1's rmsle: 0.526204\n",
      "[251]\ttraining's rmsle: 0.483371\tvalid_1's rmsle: 0.526193\n",
      "[252]\ttraining's rmsle: 0.483358\tvalid_1's rmsle: 0.526185\n",
      "[253]\ttraining's rmsle: 0.483336\tvalid_1's rmsle: 0.526258\n",
      "[254]\ttraining's rmsle: 0.483309\tvalid_1's rmsle: 0.525862\n",
      "[255]\ttraining's rmsle: 0.483276\tvalid_1's rmsle: 0.525866\n",
      "[256]\ttraining's rmsle: 0.483267\tvalid_1's rmsle: 0.52589\n",
      "[257]\ttraining's rmsle: 0.48326\tvalid_1's rmsle: 0.525887\n",
      "[258]\ttraining's rmsle: 0.483245\tvalid_1's rmsle: 0.525835\n",
      "[259]\ttraining's rmsle: 0.483227\tvalid_1's rmsle: 0.525874\n",
      "[260]\ttraining's rmsle: 0.483211\tvalid_1's rmsle: 0.525893\n",
      "[261]\ttraining's rmsle: 0.4832\tvalid_1's rmsle: 0.525915\n",
      "[262]\ttraining's rmsle: 0.483184\tvalid_1's rmsle: 0.525903\n",
      "[263]\ttraining's rmsle: 0.483169\tvalid_1's rmsle: 0.525889\n",
      "[264]\ttraining's rmsle: 0.483159\tvalid_1's rmsle: 0.525881\n",
      "[265]\ttraining's rmsle: 0.483147\tvalid_1's rmsle: 0.525847\n",
      "[266]\ttraining's rmsle: 0.483128\tvalid_1's rmsle: 0.52583\n",
      "[267]\ttraining's rmsle: 0.483109\tvalid_1's rmsle: 0.525854\n",
      "[268]\ttraining's rmsle: 0.483085\tvalid_1's rmsle: 0.52586\n",
      "[269]\ttraining's rmsle: 0.483067\tvalid_1's rmsle: 0.525851\n",
      "[270]\ttraining's rmsle: 0.483045\tvalid_1's rmsle: 0.525883\n",
      "[271]\ttraining's rmsle: 0.483029\tvalid_1's rmsle: 0.525846\n",
      "[272]\ttraining's rmsle: 0.483013\tvalid_1's rmsle: 0.525791\n",
      "[273]\ttraining's rmsle: 0.483004\tvalid_1's rmsle: 0.525814\n",
      "[274]\ttraining's rmsle: 0.482996\tvalid_1's rmsle: 0.52581\n",
      "[275]\ttraining's rmsle: 0.482987\tvalid_1's rmsle: 0.525816\n",
      "[276]\ttraining's rmsle: 0.482971\tvalid_1's rmsle: 0.525889\n",
      "[277]\ttraining's rmsle: 0.48295\tvalid_1's rmsle: 0.525913\n",
      "[278]\ttraining's rmsle: 0.482939\tvalid_1's rmsle: 0.525902\n",
      "[279]\ttraining's rmsle: 0.482925\tvalid_1's rmsle: 0.52581\n",
      "[280]\ttraining's rmsle: 0.482908\tvalid_1's rmsle: 0.52584\n",
      "[281]\ttraining's rmsle: 0.482894\tvalid_1's rmsle: 0.525836\n",
      "[282]\ttraining's rmsle: 0.48287\tvalid_1's rmsle: 0.525835\n",
      "[283]\ttraining's rmsle: 0.482853\tvalid_1's rmsle: 0.525809\n"
     ]
    },
    {
     "name": "stdout",
     "output_type": "stream",
     "text": [
      "[284]\ttraining's rmsle: 0.482836\tvalid_1's rmsle: 0.525832\n",
      "[285]\ttraining's rmsle: 0.482826\tvalid_1's rmsle: 0.525693\n",
      "[286]\ttraining's rmsle: 0.482809\tvalid_1's rmsle: 0.525682\n",
      "[287]\ttraining's rmsle: 0.482786\tvalid_1's rmsle: 0.525675\n",
      "[288]\ttraining's rmsle: 0.482778\tvalid_1's rmsle: 0.525679\n",
      "[289]\ttraining's rmsle: 0.482756\tvalid_1's rmsle: 0.525662\n",
      "[290]\ttraining's rmsle: 0.482742\tvalid_1's rmsle: 0.525562\n",
      "[291]\ttraining's rmsle: 0.48273\tvalid_1's rmsle: 0.525569\n",
      "[292]\ttraining's rmsle: 0.482714\tvalid_1's rmsle: 0.525598\n",
      "[293]\ttraining's rmsle: 0.482705\tvalid_1's rmsle: 0.525616\n",
      "[294]\ttraining's rmsle: 0.482697\tvalid_1's rmsle: 0.525659\n",
      "[295]\ttraining's rmsle: 0.482683\tvalid_1's rmsle: 0.52568\n",
      "[296]\ttraining's rmsle: 0.482668\tvalid_1's rmsle: 0.525714\n",
      "[297]\ttraining's rmsle: 0.482656\tvalid_1's rmsle: 0.525752\n",
      "[298]\ttraining's rmsle: 0.482634\tvalid_1's rmsle: 0.525788\n",
      "[299]\ttraining's rmsle: 0.482624\tvalid_1's rmsle: 0.525595\n",
      "[300]\ttraining's rmsle: 0.482615\tvalid_1's rmsle: 0.525552\n"
     ]
    }
   ],
   "source": [
    "# specify your configurations as a dict\n",
    "params = {\n",
    "    'task': 'train',\n",
    "#     'boosting_type': 'dart',\n",
    "    'objective': 'regression',\n",
    "#     'metric': {'mse'},\n",
    "    'num_leaves': 80,\n",
    "    'learning_rate': 0.08,\n",
    "    'feature_fraction': 0.7,\n",
    "    'bagging_fraction': 0.8,\n",
    "    'bagging_freq': 5,\n",
    "    'verbose': 0,\n",
    "    'max_bin': 15,\n",
    "    'max_depth': 40\n",
    "}\n",
    "evals_result = {} \n",
    "gbm = lgb.train(params,\n",
    "                lgb_train,\n",
    "                num_boost_round=300,\n",
    "                valid_sets=(lgb_train, lgb_eval),\n",
    "                feval=rmsle_wo_log,\n",
    "                evals_result=evals_result,\n",
    "                ) # early_stopping_rounds=0"
   ]
  },
  {
   "cell_type": "code",
   "execution_count": 27,
   "metadata": {},
   "outputs": [
    {
     "data": {
      "image/png": "[encoded data removed]",
      "text/plain": [
       "<matplotlib.figure.Figure at 0x11f11b5c0>"
      ]
     },
     "metadata": {},
     "output_type": "display_data"
    }
   ],
   "source": [
    "ax = lgb.plot_metric(evals_result, metric='rmsle')\n",
    "# ax = lgb.plot_importance(gbm, max_num_features=10)\n"
   ]
  },
  {
   "cell_type": "code",
   "execution_count": null,
   "metadata": {},
   "outputs": [],
   "source": []
  },
  {
   "cell_type": "code",
   "execution_count": null,
   "metadata": {},
   "outputs": [],
   "source": [
    "def verify_linear(X_train, y_train, y_valid_orig, y_train_orig, max_log_y):\n",
    "    from sklearn import linear_model\n",
    "\n",
    "    reg = linear_model.LinearRegression()\n",
    "    reg.fit(X_train, y_train)\n",
    "    pred_valid = reg.predict(X_valid)\n",
    "    pred_valid_orig = utils.log_max_inv(pred_valid, max_log_y)\n",
    "    # pred_valid_orig = pred_valid\n",
    "    valid_loss = rmsle(pred_valid_orig, y_valid_orig)\n",
    "    pred_trn = reg.predict(X_train)\n",
    "    pred_trn_orig = utils.log_max_inv(pred_trn, max_log_y)\n",
    "    # pred_trn_orig = pred_trn\n",
    "    trn_loss = rmsle(pred_trn_orig, y_train_orig)\n",
    "#     plt.figure(1)\n",
    "#     plt.plot(pred_valid_orig[:100], c='b')\n",
    "#     plt.plot(y_valid_orig[:100], c='r')\n",
    "    print('Linear Model train loss: {}, valid loss: {}'.format( trn_loss, valid_loss))\n",
    "    return reg\n",
    "\n",
    "reg = verify_linear(X_train, y_train, y_valid_orig, y_train_orig, max_log_y)\n",
    "\n",
    "y_train_orig = train_set.visitors.values\n",
    "\n",
    "base_valid= rmsle(g_y_trn.values, y_train_orig.ravel())\n",
    "base_trn= rmsle(g_y_valid.values, y_valid_orig.ravel())\n",
    "\n",
    "print('Base line train loss {}, valid loss {}'.format(base_trn, base_valid))\n",
    "\n",
    "# split_point = X.shape[0] - y_valid_orig.ravel().shape[0]\n",
    "# base_line = rmsle(tidy_data['prop_yhat'].values[split_point:].ravel(), y_valid_orig.ravel())\n",
    "\n",
    "pred_valid = gbm.predict(X_valid)\n",
    "pred_valid_orig = utils.log_max_inv(pred_valid, max_log_y)\n",
    "valid_loss = rmsle(pred_valid_orig, y_valid_orig.ravel())\n",
    "pred_trn = gbm.predict(X_train)\n",
    "pred_trn_orig = utils.log_max_inv(pred_trn, max_log_y)\n",
    "trn_loss = rmsle(pred_trn_orig, y_train_orig.ravel())\n",
    "print('LightBGM train loss: {}, valid loss: {}'.format(trn_loss, valid_loss))\n",
    "\n",
    "# plt.figure(2)\n",
    "# plt.plot(pred_valid_orig[:100], c='b')\n",
    "# plt.plot(y_valid_orig[:100], c='r')"
   ]
  },
  {
   "cell_type": "markdown",
   "metadata": {},
   "source": [
    "# Submit\n"
   ]
  },
  {
   "cell_type": "code",
   "execution_count": 8,
   "metadata": {},
   "outputs": [
    {
     "name": "stderr",
     "output_type": "stream",
     "text": [
      "/Users/kevindu/Documents/workspace/ml_utils/proj/RRVF/utils.py:651: RuntimeWarning: invalid value encountered in log1p\n",
      "  max_log_y = np.max(np.log1p(y_orig))\n",
      "/Users/kevindu/Documents/workspace/ml_utils/proj/RRVF/utils.py:652: RuntimeWarning: invalid value encountered in log1p\n",
      "  return np.log1p(y_orig) / max_log_y\n"
     ]
    }
   ],
   "source": [
    "data_dir = r'./data'\n",
    "test = pd.read_csv('{}/sample_submission.csv'.format(data_dir))\n",
    "trn_like_test = utils.tes2trn(test)\n",
    "trn_like_test = trn_like_test.assign(visitors = np.round(np.random.rand(len(trn_like_test)) * 100))\n",
    "\n",
    "test_data = utils.get_data(trn_like_test, contin_map_fit=contin_map_fit, cat_map_fit=cat_map_fit)\n",
    "X_tst= test_data['X']\n",
    "y_tst = test_data['Y']\n",
    "g_y_tst = test_data['gadge']"
   ]
  },
  {
   "cell_type": "code",
   "execution_count": 9,
   "metadata": {},
   "outputs": [],
   "source": [
    "\n",
    "# pred_reg = utils.log_max_inv(reg.predict(X), max_log_y)\n",
    "pred_gbm = utils.log_max_inv(gbm.predict(X_tst), max_log_y)"
   ]
  },
  {
   "cell_type": "code",
   "execution_count": null,
   "metadata": {},
   "outputs": [],
   "source": []
  },
  {
   "cell_type": "code",
   "execution_count": null,
   "metadata": {},
   "outputs": [],
   "source": []
  },
  {
   "cell_type": "code",
   "execution_count": null,
   "metadata": {},
   "outputs": [],
   "source": []
  },
  {
   "cell_type": "code",
   "execution_count": 11,
   "metadata": {},
   "outputs": [
    {
     "data": {
      "text/plain": [
       "[<matplotlib.lines.Line2D at 0x1127f0860>]"
      ]
     },
     "execution_count": 11,
     "metadata": {},
     "output_type": "execute_result"
    },
    {
     "data": {
      "image/png": "[encoded data removed]",
      "text/plain": [
       "<matplotlib.figure.Figure at 0x121d0c4e0>"
      ]
     },
     "metadata": {},
     "output_type": "display_data"
    }
   ],
   "source": [
    "plt.plot(g_y_tst)\n",
    "plt.plot(pred_gbm)"
   ]
  },
  {
   "cell_type": "code",
   "execution_count": 13,
   "metadata": {},
   "outputs": [],
   "source": [
    "test.visitors = pred_gbm\n",
    "test.to_csv('result/gbm.csv', index=False)\n",
    "# test.visitors = pred_reg\n",
    "# test.loc[test.visitors<0, \"visitors\"] = 0\n",
    "# test.to_csv('result/reg.csv', index=False)"
   ]
  },
  {
   "cell_type": "code",
   "execution_count": null,
   "metadata": {},
   "outputs": [],
   "source": []
  },
  {
   "cell_type": "code",
   "execution_count": null,
   "metadata": {},
   "outputs": [],
   "source": []
  },
  {
   "cell_type": "code",
   "execution_count": null,
   "metadata": {},
   "outputs": [],
   "source": []
  },
  {
   "cell_type": "code",
   "execution_count": null,
   "metadata": {},
   "outputs": [],
   "source": []
  }
 ],
 "metadata": {
  "kernelspec": {
   "display_name": "Python 3",
   "language": "python",
   "name": "python3"
  },
  "language_info": {
   "codemirror_mode": {
    "name": "ipython",
    "version": 3
   },
   "file_extension": ".py",
   "mimetype": "text/x-python",
   "name": "python",
   "nbconvert_exporter": "python",
   "pygments_lexer": "ipython3",
   "version": "3.6.3"
  }
 },
 "nbformat": 4,
 "nbformat_minor": 2
}
